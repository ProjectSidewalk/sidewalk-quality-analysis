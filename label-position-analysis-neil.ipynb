{
 "cells": [
  {
   "cell_type": "code",
   "execution_count": 1,
   "metadata": {},
   "outputs": [],
   "source": [
    "import pandas as pd\n",
    "import numpy as np\n",
    "from scipy import stats\n",
    "import sys\n",
    "import matplotlib.pyplot as plt\n",
    "from dateutil.parser import parse\n",
    "import parse as str_parse\n",
    "from new_proximity.intersection_proximity import compute_proximity\n",
    "from importlib import reload\n",
    "from scipy.spatial import distance\n",
    "from mpl_toolkits.mplot3d import Axes3D\n",
    "from sklearn.neighbors import KNeighborsRegressor\n",
    "from sklearn import preprocessing\n",
    "from sklearn.linear_model import SGDRegressor\n",
    "import seaborn as sns\n",
    "\n",
    "users = pd.read_csv('ml-users.csv') \n",
    "%matplotlib notebook"
   ]
  },
  {
   "cell_type": "code",
   "execution_count": 2,
   "metadata": {},
   "outputs": [],
   "source": [
    "crop_rows = -1"
   ]
  },
  {
   "cell_type": "code",
   "execution_count": 3,
   "metadata": {},
   "outputs": [],
   "source": [
    "df_interactions = pd.read_csv('ml-interactions.tar.gz', compression='gzip')\n",
    "\n",
    "if crop_rows > 0:\n",
    "    df_interactions = df_interactions.head(crop_rows)\n",
    "\n",
    "isna_result = pd.isna(df_interactions['action'])\n",
    "df_interactions= df_interactions[~isna_result]\n",
    "isna_result = pd.isna(df_interactions['action'])\n",
    "assert sum(df_interactions['action'].isna()) == 0\n",
    "\n",
    "df_interactions.rename(columns = {'ml-interactions.csv':'timestamp'}, inplace = True)"
   ]
  },
  {
   "cell_type": "code",
   "execution_count": 4,
   "metadata": {},
   "outputs": [],
   "source": [
    "point_labels = pd.read_csv('sidewalk-seattle-label_point.csv')\n",
    "point_labels.set_index('label_id', inplace=True)"
   ]
  },
  {
   "cell_type": "code",
   "execution_count": 5,
   "metadata": {},
   "outputs": [],
   "source": [
    "label_correctness = pd.read_csv('ml-label-correctness.csv')"
   ]
  },
  {
   "cell_type": "code",
   "execution_count": 6,
   "metadata": {},
   "outputs": [],
   "source": [
    "labeling_cols = ['user_id', 'audit_task_id', 'temporary_label_id']"
   ]
  },
  {
   "cell_type": "code",
   "execution_count": 7,
   "metadata": {},
   "outputs": [],
   "source": [
    "# label_correctness.drop(columns='label_type', inplace=True)"
   ]
  },
  {
   "cell_type": "code",
   "execution_count": 8,
   "metadata": {},
   "outputs": [],
   "source": [
    "label_correctness.set_index(labeling_cols, inplace=True)"
   ]
  },
  {
   "cell_type": "code",
   "execution_count": 9,
   "metadata": {},
   "outputs": [],
   "source": [
    "# TODO: figure out why there are duplicates\n",
    "label_correctness = label_correctness[~label_correctness.index.duplicated()]"
   ]
  },
  {
   "cell_type": "code",
   "execution_count": 10,
   "metadata": {},
   "outputs": [],
   "source": [
    "label_correctness = label_correctness[~label_correctness['correct'].isna()]"
   ]
  },
  {
   "cell_type": "code",
   "execution_count": 11,
   "metadata": {
    "scrolled": false
   },
   "outputs": [],
   "source": [
    "df_interactions.set_index(labeling_cols, inplace=True)"
   ]
  },
  {
   "cell_type": "code",
   "execution_count": 12,
   "metadata": {},
   "outputs": [],
   "source": [
    "df_interactions.reset_index(inplace=True)"
   ]
  },
  {
   "cell_type": "code",
   "execution_count": 13,
   "metadata": {},
   "outputs": [],
   "source": [
    "# # fill nan temporary label id's\n",
    "# df_interactions['temporary_label_id'] = df_interactions['temporary_label_id'].fillna(method='bfill')\n",
    "\n",
    "# # get rid of nan label id's\n",
    "# df_interactions = df_interactions[~pd.isna(df_interactions['temporary_label_id'])]"
   ]
  },
  {
   "cell_type": "code",
   "execution_count": 14,
   "metadata": {},
   "outputs": [],
   "source": [
    "labels = df_interactions[df_interactions['action'] == 'LabelingCanvas_FinishLabeling']"
   ]
  },
  {
   "cell_type": "code",
   "execution_count": 15,
   "metadata": {},
   "outputs": [],
   "source": [
    "labels.reset_index(inplace=True)"
   ]
  },
  {
   "cell_type": "code",
   "execution_count": 16,
   "metadata": {
    "scrolled": true
   },
   "outputs": [
    {
     "name": "stderr",
     "output_type": "stream",
     "text": [
      "/home/neil/anaconda3/envs/sidewalk/lib/python3.7/site-packages/ipykernel_launcher.py:1: SettingWithCopyWarning: \n",
      "A value is trying to be set on a copy of a slice from a DataFrame.\n",
      "Try using .loc[row_indexer,col_indexer] = value instead\n",
      "\n",
      "See the caveats in the documentation: http://pandas.pydata.org/pandas-docs/stable/indexing.html#indexing-view-versus-copy\n",
      "  \"\"\"Entry point for launching an IPython kernel.\n"
     ]
    }
   ],
   "source": [
    "labels['audit_task_id'] = labels['audit_task_id'].astype(int)"
   ]
  },
  {
   "cell_type": "code",
   "execution_count": 17,
   "metadata": {},
   "outputs": [
    {
     "name": "stderr",
     "output_type": "stream",
     "text": [
      "/home/neil/anaconda3/envs/sidewalk/lib/python3.7/site-packages/ipykernel_launcher.py:1: SettingWithCopyWarning: \n",
      "A value is trying to be set on a copy of a slice from a DataFrame.\n",
      "Try using .loc[row_indexer,col_indexer] = value instead\n",
      "\n",
      "See the caveats in the documentation: http://pandas.pydata.org/pandas-docs/stable/indexing.html#indexing-view-versus-copy\n",
      "  \"\"\"Entry point for launching an IPython kernel.\n"
     ]
    }
   ],
   "source": [
    "labels['temporary_label_id'] = labels['temporary_label_id'].astype(int)"
   ]
  },
  {
   "cell_type": "code",
   "execution_count": 18,
   "metadata": {},
   "outputs": [],
   "source": [
    "labels.set_index(labeling_cols, inplace=True)"
   ]
  },
  {
   "cell_type": "code",
   "execution_count": 19,
   "metadata": {},
   "outputs": [],
   "source": [
    "labels_joined = label_correctness.join(labels, how='inner')"
   ]
  },
  {
   "cell_type": "code",
   "execution_count": 20,
   "metadata": {},
   "outputs": [],
   "source": [
    "labels_joined.drop(['action', 'audit_task_interaction_id', 'timestamp', 'mission_id', 'lat', 'lng'], axis=1, inplace=True)"
   ]
  },
  {
   "cell_type": "code",
   "execution_count": 21,
   "metadata": {},
   "outputs": [],
   "source": [
    "def parse_note(x):\n",
    "    result = str_parse.parse('labelType:{},canvasX:{},canvasY:{}', x)\n",
    "    return pd.Series({\n",
    "        'labelType': result[0],\n",
    "        'canvasX': result[1],\n",
    "        'canvasY': result[2]\n",
    "    })\n",
    "    \n",
    "labels_joined = labels_joined.join(labels_joined['note'].apply(parse_note))"
   ]
  },
  {
   "cell_type": "code",
   "execution_count": 22,
   "metadata": {},
   "outputs": [],
   "source": [
    "no_sidewalk_labels = labels[labels['note'].apply(parse_note)['labelType'] == 'NoSidewalk'][['lat', 'lng']]"
   ]
  },
  {
   "cell_type": "code",
   "execution_count": 23,
   "metadata": {},
   "outputs": [],
   "source": [
    "labels_joined.drop('note', inplace=True, axis=1)"
   ]
  },
  {
   "cell_type": "code",
   "execution_count": 24,
   "metadata": {},
   "outputs": [],
   "source": [
    "labels_joined['correct'] = labels_joined['correct'] == 't'"
   ]
  },
  {
   "cell_type": "code",
   "execution_count": 25,
   "metadata": {
    "scrolled": true
   },
   "outputs": [],
   "source": [
    "labels_joined.reset_index(inplace=True)"
   ]
  },
  {
   "cell_type": "code",
   "execution_count": 26,
   "metadata": {},
   "outputs": [],
   "source": [
    "labels_joined.set_index('label_id', inplace=True)"
   ]
  },
  {
   "cell_type": "code",
   "execution_count": 27,
   "metadata": {},
   "outputs": [],
   "source": [
    "labels_joined = labels_joined.join(point_labels[['sv_image_x', 'sv_image_y', 'lat', 'lng']], how='inner')"
   ]
  },
  {
   "cell_type": "code",
   "execution_count": 28,
   "metadata": {},
   "outputs": [],
   "source": [
    "# curb_ramp = labels_joined[labels_joined['labelType'] == 'CurbRamp']"
   ]
  },
  {
   "cell_type": "code",
   "execution_count": 29,
   "metadata": {},
   "outputs": [],
   "source": [
    "# X = curb_ramp[['canvasX', 'canvasY', 'pitch']].values"
   ]
  },
  {
   "cell_type": "code",
   "execution_count": 30,
   "metadata": {},
   "outputs": [],
   "source": [
    "# y = curb_ramp['correct'].values"
   ]
  },
  {
   "cell_type": "code",
   "execution_count": 31,
   "metadata": {},
   "outputs": [],
   "source": [
    "# X = X.astype(int)"
   ]
  },
  {
   "cell_type": "code",
   "execution_count": 32,
   "metadata": {},
   "outputs": [],
   "source": [
    "# plt.figure()\n",
    "# plt.scatter(X[:, 1], X[:, 2], c=y)"
   ]
  },
  {
   "cell_type": "code",
   "execution_count": 33,
   "metadata": {},
   "outputs": [],
   "source": [
    "# clf = SGDRegressor()"
   ]
  },
  {
   "cell_type": "code",
   "execution_count": 34,
   "metadata": {},
   "outputs": [],
   "source": [
    "# clf.fit(X, y)"
   ]
  },
  {
   "cell_type": "code",
   "execution_count": 35,
   "metadata": {},
   "outputs": [],
   "source": [
    "# y_pred = clf.predict(X)"
   ]
  },
  {
   "cell_type": "code",
   "execution_count": 36,
   "metadata": {},
   "outputs": [],
   "source": [
    "# plt.figure()\n",
    "# plt.scatter(X[:, 1], X[:, 2], c=y_pred)"
   ]
  },
  {
   "cell_type": "code",
   "execution_count": 37,
   "metadata": {
    "scrolled": false
   },
   "outputs": [],
   "source": [
    "# fig, ax = plt.subplots()\n",
    "# ax = plt.axes(projection='3d')\n",
    "\n",
    "# xline = X[:, 0]\n",
    "# yline = X[:, 1]\n",
    "# zline = X[:, 2]\n",
    "\n",
    "# ax.set_xlabel('Dimension 0')\n",
    "# ax.set_ylabel('Dimension 1')\n",
    "# ax.set_zlabel('Dimension 2')\n",
    "# ax.scatter3D(xline, yline, zline, c=y_pred)"
   ]
  },
  {
   "cell_type": "code",
   "execution_count": 38,
   "metadata": {},
   "outputs": [],
   "source": [
    "def dist_prox(row):\n",
    "    try:\n",
    "        ip = compute_proximity(row.lat, row.lng)\n",
    "        return pd.Series({\n",
    "            'distance': ip[0],\n",
    "            'percent': ip[1]\n",
    "        })\n",
    "    except Exception:\n",
    "        return pd.Series({\n",
    "            'distance': -1,\n",
    "            'percent': -1\n",
    "        })"
   ]
  },
  {
   "cell_type": "code",
   "execution_count": 39,
   "metadata": {},
   "outputs": [],
   "source": [
    "labels_joined = labels_joined.join(labels_joined.apply(dist_prox, axis=1))"
   ]
  },
  {
   "cell_type": "code",
   "execution_count": 40,
   "metadata": {},
   "outputs": [
    {
     "name": "stdout",
     "output_type": "stream",
     "text": [
      "(63.88030974232507, 93.08618039582596)\n"
     ]
    }
   ],
   "source": [
    "print(compute_proximity(47.670784, -122.398476))"
   ]
  },
  {
   "cell_type": "code",
   "execution_count": 41,
   "metadata": {},
   "outputs": [
    {
     "data": {
      "text/plain": [
       "<matplotlib.collections.PathCollection at 0x7f7139dfaf60>"
      ]
     },
     "execution_count": 41,
     "metadata": {},
     "output_type": "execute_result"
    },
    {
     "data": {
      "image/png": "[encoded data removed]",
      "text/plain": [
       "<Figure size 432x288 with 1 Axes>"
      ]
     },
     "metadata": {
      "needs_background": "light"
     },
     "output_type": "display_data"
    }
   ],
   "source": [
    "selection = labels_joined[labels_joined.labelType == 'CurbRamp']\n",
    "plt.figure()\n",
    "plt.scatter(selection.distance, selection.percent, c=selection['correct'], alpha=0.1)"
   ]
  },
  {
   "cell_type": "code",
   "execution_count": 42,
   "metadata": {},
   "outputs": [],
   "source": [
    "no_sidewalk_labels = no_sidewalk_labels[no_sidewalk_labels.lat > 46]"
   ]
  },
  {
   "cell_type": "code",
   "execution_count": 43,
   "metadata": {},
   "outputs": [
    {
     "data": {
      "text/plain": [
       "<matplotlib.collections.PathCollection at 0x7f7139d6d0f0>"
      ]
     },
     "execution_count": 43,
     "metadata": {},
     "output_type": "execute_result"
    },
    {
     "data": {
      "image/png": "[encoded data removed]",
      "text/plain": [
       "<Figure size 432x288 with 1 Axes>"
      ]
     },
     "metadata": {
      "needs_background": "light"
     },
     "output_type": "display_data"
    }
   ],
   "source": [
    "plt.figure()\n",
    "plt.scatter(no_sidewalk_labels.lng, no_sidewalk_labels.lat)"
   ]
  },
  {
   "cell_type": "code",
   "execution_count": 44,
   "metadata": {},
   "outputs": [],
   "source": [
    "# def dist_to_street(row):\n",
    "#     try:\n",
    "#         return pd.Series({\n",
    "#             'dist_to_street': intersection_proximity.compute_dist_to_street(row.lat, row.lng)\n",
    "#         })\n",
    "#     except Exception:\n",
    "#         return pd.Series({\n",
    "#             'dist_to_street': -1\n",
    "#         })"
   ]
  },
  {
   "cell_type": "code",
   "execution_count": 45,
   "metadata": {},
   "outputs": [],
   "source": [
    "# labels_joined = labels_joined.join(labels_joined.apply(dist_to_street, axis=1))"
   ]
  },
  {
   "cell_type": "code",
   "execution_count": 46,
   "metadata": {},
   "outputs": [],
   "source": [
    "le = preprocessing.LabelEncoder()\n",
    "# transform label_type into an int\n",
    "labels_joined['label_type'] = le.fit_transform(labels_joined['labelType'])"
   ]
  },
  {
   "cell_type": "code",
   "execution_count": 47,
   "metadata": {},
   "outputs": [],
   "source": [
    "# # OR one-hot encoding\n",
    "# oh = preprocessing.OneHotEncoder(handle_unknown='ignore')\n",
    "# one_hot_label = oh.fit_transform(labels_joined['labelType'].values.reshape(-1, 1)).todense()"
   ]
  },
  {
   "cell_type": "code",
   "execution_count": 48,
   "metadata": {},
   "outputs": [],
   "source": [
    "# # fetch census tract data\n",
    "# # takes about 0.8s per request\n",
    "\n",
    "# import requests                                                                                                                                                                                             \n",
    "# import json                                                                                                                                                                                                 \n",
    "\n",
    "def fetch_census_data(lng, lat):                                                                                                                                                                            \n",
    "    geocode_url = 'https://geomap.ffiec.gov/FFIECGeocMap/GeocodeMap1.aspx/GetGeocodeData'                                                                                                                   \n",
    "    census_url = 'https://geomap.ffiec.gov/FFIECGeocMap/GeocodeMap1.aspx/GetCensusData'                                                                                                                     \n",
    "    data = {'sSingleLine': '-122.34080895597496, 47.608319043773058', 'iCensusYear': '2017'}                                                                                                                \n",
    "    headers = {'Accept': 'application/json, text/javascript, */*; q=0.01', 'Content-Type': 'application/json; charset=utf-8'}                                                                               \n",
    "    r = requests.post(geocode_url, data=json.dumps(data), headers=headers)                                                                                                                                  \n",
    "    j = json.loads(r.content)                                                                                                                                                                               \n",
    "    r2 = requests.post(census_url, data=json.dumps({'sMSACode': j['d']['sMSACode'], 'sStateCode': j['d']['sStateCode'], 'sCountyCode': j['d']['sCountyCode'], 'sTractCode': j['d']['sTractCode'], 'iCensusYear': j['d']['iCensusYear']}), headers=headers)                                                                                                                                                                                                 \n",
    "    j2 = json.loads(r2.content)                                                                                                                                                                              \n",
    "    return pd.Series(j2['d'])  \n"
   ]
  },
  {
   "cell_type": "code",
   "execution_count": 49,
   "metadata": {},
   "outputs": [],
   "source": [
    "# %%time\n",
    "# census_tract_data = labels_joined.apply(lambda x: fetch_census_data(x['lng'], x['lat']), axis=1)"
   ]
  },
  {
   "cell_type": "code",
   "execution_count": 50,
   "metadata": {
    "scrolled": true
   },
   "outputs": [
    {
     "data": {
      "text/html": [
       "<div>\n",
       "<style scoped>\n",
       "    .dataframe tbody tr th:only-of-type {\n",
       "        vertical-align: middle;\n",
       "    }\n",
       "\n",
       "    .dataframe tbody tr th {\n",
       "        vertical-align: top;\n",
       "    }\n",
       "\n",
       "    .dataframe thead th {\n",
       "        text-align: right;\n",
       "    }\n",
       "</style>\n",
       "<table border=\"1\" class=\"dataframe\">\n",
       "  <thead>\n",
       "    <tr style=\"text-align: right;\">\n",
       "      <th></th>\n",
       "      <th>user_id</th>\n",
       "      <th>audit_task_id</th>\n",
       "      <th>temporary_label_id</th>\n",
       "      <th>correct</th>\n",
       "      <th>index</th>\n",
       "      <th>gsv_panorama_id</th>\n",
       "      <th>heading</th>\n",
       "      <th>pitch</th>\n",
       "      <th>zoom</th>\n",
       "      <th>labelType</th>\n",
       "      <th>canvasX</th>\n",
       "      <th>canvasY</th>\n",
       "      <th>sv_image_x</th>\n",
       "      <th>sv_image_y</th>\n",
       "      <th>lat</th>\n",
       "      <th>lng</th>\n",
       "      <th>distance</th>\n",
       "      <th>percent</th>\n",
       "      <th>label_type</th>\n",
       "    </tr>\n",
       "    <tr>\n",
       "      <th>label_id</th>\n",
       "      <th></th>\n",
       "      <th></th>\n",
       "      <th></th>\n",
       "      <th></th>\n",
       "      <th></th>\n",
       "      <th></th>\n",
       "      <th></th>\n",
       "      <th></th>\n",
       "      <th></th>\n",
       "      <th></th>\n",
       "      <th></th>\n",
       "      <th></th>\n",
       "      <th></th>\n",
       "      <th></th>\n",
       "      <th></th>\n",
       "      <th></th>\n",
       "      <th></th>\n",
       "      <th></th>\n",
       "      <th></th>\n",
       "    </tr>\n",
       "  </thead>\n",
       "  <tbody>\n",
       "    <tr>\n",
       "      <th>10407</th>\n",
       "      <td>0e1ae564-6d72-4670-98e4-71369cc5ab26</td>\n",
       "      <td>3366</td>\n",
       "      <td>5</td>\n",
       "      <td>True</td>\n",
       "      <td>18364631</td>\n",
       "      <td>L7SZej2SoaWbaqWE5bdB3Q</td>\n",
       "      <td>163.000000</td>\n",
       "      <td>-35.0000</td>\n",
       "      <td>1.0</td>\n",
       "      <td>NoCurbRamp</td>\n",
       "      <td>642</td>\n",
       "      <td>226</td>\n",
       "      <td>7629</td>\n",
       "      <td>-934</td>\n",
       "      <td>47.673359</td>\n",
       "      <td>-122.401878</td>\n",
       "      <td>10.140893</td>\n",
       "      <td>12.776624</td>\n",
       "      <td>1</td>\n",
       "    </tr>\n",
       "    <tr>\n",
       "      <th>10409</th>\n",
       "      <td>0e1ae564-6d72-4670-98e4-71369cc5ab26</td>\n",
       "      <td>3367</td>\n",
       "      <td>7</td>\n",
       "      <td>False</td>\n",
       "      <td>18368154</td>\n",
       "      <td>KR-t1fL7CYXLuiwOpovEow</td>\n",
       "      <td>246.437500</td>\n",
       "      <td>-29.5625</td>\n",
       "      <td>1.0</td>\n",
       "      <td>NoCurbRamp</td>\n",
       "      <td>490</td>\n",
       "      <td>294</td>\n",
       "      <td>10007</td>\n",
       "      <td>-1294</td>\n",
       "      <td>47.672207</td>\n",
       "      <td>-122.401894</td>\n",
       "      <td>7.524051</td>\n",
       "      <td>22.726504</td>\n",
       "      <td>1</td>\n",
       "    </tr>\n",
       "    <tr>\n",
       "      <th>10412</th>\n",
       "      <td>0e1ae564-6d72-4670-98e4-71369cc5ab26</td>\n",
       "      <td>3368</td>\n",
       "      <td>3</td>\n",
       "      <td>True</td>\n",
       "      <td>18372571</td>\n",
       "      <td>FDr1tDKldYX_PRQYQG713A</td>\n",
       "      <td>282.375000</td>\n",
       "      <td>-28.2500</td>\n",
       "      <td>1.0</td>\n",
       "      <td>SurfaceProblem</td>\n",
       "      <td>484</td>\n",
       "      <td>167</td>\n",
       "      <td>11160</td>\n",
       "      <td>-580</td>\n",
       "      <td>47.678715</td>\n",
       "      <td>-122.398766</td>\n",
       "      <td>31.683946</td>\n",
       "      <td>47.728451</td>\n",
       "      <td>3</td>\n",
       "    </tr>\n",
       "    <tr>\n",
       "      <th>10413</th>\n",
       "      <td>0e1ae564-6d72-4670-98e4-71369cc5ab26</td>\n",
       "      <td>3368</td>\n",
       "      <td>4</td>\n",
       "      <td>False</td>\n",
       "      <td>18372984</td>\n",
       "      <td>EfYgFxuE0WkXVYEo0DJRsg</td>\n",
       "      <td>282.187500</td>\n",
       "      <td>-29.9375</td>\n",
       "      <td>1.0</td>\n",
       "      <td>SurfaceProblem</td>\n",
       "      <td>490</td>\n",
       "      <td>147</td>\n",
       "      <td>11177</td>\n",
       "      <td>-508</td>\n",
       "      <td>47.678722</td>\n",
       "      <td>-122.398911</td>\n",
       "      <td>43.905207</td>\n",
       "      <td>66.138486</td>\n",
       "      <td>3</td>\n",
       "    </tr>\n",
       "    <tr>\n",
       "      <th>10429</th>\n",
       "      <td>0e1ae564-6d72-4670-98e4-71369cc5ab26</td>\n",
       "      <td>3378</td>\n",
       "      <td>20</td>\n",
       "      <td>True</td>\n",
       "      <td>18386753</td>\n",
       "      <td>-8GxPT6Z3OKYFimrUcYi1A</td>\n",
       "      <td>39.032169</td>\n",
       "      <td>-35.0000</td>\n",
       "      <td>1.0</td>\n",
       "      <td>CurbRamp</td>\n",
       "      <td>426</td>\n",
       "      <td>206</td>\n",
       "      <td>1897</td>\n",
       "      <td>-1076</td>\n",
       "      <td>47.687786</td>\n",
       "      <td>-122.402542</td>\n",
       "      <td>13.551776</td>\n",
       "      <td>1.267463</td>\n",
       "      <td>0</td>\n",
       "    </tr>\n",
       "  </tbody>\n",
       "</table>\n",
       "</div>"
      ],
      "text/plain": [
       "                                       user_id  audit_task_id  \\\n",
       "label_id                                                        \n",
       "10407     0e1ae564-6d72-4670-98e4-71369cc5ab26           3366   \n",
       "10409     0e1ae564-6d72-4670-98e4-71369cc5ab26           3367   \n",
       "10412     0e1ae564-6d72-4670-98e4-71369cc5ab26           3368   \n",
       "10413     0e1ae564-6d72-4670-98e4-71369cc5ab26           3368   \n",
       "10429     0e1ae564-6d72-4670-98e4-71369cc5ab26           3378   \n",
       "\n",
       "          temporary_label_id  correct     index         gsv_panorama_id  \\\n",
       "label_id                                                                  \n",
       "10407                      5     True  18364631  L7SZej2SoaWbaqWE5bdB3Q   \n",
       "10409                      7    False  18368154  KR-t1fL7CYXLuiwOpovEow   \n",
       "10412                      3     True  18372571  FDr1tDKldYX_PRQYQG713A   \n",
       "10413                      4    False  18372984  EfYgFxuE0WkXVYEo0DJRsg   \n",
       "10429                     20     True  18386753  -8GxPT6Z3OKYFimrUcYi1A   \n",
       "\n",
       "             heading    pitch  zoom       labelType canvasX canvasY  \\\n",
       "label_id                                                              \n",
       "10407     163.000000 -35.0000   1.0      NoCurbRamp     642     226   \n",
       "10409     246.437500 -29.5625   1.0      NoCurbRamp     490     294   \n",
       "10412     282.375000 -28.2500   1.0  SurfaceProblem     484     167   \n",
       "10413     282.187500 -29.9375   1.0  SurfaceProblem     490     147   \n",
       "10429      39.032169 -35.0000   1.0        CurbRamp     426     206   \n",
       "\n",
       "          sv_image_x  sv_image_y        lat         lng   distance    percent  \\\n",
       "label_id                                                                        \n",
       "10407           7629        -934  47.673359 -122.401878  10.140893  12.776624   \n",
       "10409          10007       -1294  47.672207 -122.401894   7.524051  22.726504   \n",
       "10412          11160        -580  47.678715 -122.398766  31.683946  47.728451   \n",
       "10413          11177        -508  47.678722 -122.398911  43.905207  66.138486   \n",
       "10429           1897       -1076  47.687786 -122.402542  13.551776   1.267463   \n",
       "\n",
       "          label_type  \n",
       "label_id              \n",
       "10407              1  \n",
       "10409              1  \n",
       "10412              3  \n",
       "10413              3  \n",
       "10429              0  "
      ]
     },
     "execution_count": 50,
     "metadata": {},
     "output_type": "execute_result"
    }
   ],
   "source": [
    "labels_joined.head()"
   ]
  },
  {
   "cell_type": "code",
   "execution_count": 51,
   "metadata": {},
   "outputs": [
    {
     "data": {
      "text/plain": [
       "array(['CurbRamp', 'NoCurbRamp', 'Obstacle', 'SurfaceProblem'],\n",
       "      dtype=object)"
      ]
     },
     "execution_count": 51,
     "metadata": {},
     "output_type": "execute_result"
    }
   ],
   "source": [
    "np.unique(labels_joined['labelType'])"
   ]
  },
  {
   "cell_type": "code",
   "execution_count": 52,
   "metadata": {
    "scrolled": false
   },
   "outputs": [],
   "source": [
    "# selection = labels_joined[labels_joined['labelType'] == 'Obstacle']\n",
    "# plt.figure()\n",
    "# plt.xlabel('distance to intersection')\n",
    "# plt.ylabel('distance to street')\n",
    "# plt.scatter(selection['percent'], selection['dist_to_street'], c=selection['correct'], alpha=0.1)"
   ]
  },
  {
   "cell_type": "code",
   "execution_count": 53,
   "metadata": {
    "scrolled": false
   },
   "outputs": [],
   "source": [
    "selection = labels_joined[labels_joined['distance'] > 0]\n",
    "selection = selection.iloc[(np.random.choice(selection.shape[0], 100))]\n",
    "selection = selection[['lat', 'lng', 'distance', 'percent']]\n",
    "# plt.figure()\n",
    "# plt.xlabel('distance to intersection (m)')\n",
    "# plt.ylabel('middleness (%)')\n",
    "# plt.scatter(selection['distance'], selection['percent'], alpha=0.1)"
   ]
  },
  {
   "cell_type": "code",
   "execution_count": 54,
   "metadata": {},
   "outputs": [],
   "source": [
    "# def _debug_proximity(x):\n",
    "# #     print(x)\n",
    "#     t = intersection_proximity.compute_proximity(x.lat, x.lng)\n",
    "#     return pd.Series({\n",
    "#         'start_lng': t[0][0],\n",
    "#         'start_lat': t[0][1],\n",
    "#         'end_lng': t[1][0],\n",
    "#         'end_lat': t[1][1]\n",
    "#     })"
   ]
  },
  {
   "cell_type": "code",
   "execution_count": 55,
   "metadata": {
    "scrolled": false
   },
   "outputs": [],
   "source": [
    "# a = selection.apply(lambda x: _debug_proximity(x), axis=1)"
   ]
  },
  {
   "cell_type": "code",
   "execution_count": 56,
   "metadata": {},
   "outputs": [],
   "source": [
    "# selection = selection.join(a)"
   ]
  },
  {
   "cell_type": "code",
   "execution_count": 57,
   "metadata": {},
   "outputs": [],
   "source": [
    "# selection.to_csv('selection.csv')"
   ]
  },
  {
   "cell_type": "code",
   "execution_count": 58,
   "metadata": {},
   "outputs": [],
   "source": [
    "# selection.loc[64770]"
   ]
  },
  {
   "cell_type": "code",
   "execution_count": 59,
   "metadata": {},
   "outputs": [],
   "source": [
    "# a = labels_joined[(labels_joined['percent'] > 90) & (labels_joined['labelType'] == 'CurbRamp')].iloc[0]"
   ]
  },
  {
   "cell_type": "code",
   "execution_count": 60,
   "metadata": {},
   "outputs": [],
   "source": [
    "# labels_joined[(labels_joined['percent'] > 80) & (labels_joined['distance'] < 10)].head()"
   ]
  },
  {
   "cell_type": "code",
   "execution_count": 61,
   "metadata": {},
   "outputs": [],
   "source": [
    "# labels_joined.shape"
   ]
  },
  {
   "cell_type": "markdown",
   "metadata": {},
   "source": [
    "# Classification"
   ]
  },
  {
   "cell_type": "code",
   "execution_count": 96,
   "metadata": {},
   "outputs": [],
   "source": [
    "labels_joined['canvasX'] = labels_joined['canvasX'].astype(int)\n",
    "labels_joined['canvasY'] = labels_joined['canvasY'].astype(int)"
   ]
  },
  {
   "cell_type": "code",
   "execution_count": 97,
   "metadata": {},
   "outputs": [],
   "source": [
    "training_labels = labels_joined.dropna()"
   ]
  },
  {
   "cell_type": "code",
   "execution_count": 98,
   "metadata": {},
   "outputs": [],
   "source": [
    "features = ['pitch', 'label_type', 'canvasX', 'canvasY', 'distance', 'percent', 'sv_image_x', 'sv_image_y', 'lat', 'lng', 'nosidewalk_proximity']\n"
   ]
  },
  {
   "cell_type": "code",
   "execution_count": 99,
   "metadata": {},
   "outputs": [],
   "source": [
    "# features = ['pitch', 'label_type', 'canvasX', 'canvasY', 'distance', 'percent', 'sv_image_x', 'sv_image_y', 'lat', 'lng']"
   ]
  },
  {
   "cell_type": "code",
   "execution_count": 100,
   "metadata": {},
   "outputs": [],
   "source": [
    "# X = labels_joined[['pitch', 'label_type', 'canvasX', 'canvasY', 'distance', 'percent']].values\n",
    "X = training_labels[features]\n",
    "y = training_labels['correct'].values\n",
    "label_id = training_labels.index\n",
    "label_type = training_labels['labelType']"
   ]
  },
  {
   "cell_type": "code",
   "execution_count": 101,
   "metadata": {},
   "outputs": [],
   "source": [
    "# # only select a certain type\n",
    "# mask = (label_type=='Obstacle')\n",
    "# X = X[mask]\n",
    "# y = y[mask]\n",
    "# label_id = label_id[mask]\n",
    "# label_type = label_type[mask]"
   ]
  },
  {
   "cell_type": "code",
   "execution_count": 102,
   "metadata": {},
   "outputs": [
    {
     "data": {
      "text/plain": [
       "5335"
      ]
     },
     "execution_count": 102,
     "metadata": {},
     "output_type": "execute_result"
    }
   ],
   "source": [
    "len(X)"
   ]
  },
  {
   "cell_type": "code",
   "execution_count": 103,
   "metadata": {},
   "outputs": [],
   "source": [
    "# X = np.concatenate((X, one_hot_label), axis=1)"
   ]
  },
  {
   "cell_type": "code",
   "execution_count": 104,
   "metadata": {},
   "outputs": [],
   "source": [
    "# # Undersample the majority class\n",
    "# incorrect_indices, = np.where(y == 0)\n",
    "# correct_indices, = np.where(y == 1)\n",
    "# needed = min(len(incorrect_indices), len(correct_indices))\n",
    "# chosen_indices = np.concatenate((np.random.choice(correct_indices, needed, replace=False), np.random.choice(incorrect_indices, needed, replace=False)))\n",
    "\n",
    "# X = X[chosen_indices]\n",
    "# y = y[chosen_indices]"
   ]
  },
  {
   "cell_type": "code",
   "execution_count": 105,
   "metadata": {},
   "outputs": [],
   "source": [
    "# label_type = label_type[chosen_indices]"
   ]
  },
  {
   "cell_type": "code",
   "execution_count": 106,
   "metadata": {},
   "outputs": [],
   "source": [
    "from sklearn.ensemble import RandomForestClassifier, BaggingClassifier, VotingClassifier\n",
    "from sklearn.linear_model import LogisticRegressionCV\n",
    "# from sklearn.preprocessing import OneHotEncoder\n",
    "from sklearn.model_selection import KFold\n",
    "from sklearn.tree import DecisionTreeClassifier, export_graphviz\n",
    "from imblearn.over_sampling import RandomOverSampler, SMOTE, ADASYN\n",
    "from imblearn.under_sampling import RandomUnderSampler\n",
    "from imblearn.ensemble import BalancedRandomForestClassifier, EasyEnsembleClassifier, BalancedBaggingClassifier\n",
    "from sklearn.neural_network import MLPClassifier\n",
    "from sklearn import svm\n",
    "from sklearn.base import BaseEstimator"
   ]
  },
  {
   "cell_type": "code",
   "execution_count": 107,
   "metadata": {},
   "outputs": [],
   "source": [
    "cutoff_invalid = 0.8\n",
    "cutoff_valid = 0.8"
   ]
  },
  {
   "cell_type": "code",
   "execution_count": 108,
   "metadata": {
    "scrolled": false
   },
   "outputs": [
    {
     "name": "stdout",
     "output_type": "stream",
     "text": [
      "tn: 5, tp: 533, fn: 5, fp: 56\n",
      "tn: 6, tp: 485, fn: 3, fp: 63\n",
      "tn: 6, tp: 525, fn: 2, fp: 59\n",
      "tn: 10, tp: 477, fn: 5, fp: 44\n",
      "tn: 8, tp: 522, fn: 8, fp: 50\n"
     ]
    }
   ],
   "source": [
    "total = 0\n",
    "predicted_neg = 0\n",
    "predicted_pos = 0\n",
    "tp = 0\n",
    "tn = 0\n",
    "fp = 0\n",
    "fn = 0\n",
    "counter = 0\n",
    "correct_prob = np.zeros(y.shape[0])\n",
    "for train_index, test_index in KFold(n_splits=5, shuffle=True, random_state=0).split(X):\n",
    "    counter += 1\n",
    "\n",
    "    X_train, X_test = X.iloc[train_index], X.iloc[test_index]\n",
    "    y_train, y_test = y[train_index], y[test_index]\n",
    "    \n",
    "#     sampler = RandomUnderSampler(random_state=0)\n",
    "#     sampler = RandomOverSampler(random_state=0)\n",
    "#     X_resampled, y_resampled = sampler.fit_resample(X_train, y_train)\n",
    "    X_resampled, y_resampled = X_train, y_train \n",
    "#     X_resampled, y_resampled = sampler.fit_resample(X_train, y_train)\n",
    "    \n",
    "#     clf = RandomForestClassifier(n_jobs=-1, random_state=0, n_estimators=200)\n",
    "#     clf = BalancedRandomForestClassifier(n_jobs=-1, random_state=0, n_estimators=100)\n",
    "#     clf1 = BalancedBaggingClassifier(n_jobs=-1, random_state=0, n_estimators=100)\n",
    "    clf1 = BaggingClassifier(random_state=0)\n",
    "#     clf = LogisticRegressionCV(n_jobs=-1, random_state=0, cv=5, max_iter=500)\n",
    "#     clf = DecisionTreeClassifier(random_state=0)\n",
    "#     clf = MLPClassifier(random_state=0, verbose=True)\n",
    "#     clf1.fit(X_resampled, y_resampled)\n",
    "\n",
    "# Voting Classifier\n",
    "    \n",
    "    class RadiusClassifier(BaseEstimator):\n",
    "        def __init__(self):\n",
    "            self.neigh = BalancedBaggingClassifier(n_jobs=-1, n_estimators=100)\n",
    "        \n",
    "        def fit(self, X_, y_):\n",
    "            self.neigh.fit(X_[['lat', 'lng']].values, y_)\n",
    "            \n",
    "        def predict_proba(self, X_):\n",
    "            prediction = self.neigh.predict_proba(X_[['lat', 'lng']].values)\n",
    "            mask1 = prediction[:, 1] == 1\n",
    "#             prediction[mask1] = np.array([0, 1])\n",
    "#             prediction[~mask1] = np.array([0.5, 0.5]) \n",
    "            return prediction\n",
    "        \n",
    "    \n",
    "    clf2 = RadiusClassifier()\n",
    "    \n",
    "    clf = VotingClassifier(estimators=[\n",
    "        ('bbc', clf1),\n",
    "        ('rc', clf2)\n",
    "    ], voting='soft', weights=[3, 1])\n",
    "    \n",
    "    clf.fit(X_resampled, y_resampled)\n",
    "    \n",
    "    use_probabilities = True\n",
    "    \n",
    "    if use_probabilities:\n",
    "        prediction = clf.predict_proba(X_test)\n",
    "    else:\n",
    "        p = clf.predict(X_test)\n",
    "        prediction = np.concatenate([1-p, p]).reshape((y_test.shape[0], 2))\n",
    "        \n",
    "    correct_prob[test_index] = prediction[:, 1]\n",
    "    pred_neg = prediction[:, 0] > cutoff_invalid\n",
    "    pred_pos = prediction[:, 1] > cutoff_valid\n",
    "\n",
    "    tn_ = np.sum(y_test[pred_neg] == 0)\n",
    "    fn_ = np.sum(pred_neg) - tn_\n",
    "    tp_ = np.sum(y_test[pred_pos] == 1)\n",
    "    fp_ = np.sum(pred_pos) - tp_\n",
    "\n",
    "\n",
    "#     print('tn: ' + str(label_id[test_index][pred_neg & (y_test == 0)]))\n",
    "#     print('fn: ' + str(label_id[test_index][pred_neg & (y_test == 1)]))\n",
    "    \n",
    "    print(f'tn: {tn_}, tp: {tp_}, fn: {fn_}, fp: {fp_}')\n",
    "    \n",
    "    predicted_neg += (tn_ + fn_)\n",
    "    predicted_pos += (tp_ + fp_)\n",
    "    tn += tn_\n",
    "    fn += fn_\n",
    "    tp += tp_\n",
    "    fp += fp_\n",
    "    \n",
    "    total += y_test.shape[0]"
   ]
  },
  {
   "cell_type": "code",
   "execution_count": 109,
   "metadata": {
    "scrolled": true
   },
   "outputs": [
    {
     "name": "stdout",
     "output_type": "stream",
     "text": [
      "precision:\t\t89.73%\n",
      "predicted (neg):\t1.09%\n",
      "predicted (pos):\t52.75%\n",
      "tp / tp + fp:\t\t90.33%\n",
      "tn / tn + fn:\t\t60.34%\n"
     ]
    }
   ],
   "source": [
    "accuracy = (tp + tn) / (predicted_neg + predicted_pos)\n",
    "print(f'precision:\\t\\t{100*accuracy:.2f}%')\n",
    "# print(f'recall (neg):\\t\\t{100*tn/(tn+fp):.2f}%')\n",
    "# print(f'recall (pos):\\t\\t{100*tp/(tp+fn):.2f}%')\n",
    "print(f'predicted (neg):\\t{100*predicted_neg/total:.2f}%')\n",
    "print(f'predicted (pos):\\t{100*predicted_pos/total:.2f}%')\n",
    "print(f'tp / tp + fp:\\t\\t{100*tp/(tp+fp):.2f}%')\n",
    "print(f'tn / tn + fn:\\t\\t{100*tn/(tn+fn):.2f}%')"
   ]
  },
  {
   "cell_type": "code",
   "execution_count": 112,
   "metadata": {},
   "outputs": [],
   "source": [
    "correct_prob = correct_prob > 0.5"
   ]
  },
  {
   "cell_type": "code",
   "execution_count": 113,
   "metadata": {},
   "outputs": [
    {
     "name": "stdout",
     "output_type": "stream",
     "text": [
      "CurbRamp\t 1557/ 1661 =     93.74% vs 93.79%\n",
      "NoCurbRamp\t 1357/ 1514 =     89.63% vs 89.22%\n",
      "Obstacle\t  404/  555 =     72.79% vs 66.22%\n",
      "SurfaceProblem\t  830/ 1108 =     74.91% vs 72.01%\n"
     ]
    }
   ],
   "source": [
    "for chosen_type in np.unique(label_type):\n",
    "    pred_correct = np.sum((correct_prob > cutoff_valid) & (label_type == chosen_type))\n",
    "    actually_correct = np.sum((y==1) & (correct_prob > cutoff_valid) & (label_type == chosen_type))\n",
    "    num_label = np.sum(label_type == chosen_type)\n",
    "    num_correct_label = np.sum((label_type == chosen_type) & (y==1))\n",
    "    print(f'{chosen_type}\\t{actually_correct: 5d}/{pred_correct: 5d} = \\\n",
    "    {100*actually_correct/pred_correct:.2f}% vs {100*num_correct_label/num_label:.2f}%')\n",
    "    "
   ]
  },
  {
   "cell_type": "code",
   "execution_count": 114,
   "metadata": {},
   "outputs": [
    {
     "name": "stdout",
     "output_type": "stream",
     "text": [
      "CurbRamp\t    0/   13 =     0.00% vs 6.21%\n",
      "NoCurbRamp\t   10/   35 =     28.57% vs 10.78%\n",
      "Obstacle\t   99/  185 =     53.51% vs 33.78%\n",
      "SurfaceProblem\t  106/  264 =     40.15% vs 27.99%\n"
     ]
    }
   ],
   "source": [
    "for chosen_type in np.unique(label_type):\n",
    "    pred_correct = np.sum((correct_prob < (1-cutoff_invalid)) & (label_type == chosen_type))\n",
    "    actually_correct = np.sum((y==0) & (correct_prob < (1-cutoff_invalid)) & (label_type == chosen_type))\n",
    "    num_label = np.sum(label_type == chosen_type)\n",
    "    num_incorrect_label = np.sum((label_type == chosen_type) & (y==0))\n",
    "    print(f'{chosen_type}\\t{actually_correct: 5d}/{pred_correct: 5d} = \\\n",
    "    {100*actually_correct/pred_correct:.2f}% vs {100*num_incorrect_label/num_label:.2f}%')"
   ]
  },
  {
   "cell_type": "code",
   "execution_count": 424,
   "metadata": {
    "scrolled": false
   },
   "outputs": [
    {
     "data": {
      "application/javascript": [
       "/* Put everything inside the global mpl namespace */\n",
       "window.mpl = {};\n",
       "\n",
       "\n",
       "mpl.get_websocket_type = function() {\n",
       "    if (typeof(WebSocket) !== 'undefined') {\n",
       "        return WebSocket;\n",
       "    } else if (typeof(MozWebSocket) !== 'undefined') {\n",
       "        return MozWebSocket;\n",
       "    } else {\n",
       "        alert('Your browser does not have WebSocket support. ' +\n",
       "              'Please try Chrome, Safari or Firefox ≥ 6. ' +\n",
       "              'Firefox 4 and 5 are also supported but you ' +\n",
       "              'have to enable WebSockets in about:config.');\n",
       "    };\n",
       "}\n",
       "\n",
       "mpl.figure = function(figure_id, websocket, ondownload, parent_element) {\n",
       "    this.id = figure_id;\n",
       "\n",
       "    this.ws = websocket;\n",
       "\n",
       "    this.supports_binary = (this.ws.binaryType != undefined);\n",
       "\n",
       "    if (!this.supports_binary) {\n",
       "        var warnings = document.getElementById(\"mpl-warnings\");\n",
       "        if (warnings) {\n",
       "            warnings.style.display = 'block';\n",
       "            warnings.textContent = (\n",
       "                \"This browser does not support binary websocket messages. \" +\n",
       "                    \"Performance may be slow.\");\n",
       "        }\n",
       "    }\n",
       "\n",
       "    this.imageObj = new Image();\n",
       "\n",
       "    this.context = undefined;\n",
       "    this.message = undefined;\n",
       "    this.canvas = undefined;\n",
       "    this.rubberband_canvas = undefined;\n",
       "    this.rubberband_context = undefined;\n",
       "    this.format_dropdown = undefined;\n",
       "\n",
       "    this.image_mode = 'full';\n",
       "\n",
       "    this.root = $('<div/>');\n",
       "    this._root_extra_style(this.root)\n",
       "    this.root.attr('style', 'display: inline-block');\n",
       "\n",
       "    $(parent_element).append(this.root);\n",
       "\n",
       "    this._init_header(this);\n",
       "    this._init_canvas(this);\n",
       "    this._init_toolbar(this);\n",
       "\n",
       "    var fig = this;\n",
       "\n",
       "    this.waiting = false;\n",
       "\n",
       "    this.ws.onopen =  function () {\n",
       "            fig.send_message(\"supports_binary\", {value: fig.supports_binary});\n",
       "            fig.send_message(\"send_image_mode\", {});\n",
       "            if (mpl.ratio != 1) {\n",
       "                fig.send_message(\"set_dpi_ratio\", {'dpi_ratio': mpl.ratio});\n",
       "            }\n",
       "            fig.send_message(\"refresh\", {});\n",
       "        }\n",
       "\n",
       "    this.imageObj.onload = function() {\n",
       "            if (fig.image_mode == 'full') {\n",
       "                // Full images could contain transparency (where diff images\n",
       "                // almost always do), so we need to clear the canvas so that\n",
       "                // there is no ghosting.\n",
       "                fig.context.clearRect(0, 0, fig.canvas.width, fig.canvas.height);\n",
       "            }\n",
       "            fig.context.drawImage(fig.imageObj, 0, 0);\n",
       "        };\n",
       "\n",
       "    this.imageObj.onunload = function() {\n",
       "        fig.ws.close();\n",
       "    }\n",
       "\n",
       "    this.ws.onmessage = this._make_on_message_function(this);\n",
       "\n",
       "    this.ondownload = ondownload;\n",
       "}\n",
       "\n",
       "mpl.figure.prototype._init_header = function() {\n",
       "    var titlebar = $(\n",
       "        '<div class=\"ui-dialog-titlebar ui-widget-header ui-corner-all ' +\n",
       "        'ui-helper-clearfix\"/>');\n",
       "    var titletext = $(\n",
       "        '<div class=\"ui-dialog-title\" style=\"width: 100%; ' +\n",
       "        'text-align: center; padding: 3px;\"/>');\n",
       "    titlebar.append(titletext)\n",
       "    this.root.append(titlebar);\n",
       "    this.header = titletext[0];\n",
       "}\n",
       "\n",
       "\n",
       "\n",
       "mpl.figure.prototype._canvas_extra_style = function(canvas_div) {\n",
       "\n",
       "}\n",
       "\n",
       "\n",
       "mpl.figure.prototype._root_extra_style = function(canvas_div) {\n",
       "\n",
       "}\n",
       "\n",
       "mpl.figure.prototype._init_canvas = function() {\n",
       "    var fig = this;\n",
       "\n",
       "    var canvas_div = $('<div/>');\n",
       "\n",
       "    canvas_div.attr('style', 'position: relative; clear: both; outline: 0');\n",
       "\n",
       "    function canvas_keyboard_event(event) {\n",
       "        return fig.key_event(event, event['data']);\n",
       "    }\n",
       "\n",
       "    canvas_div.keydown('key_press', canvas_keyboard_event);\n",
       "    canvas_div.keyup('key_release', canvas_keyboard_event);\n",
       "    this.canvas_div = canvas_div\n",
       "    this._canvas_extra_style(canvas_div)\n",
       "    this.root.append(canvas_div);\n",
       "\n",
       "    var canvas = $('<canvas/>');\n",
       "    canvas.addClass('mpl-canvas');\n",
       "    canvas.attr('style', \"left: 0; top: 0; z-index: 0; outline: 0\")\n",
       "\n",
       "    this.canvas = canvas[0];\n",
       "    this.context = canvas[0].getContext(\"2d\");\n",
       "\n",
       "    var backingStore = this.context.backingStorePixelRatio ||\n",
       "\tthis.context.webkitBackingStorePixelRatio ||\n",
       "\tthis.context.mozBackingStorePixelRatio ||\n",
       "\tthis.context.msBackingStorePixelRatio ||\n",
       "\tthis.context.oBackingStorePixelRatio ||\n",
       "\tthis.context.backingStorePixelRatio || 1;\n",
       "\n",
       "    mpl.ratio = (window.devicePixelRatio || 1) / backingStore;\n",
       "\n",
       "    var rubberband = $('<canvas/>');\n",
       "    rubberband.attr('style', \"position: absolute; left: 0; top: 0; z-index: 1;\")\n",
       "\n",
       "    var pass_mouse_events = true;\n",
       "\n",
       "    canvas_div.resizable({\n",
       "        start: function(event, ui) {\n",
       "            pass_mouse_events = false;\n",
       "        },\n",
       "        resize: function(event, ui) {\n",
       "            fig.request_resize(ui.size.width, ui.size.height);\n",
       "        },\n",
       "        stop: function(event, ui) {\n",
       "            pass_mouse_events = true;\n",
       "            fig.request_resize(ui.size.width, ui.size.height);\n",
       "        },\n",
       "    });\n",
       "\n",
       "    function mouse_event_fn(event) {\n",
       "        if (pass_mouse_events)\n",
       "            return fig.mouse_event(event, event['data']);\n",
       "    }\n",
       "\n",
       "    rubberband.mousedown('button_press', mouse_event_fn);\n",
       "    rubberband.mouseup('button_release', mouse_event_fn);\n",
       "    // Throttle sequential mouse events to 1 every 20ms.\n",
       "    rubberband.mousemove('motion_notify', mouse_event_fn);\n",
       "\n",
       "    rubberband.mouseenter('figure_enter', mouse_event_fn);\n",
       "    rubberband.mouseleave('figure_leave', mouse_event_fn);\n",
       "\n",
       "    canvas_div.on(\"wheel\", function (event) {\n",
       "        event = event.originalEvent;\n",
       "        event['data'] = 'scroll'\n",
       "        if (event.deltaY < 0) {\n",
       "            event.step = 1;\n",
       "        } else {\n",
       "            event.step = -1;\n",
       "        }\n",
       "        mouse_event_fn(event);\n",
       "    });\n",
       "\n",
       "    canvas_div.append(canvas);\n",
       "    canvas_div.append(rubberband);\n",
       "\n",
       "    this.rubberband = rubberband;\n",
       "    this.rubberband_canvas = rubberband[0];\n",
       "    this.rubberband_context = rubberband[0].getContext(\"2d\");\n",
       "    this.rubberband_context.strokeStyle = \"#000000\";\n",
       "\n",
       "    this._resize_canvas = function(width, height) {\n",
       "        // Keep the size of the canvas, canvas container, and rubber band\n",
       "        // canvas in synch.\n",
       "        canvas_div.css('width', width)\n",
       "        canvas_div.css('height', height)\n",
       "\n",
       "        canvas.attr('width', width * mpl.ratio);\n",
       "        canvas.attr('height', height * mpl.ratio);\n",
       "        canvas.attr('style', 'width: ' + width + 'px; height: ' + height + 'px;');\n",
       "\n",
       "        rubberband.attr('width', width);\n",
       "        rubberband.attr('height', height);\n",
       "    }\n",
       "\n",
       "    // Set the figure to an initial 600x600px, this will subsequently be updated\n",
       "    // upon first draw.\n",
       "    this._resize_canvas(600, 600);\n",
       "\n",
       "    // Disable right mouse context menu.\n",
       "    $(this.rubberband_canvas).bind(\"contextmenu\",function(e){\n",
       "        return false;\n",
       "    });\n",
       "\n",
       "    function set_focus () {\n",
       "        canvas.focus();\n",
       "        canvas_div.focus();\n",
       "    }\n",
       "\n",
       "    window.setTimeout(set_focus, 100);\n",
       "}\n",
       "\n",
       "mpl.figure.prototype._init_toolbar = function() {\n",
       "    var fig = this;\n",
       "\n",
       "    var nav_element = $('<div/>');\n",
       "    nav_element.attr('style', 'width: 100%');\n",
       "    this.root.append(nav_element);\n",
       "\n",
       "    // Define a callback function for later on.\n",
       "    function toolbar_event(event) {\n",
       "        return fig.toolbar_button_onclick(event['data']);\n",
       "    }\n",
       "    function toolbar_mouse_event(event) {\n",
       "        return fig.toolbar_button_onmouseover(event['data']);\n",
       "    }\n",
       "\n",
       "    for(var toolbar_ind in mpl.toolbar_items) {\n",
       "        var name = mpl.toolbar_items[toolbar_ind][0];\n",
       "        var tooltip = mpl.toolbar_items[toolbar_ind][1];\n",
       "        var image = mpl.toolbar_items[toolbar_ind][2];\n",
       "        var method_name = mpl.toolbar_items[toolbar_ind][3];\n",
       "\n",
       "        if (!name) {\n",
       "            // put a spacer in here.\n",
       "            continue;\n",
       "        }\n",
       "        var button = $('<button/>');\n",
       "        button.addClass('ui-button ui-widget ui-state-default ui-corner-all ' +\n",
       "                        'ui-button-icon-only');\n",
       "        button.attr('role', 'button');\n",
       "        button.attr('aria-disabled', 'false');\n",
       "        button.click(method_name, toolbar_event);\n",
       "        button.mouseover(tooltip, toolbar_mouse_event);\n",
       "\n",
       "        var icon_img = $('<span/>');\n",
       "        icon_img.addClass('ui-button-icon-primary ui-icon');\n",
       "        icon_img.addClass(image);\n",
       "        icon_img.addClass('ui-corner-all');\n",
       "\n",
       "        var tooltip_span = $('<span/>');\n",
       "        tooltip_span.addClass('ui-button-text');\n",
       "        tooltip_span.html(tooltip);\n",
       "\n",
       "        button.append(icon_img);\n",
       "        button.append(tooltip_span);\n",
       "\n",
       "        nav_element.append(button);\n",
       "    }\n",
       "\n",
       "    var fmt_picker_span = $('<span/>');\n",
       "\n",
       "    var fmt_picker = $('<select/>');\n",
       "    fmt_picker.addClass('mpl-toolbar-option ui-widget ui-widget-content');\n",
       "    fmt_picker_span.append(fmt_picker);\n",
       "    nav_element.append(fmt_picker_span);\n",
       "    this.format_dropdown = fmt_picker[0];\n",
       "\n",
       "    for (var ind in mpl.extensions) {\n",
       "        var fmt = mpl.extensions[ind];\n",
       "        var option = $(\n",
       "            '<option/>', {selected: fmt === mpl.default_extension}).html(fmt);\n",
       "        fmt_picker.append(option);\n",
       "    }\n",
       "\n",
       "    // Add hover states to the ui-buttons\n",
       "    $( \".ui-button\" ).hover(\n",
       "        function() { $(this).addClass(\"ui-state-hover\");},\n",
       "        function() { $(this).removeClass(\"ui-state-hover\");}\n",
       "    );\n",
       "\n",
       "    var status_bar = $('<span class=\"mpl-message\"/>');\n",
       "    nav_element.append(status_bar);\n",
       "    this.message = status_bar[0];\n",
       "}\n",
       "\n",
       "mpl.figure.prototype.request_resize = function(x_pixels, y_pixels) {\n",
       "    // Request matplotlib to resize the figure. Matplotlib will then trigger a resize in the client,\n",
       "    // which will in turn request a refresh of the image.\n",
       "    this.send_message('resize', {'width': x_pixels, 'height': y_pixels});\n",
       "}\n",
       "\n",
       "mpl.figure.prototype.send_message = function(type, properties) {\n",
       "    properties['type'] = type;\n",
       "    properties['figure_id'] = this.id;\n",
       "    this.ws.send(JSON.stringify(properties));\n",
       "}\n",
       "\n",
       "mpl.figure.prototype.send_draw_message = function() {\n",
       "    if (!this.waiting) {\n",
       "        this.waiting = true;\n",
       "        this.ws.send(JSON.stringify({type: \"draw\", figure_id: this.id}));\n",
       "    }\n",
       "}\n",
       "\n",
       "\n",
       "mpl.figure.prototype.handle_save = function(fig, msg) {\n",
       "    var format_dropdown = fig.format_dropdown;\n",
       "    var format = format_dropdown.options[format_dropdown.selectedIndex].value;\n",
       "    fig.ondownload(fig, format);\n",
       "}\n",
       "\n",
       "\n",
       "mpl.figure.prototype.handle_resize = function(fig, msg) {\n",
       "    var size = msg['size'];\n",
       "    if (size[0] != fig.canvas.width || size[1] != fig.canvas.height) {\n",
       "        fig._resize_canvas(size[0], size[1]);\n",
       "        fig.send_message(\"refresh\", {});\n",
       "    };\n",
       "}\n",
       "\n",
       "mpl.figure.prototype.handle_rubberband = function(fig, msg) {\n",
       "    var x0 = msg['x0'] / mpl.ratio;\n",
       "    var y0 = (fig.canvas.height - msg['y0']) / mpl.ratio;\n",
       "    var x1 = msg['x1'] / mpl.ratio;\n",
       "    var y1 = (fig.canvas.height - msg['y1']) / mpl.ratio;\n",
       "    x0 = Math.floor(x0) + 0.5;\n",
       "    y0 = Math.floor(y0) + 0.5;\n",
       "    x1 = Math.floor(x1) + 0.5;\n",
       "    y1 = Math.floor(y1) + 0.5;\n",
       "    var min_x = Math.min(x0, x1);\n",
       "    var min_y = Math.min(y0, y1);\n",
       "    var width = Math.abs(x1 - x0);\n",
       "    var height = Math.abs(y1 - y0);\n",
       "\n",
       "    fig.rubberband_context.clearRect(\n",
       "        0, 0, fig.canvas.width, fig.canvas.height);\n",
       "\n",
       "    fig.rubberband_context.strokeRect(min_x, min_y, width, height);\n",
       "}\n",
       "\n",
       "mpl.figure.prototype.handle_figure_label = function(fig, msg) {\n",
       "    // Updates the figure title.\n",
       "    fig.header.textContent = msg['label'];\n",
       "}\n",
       "\n",
       "mpl.figure.prototype.handle_cursor = function(fig, msg) {\n",
       "    var cursor = msg['cursor'];\n",
       "    switch(cursor)\n",
       "    {\n",
       "    case 0:\n",
       "        cursor = 'pointer';\n",
       "        break;\n",
       "    case 1:\n",
       "        cursor = 'default';\n",
       "        break;\n",
       "    case 2:\n",
       "        cursor = 'crosshair';\n",
       "        break;\n",
       "    case 3:\n",
       "        cursor = 'move';\n",
       "        break;\n",
       "    }\n",
       "    fig.rubberband_canvas.style.cursor = cursor;\n",
       "}\n",
       "\n",
       "mpl.figure.prototype.handle_message = function(fig, msg) {\n",
       "    fig.message.textContent = msg['message'];\n",
       "}\n",
       "\n",
       "mpl.figure.prototype.handle_draw = function(fig, msg) {\n",
       "    // Request the server to send over a new figure.\n",
       "    fig.send_draw_message();\n",
       "}\n",
       "\n",
       "mpl.figure.prototype.handle_image_mode = function(fig, msg) {\n",
       "    fig.image_mode = msg['mode'];\n",
       "}\n",
       "\n",
       "mpl.figure.prototype.updated_canvas_event = function() {\n",
       "    // Called whenever the canvas gets updated.\n",
       "    this.send_message(\"ack\", {});\n",
       "}\n",
       "\n",
       "// A function to construct a web socket function for onmessage handling.\n",
       "// Called in the figure constructor.\n",
       "mpl.figure.prototype._make_on_message_function = function(fig) {\n",
       "    return function socket_on_message(evt) {\n",
       "        if (evt.data instanceof Blob) {\n",
       "            /* FIXME: We get \"Resource interpreted as Image but\n",
       "             * transferred with MIME type text/plain:\" errors on\n",
       "             * Chrome.  But how to set the MIME type?  It doesn't seem\n",
       "             * to be part of the websocket stream */\n",
       "            evt.data.type = \"image/png\";\n",
       "\n",
       "            /* Free the memory for the previous frames */\n",
       "            if (fig.imageObj.src) {\n",
       "                (window.URL || window.webkitURL).revokeObjectURL(\n",
       "                    fig.imageObj.src);\n",
       "            }\n",
       "\n",
       "            fig.imageObj.src = (window.URL || window.webkitURL).createObjectURL(\n",
       "                evt.data);\n",
       "            fig.updated_canvas_event();\n",
       "            fig.waiting = false;\n",
       "            return;\n",
       "        }\n",
       "        else if (typeof evt.data === 'string' && evt.data.slice(0, 21) == \"data:image/png;base64\") {\n",
       "            fig.imageObj.src = evt.data;\n",
       "            fig.updated_canvas_event();\n",
       "            fig.waiting = false;\n",
       "            return;\n",
       "        }\n",
       "\n",
       "        var msg = JSON.parse(evt.data);\n",
       "        var msg_type = msg['type'];\n",
       "\n",
       "        // Call the  \"handle_{type}\" callback, which takes\n",
       "        // the figure and JSON message as its only arguments.\n",
       "        try {\n",
       "            var callback = fig[\"handle_\" + msg_type];\n",
       "        } catch (e) {\n",
       "            console.log(\"No handler for the '\" + msg_type + \"' message type: \", msg);\n",
       "            return;\n",
       "        }\n",
       "\n",
       "        if (callback) {\n",
       "            try {\n",
       "                // console.log(\"Handling '\" + msg_type + \"' message: \", msg);\n",
       "                callback(fig, msg);\n",
       "            } catch (e) {\n",
       "                console.log(\"Exception inside the 'handler_\" + msg_type + \"' callback:\", e, e.stack, msg);\n",
       "            }\n",
       "        }\n",
       "    };\n",
       "}\n",
       "\n",
       "// from http://stackoverflow.com/questions/1114465/getting-mouse-location-in-canvas\n",
       "mpl.findpos = function(e) {\n",
       "    //this section is from http://www.quirksmode.org/js/events_properties.html\n",
       "    var targ;\n",
       "    if (!e)\n",
       "        e = window.event;\n",
       "    if (e.target)\n",
       "        targ = e.target;\n",
       "    else if (e.srcElement)\n",
       "        targ = e.srcElement;\n",
       "    if (targ.nodeType == 3) // defeat Safari bug\n",
       "        targ = targ.parentNode;\n",
       "\n",
       "    // jQuery normalizes the pageX and pageY\n",
       "    // pageX,Y are the mouse positions relative to the document\n",
       "    // offset() returns the position of the element relative to the document\n",
       "    var x = e.pageX - $(targ).offset().left;\n",
       "    var y = e.pageY - $(targ).offset().top;\n",
       "\n",
       "    return {\"x\": x, \"y\": y};\n",
       "};\n",
       "\n",
       "/*\n",
       " * return a copy of an object with only non-object keys\n",
       " * we need this to avoid circular references\n",
       " * http://stackoverflow.com/a/24161582/3208463\n",
       " */\n",
       "function simpleKeys (original) {\n",
       "  return Object.keys(original).reduce(function (obj, key) {\n",
       "    if (typeof original[key] !== 'object')\n",
       "        obj[key] = original[key]\n",
       "    return obj;\n",
       "  }, {});\n",
       "}\n",
       "\n",
       "mpl.figure.prototype.mouse_event = function(event, name) {\n",
       "    var canvas_pos = mpl.findpos(event)\n",
       "\n",
       "    if (name === 'button_press')\n",
       "    {\n",
       "        this.canvas.focus();\n",
       "        this.canvas_div.focus();\n",
       "    }\n",
       "\n",
       "    var x = canvas_pos.x * mpl.ratio;\n",
       "    var y = canvas_pos.y * mpl.ratio;\n",
       "\n",
       "    this.send_message(name, {x: x, y: y, button: event.button,\n",
       "                             step: event.step,\n",
       "                             guiEvent: simpleKeys(event)});\n",
       "\n",
       "    /* This prevents the web browser from automatically changing to\n",
       "     * the text insertion cursor when the button is pressed.  We want\n",
       "     * to control all of the cursor setting manually through the\n",
       "     * 'cursor' event from matplotlib */\n",
       "    event.preventDefault();\n",
       "    return false;\n",
       "}\n",
       "\n",
       "mpl.figure.prototype._key_event_extra = function(event, name) {\n",
       "    // Handle any extra behaviour associated with a key event\n",
       "}\n",
       "\n",
       "mpl.figure.prototype.key_event = function(event, name) {\n",
       "\n",
       "    // Prevent repeat events\n",
       "    if (name == 'key_press')\n",
       "    {\n",
       "        if (event.which === this._key)\n",
       "            return;\n",
       "        else\n",
       "            this._key = event.which;\n",
       "    }\n",
       "    if (name == 'key_release')\n",
       "        this._key = null;\n",
       "\n",
       "    var value = '';\n",
       "    if (event.ctrlKey && event.which != 17)\n",
       "        value += \"ctrl+\";\n",
       "    if (event.altKey && event.which != 18)\n",
       "        value += \"alt+\";\n",
       "    if (event.shiftKey && event.which != 16)\n",
       "        value += \"shift+\";\n",
       "\n",
       "    value += 'k';\n",
       "    value += event.which.toString();\n",
       "\n",
       "    this._key_event_extra(event, name);\n",
       "\n",
       "    this.send_message(name, {key: value,\n",
       "                             guiEvent: simpleKeys(event)});\n",
       "    return false;\n",
       "}\n",
       "\n",
       "mpl.figure.prototype.toolbar_button_onclick = function(name) {\n",
       "    if (name == 'download') {\n",
       "        this.handle_save(this, null);\n",
       "    } else {\n",
       "        this.send_message(\"toolbar_button\", {name: name});\n",
       "    }\n",
       "};\n",
       "\n",
       "mpl.figure.prototype.toolbar_button_onmouseover = function(tooltip) {\n",
       "    this.message.textContent = tooltip;\n",
       "};\n",
       "mpl.toolbar_items = [[\"Home\", \"Reset original view\", \"fa fa-home icon-home\", \"home\"], [\"Back\", \"Back to previous view\", \"fa fa-arrow-left icon-arrow-left\", \"back\"], [\"Forward\", \"Forward to next view\", \"fa fa-arrow-right icon-arrow-right\", \"forward\"], [\"\", \"\", \"\", \"\"], [\"Pan\", \"Pan axes with left mouse, zoom with right\", \"fa fa-arrows icon-move\", \"pan\"], [\"Zoom\", \"Zoom to rectangle\", \"fa fa-square-o icon-check-empty\", \"zoom\"], [\"\", \"\", \"\", \"\"], [\"Download\", \"Download plot\", \"fa fa-floppy-o icon-save\", \"download\"]];\n",
       "\n",
       "mpl.extensions = [\"eps\", \"pdf\", \"png\", \"ps\", \"raw\", \"svg\"];\n",
       "\n",
       "mpl.default_extension = \"png\";var comm_websocket_adapter = function(comm) {\n",
       "    // Create a \"websocket\"-like object which calls the given IPython comm\n",
       "    // object with the appropriate methods. Currently this is a non binary\n",
       "    // socket, so there is still some room for performance tuning.\n",
       "    var ws = {};\n",
       "\n",
       "    ws.close = function() {\n",
       "        comm.close()\n",
       "    };\n",
       "    ws.send = function(m) {\n",
       "        //console.log('sending', m);\n",
       "        comm.send(m);\n",
       "    };\n",
       "    // Register the callback with on_msg.\n",
       "    comm.on_msg(function(msg) {\n",
       "        //console.log('receiving', msg['content']['data'], msg);\n",
       "        // Pass the mpl event to the overridden (by mpl) onmessage function.\n",
       "        ws.onmessage(msg['content']['data'])\n",
       "    });\n",
       "    return ws;\n",
       "}\n",
       "\n",
       "mpl.mpl_figure_comm = function(comm, msg) {\n",
       "    // This is the function which gets called when the mpl process\n",
       "    // starts-up an IPython Comm through the \"matplotlib\" channel.\n",
       "\n",
       "    var id = msg.content.data.id;\n",
       "    // Get hold of the div created by the display call when the Comm\n",
       "    // socket was opened in Python.\n",
       "    var element = $(\"#\" + id);\n",
       "    var ws_proxy = comm_websocket_adapter(comm)\n",
       "\n",
       "    function ondownload(figure, format) {\n",
       "        window.open(figure.imageObj.src);\n",
       "    }\n",
       "\n",
       "    var fig = new mpl.figure(id, ws_proxy,\n",
       "                           ondownload,\n",
       "                           element.get(0));\n",
       "\n",
       "    // Call onopen now - mpl needs it, as it is assuming we've passed it a real\n",
       "    // web socket which is closed, not our websocket->open comm proxy.\n",
       "    ws_proxy.onopen();\n",
       "\n",
       "    fig.parent_element = element.get(0);\n",
       "    fig.cell_info = mpl.find_output_cell(\"<div id='\" + id + \"'></div>\");\n",
       "    if (!fig.cell_info) {\n",
       "        console.error(\"Failed to find cell for figure\", id, fig);\n",
       "        return;\n",
       "    }\n",
       "\n",
       "    var output_index = fig.cell_info[2]\n",
       "    var cell = fig.cell_info[0];\n",
       "\n",
       "};\n",
       "\n",
       "mpl.figure.prototype.handle_close = function(fig, msg) {\n",
       "    var width = fig.canvas.width/mpl.ratio\n",
       "    fig.root.unbind('remove')\n",
       "\n",
       "    // Update the output cell to use the data from the current canvas.\n",
       "    fig.push_to_output();\n",
       "    var dataURL = fig.canvas.toDataURL();\n",
       "    // Re-enable the keyboard manager in IPython - without this line, in FF,\n",
       "    // the notebook keyboard shortcuts fail.\n",
       "    IPython.keyboard_manager.enable()\n",
       "    $(fig.parent_element).html('<img src=\"' + dataURL + '\" width=\"' + width + '\">');\n",
       "    fig.close_ws(fig, msg);\n",
       "}\n",
       "\n",
       "mpl.figure.prototype.close_ws = function(fig, msg){\n",
       "    fig.send_message('closing', msg);\n",
       "    // fig.ws.close()\n",
       "}\n",
       "\n",
       "mpl.figure.prototype.push_to_output = function(remove_interactive) {\n",
       "    // Turn the data on the canvas into data in the output cell.\n",
       "    var width = this.canvas.width/mpl.ratio\n",
       "    var dataURL = this.canvas.toDataURL();\n",
       "    this.cell_info[1]['text/html'] = '<img src=\"' + dataURL + '\" width=\"' + width + '\">';\n",
       "}\n",
       "\n",
       "mpl.figure.prototype.updated_canvas_event = function() {\n",
       "    // Tell IPython that the notebook contents must change.\n",
       "    IPython.notebook.set_dirty(true);\n",
       "    this.send_message(\"ack\", {});\n",
       "    var fig = this;\n",
       "    // Wait a second, then push the new image to the DOM so\n",
       "    // that it is saved nicely (might be nice to debounce this).\n",
       "    setTimeout(function () { fig.push_to_output() }, 1000);\n",
       "}\n",
       "\n",
       "mpl.figure.prototype._init_toolbar = function() {\n",
       "    var fig = this;\n",
       "\n",
       "    var nav_element = $('<div/>');\n",
       "    nav_element.attr('style', 'width: 100%');\n",
       "    this.root.append(nav_element);\n",
       "\n",
       "    // Define a callback function for later on.\n",
       "    function toolbar_event(event) {\n",
       "        return fig.toolbar_button_onclick(event['data']);\n",
       "    }\n",
       "    function toolbar_mouse_event(event) {\n",
       "        return fig.toolbar_button_onmouseover(event['data']);\n",
       "    }\n",
       "\n",
       "    for(var toolbar_ind in mpl.toolbar_items){\n",
       "        var name = mpl.toolbar_items[toolbar_ind][0];\n",
       "        var tooltip = mpl.toolbar_items[toolbar_ind][1];\n",
       "        var image = mpl.toolbar_items[toolbar_ind][2];\n",
       "        var method_name = mpl.toolbar_items[toolbar_ind][3];\n",
       "\n",
       "        if (!name) { continue; };\n",
       "\n",
       "        var button = $('<button class=\"btn btn-default\" href=\"#\" title=\"' + name + '\"><i class=\"fa ' + image + ' fa-lg\"></i></button>');\n",
       "        button.click(method_name, toolbar_event);\n",
       "        button.mouseover(tooltip, toolbar_mouse_event);\n",
       "        nav_element.append(button);\n",
       "    }\n",
       "\n",
       "    // Add the status bar.\n",
       "    var status_bar = $('<span class=\"mpl-message\" style=\"text-align:right; float: right;\"/>');\n",
       "    nav_element.append(status_bar);\n",
       "    this.message = status_bar[0];\n",
       "\n",
       "    // Add the close button to the window.\n",
       "    var buttongrp = $('<div class=\"btn-group inline pull-right\"></div>');\n",
       "    var button = $('<button class=\"btn btn-mini btn-primary\" href=\"#\" title=\"Stop Interaction\"><i class=\"fa fa-power-off icon-remove icon-large\"></i></button>');\n",
       "    button.click(function (evt) { fig.handle_close(fig, {}); } );\n",
       "    button.mouseover('Stop Interaction', toolbar_mouse_event);\n",
       "    buttongrp.append(button);\n",
       "    var titlebar = this.root.find($('.ui-dialog-titlebar'));\n",
       "    titlebar.prepend(buttongrp);\n",
       "}\n",
       "\n",
       "mpl.figure.prototype._root_extra_style = function(el){\n",
       "    var fig = this\n",
       "    el.on(\"remove\", function(){\n",
       "\tfig.close_ws(fig, {});\n",
       "    });\n",
       "}\n",
       "\n",
       "mpl.figure.prototype._canvas_extra_style = function(el){\n",
       "    // this is important to make the div 'focusable\n",
       "    el.attr('tabindex', 0)\n",
       "    // reach out to IPython and tell the keyboard manager to turn it's self\n",
       "    // off when our div gets focus\n",
       "\n",
       "    // location in version 3\n",
       "    if (IPython.notebook.keyboard_manager) {\n",
       "        IPython.notebook.keyboard_manager.register_events(el);\n",
       "    }\n",
       "    else {\n",
       "        // location in version 2\n",
       "        IPython.keyboard_manager.register_events(el);\n",
       "    }\n",
       "\n",
       "}\n",
       "\n",
       "mpl.figure.prototype._key_event_extra = function(event, name) {\n",
       "    var manager = IPython.notebook.keyboard_manager;\n",
       "    if (!manager)\n",
       "        manager = IPython.keyboard_manager;\n",
       "\n",
       "    // Check for shift+enter\n",
       "    if (event.shiftKey && event.which == 13) {\n",
       "        this.canvas_div.blur();\n",
       "        event.shiftKey = false;\n",
       "        // Send a \"J\" for go to next cell\n",
       "        event.which = 74;\n",
       "        event.keyCode = 74;\n",
       "        manager.command_mode();\n",
       "        manager.handle_keydown(event);\n",
       "    }\n",
       "}\n",
       "\n",
       "mpl.figure.prototype.handle_save = function(fig, msg) {\n",
       "    fig.ondownload(fig, null);\n",
       "}\n",
       "\n",
       "\n",
       "mpl.find_output_cell = function(html_output) {\n",
       "    // Return the cell and output element which can be found *uniquely* in the notebook.\n",
       "    // Note - this is a bit hacky, but it is done because the \"notebook_saving.Notebook\"\n",
       "    // IPython event is triggered only after the cells have been serialised, which for\n",
       "    // our purposes (turning an active figure into a static one), is too late.\n",
       "    var cells = IPython.notebook.get_cells();\n",
       "    var ncells = cells.length;\n",
       "    for (var i=0; i<ncells; i++) {\n",
       "        var cell = cells[i];\n",
       "        if (cell.cell_type === 'code'){\n",
       "            for (var j=0; j<cell.output_area.outputs.length; j++) {\n",
       "                var data = cell.output_area.outputs[j];\n",
       "                if (data.data) {\n",
       "                    // IPython >= 3 moved mimebundle to data attribute of output\n",
       "                    data = data.data;\n",
       "                }\n",
       "                if (data['text/html'] == html_output) {\n",
       "                    return [cell, data, j];\n",
       "                }\n",
       "            }\n",
       "        }\n",
       "    }\n",
       "}\n",
       "\n",
       "// Register the function which deals with the matplotlib target/channel.\n",
       "// The kernel may be null if the page has been refreshed.\n",
       "if (IPython.notebook.kernel != null) {\n",
       "    IPython.notebook.kernel.comm_manager.register_target('matplotlib', mpl.mpl_figure_comm);\n",
       "}\n"
      ],
      "text/plain": [
       "<IPython.core.display.Javascript object>"
      ]
     },
     "metadata": {},
     "output_type": "display_data"
    },
    {
     "data": {
      "text/html": [
       "<img src=\"data:image/png;base64,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\" width=\"640\">"
      ],
      "text/plain": [
       "<IPython.core.display.HTML object>"
      ]
     },
     "metadata": {},
     "output_type": "display_data"
    }
   ],
   "source": [
    "for chosen_type in np.unique(label_type):\n",
    "    fig = plt.figure()\n",
    "    plt.title(f'Probability of predicting correct, {chosen_type}')\n",
    "    plt.hist(correct_prob[y==1 & (label_type == chosen_type)], bins=100, alpha=0.5, label='correct')\n",
    "    plt.hist(correct_prob[y==0 & (label_type == chosen_type)], bins=100, alpha=0.5, label='incorrect')\n",
    "    plt.xlabel('probability of predicting correct')\n",
    "    plt.ylabel('absolute count')\n",
    "    plt.legend()"
   ]
  },
  {
   "cell_type": "code",
   "execution_count": 358,
   "metadata": {},
   "outputs": [
    {
     "data": {
      "text/plain": [
       "0.7349397590361446"
      ]
     },
     "execution_count": 358,
     "metadata": {},
     "output_type": "execute_result"
    }
   ],
   "source": [
    "np.sum(y[correct_prob > 0.5]) / len(y[correct_prob > 0.5])"
   ]
  },
  {
   "cell_type": "code",
   "execution_count": 425,
   "metadata": {},
   "outputs": [
    {
     "data": {
      "text/plain": [
       "0.5303867403314917"
      ]
     },
     "execution_count": 425,
     "metadata": {},
     "output_type": "execute_result"
    }
   ],
   "source": [
    "np.sum((~y)[correct_prob < 0.5]) / len(y[correct_prob < 0.5])"
   ]
  },
  {
   "cell_type": "code",
   "execution_count": 426,
   "metadata": {},
   "outputs": [
    {
     "data": {
      "application/javascript": [
       "/* Put everything inside the global mpl namespace */\n",
       "window.mpl = {};\n",
       "\n",
       "\n",
       "mpl.get_websocket_type = function() {\n",
       "    if (typeof(WebSocket) !== 'undefined') {\n",
       "        return WebSocket;\n",
       "    } else if (typeof(MozWebSocket) !== 'undefined') {\n",
       "        return MozWebSocket;\n",
       "    } else {\n",
       "        alert('Your browser does not have WebSocket support. ' +\n",
       "              'Please try Chrome, Safari or Firefox ≥ 6. ' +\n",
       "              'Firefox 4 and 5 are also supported but you ' +\n",
       "              'have to enable WebSockets in about:config.');\n",
       "    };\n",
       "}\n",
       "\n",
       "mpl.figure = function(figure_id, websocket, ondownload, parent_element) {\n",
       "    this.id = figure_id;\n",
       "\n",
       "    this.ws = websocket;\n",
       "\n",
       "    this.supports_binary = (this.ws.binaryType != undefined);\n",
       "\n",
       "    if (!this.supports_binary) {\n",
       "        var warnings = document.getElementById(\"mpl-warnings\");\n",
       "        if (warnings) {\n",
       "            warnings.style.display = 'block';\n",
       "            warnings.textContent = (\n",
       "                \"This browser does not support binary websocket messages. \" +\n",
       "                    \"Performance may be slow.\");\n",
       "        }\n",
       "    }\n",
       "\n",
       "    this.imageObj = new Image();\n",
       "\n",
       "    this.context = undefined;\n",
       "    this.message = undefined;\n",
       "    this.canvas = undefined;\n",
       "    this.rubberband_canvas = undefined;\n",
       "    this.rubberband_context = undefined;\n",
       "    this.format_dropdown = undefined;\n",
       "\n",
       "    this.image_mode = 'full';\n",
       "\n",
       "    this.root = $('<div/>');\n",
       "    this._root_extra_style(this.root)\n",
       "    this.root.attr('style', 'display: inline-block');\n",
       "\n",
       "    $(parent_element).append(this.root);\n",
       "\n",
       "    this._init_header(this);\n",
       "    this._init_canvas(this);\n",
       "    this._init_toolbar(this);\n",
       "\n",
       "    var fig = this;\n",
       "\n",
       "    this.waiting = false;\n",
       "\n",
       "    this.ws.onopen =  function () {\n",
       "            fig.send_message(\"supports_binary\", {value: fig.supports_binary});\n",
       "            fig.send_message(\"send_image_mode\", {});\n",
       "            if (mpl.ratio != 1) {\n",
       "                fig.send_message(\"set_dpi_ratio\", {'dpi_ratio': mpl.ratio});\n",
       "            }\n",
       "            fig.send_message(\"refresh\", {});\n",
       "        }\n",
       "\n",
       "    this.imageObj.onload = function() {\n",
       "            if (fig.image_mode == 'full') {\n",
       "                // Full images could contain transparency (where diff images\n",
       "                // almost always do), so we need to clear the canvas so that\n",
       "                // there is no ghosting.\n",
       "                fig.context.clearRect(0, 0, fig.canvas.width, fig.canvas.height);\n",
       "            }\n",
       "            fig.context.drawImage(fig.imageObj, 0, 0);\n",
       "        };\n",
       "\n",
       "    this.imageObj.onunload = function() {\n",
       "        fig.ws.close();\n",
       "    }\n",
       "\n",
       "    this.ws.onmessage = this._make_on_message_function(this);\n",
       "\n",
       "    this.ondownload = ondownload;\n",
       "}\n",
       "\n",
       "mpl.figure.prototype._init_header = function() {\n",
       "    var titlebar = $(\n",
       "        '<div class=\"ui-dialog-titlebar ui-widget-header ui-corner-all ' +\n",
       "        'ui-helper-clearfix\"/>');\n",
       "    var titletext = $(\n",
       "        '<div class=\"ui-dialog-title\" style=\"width: 100%; ' +\n",
       "        'text-align: center; padding: 3px;\"/>');\n",
       "    titlebar.append(titletext)\n",
       "    this.root.append(titlebar);\n",
       "    this.header = titletext[0];\n",
       "}\n",
       "\n",
       "\n",
       "\n",
       "mpl.figure.prototype._canvas_extra_style = function(canvas_div) {\n",
       "\n",
       "}\n",
       "\n",
       "\n",
       "mpl.figure.prototype._root_extra_style = function(canvas_div) {\n",
       "\n",
       "}\n",
       "\n",
       "mpl.figure.prototype._init_canvas = function() {\n",
       "    var fig = this;\n",
       "\n",
       "    var canvas_div = $('<div/>');\n",
       "\n",
       "    canvas_div.attr('style', 'position: relative; clear: both; outline: 0');\n",
       "\n",
       "    function canvas_keyboard_event(event) {\n",
       "        return fig.key_event(event, event['data']);\n",
       "    }\n",
       "\n",
       "    canvas_div.keydown('key_press', canvas_keyboard_event);\n",
       "    canvas_div.keyup('key_release', canvas_keyboard_event);\n",
       "    this.canvas_div = canvas_div\n",
       "    this._canvas_extra_style(canvas_div)\n",
       "    this.root.append(canvas_div);\n",
       "\n",
       "    var canvas = $('<canvas/>');\n",
       "    canvas.addClass('mpl-canvas');\n",
       "    canvas.attr('style', \"left: 0; top: 0; z-index: 0; outline: 0\")\n",
       "\n",
       "    this.canvas = canvas[0];\n",
       "    this.context = canvas[0].getContext(\"2d\");\n",
       "\n",
       "    var backingStore = this.context.backingStorePixelRatio ||\n",
       "\tthis.context.webkitBackingStorePixelRatio ||\n",
       "\tthis.context.mozBackingStorePixelRatio ||\n",
       "\tthis.context.msBackingStorePixelRatio ||\n",
       "\tthis.context.oBackingStorePixelRatio ||\n",
       "\tthis.context.backingStorePixelRatio || 1;\n",
       "\n",
       "    mpl.ratio = (window.devicePixelRatio || 1) / backingStore;\n",
       "\n",
       "    var rubberband = $('<canvas/>');\n",
       "    rubberband.attr('style', \"position: absolute; left: 0; top: 0; z-index: 1;\")\n",
       "\n",
       "    var pass_mouse_events = true;\n",
       "\n",
       "    canvas_div.resizable({\n",
       "        start: function(event, ui) {\n",
       "            pass_mouse_events = false;\n",
       "        },\n",
       "        resize: function(event, ui) {\n",
       "            fig.request_resize(ui.size.width, ui.size.height);\n",
       "        },\n",
       "        stop: function(event, ui) {\n",
       "            pass_mouse_events = true;\n",
       "            fig.request_resize(ui.size.width, ui.size.height);\n",
       "        },\n",
       "    });\n",
       "\n",
       "    function mouse_event_fn(event) {\n",
       "        if (pass_mouse_events)\n",
       "            return fig.mouse_event(event, event['data']);\n",
       "    }\n",
       "\n",
       "    rubberband.mousedown('button_press', mouse_event_fn);\n",
       "    rubberband.mouseup('button_release', mouse_event_fn);\n",
       "    // Throttle sequential mouse events to 1 every 20ms.\n",
       "    rubberband.mousemove('motion_notify', mouse_event_fn);\n",
       "\n",
       "    rubberband.mouseenter('figure_enter', mouse_event_fn);\n",
       "    rubberband.mouseleave('figure_leave', mouse_event_fn);\n",
       "\n",
       "    canvas_div.on(\"wheel\", function (event) {\n",
       "        event = event.originalEvent;\n",
       "        event['data'] = 'scroll'\n",
       "        if (event.deltaY < 0) {\n",
       "            event.step = 1;\n",
       "        } else {\n",
       "            event.step = -1;\n",
       "        }\n",
       "        mouse_event_fn(event);\n",
       "    });\n",
       "\n",
       "    canvas_div.append(canvas);\n",
       "    canvas_div.append(rubberband);\n",
       "\n",
       "    this.rubberband = rubberband;\n",
       "    this.rubberband_canvas = rubberband[0];\n",
       "    this.rubberband_context = rubberband[0].getContext(\"2d\");\n",
       "    this.rubberband_context.strokeStyle = \"#000000\";\n",
       "\n",
       "    this._resize_canvas = function(width, height) {\n",
       "        // Keep the size of the canvas, canvas container, and rubber band\n",
       "        // canvas in synch.\n",
       "        canvas_div.css('width', width)\n",
       "        canvas_div.css('height', height)\n",
       "\n",
       "        canvas.attr('width', width * mpl.ratio);\n",
       "        canvas.attr('height', height * mpl.ratio);\n",
       "        canvas.attr('style', 'width: ' + width + 'px; height: ' + height + 'px;');\n",
       "\n",
       "        rubberband.attr('width', width);\n",
       "        rubberband.attr('height', height);\n",
       "    }\n",
       "\n",
       "    // Set the figure to an initial 600x600px, this will subsequently be updated\n",
       "    // upon first draw.\n",
       "    this._resize_canvas(600, 600);\n",
       "\n",
       "    // Disable right mouse context menu.\n",
       "    $(this.rubberband_canvas).bind(\"contextmenu\",function(e){\n",
       "        return false;\n",
       "    });\n",
       "\n",
       "    function set_focus () {\n",
       "        canvas.focus();\n",
       "        canvas_div.focus();\n",
       "    }\n",
       "\n",
       "    window.setTimeout(set_focus, 100);\n",
       "}\n",
       "\n",
       "mpl.figure.prototype._init_toolbar = function() {\n",
       "    var fig = this;\n",
       "\n",
       "    var nav_element = $('<div/>');\n",
       "    nav_element.attr('style', 'width: 100%');\n",
       "    this.root.append(nav_element);\n",
       "\n",
       "    // Define a callback function for later on.\n",
       "    function toolbar_event(event) {\n",
       "        return fig.toolbar_button_onclick(event['data']);\n",
       "    }\n",
       "    function toolbar_mouse_event(event) {\n",
       "        return fig.toolbar_button_onmouseover(event['data']);\n",
       "    }\n",
       "\n",
       "    for(var toolbar_ind in mpl.toolbar_items) {\n",
       "        var name = mpl.toolbar_items[toolbar_ind][0];\n",
       "        var tooltip = mpl.toolbar_items[toolbar_ind][1];\n",
       "        var image = mpl.toolbar_items[toolbar_ind][2];\n",
       "        var method_name = mpl.toolbar_items[toolbar_ind][3];\n",
       "\n",
       "        if (!name) {\n",
       "            // put a spacer in here.\n",
       "            continue;\n",
       "        }\n",
       "        var button = $('<button/>');\n",
       "        button.addClass('ui-button ui-widget ui-state-default ui-corner-all ' +\n",
       "                        'ui-button-icon-only');\n",
       "        button.attr('role', 'button');\n",
       "        button.attr('aria-disabled', 'false');\n",
       "        button.click(method_name, toolbar_event);\n",
       "        button.mouseover(tooltip, toolbar_mouse_event);\n",
       "\n",
       "        var icon_img = $('<span/>');\n",
       "        icon_img.addClass('ui-button-icon-primary ui-icon');\n",
       "        icon_img.addClass(image);\n",
       "        icon_img.addClass('ui-corner-all');\n",
       "\n",
       "        var tooltip_span = $('<span/>');\n",
       "        tooltip_span.addClass('ui-button-text');\n",
       "        tooltip_span.html(tooltip);\n",
       "\n",
       "        button.append(icon_img);\n",
       "        button.append(tooltip_span);\n",
       "\n",
       "        nav_element.append(button);\n",
       "    }\n",
       "\n",
       "    var fmt_picker_span = $('<span/>');\n",
       "\n",
       "    var fmt_picker = $('<select/>');\n",
       "    fmt_picker.addClass('mpl-toolbar-option ui-widget ui-widget-content');\n",
       "    fmt_picker_span.append(fmt_picker);\n",
       "    nav_element.append(fmt_picker_span);\n",
       "    this.format_dropdown = fmt_picker[0];\n",
       "\n",
       "    for (var ind in mpl.extensions) {\n",
       "        var fmt = mpl.extensions[ind];\n",
       "        var option = $(\n",
       "            '<option/>', {selected: fmt === mpl.default_extension}).html(fmt);\n",
       "        fmt_picker.append(option);\n",
       "    }\n",
       "\n",
       "    // Add hover states to the ui-buttons\n",
       "    $( \".ui-button\" ).hover(\n",
       "        function() { $(this).addClass(\"ui-state-hover\");},\n",
       "        function() { $(this).removeClass(\"ui-state-hover\");}\n",
       "    );\n",
       "\n",
       "    var status_bar = $('<span class=\"mpl-message\"/>');\n",
       "    nav_element.append(status_bar);\n",
       "    this.message = status_bar[0];\n",
       "}\n",
       "\n",
       "mpl.figure.prototype.request_resize = function(x_pixels, y_pixels) {\n",
       "    // Request matplotlib to resize the figure. Matplotlib will then trigger a resize in the client,\n",
       "    // which will in turn request a refresh of the image.\n",
       "    this.send_message('resize', {'width': x_pixels, 'height': y_pixels});\n",
       "}\n",
       "\n",
       "mpl.figure.prototype.send_message = function(type, properties) {\n",
       "    properties['type'] = type;\n",
       "    properties['figure_id'] = this.id;\n",
       "    this.ws.send(JSON.stringify(properties));\n",
       "}\n",
       "\n",
       "mpl.figure.prototype.send_draw_message = function() {\n",
       "    if (!this.waiting) {\n",
       "        this.waiting = true;\n",
       "        this.ws.send(JSON.stringify({type: \"draw\", figure_id: this.id}));\n",
       "    }\n",
       "}\n",
       "\n",
       "\n",
       "mpl.figure.prototype.handle_save = function(fig, msg) {\n",
       "    var format_dropdown = fig.format_dropdown;\n",
       "    var format = format_dropdown.options[format_dropdown.selectedIndex].value;\n",
       "    fig.ondownload(fig, format);\n",
       "}\n",
       "\n",
       "\n",
       "mpl.figure.prototype.handle_resize = function(fig, msg) {\n",
       "    var size = msg['size'];\n",
       "    if (size[0] != fig.canvas.width || size[1] != fig.canvas.height) {\n",
       "        fig._resize_canvas(size[0], size[1]);\n",
       "        fig.send_message(\"refresh\", {});\n",
       "    };\n",
       "}\n",
       "\n",
       "mpl.figure.prototype.handle_rubberband = function(fig, msg) {\n",
       "    var x0 = msg['x0'] / mpl.ratio;\n",
       "    var y0 = (fig.canvas.height - msg['y0']) / mpl.ratio;\n",
       "    var x1 = msg['x1'] / mpl.ratio;\n",
       "    var y1 = (fig.canvas.height - msg['y1']) / mpl.ratio;\n",
       "    x0 = Math.floor(x0) + 0.5;\n",
       "    y0 = Math.floor(y0) + 0.5;\n",
       "    x1 = Math.floor(x1) + 0.5;\n",
       "    y1 = Math.floor(y1) + 0.5;\n",
       "    var min_x = Math.min(x0, x1);\n",
       "    var min_y = Math.min(y0, y1);\n",
       "    var width = Math.abs(x1 - x0);\n",
       "    var height = Math.abs(y1 - y0);\n",
       "\n",
       "    fig.rubberband_context.clearRect(\n",
       "        0, 0, fig.canvas.width, fig.canvas.height);\n",
       "\n",
       "    fig.rubberband_context.strokeRect(min_x, min_y, width, height);\n",
       "}\n",
       "\n",
       "mpl.figure.prototype.handle_figure_label = function(fig, msg) {\n",
       "    // Updates the figure title.\n",
       "    fig.header.textContent = msg['label'];\n",
       "}\n",
       "\n",
       "mpl.figure.prototype.handle_cursor = function(fig, msg) {\n",
       "    var cursor = msg['cursor'];\n",
       "    switch(cursor)\n",
       "    {\n",
       "    case 0:\n",
       "        cursor = 'pointer';\n",
       "        break;\n",
       "    case 1:\n",
       "        cursor = 'default';\n",
       "        break;\n",
       "    case 2:\n",
       "        cursor = 'crosshair';\n",
       "        break;\n",
       "    case 3:\n",
       "        cursor = 'move';\n",
       "        break;\n",
       "    }\n",
       "    fig.rubberband_canvas.style.cursor = cursor;\n",
       "}\n",
       "\n",
       "mpl.figure.prototype.handle_message = function(fig, msg) {\n",
       "    fig.message.textContent = msg['message'];\n",
       "}\n",
       "\n",
       "mpl.figure.prototype.handle_draw = function(fig, msg) {\n",
       "    // Request the server to send over a new figure.\n",
       "    fig.send_draw_message();\n",
       "}\n",
       "\n",
       "mpl.figure.prototype.handle_image_mode = function(fig, msg) {\n",
       "    fig.image_mode = msg['mode'];\n",
       "}\n",
       "\n",
       "mpl.figure.prototype.updated_canvas_event = function() {\n",
       "    // Called whenever the canvas gets updated.\n",
       "    this.send_message(\"ack\", {});\n",
       "}\n",
       "\n",
       "// A function to construct a web socket function for onmessage handling.\n",
       "// Called in the figure constructor.\n",
       "mpl.figure.prototype._make_on_message_function = function(fig) {\n",
       "    return function socket_on_message(evt) {\n",
       "        if (evt.data instanceof Blob) {\n",
       "            /* FIXME: We get \"Resource interpreted as Image but\n",
       "             * transferred with MIME type text/plain:\" errors on\n",
       "             * Chrome.  But how to set the MIME type?  It doesn't seem\n",
       "             * to be part of the websocket stream */\n",
       "            evt.data.type = \"image/png\";\n",
       "\n",
       "            /* Free the memory for the previous frames */\n",
       "            if (fig.imageObj.src) {\n",
       "                (window.URL || window.webkitURL).revokeObjectURL(\n",
       "                    fig.imageObj.src);\n",
       "            }\n",
       "\n",
       "            fig.imageObj.src = (window.URL || window.webkitURL).createObjectURL(\n",
       "                evt.data);\n",
       "            fig.updated_canvas_event();\n",
       "            fig.waiting = false;\n",
       "            return;\n",
       "        }\n",
       "        else if (typeof evt.data === 'string' && evt.data.slice(0, 21) == \"data:image/png;base64\") {\n",
       "            fig.imageObj.src = evt.data;\n",
       "            fig.updated_canvas_event();\n",
       "            fig.waiting = false;\n",
       "            return;\n",
       "        }\n",
       "\n",
       "        var msg = JSON.parse(evt.data);\n",
       "        var msg_type = msg['type'];\n",
       "\n",
       "        // Call the  \"handle_{type}\" callback, which takes\n",
       "        // the figure and JSON message as its only arguments.\n",
       "        try {\n",
       "            var callback = fig[\"handle_\" + msg_type];\n",
       "        } catch (e) {\n",
       "            console.log(\"No handler for the '\" + msg_type + \"' message type: \", msg);\n",
       "            return;\n",
       "        }\n",
       "\n",
       "        if (callback) {\n",
       "            try {\n",
       "                // console.log(\"Handling '\" + msg_type + \"' message: \", msg);\n",
       "                callback(fig, msg);\n",
       "            } catch (e) {\n",
       "                console.log(\"Exception inside the 'handler_\" + msg_type + \"' callback:\", e, e.stack, msg);\n",
       "            }\n",
       "        }\n",
       "    };\n",
       "}\n",
       "\n",
       "// from http://stackoverflow.com/questions/1114465/getting-mouse-location-in-canvas\n",
       "mpl.findpos = function(e) {\n",
       "    //this section is from http://www.quirksmode.org/js/events_properties.html\n",
       "    var targ;\n",
       "    if (!e)\n",
       "        e = window.event;\n",
       "    if (e.target)\n",
       "        targ = e.target;\n",
       "    else if (e.srcElement)\n",
       "        targ = e.srcElement;\n",
       "    if (targ.nodeType == 3) // defeat Safari bug\n",
       "        targ = targ.parentNode;\n",
       "\n",
       "    // jQuery normalizes the pageX and pageY\n",
       "    // pageX,Y are the mouse positions relative to the document\n",
       "    // offset() returns the position of the element relative to the document\n",
       "    var x = e.pageX - $(targ).offset().left;\n",
       "    var y = e.pageY - $(targ).offset().top;\n",
       "\n",
       "    return {\"x\": x, \"y\": y};\n",
       "};\n",
       "\n",
       "/*\n",
       " * return a copy of an object with only non-object keys\n",
       " * we need this to avoid circular references\n",
       " * http://stackoverflow.com/a/24161582/3208463\n",
       " */\n",
       "function simpleKeys (original) {\n",
       "  return Object.keys(original).reduce(function (obj, key) {\n",
       "    if (typeof original[key] !== 'object')\n",
       "        obj[key] = original[key]\n",
       "    return obj;\n",
       "  }, {});\n",
       "}\n",
       "\n",
       "mpl.figure.prototype.mouse_event = function(event, name) {\n",
       "    var canvas_pos = mpl.findpos(event)\n",
       "\n",
       "    if (name === 'button_press')\n",
       "    {\n",
       "        this.canvas.focus();\n",
       "        this.canvas_div.focus();\n",
       "    }\n",
       "\n",
       "    var x = canvas_pos.x * mpl.ratio;\n",
       "    var y = canvas_pos.y * mpl.ratio;\n",
       "\n",
       "    this.send_message(name, {x: x, y: y, button: event.button,\n",
       "                             step: event.step,\n",
       "                             guiEvent: simpleKeys(event)});\n",
       "\n",
       "    /* This prevents the web browser from automatically changing to\n",
       "     * the text insertion cursor when the button is pressed.  We want\n",
       "     * to control all of the cursor setting manually through the\n",
       "     * 'cursor' event from matplotlib */\n",
       "    event.preventDefault();\n",
       "    return false;\n",
       "}\n",
       "\n",
       "mpl.figure.prototype._key_event_extra = function(event, name) {\n",
       "    // Handle any extra behaviour associated with a key event\n",
       "}\n",
       "\n",
       "mpl.figure.prototype.key_event = function(event, name) {\n",
       "\n",
       "    // Prevent repeat events\n",
       "    if (name == 'key_press')\n",
       "    {\n",
       "        if (event.which === this._key)\n",
       "            return;\n",
       "        else\n",
       "            this._key = event.which;\n",
       "    }\n",
       "    if (name == 'key_release')\n",
       "        this._key = null;\n",
       "\n",
       "    var value = '';\n",
       "    if (event.ctrlKey && event.which != 17)\n",
       "        value += \"ctrl+\";\n",
       "    if (event.altKey && event.which != 18)\n",
       "        value += \"alt+\";\n",
       "    if (event.shiftKey && event.which != 16)\n",
       "        value += \"shift+\";\n",
       "\n",
       "    value += 'k';\n",
       "    value += event.which.toString();\n",
       "\n",
       "    this._key_event_extra(event, name);\n",
       "\n",
       "    this.send_message(name, {key: value,\n",
       "                             guiEvent: simpleKeys(event)});\n",
       "    return false;\n",
       "}\n",
       "\n",
       "mpl.figure.prototype.toolbar_button_onclick = function(name) {\n",
       "    if (name == 'download') {\n",
       "        this.handle_save(this, null);\n",
       "    } else {\n",
       "        this.send_message(\"toolbar_button\", {name: name});\n",
       "    }\n",
       "};\n",
       "\n",
       "mpl.figure.prototype.toolbar_button_onmouseover = function(tooltip) {\n",
       "    this.message.textContent = tooltip;\n",
       "};\n",
       "mpl.toolbar_items = [[\"Home\", \"Reset original view\", \"fa fa-home icon-home\", \"home\"], [\"Back\", \"Back to previous view\", \"fa fa-arrow-left icon-arrow-left\", \"back\"], [\"Forward\", \"Forward to next view\", \"fa fa-arrow-right icon-arrow-right\", \"forward\"], [\"\", \"\", \"\", \"\"], [\"Pan\", \"Pan axes with left mouse, zoom with right\", \"fa fa-arrows icon-move\", \"pan\"], [\"Zoom\", \"Zoom to rectangle\", \"fa fa-square-o icon-check-empty\", \"zoom\"], [\"\", \"\", \"\", \"\"], [\"Download\", \"Download plot\", \"fa fa-floppy-o icon-save\", \"download\"]];\n",
       "\n",
       "mpl.extensions = [\"eps\", \"pdf\", \"png\", \"ps\", \"raw\", \"svg\"];\n",
       "\n",
       "mpl.default_extension = \"png\";var comm_websocket_adapter = function(comm) {\n",
       "    // Create a \"websocket\"-like object which calls the given IPython comm\n",
       "    // object with the appropriate methods. Currently this is a non binary\n",
       "    // socket, so there is still some room for performance tuning.\n",
       "    var ws = {};\n",
       "\n",
       "    ws.close = function() {\n",
       "        comm.close()\n",
       "    };\n",
       "    ws.send = function(m) {\n",
       "        //console.log('sending', m);\n",
       "        comm.send(m);\n",
       "    };\n",
       "    // Register the callback with on_msg.\n",
       "    comm.on_msg(function(msg) {\n",
       "        //console.log('receiving', msg['content']['data'], msg);\n",
       "        // Pass the mpl event to the overridden (by mpl) onmessage function.\n",
       "        ws.onmessage(msg['content']['data'])\n",
       "    });\n",
       "    return ws;\n",
       "}\n",
       "\n",
       "mpl.mpl_figure_comm = function(comm, msg) {\n",
       "    // This is the function which gets called when the mpl process\n",
       "    // starts-up an IPython Comm through the \"matplotlib\" channel.\n",
       "\n",
       "    var id = msg.content.data.id;\n",
       "    // Get hold of the div created by the display call when the Comm\n",
       "    // socket was opened in Python.\n",
       "    var element = $(\"#\" + id);\n",
       "    var ws_proxy = comm_websocket_adapter(comm)\n",
       "\n",
       "    function ondownload(figure, format) {\n",
       "        window.open(figure.imageObj.src);\n",
       "    }\n",
       "\n",
       "    var fig = new mpl.figure(id, ws_proxy,\n",
       "                           ondownload,\n",
       "                           element.get(0));\n",
       "\n",
       "    // Call onopen now - mpl needs it, as it is assuming we've passed it a real\n",
       "    // web socket which is closed, not our websocket->open comm proxy.\n",
       "    ws_proxy.onopen();\n",
       "\n",
       "    fig.parent_element = element.get(0);\n",
       "    fig.cell_info = mpl.find_output_cell(\"<div id='\" + id + \"'></div>\");\n",
       "    if (!fig.cell_info) {\n",
       "        console.error(\"Failed to find cell for figure\", id, fig);\n",
       "        return;\n",
       "    }\n",
       "\n",
       "    var output_index = fig.cell_info[2]\n",
       "    var cell = fig.cell_info[0];\n",
       "\n",
       "};\n",
       "\n",
       "mpl.figure.prototype.handle_close = function(fig, msg) {\n",
       "    var width = fig.canvas.width/mpl.ratio\n",
       "    fig.root.unbind('remove')\n",
       "\n",
       "    // Update the output cell to use the data from the current canvas.\n",
       "    fig.push_to_output();\n",
       "    var dataURL = fig.canvas.toDataURL();\n",
       "    // Re-enable the keyboard manager in IPython - without this line, in FF,\n",
       "    // the notebook keyboard shortcuts fail.\n",
       "    IPython.keyboard_manager.enable()\n",
       "    $(fig.parent_element).html('<img src=\"' + dataURL + '\" width=\"' + width + '\">');\n",
       "    fig.close_ws(fig, msg);\n",
       "}\n",
       "\n",
       "mpl.figure.prototype.close_ws = function(fig, msg){\n",
       "    fig.send_message('closing', msg);\n",
       "    // fig.ws.close()\n",
       "}\n",
       "\n",
       "mpl.figure.prototype.push_to_output = function(remove_interactive) {\n",
       "    // Turn the data on the canvas into data in the output cell.\n",
       "    var width = this.canvas.width/mpl.ratio\n",
       "    var dataURL = this.canvas.toDataURL();\n",
       "    this.cell_info[1]['text/html'] = '<img src=\"' + dataURL + '\" width=\"' + width + '\">';\n",
       "}\n",
       "\n",
       "mpl.figure.prototype.updated_canvas_event = function() {\n",
       "    // Tell IPython that the notebook contents must change.\n",
       "    IPython.notebook.set_dirty(true);\n",
       "    this.send_message(\"ack\", {});\n",
       "    var fig = this;\n",
       "    // Wait a second, then push the new image to the DOM so\n",
       "    // that it is saved nicely (might be nice to debounce this).\n",
       "    setTimeout(function () { fig.push_to_output() }, 1000);\n",
       "}\n",
       "\n",
       "mpl.figure.prototype._init_toolbar = function() {\n",
       "    var fig = this;\n",
       "\n",
       "    var nav_element = $('<div/>');\n",
       "    nav_element.attr('style', 'width: 100%');\n",
       "    this.root.append(nav_element);\n",
       "\n",
       "    // Define a callback function for later on.\n",
       "    function toolbar_event(event) {\n",
       "        return fig.toolbar_button_onclick(event['data']);\n",
       "    }\n",
       "    function toolbar_mouse_event(event) {\n",
       "        return fig.toolbar_button_onmouseover(event['data']);\n",
       "    }\n",
       "\n",
       "    for(var toolbar_ind in mpl.toolbar_items){\n",
       "        var name = mpl.toolbar_items[toolbar_ind][0];\n",
       "        var tooltip = mpl.toolbar_items[toolbar_ind][1];\n",
       "        var image = mpl.toolbar_items[toolbar_ind][2];\n",
       "        var method_name = mpl.toolbar_items[toolbar_ind][3];\n",
       "\n",
       "        if (!name) { continue; };\n",
       "\n",
       "        var button = $('<button class=\"btn btn-default\" href=\"#\" title=\"' + name + '\"><i class=\"fa ' + image + ' fa-lg\"></i></button>');\n",
       "        button.click(method_name, toolbar_event);\n",
       "        button.mouseover(tooltip, toolbar_mouse_event);\n",
       "        nav_element.append(button);\n",
       "    }\n",
       "\n",
       "    // Add the status bar.\n",
       "    var status_bar = $('<span class=\"mpl-message\" style=\"text-align:right; float: right;\"/>');\n",
       "    nav_element.append(status_bar);\n",
       "    this.message = status_bar[0];\n",
       "\n",
       "    // Add the close button to the window.\n",
       "    var buttongrp = $('<div class=\"btn-group inline pull-right\"></div>');\n",
       "    var button = $('<button class=\"btn btn-mini btn-primary\" href=\"#\" title=\"Stop Interaction\"><i class=\"fa fa-power-off icon-remove icon-large\"></i></button>');\n",
       "    button.click(function (evt) { fig.handle_close(fig, {}); } );\n",
       "    button.mouseover('Stop Interaction', toolbar_mouse_event);\n",
       "    buttongrp.append(button);\n",
       "    var titlebar = this.root.find($('.ui-dialog-titlebar'));\n",
       "    titlebar.prepend(buttongrp);\n",
       "}\n",
       "\n",
       "mpl.figure.prototype._root_extra_style = function(el){\n",
       "    var fig = this\n",
       "    el.on(\"remove\", function(){\n",
       "\tfig.close_ws(fig, {});\n",
       "    });\n",
       "}\n",
       "\n",
       "mpl.figure.prototype._canvas_extra_style = function(el){\n",
       "    // this is important to make the div 'focusable\n",
       "    el.attr('tabindex', 0)\n",
       "    // reach out to IPython and tell the keyboard manager to turn it's self\n",
       "    // off when our div gets focus\n",
       "\n",
       "    // location in version 3\n",
       "    if (IPython.notebook.keyboard_manager) {\n",
       "        IPython.notebook.keyboard_manager.register_events(el);\n",
       "    }\n",
       "    else {\n",
       "        // location in version 2\n",
       "        IPython.keyboard_manager.register_events(el);\n",
       "    }\n",
       "\n",
       "}\n",
       "\n",
       "mpl.figure.prototype._key_event_extra = function(event, name) {\n",
       "    var manager = IPython.notebook.keyboard_manager;\n",
       "    if (!manager)\n",
       "        manager = IPython.keyboard_manager;\n",
       "\n",
       "    // Check for shift+enter\n",
       "    if (event.shiftKey && event.which == 13) {\n",
       "        this.canvas_div.blur();\n",
       "        event.shiftKey = false;\n",
       "        // Send a \"J\" for go to next cell\n",
       "        event.which = 74;\n",
       "        event.keyCode = 74;\n",
       "        manager.command_mode();\n",
       "        manager.handle_keydown(event);\n",
       "    }\n",
       "}\n",
       "\n",
       "mpl.figure.prototype.handle_save = function(fig, msg) {\n",
       "    fig.ondownload(fig, null);\n",
       "}\n",
       "\n",
       "\n",
       "mpl.find_output_cell = function(html_output) {\n",
       "    // Return the cell and output element which can be found *uniquely* in the notebook.\n",
       "    // Note - this is a bit hacky, but it is done because the \"notebook_saving.Notebook\"\n",
       "    // IPython event is triggered only after the cells have been serialised, which for\n",
       "    // our purposes (turning an active figure into a static one), is too late.\n",
       "    var cells = IPython.notebook.get_cells();\n",
       "    var ncells = cells.length;\n",
       "    for (var i=0; i<ncells; i++) {\n",
       "        var cell = cells[i];\n",
       "        if (cell.cell_type === 'code'){\n",
       "            for (var j=0; j<cell.output_area.outputs.length; j++) {\n",
       "                var data = cell.output_area.outputs[j];\n",
       "                if (data.data) {\n",
       "                    // IPython >= 3 moved mimebundle to data attribute of output\n",
       "                    data = data.data;\n",
       "                }\n",
       "                if (data['text/html'] == html_output) {\n",
       "                    return [cell, data, j];\n",
       "                }\n",
       "            }\n",
       "        }\n",
       "    }\n",
       "}\n",
       "\n",
       "// Register the function which deals with the matplotlib target/channel.\n",
       "// The kernel may be null if the page has been refreshed.\n",
       "if (IPython.notebook.kernel != null) {\n",
       "    IPython.notebook.kernel.comm_manager.register_target('matplotlib', mpl.mpl_figure_comm);\n",
       "}\n"
      ],
      "text/plain": [
       "<IPython.core.display.Javascript object>"
      ]
     },
     "metadata": {},
     "output_type": "display_data"
    },
    {
     "data": {
      "text/html": [
       "<img src=\"data:image/png;base64,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\" width=\"640\">"
      ],
      "text/plain": [
       "<IPython.core.display.HTML object>"
      ]
     },
     "metadata": {},
     "output_type": "display_data"
    },
    {
     "data": {
      "text/plain": [
       "<matplotlib.legend.Legend at 0x7f7f3bc93278>"
      ]
     },
     "execution_count": 426,
     "metadata": {},
     "output_type": "execute_result"
    }
   ],
   "source": [
    "fig = plt.figure()\n",
    "plt.title(f'Probability of predicting correct')\n",
    "plt.hist(correct_prob[y==1], bins=100, alpha=0.5, label='correct')\n",
    "plt.hist(correct_prob[y==0], bins=100, alpha=0.5, label='incorrect')\n",
    "plt.xlabel('probability of predicting correct')\n",
    "plt.ylabel('absolute count')\n",
    "plt.legend()"
   ]
  },
  {
   "cell_type": "code",
   "execution_count": 298,
   "metadata": {},
   "outputs": [],
   "source": [
    "# plt.figure()\n",
    "# plt.ylabel('importance')\n",
    "# plt.title('Feature Importances')\n",
    "# plt.bar(features, clf.feature_importances_)\n",
    "# locs, labels = plt.xticks()\n",
    "# _ = plt.setp(labels, rotation=45)"
   ]
  },
  {
   "cell_type": "markdown",
   "metadata": {},
   "source": [
    "## Classifying correctness based on lat/lng"
   ]
  },
  {
   "cell_type": "code",
   "execution_count": 54,
   "metadata": {},
   "outputs": [],
   "source": [
    "from sklearn.neighbors import KNeighborsClassifier\n",
    "from sklearn.ensemble import BaggingClassifier\n",
    "from sklearn.model_selection import train_test_split, KFold\n",
    "from sklearn import metrics"
   ]
  },
  {
   "cell_type": "code",
   "execution_count": 55,
   "metadata": {},
   "outputs": [],
   "source": [
    "vals = pd.DataFrame([labels_joined['lat'], labels_joined['lng'], labels_joined['correct']]).T\n",
    "vals = vals[(vals['lat'] > 47) & (vals['lat'] < 48)]"
   ]
  },
  {
   "cell_type": "code",
   "execution_count": 56,
   "metadata": {},
   "outputs": [
    {
     "data": {
      "text/plain": [
       "<matplotlib.collections.PathCollection at 0x7f7139c414a8>"
      ]
     },
     "execution_count": 56,
     "metadata": {},
     "output_type": "execute_result"
    },
    {
     "data": {
      "image/png": "[encoded data removed]",
      "text/plain": [
       "<Figure size 432x288 with 1 Axes>"
      ]
     },
     "metadata": {
      "needs_background": "light"
     },
     "output_type": "display_data"
    }
   ],
   "source": [
    "plt.figure()\n",
    "plt.scatter(vals.lat, vals.lng, c=vals.correct, alpha=0.1)"
   ]
  },
  {
   "cell_type": "code",
   "execution_count": 57,
   "metadata": {},
   "outputs": [],
   "source": [
    "X_train, X_test, y_train, y_test = train_test_split(vals[['lat', 'lng']], vals['correct'], test_size=0.2)"
   ]
  },
  {
   "cell_type": "code",
   "execution_count": 58,
   "metadata": {},
   "outputs": [],
   "source": [
    "n_neighbors = 100"
   ]
  },
  {
   "cell_type": "code",
   "execution_count": 59,
   "metadata": {},
   "outputs": [],
   "source": [
    "# neigh = KNeighborsClassifier(n_neighbors=n_neighbors)\n",
    "# neigh = RandomForestClassifier(n_estimators=1000)\n",
    "neigh = BaggingClassifier(n_jobs=-1, n_estimators=1000)\n",
    "# neigh = DecisionTreeClassifier()\n",
    "neigh.fit(X_train, y_train)\n",
    "prediction = neigh.predict_proba(X_test)\n",
    "# prediction = neigh.predict(X_test)"
   ]
  },
  {
   "cell_type": "code",
   "execution_count": 60,
   "metadata": {},
   "outputs": [
    {
     "data": {
      "text/plain": [
       "<matplotlib.legend.Legend at 0x7f7139a69630>"
      ]
     },
     "execution_count": 60,
     "metadata": {},
     "output_type": "execute_result"
    },
    {
     "data": {
      "image/png": "[encoded data removed]",
      "text/plain": [
       "<Figure size 432x288 with 1 Axes>"
      ]
     },
     "metadata": {
      "needs_background": "light"
     },
     "output_type": "display_data"
    }
   ],
   "source": [
    "## plt.figure()\n",
    "plt.title('Correctness/incorrectness based on proximity to other correct/incorrect labels')\n",
    "plt.xlabel('probability correct')\n",
    "plt.ylabel('raw count')\n",
    "plt.hist(prediction[:, 1][y_test==1], bins=1000, alpha=0.5, label='correct')\n",
    "plt.hist(prediction[:, 1][y_test==0], bins=1000, alpha=0.5, label='incorrect')\n",
    "plt.legend()"
   ]
  },
  {
   "cell_type": "code",
   "execution_count": 61,
   "metadata": {},
   "outputs": [
    {
     "name": "stdout",
     "output_type": "stream",
     "text": [
      "0.08803611738148984\n",
      "0.8846153846153846\n"
     ]
    }
   ],
   "source": [
    "mask = prediction[:, 1] == 1\n",
    "print(np.sum(mask) / np.sum(y_test==1))\n",
    "print(np.mean(y_test[mask]))"
   ]
  },
  {
   "cell_type": "code",
   "execution_count": 62,
   "metadata": {},
   "outputs": [],
   "source": [
    "X = vals[['lat', 'lng']].values\n",
    "y = vals['correct'].values"
   ]
  },
  {
   "cell_type": "code",
   "execution_count": 63,
   "metadata": {},
   "outputs": [],
   "source": [
    "from sklearn import neighbors\n",
    "from sklearn.metrics import precision_score"
   ]
  },
  {
   "cell_type": "code",
   "execution_count": 64,
   "metadata": {},
   "outputs": [
    {
     "name": "stdout",
     "output_type": "stream",
     "text": [
      "precision: 93.09%\n",
      "recall: 8.12%\n"
     ]
    }
   ],
   "source": [
    "# for radius in np.arange(0.000001, 0.000020, 0.000001):\n",
    "\n",
    "radius = 0.000015\n",
    "prec_sum = 0\n",
    "recall_sum = 0\n",
    "for train_index, test_index in KFold(n_splits=5, shuffle=True, random_state=0).split(X):\n",
    "    X_train, X_test = X[train_index], X[test_index]\n",
    "    y_train, y_test = y[train_index], y[test_index]\n",
    "    neigh = BaggingClassifier(n_jobs=-1, n_estimators=1000)\n",
    "#     neigh = neighbors.RadiusNeighborsClassifier(radius=radius, outlier_label=-1)\n",
    "    neigh.fit(X_train, y_train)\n",
    "    prediction = neigh.predict_proba(X_test)\n",
    "#     prediction = neigh.predict(X_test)\n",
    "#     mask = prediction[:] == 1\n",
    "    mask = prediction[:, 1] == 1\n",
    "    prec_sum += np.mean(y_test[mask])\n",
    "    recall_sum += np.sum(y_test[mask]) / np.sum(y_test==1)\n",
    "\n",
    "#     print(f'radius: {radius:.6f}')\n",
    "print(f'precision: {(100 * (prec_sum / 5)):.2f}%')\n",
    "print(f'recall: {(100 * (recall_sum / 5)):.2f}%')\n"
   ]
  },
  {
   "cell_type": "code",
   "execution_count": 80,
   "metadata": {},
   "outputs": [
    {
     "name": "stdout",
     "output_type": "stream",
     "text": [
      "precision: 93.44%\n"
     ]
    }
   ],
   "source": [
    "radius = 0.000017\n",
    "prec_sum = 0\n",
    "recall_sum = 0\n",
    "for train_index, test_index in KFold(n_splits=5, shuffle=True, random_state=0).split(X):\n",
    "    X_train, X_test = X[train_index], X[test_index]\n",
    "    y_train, y_test = y[train_index], y[test_index]\n",
    "#     neigh = BaggingClassifier(n_jobs=-1, n_estimators=1000)\n",
    "    neigh = neighbors.RadiusNeighborsClassifier(radius=radius, outlier_label=-1)\n",
    "    neigh.fit(X_train, y_train)\n",
    "#     prediction = neigh.predict_proba(X_test)\n",
    "    prediction = neigh.predict(X_test)\n",
    "    mask = prediction != -1\n",
    "#     mask = prediction[:, 1] == 1\n",
    "    prec_sum += precision_score(y_test[mask], prediction[mask])\n",
    "#     recall_sum += np.sum(y_test[mask]) / np.sum(y_test==1)\n",
    "\n",
    "#     print(f'radius: {radius:.6f}')\n",
    "print(f'precision: {(100 * (prec_sum / 5)):.2f}%')\n",
    "# print(f'recall: {(100 * (recall_sum / 5)):.2f}%')\n"
   ]
  },
  {
   "cell_type": "code",
   "execution_count": 81,
   "metadata": {},
   "outputs": [
    {
     "data": {
      "image/png": "[encoded data removed]",
      "text/plain": [
       "<Figure size 1440x1440 with 1 Axes>"
      ]
     },
     "metadata": {
      "needs_background": "light"
     },
     "output_type": "display_data"
    }
   ],
   "source": [
    "from matplotlib import colors\n",
    "plt.figure(figsize=(20, 20))\n",
    "plt.title('Radius Classifier Predictions')\n",
    "plt.xlabel('longitude')\n",
    "plt.ylabel('latitude')\n",
    "cmap = colors.ListedColormap(['blue', 'red'])\n",
    "plt.scatter(X_train[:, 1], X_train[:, 0], c=y_train, alpha=0.05, cmap=cmap, label='training')\n",
    "plt.scatter(X_test[mask][:, 1], X_test[mask][:, 0], c=prediction[mask], marker='x', cmap=cmap, label='predictions')\n",
    "plt.legend()\n",
    "plt.savefig('radius_classifier_predictions.png')"
   ]
  },
  {
   "cell_type": "markdown",
   "metadata": {},
   "source": [
    "# Classifying based on proximity to NoSidewalk Labels"
   ]
  },
  {
   "cell_type": "code",
   "execution_count": 65,
   "metadata": {},
   "outputs": [],
   "source": [
    "from sklearn.neighbors import NearestNeighbors\n",
    "import math"
   ]
  },
  {
   "cell_type": "code",
   "execution_count": 66,
   "metadata": {},
   "outputs": [],
   "source": [
    "latitude_multiply = math.cos(47.602 /360*2 * math.pi)"
   ]
  },
  {
   "cell_type": "code",
   "execution_count": 67,
   "metadata": {},
   "outputs": [],
   "source": [
    "neigh = NearestNeighbors(n_neighbors=5)"
   ]
  },
  {
   "cell_type": "code",
   "execution_count": 68,
   "metadata": {},
   "outputs": [],
   "source": [
    "nsl = no_sidewalk_labels.copy()\n",
    "nsl.update(no_sidewalk_labels.lat * latitude_multiply)"
   ]
  },
  {
   "cell_type": "code",
   "execution_count": 69,
   "metadata": {},
   "outputs": [],
   "source": [
    "vals = pd.DataFrame([labels_joined['lat'], labels_joined['lng'], labels_joined['labelType'], labels_joined['correct']]).T\n",
    "vals = vals[(vals['lat'] > 47) & (vals['lat'] < 48)]"
   ]
  },
  {
   "cell_type": "code",
   "execution_count": 70,
   "metadata": {},
   "outputs": [],
   "source": [
    "val_scaled = vals.copy()\n",
    "val_scaled.update(val_scaled.lat * latitude_multiply)"
   ]
  },
  {
   "cell_type": "code",
   "execution_count": 71,
   "metadata": {},
   "outputs": [
    {
     "data": {
      "text/plain": [
       "NearestNeighbors(algorithm='auto', leaf_size=30, metric='minkowski',\n",
       "                 metric_params=None, n_jobs=None, n_neighbors=5, p=2,\n",
       "                 radius=1.0)"
      ]
     },
     "execution_count": 71,
     "metadata": {},
     "output_type": "execute_result"
    }
   ],
   "source": [
    "neigh.fit(nsl)"
   ]
  },
  {
   "cell_type": "code",
   "execution_count": 72,
   "metadata": {},
   "outputs": [],
   "source": [
    "# closestno_sidewalk_labels.iloc[neigh.kneighbors(vals[['lat', 'lng']])[1][0]]"
   ]
  },
  {
   "cell_type": "code",
   "execution_count": 73,
   "metadata": {},
   "outputs": [],
   "source": [
    "dist = neigh.kneighbors(val_scaled[['lat', 'lng']])[0]\n",
    "mean = np.mean(dist, axis=1)"
   ]
  },
  {
   "cell_type": "code",
   "execution_count": 74,
   "metadata": {},
   "outputs": [],
   "source": [
    "vals['mean'] = mean"
   ]
  },
  {
   "cell_type": "code",
   "execution_count": 75,
   "metadata": {},
   "outputs": [],
   "source": [
    "labels_joined = labels_joined.join(vals['mean'].rename('nosidewalk_proximity'))"
   ]
  },
  {
   "cell_type": "code",
   "execution_count": 78,
   "metadata": {
    "scrolled": false
   },
   "outputs": [
    {
     "data": {
      "image/png": "[encoded data removed]",
      "text/plain": [
       "<Figure size 432x288 with 1 Axes>"
      ]
     },
     "metadata": {
      "needs_background": "light"
     },
     "output_type": "display_data"
    },
    {
     "data": {
      "image/png": "[encoded data removed]",
      "text/plain": [
       "<Figure size 432x288 with 1 Axes>"
      ]
     },
     "metadata": {
      "needs_background": "light"
     },
     "output_type": "display_data"
    },
    {
     "data": {
      "image/png": "[encoded data removed]",
      "text/plain": [
       "<Figure size 432x288 with 1 Axes>"
      ]
     },
     "metadata": {
      "needs_background": "light"
     },
     "output_type": "display_data"
    },
    {
     "data": {
      "image/png": "[encoded data removed]",
      "text/plain": [
       "<Figure size 432x288 with 1 Axes>"
      ]
     },
     "metadata": {
      "needs_background": "light"
     },
     "output_type": "display_data"
    }
   ],
   "source": [
    "for labelType in ['CurbRamp', 'NoCurbRamp', 'SurfaceProblem', 'Obstacle']:\n",
    "    plt.figure()\n",
    "    plt.title(labelType)\n",
    "    plt.xlabel('Mean distance to NoSidewalk label (degrees of latitude)')\n",
    "    plt.ylabel('count')\n",
    "    plt.hist(mean[(val_scaled.correct == 1) & (val_scaled.labelType == labelType)], bins=50, alpha=0.5, density=False, label='correct')\n",
    "    plt.hist(mean[(val_scaled.correct == 0) & (val_scaled.labelType == labelType)], bins=50, alpha=0.5, density=False, label='incorrect')\n",
    "    plt.legend()"
   ]
  },
  {
   "cell_type": "markdown",
   "metadata": {},
   "source": [
    "# Classification of common false positives"
   ]
  },
  {
   "cell_type": "code",
   "execution_count": 77,
   "metadata": {},
   "outputs": [],
   "source": [
    "# These are in DC:\n",
    "# fp_driveway = [80971, 79002, 78968, 78969, 78987, 78988, 79003, 80976, 80974, 80972, 78971, 78970, 78986, 33490, 35943, 15623, 11132, 7084, 17734, 5585, 13224, 15303, 116011, 112618, 113008, 85059, 113303, 94633, ]"
   ]
  },
  {
   "cell_type": "markdown",
   "metadata": {},
   "source": [
    "# Proximity to NoSidewalk labels"
   ]
  },
  {
   "cell_type": "code",
   "execution_count": null,
   "metadata": {},
   "outputs": [],
   "source": [
    "labels.apply()"
   ]
  },
  {
   "cell_type": "code",
   "execution_count": null,
   "metadata": {},
   "outputs": [],
   "source": []
  }
 ],
 "metadata": {
  "kernelspec": {
   "display_name": "Python 3",
   "language": "python",
   "name": "python3"
  },
  "language_info": {
   "codemirror_mode": {
    "name": "ipython",
    "version": 3
   },
   "file_extension": ".py",
   "mimetype": "text/x-python",
   "name": "python",
   "nbconvert_exporter": "python",
   "pygments_lexer": "ipython3",
   "version": "3.7.3"
  }
 },
 "nbformat": 4,
 "nbformat_minor": 2
}
