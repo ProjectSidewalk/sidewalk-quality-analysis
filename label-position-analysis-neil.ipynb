{
 "cells": [
  {
   "cell_type": "code",
   "execution_count": 430,
   "metadata": {},
   "outputs": [],
   "source": [
    "import pandas as pd\n",
    "import numpy as np\n",
    "from scipy import stats\n",
    "import sys\n",
    "import matplotlib.pyplot as plt\n",
    "from dateutil.parser import parse\n",
    "import parse as str_parse\n",
    "from intersection_proximity import intersection_proximity\n",
    "from importlib import reload\n",
    "from scipy.spatial import distance\n",
    "from mpl_toolkits.mplot3d import Axes3D\n",
    "from sklearn.neighbors import KNeighborsRegressor\n",
    "from sklearn import preprocessing\n",
    "from sklearn.linear_model import SGDRegressor\n",
    "import seaborn as sns\n",
    "\n",
    "users = pd.read_csv('ml-users.csv') \n",
    "%matplotlib notebook"
   ]
  },
  {
   "cell_type": "code",
   "execution_count": 2,
   "metadata": {},
   "outputs": [
    {
     "data": {
      "text/plain": [
       "<module 'intersection_proximity.intersection_proximity' from '/Users/neil/Documents/Programming/sidewalk-quality-analysis/intersection_proximity/intersection_proximity.py'>"
      ]
     },
     "execution_count": 2,
     "metadata": {},
     "output_type": "execute_result"
    }
   ],
   "source": [
    "reload(intersection_proximity)"
   ]
  },
  {
   "cell_type": "code",
   "execution_count": 3,
   "metadata": {},
   "outputs": [],
   "source": [
    "crop_rows = -1"
   ]
  },
  {
   "cell_type": "code",
   "execution_count": 4,
   "metadata": {},
   "outputs": [],
   "source": [
    "df_interactions = pd.read_csv('ml-interactions.tar.gz', compression='gzip')\n",
    "\n",
    "if crop_rows > 0:\n",
    "    df_interactions = df_interactions.head(crop_rows)\n",
    "\n",
    "isna_result = pd.isna(df_interactions['action'])\n",
    "df_interactions= df_interactions[~isna_result]\n",
    "isna_result = pd.isna(df_interactions['action'])\n",
    "assert sum(df_interactions['action'].isna()) == 0\n",
    "\n",
    "df_interactions.rename(columns = {'ml-interactions.csv':'timestamp'}, inplace = True)"
   ]
  },
  {
   "cell_type": "code",
   "execution_count": 5,
   "metadata": {},
   "outputs": [],
   "source": [
    "point_labels = pd.read_csv('sidewalk-seattle-label_point.csv')\n",
    "point_labels.set_index('label_id', inplace=True)"
   ]
  },
  {
   "cell_type": "code",
   "execution_count": 6,
   "metadata": {},
   "outputs": [],
   "source": [
    "label_correctness = pd.read_csv('ml-label-correctness.csv')"
   ]
  },
  {
   "cell_type": "code",
   "execution_count": 7,
   "metadata": {},
   "outputs": [],
   "source": [
    "labeling_cols = ['user_id', 'audit_task_id', 'temporary_label_id']"
   ]
  },
  {
   "cell_type": "code",
   "execution_count": 8,
   "metadata": {},
   "outputs": [],
   "source": [
    "label_correctness.set_index(labeling_cols, inplace=True)"
   ]
  },
  {
   "cell_type": "code",
   "execution_count": 9,
   "metadata": {},
   "outputs": [],
   "source": [
    "# TODO: figure out why there are duplicates\n",
    "label_correctness = label_correctness[~label_correctness.index.duplicated()]"
   ]
  },
  {
   "cell_type": "code",
   "execution_count": 10,
   "metadata": {},
   "outputs": [],
   "source": [
    "label_correctness = label_correctness[~label_correctness['correct'].isna()]"
   ]
  },
  {
   "cell_type": "code",
   "execution_count": 11,
   "metadata": {
    "scrolled": false
   },
   "outputs": [],
   "source": [
    "df_interactions.set_index(labeling_cols, inplace=True)"
   ]
  },
  {
   "cell_type": "code",
   "execution_count": 12,
   "metadata": {},
   "outputs": [],
   "source": [
    "df_interactions.reset_index(inplace=True)"
   ]
  },
  {
   "cell_type": "code",
   "execution_count": 13,
   "metadata": {},
   "outputs": [],
   "source": [
    "# # fill nan temporary label id's\n",
    "# df_interactions['temporary_label_id'] = df_interactions['temporary_label_id'].fillna(method='bfill')\n",
    "\n",
    "# # get rid of nan label id's\n",
    "# df_interactions = df_interactions[~pd.isna(df_interactions['temporary_label_id'])]"
   ]
  },
  {
   "cell_type": "code",
   "execution_count": 14,
   "metadata": {},
   "outputs": [],
   "source": [
    "labels = df_interactions[df_interactions['action'] == 'LabelingCanvas_FinishLabeling']"
   ]
  },
  {
   "cell_type": "code",
   "execution_count": 15,
   "metadata": {},
   "outputs": [],
   "source": [
    "labels.reset_index( inplace=True)"
   ]
  },
  {
   "cell_type": "code",
   "execution_count": 16,
   "metadata": {},
   "outputs": [
    {
     "name": "stderr",
     "output_type": "stream",
     "text": [
      "/Users/neil/anaconda3/lib/python3.7/site-packages/ipykernel_launcher.py:1: SettingWithCopyWarning: \n",
      "A value is trying to be set on a copy of a slice from a DataFrame.\n",
      "Try using .loc[row_indexer,col_indexer] = value instead\n",
      "\n",
      "See the caveats in the documentation: http://pandas.pydata.org/pandas-docs/stable/indexing.html#indexing-view-versus-copy\n",
      "  \"\"\"Entry point for launching an IPython kernel.\n"
     ]
    }
   ],
   "source": [
    "labels['audit_task_id'] = labels['audit_task_id'].astype(int)"
   ]
  },
  {
   "cell_type": "code",
   "execution_count": 17,
   "metadata": {},
   "outputs": [
    {
     "name": "stderr",
     "output_type": "stream",
     "text": [
      "/Users/neil/anaconda3/lib/python3.7/site-packages/ipykernel_launcher.py:1: SettingWithCopyWarning: \n",
      "A value is trying to be set on a copy of a slice from a DataFrame.\n",
      "Try using .loc[row_indexer,col_indexer] = value instead\n",
      "\n",
      "See the caveats in the documentation: http://pandas.pydata.org/pandas-docs/stable/indexing.html#indexing-view-versus-copy\n",
      "  \"\"\"Entry point for launching an IPython kernel.\n"
     ]
    }
   ],
   "source": [
    "labels['temporary_label_id'] = labels['temporary_label_id'].astype(int)"
   ]
  },
  {
   "cell_type": "code",
   "execution_count": 18,
   "metadata": {},
   "outputs": [],
   "source": [
    "labels.set_index(labeling_cols, inplace=True)"
   ]
  },
  {
   "cell_type": "code",
   "execution_count": 19,
   "metadata": {},
   "outputs": [],
   "source": [
    "labels_joined = label_correctness.join(labels, how='inner')"
   ]
  },
  {
   "cell_type": "code",
   "execution_count": 20,
   "metadata": {},
   "outputs": [],
   "source": [
    "labels_joined.drop(['action', 'audit_task_interaction_id', 'timestamp', 'mission_id', 'lat', 'lng'], axis=1, inplace=True)"
   ]
  },
  {
   "cell_type": "code",
   "execution_count": 21,
   "metadata": {},
   "outputs": [],
   "source": [
    "def parse_note(x):\n",
    "    result = str_parse.parse('labelType:{},canvasX:{},canvasY:{}', x)\n",
    "    return pd.Series({\n",
    "        'labelType': result[0],\n",
    "        'canvasX': result[1],\n",
    "        'canvasY': result[2]\n",
    "    })\n",
    "    \n",
    "labels_joined = labels_joined.join(labels_joined['note'].apply(parse_note))"
   ]
  },
  {
   "cell_type": "code",
   "execution_count": 22,
   "metadata": {},
   "outputs": [],
   "source": [
    "labels_joined.drop('note', inplace=True, axis=1)"
   ]
  },
  {
   "cell_type": "code",
   "execution_count": 23,
   "metadata": {},
   "outputs": [],
   "source": [
    "labels_joined['correct'] = labels_joined['correct'] == 't'"
   ]
  },
  {
   "cell_type": "code",
   "execution_count": 24,
   "metadata": {
    "scrolled": true
   },
   "outputs": [],
   "source": [
    "labels_joined.reset_index(inplace=True)"
   ]
  },
  {
   "cell_type": "code",
   "execution_count": 25,
   "metadata": {},
   "outputs": [],
   "source": [
    "labels_joined.set_index('label_id', inplace=True)"
   ]
  },
  {
   "cell_type": "code",
   "execution_count": 26,
   "metadata": {},
   "outputs": [],
   "source": [
    "labels_joined = labels_joined.join(point_labels[['sv_image_x', 'sv_image_y', 'lat', 'lng']], how='inner')"
   ]
  },
  {
   "cell_type": "code",
   "execution_count": 440,
   "metadata": {},
   "outputs": [],
   "source": [
    "# curb_ramp = labels_joined[labels_joined['labelType'] == 'CurbRamp']"
   ]
  },
  {
   "cell_type": "code",
   "execution_count": 441,
   "metadata": {},
   "outputs": [],
   "source": [
    "# X = curb_ramp[['canvasX', 'canvasY', 'pitch']].values"
   ]
  },
  {
   "cell_type": "code",
   "execution_count": 442,
   "metadata": {},
   "outputs": [],
   "source": [
    "# y = curb_ramp['correct'].values"
   ]
  },
  {
   "cell_type": "code",
   "execution_count": 443,
   "metadata": {},
   "outputs": [],
   "source": [
    "# X = X.astype(int)"
   ]
  },
  {
   "cell_type": "code",
   "execution_count": 448,
   "metadata": {},
   "outputs": [],
   "source": [
    "# plt.figure()\n",
    "# plt.scatter(X[:, 1], X[:, 2], c=y)"
   ]
  },
  {
   "cell_type": "code",
   "execution_count": 445,
   "metadata": {},
   "outputs": [],
   "source": [
    "# clf = SGDRegressor()"
   ]
  },
  {
   "cell_type": "code",
   "execution_count": 446,
   "metadata": {},
   "outputs": [],
   "source": [
    "# clf.fit(X, y)"
   ]
  },
  {
   "cell_type": "code",
   "execution_count": 447,
   "metadata": {},
   "outputs": [],
   "source": [
    "# y_pred = clf.predict(X)"
   ]
  },
  {
   "cell_type": "code",
   "execution_count": 449,
   "metadata": {},
   "outputs": [],
   "source": [
    "# plt.figure()\n",
    "# plt.scatter(X[:, 1], X[:, 2], c=y_pred)"
   ]
  },
  {
   "cell_type": "code",
   "execution_count": 450,
   "metadata": {
    "scrolled": false
   },
   "outputs": [],
   "source": [
    "# fig, ax = plt.subplots()\n",
    "# ax = plt.axes(projection='3d')\n",
    "\n",
    "# xline = X[:, 0]\n",
    "# yline = X[:, 1]\n",
    "# zline = X[:, 2]\n",
    "\n",
    "# ax.set_xlabel('Dimension 0')\n",
    "# ax.set_ylabel('Dimension 1')\n",
    "# ax.set_zlabel('Dimension 2')\n",
    "# ax.scatter3D(xline, yline, zline, c=y_pred)"
   ]
  },
  {
   "cell_type": "code",
   "execution_count": 27,
   "metadata": {},
   "outputs": [],
   "source": [
    "def dist_prox(row):\n",
    "    try:\n",
    "        ip = intersection_proximity.compute_proximity(row.lat, row.lng)\n",
    "        return pd.Series({\n",
    "            'distance': ip[0],\n",
    "            'percent': ip[1]\n",
    "        })\n",
    "    except Exception:\n",
    "        return pd.Series({\n",
    "            'distance': -1,\n",
    "            'percent': -1\n",
    "        })"
   ]
  },
  {
   "cell_type": "code",
   "execution_count": 28,
   "metadata": {},
   "outputs": [],
   "source": [
    "labels_joined = labels_joined.join(labels_joined.apply(dist_prox, axis=1))"
   ]
  },
  {
   "cell_type": "code",
   "execution_count": 29,
   "metadata": {},
   "outputs": [],
   "source": [
    "def dist_to_street(row):\n",
    "    try:\n",
    "        return pd.Series({\n",
    "            'dist_to_street': intersection_proximity.compute_dist_to_street(row.lat, row.lng)\n",
    "        })\n",
    "    except Exception:\n",
    "        return pd.Series({\n",
    "            'dist_to_street': -1\n",
    "        })"
   ]
  },
  {
   "cell_type": "code",
   "execution_count": 30,
   "metadata": {},
   "outputs": [],
   "source": [
    "labels_joined = labels_joined.join(labels_joined.apply(dist_to_street, axis=1))"
   ]
  },
  {
   "cell_type": "code",
   "execution_count": 31,
   "metadata": {},
   "outputs": [],
   "source": [
    "le = preprocessing.LabelEncoder()\n",
    "# transform label_type into an int\n",
    "labels_joined['label_type'] = le.fit_transform(labels_joined['labelType'])"
   ]
  },
  {
   "cell_type": "code",
   "execution_count": 32,
   "metadata": {},
   "outputs": [],
   "source": [
    "# # OR one-hot encoding\n",
    "# oh = preprocessing.OneHotEncoder(handle_unknown='ignore')\n",
    "# one_hot_label = oh.fit_transform(labels_joined['labelType'].values.reshape(-1, 1)).todense()"
   ]
  },
  {
   "cell_type": "code",
   "execution_count": 33,
   "metadata": {},
   "outputs": [
    {
     "data": {
      "text/html": [
       "<div>\n",
       "<style scoped>\n",
       "    .dataframe tbody tr th:only-of-type {\n",
       "        vertical-align: middle;\n",
       "    }\n",
       "\n",
       "    .dataframe tbody tr th {\n",
       "        vertical-align: top;\n",
       "    }\n",
       "\n",
       "    .dataframe thead th {\n",
       "        text-align: right;\n",
       "    }\n",
       "</style>\n",
       "<table border=\"1\" class=\"dataframe\">\n",
       "  <thead>\n",
       "    <tr style=\"text-align: right;\">\n",
       "      <th></th>\n",
       "      <th>user_id</th>\n",
       "      <th>audit_task_id</th>\n",
       "      <th>temporary_label_id</th>\n",
       "      <th>correct</th>\n",
       "      <th>index</th>\n",
       "      <th>gsv_panorama_id</th>\n",
       "      <th>heading</th>\n",
       "      <th>pitch</th>\n",
       "      <th>zoom</th>\n",
       "      <th>labelType</th>\n",
       "      <th>canvasX</th>\n",
       "      <th>canvasY</th>\n",
       "      <th>sv_image_x</th>\n",
       "      <th>sv_image_y</th>\n",
       "      <th>lat</th>\n",
       "      <th>lng</th>\n",
       "      <th>distance</th>\n",
       "      <th>percent</th>\n",
       "      <th>dist_to_street</th>\n",
       "      <th>label_type</th>\n",
       "    </tr>\n",
       "    <tr>\n",
       "      <th>label_id</th>\n",
       "      <th></th>\n",
       "      <th></th>\n",
       "      <th></th>\n",
       "      <th></th>\n",
       "      <th></th>\n",
       "      <th></th>\n",
       "      <th></th>\n",
       "      <th></th>\n",
       "      <th></th>\n",
       "      <th></th>\n",
       "      <th></th>\n",
       "      <th></th>\n",
       "      <th></th>\n",
       "      <th></th>\n",
       "      <th></th>\n",
       "      <th></th>\n",
       "      <th></th>\n",
       "      <th></th>\n",
       "      <th></th>\n",
       "      <th></th>\n",
       "    </tr>\n",
       "  </thead>\n",
       "  <tbody>\n",
       "    <tr>\n",
       "      <th>10407</th>\n",
       "      <td>0e1ae564-6d72-4670-98e4-71369cc5ab26</td>\n",
       "      <td>3366</td>\n",
       "      <td>5</td>\n",
       "      <td>True</td>\n",
       "      <td>18364631</td>\n",
       "      <td>L7SZej2SoaWbaqWE5bdB3Q</td>\n",
       "      <td>163.000000</td>\n",
       "      <td>-35.0000</td>\n",
       "      <td>1.0</td>\n",
       "      <td>NoCurbRamp</td>\n",
       "      <td>642</td>\n",
       "      <td>226</td>\n",
       "      <td>7629</td>\n",
       "      <td>-934</td>\n",
       "      <td>47.673359</td>\n",
       "      <td>-122.401878</td>\n",
       "      <td>10.140893</td>\n",
       "      <td>12.776624</td>\n",
       "      <td>4.897178</td>\n",
       "      <td>1</td>\n",
       "    </tr>\n",
       "    <tr>\n",
       "      <th>10409</th>\n",
       "      <td>0e1ae564-6d72-4670-98e4-71369cc5ab26</td>\n",
       "      <td>3367</td>\n",
       "      <td>7</td>\n",
       "      <td>False</td>\n",
       "      <td>18368154</td>\n",
       "      <td>KR-t1fL7CYXLuiwOpovEow</td>\n",
       "      <td>246.437500</td>\n",
       "      <td>-29.5625</td>\n",
       "      <td>1.0</td>\n",
       "      <td>NoCurbRamp</td>\n",
       "      <td>490</td>\n",
       "      <td>294</td>\n",
       "      <td>10007</td>\n",
       "      <td>-1294</td>\n",
       "      <td>47.672207</td>\n",
       "      <td>-122.401894</td>\n",
       "      <td>7.524051</td>\n",
       "      <td>22.726504</td>\n",
       "      <td>4.664472</td>\n",
       "      <td>1</td>\n",
       "    </tr>\n",
       "    <tr>\n",
       "      <th>10412</th>\n",
       "      <td>0e1ae564-6d72-4670-98e4-71369cc5ab26</td>\n",
       "      <td>3368</td>\n",
       "      <td>3</td>\n",
       "      <td>True</td>\n",
       "      <td>18372571</td>\n",
       "      <td>FDr1tDKldYX_PRQYQG713A</td>\n",
       "      <td>282.375000</td>\n",
       "      <td>-28.2500</td>\n",
       "      <td>1.0</td>\n",
       "      <td>SurfaceProblem</td>\n",
       "      <td>484</td>\n",
       "      <td>167</td>\n",
       "      <td>11160</td>\n",
       "      <td>-580</td>\n",
       "      <td>47.678715</td>\n",
       "      <td>-122.398766</td>\n",
       "      <td>31.683946</td>\n",
       "      <td>47.728451</td>\n",
       "      <td>1.872057</td>\n",
       "      <td>3</td>\n",
       "    </tr>\n",
       "    <tr>\n",
       "      <th>10413</th>\n",
       "      <td>0e1ae564-6d72-4670-98e4-71369cc5ab26</td>\n",
       "      <td>3368</td>\n",
       "      <td>4</td>\n",
       "      <td>False</td>\n",
       "      <td>18372984</td>\n",
       "      <td>EfYgFxuE0WkXVYEo0DJRsg</td>\n",
       "      <td>282.187500</td>\n",
       "      <td>-29.9375</td>\n",
       "      <td>1.0</td>\n",
       "      <td>SurfaceProblem</td>\n",
       "      <td>490</td>\n",
       "      <td>147</td>\n",
       "      <td>11177</td>\n",
       "      <td>-508</td>\n",
       "      <td>47.678722</td>\n",
       "      <td>-122.398911</td>\n",
       "      <td>43.905207</td>\n",
       "      <td>66.138486</td>\n",
       "      <td>2.937464</td>\n",
       "      <td>3</td>\n",
       "    </tr>\n",
       "    <tr>\n",
       "      <th>10429</th>\n",
       "      <td>0e1ae564-6d72-4670-98e4-71369cc5ab26</td>\n",
       "      <td>3378</td>\n",
       "      <td>20</td>\n",
       "      <td>True</td>\n",
       "      <td>18386753</td>\n",
       "      <td>-8GxPT6Z3OKYFimrUcYi1A</td>\n",
       "      <td>39.032169</td>\n",
       "      <td>-35.0000</td>\n",
       "      <td>1.0</td>\n",
       "      <td>CurbRamp</td>\n",
       "      <td>426</td>\n",
       "      <td>206</td>\n",
       "      <td>1897</td>\n",
       "      <td>-1076</td>\n",
       "      <td>47.687786</td>\n",
       "      <td>-122.402542</td>\n",
       "      <td>1.137692</td>\n",
       "      <td>15.489896</td>\n",
       "      <td>8.363878</td>\n",
       "      <td>0</td>\n",
       "    </tr>\n",
       "  </tbody>\n",
       "</table>\n",
       "</div>"
      ],
      "text/plain": [
       "                                       user_id  audit_task_id  \\\n",
       "label_id                                                        \n",
       "10407     0e1ae564-6d72-4670-98e4-71369cc5ab26           3366   \n",
       "10409     0e1ae564-6d72-4670-98e4-71369cc5ab26           3367   \n",
       "10412     0e1ae564-6d72-4670-98e4-71369cc5ab26           3368   \n",
       "10413     0e1ae564-6d72-4670-98e4-71369cc5ab26           3368   \n",
       "10429     0e1ae564-6d72-4670-98e4-71369cc5ab26           3378   \n",
       "\n",
       "          temporary_label_id  correct     index         gsv_panorama_id  \\\n",
       "label_id                                                                  \n",
       "10407                      5     True  18364631  L7SZej2SoaWbaqWE5bdB3Q   \n",
       "10409                      7    False  18368154  KR-t1fL7CYXLuiwOpovEow   \n",
       "10412                      3     True  18372571  FDr1tDKldYX_PRQYQG713A   \n",
       "10413                      4    False  18372984  EfYgFxuE0WkXVYEo0DJRsg   \n",
       "10429                     20     True  18386753  -8GxPT6Z3OKYFimrUcYi1A   \n",
       "\n",
       "             heading    pitch  zoom       labelType canvasX canvasY  \\\n",
       "label_id                                                              \n",
       "10407     163.000000 -35.0000   1.0      NoCurbRamp     642     226   \n",
       "10409     246.437500 -29.5625   1.0      NoCurbRamp     490     294   \n",
       "10412     282.375000 -28.2500   1.0  SurfaceProblem     484     167   \n",
       "10413     282.187500 -29.9375   1.0  SurfaceProblem     490     147   \n",
       "10429      39.032169 -35.0000   1.0        CurbRamp     426     206   \n",
       "\n",
       "          sv_image_x  sv_image_y        lat         lng   distance    percent  \\\n",
       "label_id                                                                        \n",
       "10407           7629        -934  47.673359 -122.401878  10.140893  12.776624   \n",
       "10409          10007       -1294  47.672207 -122.401894   7.524051  22.726504   \n",
       "10412          11160        -580  47.678715 -122.398766  31.683946  47.728451   \n",
       "10413          11177        -508  47.678722 -122.398911  43.905207  66.138486   \n",
       "10429           1897       -1076  47.687786 -122.402542   1.137692  15.489896   \n",
       "\n",
       "          dist_to_street  label_type  \n",
       "label_id                              \n",
       "10407           4.897178           1  \n",
       "10409           4.664472           1  \n",
       "10412           1.872057           3  \n",
       "10413           2.937464           3  \n",
       "10429           8.363878           0  "
      ]
     },
     "execution_count": 33,
     "metadata": {},
     "output_type": "execute_result"
    }
   ],
   "source": [
    "labels_joined.head()"
   ]
  },
  {
   "cell_type": "code",
   "execution_count": 355,
   "metadata": {},
   "outputs": [],
   "source": [
    "features = ['pitch', 'label_type', 'canvasX', 'canvasY', 'distance', 'percent', 'dist_to_street', 'sv_image_x', 'sv_image_y']"
   ]
  },
  {
   "cell_type": "code",
   "execution_count": 356,
   "metadata": {},
   "outputs": [],
   "source": [
    "# X = labels_joined[['pitch', 'label_type', 'canvasX', 'canvasY', 'distance', 'percent']].values\n",
    "X = labels_joined[features].values\n",
    "y = labels_joined['correct'].astype(int).values\n",
    "label_id = labels_joined.index.values\n",
    "label_type = labels_joined['labelType'].values"
   ]
  },
  {
   "cell_type": "code",
   "execution_count": 345,
   "metadata": {},
   "outputs": [],
   "source": [
    "# # only select a certain type\n",
    "# mask = (label_type=='NoCurbRamp')\n",
    "# X = X[mask]\n",
    "# y = y[mask]\n",
    "# label_id = label_id[mask]\n",
    "# label_type = label_type[mask]"
   ]
  },
  {
   "cell_type": "code",
   "execution_count": 346,
   "metadata": {},
   "outputs": [],
   "source": [
    "# X = np.concatenate((X, one_hot_label), axis=1)"
   ]
  },
  {
   "cell_type": "code",
   "execution_count": 347,
   "metadata": {},
   "outputs": [],
   "source": [
    "# # Undersample the majority class\n",
    "# incorrect_indices, = np.where(y == 0)\n",
    "# correct_indices, = np.where(y == 1)\n",
    "# needed = min(len(incorrect_indices), len(correct_indices))\n",
    "# chosen_indices = np.concatenate((np.random.choice(correct_indices, needed, replace=False), np.random.choice(incorrect_indices, needed, replace=False)))\n",
    "\n",
    "# X = X[chosen_indices]\n",
    "# y = y[chosen_indices]"
   ]
  },
  {
   "cell_type": "code",
   "execution_count": 348,
   "metadata": {},
   "outputs": [],
   "source": [
    "# label_type = label_type[chosen_indices]"
   ]
  },
  {
   "cell_type": "code",
   "execution_count": 357,
   "metadata": {},
   "outputs": [],
   "source": [
    "from sklearn.ensemble import RandomForestClassifier, BaggingClassifier\n",
    "from sklearn.linear_model import LogisticRegressionCV\n",
    "# from sklearn.preprocessing import OneHotEncoder\n",
    "from sklearn.model_selection import KFold\n",
    "from sklearn.tree import DecisionTreeClassifier, export_graphviz\n",
    "from imblearn.over_sampling import RandomOverSampler, SMOTE, ADASYN\n",
    "from imblearn.under_sampling import RandomUnderSampler\n",
    "from imblearn.ensemble import BalancedRandomForestClassifier, EasyEnsembleClassifier\n",
    "from sklearn.neural_network import MLPClassifier\n",
    "from sklearn import svm"
   ]
  },
  {
   "cell_type": "code",
   "execution_count": 358,
   "metadata": {},
   "outputs": [],
   "source": [
    "cutoff_invalid = 0.8\n",
    "cutoff_valid = 0.8"
   ]
  },
  {
   "cell_type": "code",
   "execution_count": 359,
   "metadata": {
    "scrolled": false
   },
   "outputs": [
    {
     "name": "stdout",
     "output_type": "stream",
     "text": [
      "tn: 94, tp: 442, fn: 447, fp: 99\n",
      "tn: 91, tp: 453, fn: 446, fp: 91\n",
      "tn: 85, tp: 460, fn: 448, fp: 88\n",
      "tn: 114, tp: 431, fn: 431, fp: 105\n",
      "tn: 105, tp: 448, fn: 419, fp: 109\n"
     ]
    }
   ],
   "source": [
    "total = 0\n",
    "predicted = 0\n",
    "tp = 0\n",
    "tn = 0\n",
    "fp = 0\n",
    "fn = 0\n",
    "counter = 0\n",
    "correct_prob = np.zeros(y.shape[0])\n",
    "for train_index, test_index in KFold(n_splits=5, shuffle=True, random_state=0).split(X):\n",
    "    counter += 1\n",
    "\n",
    "    X_train, X_test = X[train_index], X[test_index]\n",
    "    y_train, y_test = y[train_index], y[test_index]\n",
    "    \n",
    "#     sampler = RandomUnderSampler(random_state=0)\n",
    "#     sampler = RandomOverSampler(random_state=0)\n",
    "#     X_resampled, y_resampled = sampler.fit_resample(X_train, y_train)\n",
    "    X_resampled, y_resampled = X_train, y_train \n",
    "    X_resampled, y_resampled = sampler.fit_resample(X_train, y_train)\n",
    "    \n",
    "    clf = RandomForestClassifier(n_jobs=-1, random_state=0, n_estimators=1000)\n",
    "#     clf = BalancedRandomForestClassifier(n_jobs=-1, random_state=0, n_estimators=1000)\n",
    "#     clf = BaggingClassifier(random_state=0)\n",
    "#     clf = LogisticRegressionCV(n_jobs=-1, random_state=0, cv=5, max_iter=500)\n",
    "#     clf = DecisionTreeClassifier(random_state=0)\n",
    "#     clf = MLPClassifier(random_state=0, verbose=True)\n",
    "    clf.fit(X_resampled, y_resampled)\n",
    "    \n",
    "#     neigh = KNeighborsClassifier(n_neighbors=n_neighbors)\n",
    "    \n",
    "#     with open(\"tree.txt\", \"w\") as f:\n",
    "#         f = export_graphviz(clf, out_file=f)\n",
    "    use_probabilities = False\n",
    "    \n",
    "    if use_probabilities:\n",
    "        prediction = clf.predict_proba(X_test)\n",
    "    else:\n",
    "        p = clf.predict(X_test)\n",
    "        prediction = np.concatenate([1-p, p]).reshape((y_test.shape[0], 2))\n",
    "        \n",
    "    correct_prob[test_index] = prediction[:, 1]\n",
    "    pred_neg = prediction[:, 0] > cutoff_invalid\n",
    "    pred_pos = prediction[:, 1] > cutoff_valid\n",
    "\n",
    "    tn_ = np.sum(y_test[pred_neg] == 0)\n",
    "    fn_ = np.sum(pred_neg) - tn_\n",
    "    tp_ = np.sum(y_test[pred_pos] == 1)\n",
    "    fp_ = np.sum(pred_pos) - tp_\n",
    "\n",
    "\n",
    "#     print('tn: ' + str(label_id[test_index][pred_neg & (y_test == 0)]))\n",
    "#     print('fn: ' + str(label_id[test_index][pred_neg & (y_test == 1)]))\n",
    "    \n",
    "    print(f'tn: {tn_}, tp: {tp_}, fn: {fn_}, fp: {fp_}')\n",
    "    \n",
    "    predicted += (tn_ + fn_ + tp_ + fp_)\n",
    "    tn += tn_\n",
    "    fn += fn_\n",
    "    tp += tp_\n",
    "    fp += fp_\n",
    "    \n",
    "    total += y_test.shape[0]"
   ]
  },
  {
   "cell_type": "code",
   "execution_count": 360,
   "metadata": {},
   "outputs": [],
   "source": [
    "# plt.figure()\n",
    "# plt.ylabel('importance')\n",
    "# plt.title('Feature Importances')\n",
    "# plt.bar(features, clf.feature_importances_)\n",
    "# locs, labels = plt.xticks()\n",
    "# _ = plt.setp(labels, rotation=45)"
   ]
  },
  {
   "cell_type": "code",
   "execution_count": 361,
   "metadata": {
    "scrolled": true
   },
   "outputs": [
    {
     "name": "stdout",
     "output_type": "stream",
     "text": [
      "precision:\t50.37%\n",
      "recall:\t\t49.85%\n",
      "predicted:\t100.00%\n",
      "tp / tp + fp:\t81.95%\n",
      "tn / tn + fn:\t18.25%\n"
     ]
    }
   ],
   "source": [
    "accuracy = (tp + tn) / predicted\n",
    "print(f'precision:\\t{100*accuracy:.2f}%')\n",
    "print(f'recall:\\t\\t{100*tn/(tn+fp):.2f}%')\n",
    "print(f'predicted:\\t{100*predicted/total:.2f}%')\n",
    "print(f'tp / tp + fp:\\t{100*tp/(tp+fp):.2f}%')\n",
    "print(f'tn / tn + fn:\\t{100*tn/(tn+fn):.2f}%')"
   ]
  },
  {
   "cell_type": "code",
   "execution_count": 187,
   "metadata": {
    "scrolled": false
   },
   "outputs": [
    {
     "data": {
      "image/png": "[encoded data removed]",
      "text/plain": [
       "<Figure size 432x288 with 1 Axes>"
      ]
     },
     "metadata": {
      "needs_background": "light"
     },
     "output_type": "display_data"
    },
    {
     "data": {
      "image/png": "[encoded data removed]",
      "text/plain": [
       "<Figure size 432x288 with 1 Axes>"
      ]
     },
     "metadata": {
      "needs_background": "light"
     },
     "output_type": "display_data"
    },
    {
     "data": {
      "image/png": "[encoded data removed]",
      "text/plain": [
       "<Figure size 432x288 with 1 Axes>"
      ]
     },
     "metadata": {
      "needs_background": "light"
     },
     "output_type": "display_data"
    },
    {
     "data": {
      "image/png": "[encoded data removed]",
      "text/plain": [
       "<Figure size 432x288 with 1 Axes>"
      ]
     },
     "metadata": {
      "needs_background": "light"
     },
     "output_type": "display_data"
    }
   ],
   "source": [
    "for chosen_type in np.unique(label_type):\n",
    "    fig = plt.figure()\n",
    "    plt.title(f'Probability of predicting correct, {chosen_type}')\n",
    "    plt.hist(correct_prob[y==1 & (label_type == chosen_type)], bins=100, alpha=0.5, label='correct')\n",
    "    plt.hist(correct_prob[y==0 & (label_type == chosen_type)], bins=100, alpha=0.5, label='incorrect')\n",
    "    plt.xlabel('probability of predicting correct')\n",
    "    plt.ylabel('absolute count')\n",
    "    plt.legend()"
   ]
  },
  {
   "cell_type": "code",
   "execution_count": 164,
   "metadata": {},
   "outputs": [
    {
     "data": {
      "text/plain": [
       "<matplotlib.legend.Legend at 0x1a557256a0>"
      ]
     },
     "execution_count": 164,
     "metadata": {},
     "output_type": "execute_result"
    },
    {
     "data": {
      "image/png": "[encoded data removed]",
      "text/plain": [
       "<Figure size 432x288 with 1 Axes>"
      ]
     },
     "metadata": {
      "needs_background": "light"
     },
     "output_type": "display_data"
    }
   ],
   "source": [
    "fig = plt.figure()\n",
    "plt.title(f'Probability of predicting correct')\n",
    "plt.hist(correct_prob[y==1], bins=100, alpha=0.5, label='correct')\n",
    "plt.hist(correct_prob[y==0], bins=100, alpha=0.5, label='incorrect')\n",
    "plt.xlabel('probability of predicting correct')\n",
    "plt.ylabel('absolute count')\n",
    "plt.legend()"
   ]
  },
  {
   "cell_type": "markdown",
   "metadata": {},
   "source": [
    "## Classifying correctness based on lat/lng"
   ]
  },
  {
   "cell_type": "code",
   "execution_count": 256,
   "metadata": {},
   "outputs": [],
   "source": [
    "from sklearn.neighbors import KNeighborsClassifier\n",
    "from sklearn.model_selection import train_test_split\n",
    "from sklearn import metrics"
   ]
  },
  {
   "cell_type": "code",
   "execution_count": 221,
   "metadata": {},
   "outputs": [],
   "source": [
    "vals = pd.DataFrame([labels_joined['lat'], labels_joined['lng'], labels_joined['correct']]).T"
   ]
  },
  {
   "cell_type": "code",
   "execution_count": 222,
   "metadata": {},
   "outputs": [],
   "source": [
    "vals = vals[(vals['lat'] > 47) & (vals['lat'] < 48)]"
   ]
  },
  {
   "cell_type": "code",
   "execution_count": 228,
   "metadata": {},
   "outputs": [
    {
     "data": {
      "text/plain": [
       "<matplotlib.collections.PathCollection at 0x1a4703a048>"
      ]
     },
     "execution_count": 228,
     "metadata": {},
     "output_type": "execute_result"
    },
    {
     "data": {
      "image/png": "[encoded data removed]",
      "text/plain": [
       "<Figure size 432x288 with 1 Axes>"
      ]
     },
     "metadata": {
      "needs_background": "light"
     },
     "output_type": "display_data"
    }
   ],
   "source": [
    "plt.figure()\n",
    "plt.scatter(vals.lat, vals.lng, c=vals.correct, alpha=0.1)"
   ]
  },
  {
   "cell_type": "code",
   "execution_count": 404,
   "metadata": {},
   "outputs": [],
   "source": [
    "X_train, X_test, y_train, y_test = train_test_split(vals[['lat', 'lng']], vals['correct'], test_size=0.2)"
   ]
  },
  {
   "cell_type": "code",
   "execution_count": 405,
   "metadata": {},
   "outputs": [],
   "source": [
    "n_neighbors = 4"
   ]
  },
  {
   "cell_type": "code",
   "execution_count": 406,
   "metadata": {},
   "outputs": [],
   "source": [
    "neigh = KNeighborsClassifier(n_neighbors=n_neighbors)\n",
    "neigh.fit(X_train, y_train)\n",
    "prediction = neigh.predict_proba(X_test)"
   ]
  },
  {
   "cell_type": "code",
   "execution_count": 434,
   "metadata": {},
   "outputs": [
    {
     "data": {
      "application/javascript": [
       "/* Put everything inside the global mpl namespace */\n",
       "window.mpl = {};\n",
       "\n",
       "\n",
       "mpl.get_websocket_type = function() {\n",
       "    if (typeof(WebSocket) !== 'undefined') {\n",
       "        return WebSocket;\n",
       "    } else if (typeof(MozWebSocket) !== 'undefined') {\n",
       "        return MozWebSocket;\n",
       "    } else {\n",
       "        alert('Your browser does not have WebSocket support.' +\n",
       "              'Please try Chrome, Safari or Firefox ≥ 6. ' +\n",
       "              'Firefox 4 and 5 are also supported but you ' +\n",
       "              'have to enable WebSockets in about:config.');\n",
       "    };\n",
       "}\n",
       "\n",
       "mpl.figure = function(figure_id, websocket, ondownload, parent_element) {\n",
       "    this.id = figure_id;\n",
       "\n",
       "    this.ws = websocket;\n",
       "\n",
       "    this.supports_binary = (this.ws.binaryType != undefined);\n",
       "\n",
       "    if (!this.supports_binary) {\n",
       "        var warnings = document.getElementById(\"mpl-warnings\");\n",
       "        if (warnings) {\n",
       "            warnings.style.display = 'block';\n",
       "            warnings.textContent = (\n",
       "                \"This browser does not support binary websocket messages. \" +\n",
       "                    \"Performance may be slow.\");\n",
       "        }\n",
       "    }\n",
       "\n",
       "    this.imageObj = new Image();\n",
       "\n",
       "    this.context = undefined;\n",
       "    this.message = undefined;\n",
       "    this.canvas = undefined;\n",
       "    this.rubberband_canvas = undefined;\n",
       "    this.rubberband_context = undefined;\n",
       "    this.format_dropdown = undefined;\n",
       "\n",
       "    this.image_mode = 'full';\n",
       "\n",
       "    this.root = $('<div/>');\n",
       "    this._root_extra_style(this.root)\n",
       "    this.root.attr('style', 'display: inline-block');\n",
       "\n",
       "    $(parent_element).append(this.root);\n",
       "\n",
       "    this._init_header(this);\n",
       "    this._init_canvas(this);\n",
       "    this._init_toolbar(this);\n",
       "\n",
       "    var fig = this;\n",
       "\n",
       "    this.waiting = false;\n",
       "\n",
       "    this.ws.onopen =  function () {\n",
       "            fig.send_message(\"supports_binary\", {value: fig.supports_binary});\n",
       "            fig.send_message(\"send_image_mode\", {});\n",
       "            if (mpl.ratio != 1) {\n",
       "                fig.send_message(\"set_dpi_ratio\", {'dpi_ratio': mpl.ratio});\n",
       "            }\n",
       "            fig.send_message(\"refresh\", {});\n",
       "        }\n",
       "\n",
       "    this.imageObj.onload = function() {\n",
       "            if (fig.image_mode == 'full') {\n",
       "                // Full images could contain transparency (where diff images\n",
       "                // almost always do), so we need to clear the canvas so that\n",
       "                // there is no ghosting.\n",
       "                fig.context.clearRect(0, 0, fig.canvas.width, fig.canvas.height);\n",
       "            }\n",
       "            fig.context.drawImage(fig.imageObj, 0, 0);\n",
       "        };\n",
       "\n",
       "    this.imageObj.onunload = function() {\n",
       "        fig.ws.close();\n",
       "    }\n",
       "\n",
       "    this.ws.onmessage = this._make_on_message_function(this);\n",
       "\n",
       "    this.ondownload = ondownload;\n",
       "}\n",
       "\n",
       "mpl.figure.prototype._init_header = function() {\n",
       "    var titlebar = $(\n",
       "        '<div class=\"ui-dialog-titlebar ui-widget-header ui-corner-all ' +\n",
       "        'ui-helper-clearfix\"/>');\n",
       "    var titletext = $(\n",
       "        '<div class=\"ui-dialog-title\" style=\"width: 100%; ' +\n",
       "        'text-align: center; padding: 3px;\"/>');\n",
       "    titlebar.append(titletext)\n",
       "    this.root.append(titlebar);\n",
       "    this.header = titletext[0];\n",
       "}\n",
       "\n",
       "\n",
       "\n",
       "mpl.figure.prototype._canvas_extra_style = function(canvas_div) {\n",
       "\n",
       "}\n",
       "\n",
       "\n",
       "mpl.figure.prototype._root_extra_style = function(canvas_div) {\n",
       "\n",
       "}\n",
       "\n",
       "mpl.figure.prototype._init_canvas = function() {\n",
       "    var fig = this;\n",
       "\n",
       "    var canvas_div = $('<div/>');\n",
       "\n",
       "    canvas_div.attr('style', 'position: relative; clear: both; outline: 0');\n",
       "\n",
       "    function canvas_keyboard_event(event) {\n",
       "        return fig.key_event(event, event['data']);\n",
       "    }\n",
       "\n",
       "    canvas_div.keydown('key_press', canvas_keyboard_event);\n",
       "    canvas_div.keyup('key_release', canvas_keyboard_event);\n",
       "    this.canvas_div = canvas_div\n",
       "    this._canvas_extra_style(canvas_div)\n",
       "    this.root.append(canvas_div);\n",
       "\n",
       "    var canvas = $('<canvas/>');\n",
       "    canvas.addClass('mpl-canvas');\n",
       "    canvas.attr('style', \"left: 0; top: 0; z-index: 0; outline: 0\")\n",
       "\n",
       "    this.canvas = canvas[0];\n",
       "    this.context = canvas[0].getContext(\"2d\");\n",
       "\n",
       "    var backingStore = this.context.backingStorePixelRatio ||\n",
       "\tthis.context.webkitBackingStorePixelRatio ||\n",
       "\tthis.context.mozBackingStorePixelRatio ||\n",
       "\tthis.context.msBackingStorePixelRatio ||\n",
       "\tthis.context.oBackingStorePixelRatio ||\n",
       "\tthis.context.backingStorePixelRatio || 1;\n",
       "\n",
       "    mpl.ratio = (window.devicePixelRatio || 1) / backingStore;\n",
       "\n",
       "    var rubberband = $('<canvas/>');\n",
       "    rubberband.attr('style', \"position: absolute; left: 0; top: 0; z-index: 1;\")\n",
       "\n",
       "    var pass_mouse_events = true;\n",
       "\n",
       "    canvas_div.resizable({\n",
       "        start: function(event, ui) {\n",
       "            pass_mouse_events = false;\n",
       "        },\n",
       "        resize: function(event, ui) {\n",
       "            fig.request_resize(ui.size.width, ui.size.height);\n",
       "        },\n",
       "        stop: function(event, ui) {\n",
       "            pass_mouse_events = true;\n",
       "            fig.request_resize(ui.size.width, ui.size.height);\n",
       "        },\n",
       "    });\n",
       "\n",
       "    function mouse_event_fn(event) {\n",
       "        if (pass_mouse_events)\n",
       "            return fig.mouse_event(event, event['data']);\n",
       "    }\n",
       "\n",
       "    rubberband.mousedown('button_press', mouse_event_fn);\n",
       "    rubberband.mouseup('button_release', mouse_event_fn);\n",
       "    // Throttle sequential mouse events to 1 every 20ms.\n",
       "    rubberband.mousemove('motion_notify', mouse_event_fn);\n",
       "\n",
       "    rubberband.mouseenter('figure_enter', mouse_event_fn);\n",
       "    rubberband.mouseleave('figure_leave', mouse_event_fn);\n",
       "\n",
       "    canvas_div.on(\"wheel\", function (event) {\n",
       "        event = event.originalEvent;\n",
       "        event['data'] = 'scroll'\n",
       "        if (event.deltaY < 0) {\n",
       "            event.step = 1;\n",
       "        } else {\n",
       "            event.step = -1;\n",
       "        }\n",
       "        mouse_event_fn(event);\n",
       "    });\n",
       "\n",
       "    canvas_div.append(canvas);\n",
       "    canvas_div.append(rubberband);\n",
       "\n",
       "    this.rubberband = rubberband;\n",
       "    this.rubberband_canvas = rubberband[0];\n",
       "    this.rubberband_context = rubberband[0].getContext(\"2d\");\n",
       "    this.rubberband_context.strokeStyle = \"#000000\";\n",
       "\n",
       "    this._resize_canvas = function(width, height) {\n",
       "        // Keep the size of the canvas, canvas container, and rubber band\n",
       "        // canvas in synch.\n",
       "        canvas_div.css('width', width)\n",
       "        canvas_div.css('height', height)\n",
       "\n",
       "        canvas.attr('width', width * mpl.ratio);\n",
       "        canvas.attr('height', height * mpl.ratio);\n",
       "        canvas.attr('style', 'width: ' + width + 'px; height: ' + height + 'px;');\n",
       "\n",
       "        rubberband.attr('width', width);\n",
       "        rubberband.attr('height', height);\n",
       "    }\n",
       "\n",
       "    // Set the figure to an initial 600x600px, this will subsequently be updated\n",
       "    // upon first draw.\n",
       "    this._resize_canvas(600, 600);\n",
       "\n",
       "    // Disable right mouse context menu.\n",
       "    $(this.rubberband_canvas).bind(\"contextmenu\",function(e){\n",
       "        return false;\n",
       "    });\n",
       "\n",
       "    function set_focus () {\n",
       "        canvas.focus();\n",
       "        canvas_div.focus();\n",
       "    }\n",
       "\n",
       "    window.setTimeout(set_focus, 100);\n",
       "}\n",
       "\n",
       "mpl.figure.prototype._init_toolbar = function() {\n",
       "    var fig = this;\n",
       "\n",
       "    var nav_element = $('<div/>')\n",
       "    nav_element.attr('style', 'width: 100%');\n",
       "    this.root.append(nav_element);\n",
       "\n",
       "    // Define a callback function for later on.\n",
       "    function toolbar_event(event) {\n",
       "        return fig.toolbar_button_onclick(event['data']);\n",
       "    }\n",
       "    function toolbar_mouse_event(event) {\n",
       "        return fig.toolbar_button_onmouseover(event['data']);\n",
       "    }\n",
       "\n",
       "    for(var toolbar_ind in mpl.toolbar_items) {\n",
       "        var name = mpl.toolbar_items[toolbar_ind][0];\n",
       "        var tooltip = mpl.toolbar_items[toolbar_ind][1];\n",
       "        var image = mpl.toolbar_items[toolbar_ind][2];\n",
       "        var method_name = mpl.toolbar_items[toolbar_ind][3];\n",
       "\n",
       "        if (!name) {\n",
       "            // put a spacer in here.\n",
       "            continue;\n",
       "        }\n",
       "        var button = $('<button/>');\n",
       "        button.addClass('ui-button ui-widget ui-state-default ui-corner-all ' +\n",
       "                        'ui-button-icon-only');\n",
       "        button.attr('role', 'button');\n",
       "        button.attr('aria-disabled', 'false');\n",
       "        button.click(method_name, toolbar_event);\n",
       "        button.mouseover(tooltip, toolbar_mouse_event);\n",
       "\n",
       "        var icon_img = $('<span/>');\n",
       "        icon_img.addClass('ui-button-icon-primary ui-icon');\n",
       "        icon_img.addClass(image);\n",
       "        icon_img.addClass('ui-corner-all');\n",
       "\n",
       "        var tooltip_span = $('<span/>');\n",
       "        tooltip_span.addClass('ui-button-text');\n",
       "        tooltip_span.html(tooltip);\n",
       "\n",
       "        button.append(icon_img);\n",
       "        button.append(tooltip_span);\n",
       "\n",
       "        nav_element.append(button);\n",
       "    }\n",
       "\n",
       "    var fmt_picker_span = $('<span/>');\n",
       "\n",
       "    var fmt_picker = $('<select/>');\n",
       "    fmt_picker.addClass('mpl-toolbar-option ui-widget ui-widget-content');\n",
       "    fmt_picker_span.append(fmt_picker);\n",
       "    nav_element.append(fmt_picker_span);\n",
       "    this.format_dropdown = fmt_picker[0];\n",
       "\n",
       "    for (var ind in mpl.extensions) {\n",
       "        var fmt = mpl.extensions[ind];\n",
       "        var option = $(\n",
       "            '<option/>', {selected: fmt === mpl.default_extension}).html(fmt);\n",
       "        fmt_picker.append(option)\n",
       "    }\n",
       "\n",
       "    // Add hover states to the ui-buttons\n",
       "    $( \".ui-button\" ).hover(\n",
       "        function() { $(this).addClass(\"ui-state-hover\");},\n",
       "        function() { $(this).removeClass(\"ui-state-hover\");}\n",
       "    );\n",
       "\n",
       "    var status_bar = $('<span class=\"mpl-message\"/>');\n",
       "    nav_element.append(status_bar);\n",
       "    this.message = status_bar[0];\n",
       "}\n",
       "\n",
       "mpl.figure.prototype.request_resize = function(x_pixels, y_pixels) {\n",
       "    // Request matplotlib to resize the figure. Matplotlib will then trigger a resize in the client,\n",
       "    // which will in turn request a refresh of the image.\n",
       "    this.send_message('resize', {'width': x_pixels, 'height': y_pixels});\n",
       "}\n",
       "\n",
       "mpl.figure.prototype.send_message = function(type, properties) {\n",
       "    properties['type'] = type;\n",
       "    properties['figure_id'] = this.id;\n",
       "    this.ws.send(JSON.stringify(properties));\n",
       "}\n",
       "\n",
       "mpl.figure.prototype.send_draw_message = function() {\n",
       "    if (!this.waiting) {\n",
       "        this.waiting = true;\n",
       "        this.ws.send(JSON.stringify({type: \"draw\", figure_id: this.id}));\n",
       "    }\n",
       "}\n",
       "\n",
       "\n",
       "mpl.figure.prototype.handle_save = function(fig, msg) {\n",
       "    var format_dropdown = fig.format_dropdown;\n",
       "    var format = format_dropdown.options[format_dropdown.selectedIndex].value;\n",
       "    fig.ondownload(fig, format);\n",
       "}\n",
       "\n",
       "\n",
       "mpl.figure.prototype.handle_resize = function(fig, msg) {\n",
       "    var size = msg['size'];\n",
       "    if (size[0] != fig.canvas.width || size[1] != fig.canvas.height) {\n",
       "        fig._resize_canvas(size[0], size[1]);\n",
       "        fig.send_message(\"refresh\", {});\n",
       "    };\n",
       "}\n",
       "\n",
       "mpl.figure.prototype.handle_rubberband = function(fig, msg) {\n",
       "    var x0 = msg['x0'] / mpl.ratio;\n",
       "    var y0 = (fig.canvas.height - msg['y0']) / mpl.ratio;\n",
       "    var x1 = msg['x1'] / mpl.ratio;\n",
       "    var y1 = (fig.canvas.height - msg['y1']) / mpl.ratio;\n",
       "    x0 = Math.floor(x0) + 0.5;\n",
       "    y0 = Math.floor(y0) + 0.5;\n",
       "    x1 = Math.floor(x1) + 0.5;\n",
       "    y1 = Math.floor(y1) + 0.5;\n",
       "    var min_x = Math.min(x0, x1);\n",
       "    var min_y = Math.min(y0, y1);\n",
       "    var width = Math.abs(x1 - x0);\n",
       "    var height = Math.abs(y1 - y0);\n",
       "\n",
       "    fig.rubberband_context.clearRect(\n",
       "        0, 0, fig.canvas.width, fig.canvas.height);\n",
       "\n",
       "    fig.rubberband_context.strokeRect(min_x, min_y, width, height);\n",
       "}\n",
       "\n",
       "mpl.figure.prototype.handle_figure_label = function(fig, msg) {\n",
       "    // Updates the figure title.\n",
       "    fig.header.textContent = msg['label'];\n",
       "}\n",
       "\n",
       "mpl.figure.prototype.handle_cursor = function(fig, msg) {\n",
       "    var cursor = msg['cursor'];\n",
       "    switch(cursor)\n",
       "    {\n",
       "    case 0:\n",
       "        cursor = 'pointer';\n",
       "        break;\n",
       "    case 1:\n",
       "        cursor = 'default';\n",
       "        break;\n",
       "    case 2:\n",
       "        cursor = 'crosshair';\n",
       "        break;\n",
       "    case 3:\n",
       "        cursor = 'move';\n",
       "        break;\n",
       "    }\n",
       "    fig.rubberband_canvas.style.cursor = cursor;\n",
       "}\n",
       "\n",
       "mpl.figure.prototype.handle_message = function(fig, msg) {\n",
       "    fig.message.textContent = msg['message'];\n",
       "}\n",
       "\n",
       "mpl.figure.prototype.handle_draw = function(fig, msg) {\n",
       "    // Request the server to send over a new figure.\n",
       "    fig.send_draw_message();\n",
       "}\n",
       "\n",
       "mpl.figure.prototype.handle_image_mode = function(fig, msg) {\n",
       "    fig.image_mode = msg['mode'];\n",
       "}\n",
       "\n",
       "mpl.figure.prototype.updated_canvas_event = function() {\n",
       "    // Called whenever the canvas gets updated.\n",
       "    this.send_message(\"ack\", {});\n",
       "}\n",
       "\n",
       "// A function to construct a web socket function for onmessage handling.\n",
       "// Called in the figure constructor.\n",
       "mpl.figure.prototype._make_on_message_function = function(fig) {\n",
       "    return function socket_on_message(evt) {\n",
       "        if (evt.data instanceof Blob) {\n",
       "            /* FIXME: We get \"Resource interpreted as Image but\n",
       "             * transferred with MIME type text/plain:\" errors on\n",
       "             * Chrome.  But how to set the MIME type?  It doesn't seem\n",
       "             * to be part of the websocket stream */\n",
       "            evt.data.type = \"image/png\";\n",
       "\n",
       "            /* Free the memory for the previous frames */\n",
       "            if (fig.imageObj.src) {\n",
       "                (window.URL || window.webkitURL).revokeObjectURL(\n",
       "                    fig.imageObj.src);\n",
       "            }\n",
       "\n",
       "            fig.imageObj.src = (window.URL || window.webkitURL).createObjectURL(\n",
       "                evt.data);\n",
       "            fig.updated_canvas_event();\n",
       "            fig.waiting = false;\n",
       "            return;\n",
       "        }\n",
       "        else if (typeof evt.data === 'string' && evt.data.slice(0, 21) == \"data:image/png;base64\") {\n",
       "            fig.imageObj.src = evt.data;\n",
       "            fig.updated_canvas_event();\n",
       "            fig.waiting = false;\n",
       "            return;\n",
       "        }\n",
       "\n",
       "        var msg = JSON.parse(evt.data);\n",
       "        var msg_type = msg['type'];\n",
       "\n",
       "        // Call the  \"handle_{type}\" callback, which takes\n",
       "        // the figure and JSON message as its only arguments.\n",
       "        try {\n",
       "            var callback = fig[\"handle_\" + msg_type];\n",
       "        } catch (e) {\n",
       "            console.log(\"No handler for the '\" + msg_type + \"' message type: \", msg);\n",
       "            return;\n",
       "        }\n",
       "\n",
       "        if (callback) {\n",
       "            try {\n",
       "                // console.log(\"Handling '\" + msg_type + \"' message: \", msg);\n",
       "                callback(fig, msg);\n",
       "            } catch (e) {\n",
       "                console.log(\"Exception inside the 'handler_\" + msg_type + \"' callback:\", e, e.stack, msg);\n",
       "            }\n",
       "        }\n",
       "    };\n",
       "}\n",
       "\n",
       "// from http://stackoverflow.com/questions/1114465/getting-mouse-location-in-canvas\n",
       "mpl.findpos = function(e) {\n",
       "    //this section is from http://www.quirksmode.org/js/events_properties.html\n",
       "    var targ;\n",
       "    if (!e)\n",
       "        e = window.event;\n",
       "    if (e.target)\n",
       "        targ = e.target;\n",
       "    else if (e.srcElement)\n",
       "        targ = e.srcElement;\n",
       "    if (targ.nodeType == 3) // defeat Safari bug\n",
       "        targ = targ.parentNode;\n",
       "\n",
       "    // jQuery normalizes the pageX and pageY\n",
       "    // pageX,Y are the mouse positions relative to the document\n",
       "    // offset() returns the position of the element relative to the document\n",
       "    var x = e.pageX - $(targ).offset().left;\n",
       "    var y = e.pageY - $(targ).offset().top;\n",
       "\n",
       "    return {\"x\": x, \"y\": y};\n",
       "};\n",
       "\n",
       "/*\n",
       " * return a copy of an object with only non-object keys\n",
       " * we need this to avoid circular references\n",
       " * http://stackoverflow.com/a/24161582/3208463\n",
       " */\n",
       "function simpleKeys (original) {\n",
       "  return Object.keys(original).reduce(function (obj, key) {\n",
       "    if (typeof original[key] !== 'object')\n",
       "        obj[key] = original[key]\n",
       "    return obj;\n",
       "  }, {});\n",
       "}\n",
       "\n",
       "mpl.figure.prototype.mouse_event = function(event, name) {\n",
       "    var canvas_pos = mpl.findpos(event)\n",
       "\n",
       "    if (name === 'button_press')\n",
       "    {\n",
       "        this.canvas.focus();\n",
       "        this.canvas_div.focus();\n",
       "    }\n",
       "\n",
       "    var x = canvas_pos.x * mpl.ratio;\n",
       "    var y = canvas_pos.y * mpl.ratio;\n",
       "\n",
       "    this.send_message(name, {x: x, y: y, button: event.button,\n",
       "                             step: event.step,\n",
       "                             guiEvent: simpleKeys(event)});\n",
       "\n",
       "    /* This prevents the web browser from automatically changing to\n",
       "     * the text insertion cursor when the button is pressed.  We want\n",
       "     * to control all of the cursor setting manually through the\n",
       "     * 'cursor' event from matplotlib */\n",
       "    event.preventDefault();\n",
       "    return false;\n",
       "}\n",
       "\n",
       "mpl.figure.prototype._key_event_extra = function(event, name) {\n",
       "    // Handle any extra behaviour associated with a key event\n",
       "}\n",
       "\n",
       "mpl.figure.prototype.key_event = function(event, name) {\n",
       "\n",
       "    // Prevent repeat events\n",
       "    if (name == 'key_press')\n",
       "    {\n",
       "        if (event.which === this._key)\n",
       "            return;\n",
       "        else\n",
       "            this._key = event.which;\n",
       "    }\n",
       "    if (name == 'key_release')\n",
       "        this._key = null;\n",
       "\n",
       "    var value = '';\n",
       "    if (event.ctrlKey && event.which != 17)\n",
       "        value += \"ctrl+\";\n",
       "    if (event.altKey && event.which != 18)\n",
       "        value += \"alt+\";\n",
       "    if (event.shiftKey && event.which != 16)\n",
       "        value += \"shift+\";\n",
       "\n",
       "    value += 'k';\n",
       "    value += event.which.toString();\n",
       "\n",
       "    this._key_event_extra(event, name);\n",
       "\n",
       "    this.send_message(name, {key: value,\n",
       "                             guiEvent: simpleKeys(event)});\n",
       "    return false;\n",
       "}\n",
       "\n",
       "mpl.figure.prototype.toolbar_button_onclick = function(name) {\n",
       "    if (name == 'download') {\n",
       "        this.handle_save(this, null);\n",
       "    } else {\n",
       "        this.send_message(\"toolbar_button\", {name: name});\n",
       "    }\n",
       "};\n",
       "\n",
       "mpl.figure.prototype.toolbar_button_onmouseover = function(tooltip) {\n",
       "    this.message.textContent = tooltip;\n",
       "};\n",
       "mpl.toolbar_items = [[\"Home\", \"Reset original view\", \"fa fa-home icon-home\", \"home\"], [\"Back\", \"Back to previous view\", \"fa fa-arrow-left icon-arrow-left\", \"back\"], [\"Forward\", \"Forward to next view\", \"fa fa-arrow-right icon-arrow-right\", \"forward\"], [\"\", \"\", \"\", \"\"], [\"Pan\", \"Pan axes with left mouse, zoom with right\", \"fa fa-arrows icon-move\", \"pan\"], [\"Zoom\", \"Zoom to rectangle\", \"fa fa-square-o icon-check-empty\", \"zoom\"], [\"\", \"\", \"\", \"\"], [\"Download\", \"Download plot\", \"fa fa-floppy-o icon-save\", \"download\"]];\n",
       "\n",
       "mpl.extensions = [\"eps\", \"jpeg\", \"pdf\", \"png\", \"ps\", \"raw\", \"svg\", \"tif\"];\n",
       "\n",
       "mpl.default_extension = \"png\";var comm_websocket_adapter = function(comm) {\n",
       "    // Create a \"websocket\"-like object which calls the given IPython comm\n",
       "    // object with the appropriate methods. Currently this is a non binary\n",
       "    // socket, so there is still some room for performance tuning.\n",
       "    var ws = {};\n",
       "\n",
       "    ws.close = function() {\n",
       "        comm.close()\n",
       "    };\n",
       "    ws.send = function(m) {\n",
       "        //console.log('sending', m);\n",
       "        comm.send(m);\n",
       "    };\n",
       "    // Register the callback with on_msg.\n",
       "    comm.on_msg(function(msg) {\n",
       "        //console.log('receiving', msg['content']['data'], msg);\n",
       "        // Pass the mpl event to the overridden (by mpl) onmessage function.\n",
       "        ws.onmessage(msg['content']['data'])\n",
       "    });\n",
       "    return ws;\n",
       "}\n",
       "\n",
       "mpl.mpl_figure_comm = function(comm, msg) {\n",
       "    // This is the function which gets called when the mpl process\n",
       "    // starts-up an IPython Comm through the \"matplotlib\" channel.\n",
       "\n",
       "    var id = msg.content.data.id;\n",
       "    // Get hold of the div created by the display call when the Comm\n",
       "    // socket was opened in Python.\n",
       "    var element = $(\"#\" + id);\n",
       "    var ws_proxy = comm_websocket_adapter(comm)\n",
       "\n",
       "    function ondownload(figure, format) {\n",
       "        window.open(figure.imageObj.src);\n",
       "    }\n",
       "\n",
       "    var fig = new mpl.figure(id, ws_proxy,\n",
       "                           ondownload,\n",
       "                           element.get(0));\n",
       "\n",
       "    // Call onopen now - mpl needs it, as it is assuming we've passed it a real\n",
       "    // web socket which is closed, not our websocket->open comm proxy.\n",
       "    ws_proxy.onopen();\n",
       "\n",
       "    fig.parent_element = element.get(0);\n",
       "    fig.cell_info = mpl.find_output_cell(\"<div id='\" + id + \"'></div>\");\n",
       "    if (!fig.cell_info) {\n",
       "        console.error(\"Failed to find cell for figure\", id, fig);\n",
       "        return;\n",
       "    }\n",
       "\n",
       "    var output_index = fig.cell_info[2]\n",
       "    var cell = fig.cell_info[0];\n",
       "\n",
       "};\n",
       "\n",
       "mpl.figure.prototype.handle_close = function(fig, msg) {\n",
       "    var width = fig.canvas.width/mpl.ratio\n",
       "    fig.root.unbind('remove')\n",
       "\n",
       "    // Update the output cell to use the data from the current canvas.\n",
       "    fig.push_to_output();\n",
       "    var dataURL = fig.canvas.toDataURL();\n",
       "    // Re-enable the keyboard manager in IPython - without this line, in FF,\n",
       "    // the notebook keyboard shortcuts fail.\n",
       "    IPython.keyboard_manager.enable()\n",
       "    $(fig.parent_element).html('<img src=\"' + dataURL + '\" width=\"' + width + '\">');\n",
       "    fig.close_ws(fig, msg);\n",
       "}\n",
       "\n",
       "mpl.figure.prototype.close_ws = function(fig, msg){\n",
       "    fig.send_message('closing', msg);\n",
       "    // fig.ws.close()\n",
       "}\n",
       "\n",
       "mpl.figure.prototype.push_to_output = function(remove_interactive) {\n",
       "    // Turn the data on the canvas into data in the output cell.\n",
       "    var width = this.canvas.width/mpl.ratio\n",
       "    var dataURL = this.canvas.toDataURL();\n",
       "    this.cell_info[1]['text/html'] = '<img src=\"' + dataURL + '\" width=\"' + width + '\">';\n",
       "}\n",
       "\n",
       "mpl.figure.prototype.updated_canvas_event = function() {\n",
       "    // Tell IPython that the notebook contents must change.\n",
       "    IPython.notebook.set_dirty(true);\n",
       "    this.send_message(\"ack\", {});\n",
       "    var fig = this;\n",
       "    // Wait a second, then push the new image to the DOM so\n",
       "    // that it is saved nicely (might be nice to debounce this).\n",
       "    setTimeout(function () { fig.push_to_output() }, 1000);\n",
       "}\n",
       "\n",
       "mpl.figure.prototype._init_toolbar = function() {\n",
       "    var fig = this;\n",
       "\n",
       "    var nav_element = $('<div/>')\n",
       "    nav_element.attr('style', 'width: 100%');\n",
       "    this.root.append(nav_element);\n",
       "\n",
       "    // Define a callback function for later on.\n",
       "    function toolbar_event(event) {\n",
       "        return fig.toolbar_button_onclick(event['data']);\n",
       "    }\n",
       "    function toolbar_mouse_event(event) {\n",
       "        return fig.toolbar_button_onmouseover(event['data']);\n",
       "    }\n",
       "\n",
       "    for(var toolbar_ind in mpl.toolbar_items){\n",
       "        var name = mpl.toolbar_items[toolbar_ind][0];\n",
       "        var tooltip = mpl.toolbar_items[toolbar_ind][1];\n",
       "        var image = mpl.toolbar_items[toolbar_ind][2];\n",
       "        var method_name = mpl.toolbar_items[toolbar_ind][3];\n",
       "\n",
       "        if (!name) { continue; };\n",
       "\n",
       "        var button = $('<button class=\"btn btn-default\" href=\"#\" title=\"' + name + '\"><i class=\"fa ' + image + ' fa-lg\"></i></button>');\n",
       "        button.click(method_name, toolbar_event);\n",
       "        button.mouseover(tooltip, toolbar_mouse_event);\n",
       "        nav_element.append(button);\n",
       "    }\n",
       "\n",
       "    // Add the status bar.\n",
       "    var status_bar = $('<span class=\"mpl-message\" style=\"text-align:right; float: right;\"/>');\n",
       "    nav_element.append(status_bar);\n",
       "    this.message = status_bar[0];\n",
       "\n",
       "    // Add the close button to the window.\n",
       "    var buttongrp = $('<div class=\"btn-group inline pull-right\"></div>');\n",
       "    var button = $('<button class=\"btn btn-mini btn-primary\" href=\"#\" title=\"Stop Interaction\"><i class=\"fa fa-power-off icon-remove icon-large\"></i></button>');\n",
       "    button.click(function (evt) { fig.handle_close(fig, {}); } );\n",
       "    button.mouseover('Stop Interaction', toolbar_mouse_event);\n",
       "    buttongrp.append(button);\n",
       "    var titlebar = this.root.find($('.ui-dialog-titlebar'));\n",
       "    titlebar.prepend(buttongrp);\n",
       "}\n",
       "\n",
       "mpl.figure.prototype._root_extra_style = function(el){\n",
       "    var fig = this\n",
       "    el.on(\"remove\", function(){\n",
       "\tfig.close_ws(fig, {});\n",
       "    });\n",
       "}\n",
       "\n",
       "mpl.figure.prototype._canvas_extra_style = function(el){\n",
       "    // this is important to make the div 'focusable\n",
       "    el.attr('tabindex', 0)\n",
       "    // reach out to IPython and tell the keyboard manager to turn it's self\n",
       "    // off when our div gets focus\n",
       "\n",
       "    // location in version 3\n",
       "    if (IPython.notebook.keyboard_manager) {\n",
       "        IPython.notebook.keyboard_manager.register_events(el);\n",
       "    }\n",
       "    else {\n",
       "        // location in version 2\n",
       "        IPython.keyboard_manager.register_events(el);\n",
       "    }\n",
       "\n",
       "}\n",
       "\n",
       "mpl.figure.prototype._key_event_extra = function(event, name) {\n",
       "    var manager = IPython.notebook.keyboard_manager;\n",
       "    if (!manager)\n",
       "        manager = IPython.keyboard_manager;\n",
       "\n",
       "    // Check for shift+enter\n",
       "    if (event.shiftKey && event.which == 13) {\n",
       "        this.canvas_div.blur();\n",
       "        event.shiftKey = false;\n",
       "        // Send a \"J\" for go to next cell\n",
       "        event.which = 74;\n",
       "        event.keyCode = 74;\n",
       "        manager.command_mode();\n",
       "        manager.handle_keydown(event);\n",
       "    }\n",
       "}\n",
       "\n",
       "mpl.figure.prototype.handle_save = function(fig, msg) {\n",
       "    fig.ondownload(fig, null);\n",
       "}\n",
       "\n",
       "\n",
       "mpl.find_output_cell = function(html_output) {\n",
       "    // Return the cell and output element which can be found *uniquely* in the notebook.\n",
       "    // Note - this is a bit hacky, but it is done because the \"notebook_saving.Notebook\"\n",
       "    // IPython event is triggered only after the cells have been serialised, which for\n",
       "    // our purposes (turning an active figure into a static one), is too late.\n",
       "    var cells = IPython.notebook.get_cells();\n",
       "    var ncells = cells.length;\n",
       "    for (var i=0; i<ncells; i++) {\n",
       "        var cell = cells[i];\n",
       "        if (cell.cell_type === 'code'){\n",
       "            for (var j=0; j<cell.output_area.outputs.length; j++) {\n",
       "                var data = cell.output_area.outputs[j];\n",
       "                if (data.data) {\n",
       "                    // IPython >= 3 moved mimebundle to data attribute of output\n",
       "                    data = data.data;\n",
       "                }\n",
       "                if (data['text/html'] == html_output) {\n",
       "                    return [cell, data, j];\n",
       "                }\n",
       "            }\n",
       "        }\n",
       "    }\n",
       "}\n",
       "\n",
       "// Register the function which deals with the matplotlib target/channel.\n",
       "// The kernel may be null if the page has been refreshed.\n",
       "if (IPython.notebook.kernel != null) {\n",
       "    IPython.notebook.kernel.comm_manager.register_target('matplotlib', mpl.mpl_figure_comm);\n",
       "}\n"
      ],
      "text/plain": [
       "<IPython.core.display.Javascript object>"
      ]
     },
     "metadata": {},
     "output_type": "display_data"
    },
    {
     "data": {
      "text/html": [
       "<img src=\"data:image/png;base64,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\" width=\"640\">"
      ],
      "text/plain": [
       "<IPython.core.display.HTML object>"
      ]
     },
     "metadata": {},
     "output_type": "display_data"
    },
    {
     "data": {
      "text/plain": [
       "<matplotlib.legend.Legend at 0x1a3d719b70>"
      ]
     },
     "execution_count": 434,
     "metadata": {},
     "output_type": "execute_result"
    }
   ],
   "source": [
    "plt.figure()\n",
    "plt.title('Correctness/incorrectness based on proximity to other correct/incorrect labels')\n",
    "plt.xlabel('probability correct')\n",
    "plt.ylabel('raw count')\n",
    "plt.hist(prediction[:, 1][y_test==1], bins=n_neighbors, alpha=0.5, label='correct')\n",
    "plt.hist(prediction[:, 1][y_test==0], bins=n_neighbors, alpha=0.5, label='incorrect')\n",
    "plt.legend()"
   ]
  },
  {
   "cell_type": "code",
   "execution_count": null,
   "metadata": {},
   "outputs": [],
   "source": []
  }
 ],
 "metadata": {
  "kernelspec": {
   "display_name": "Python 3",
   "language": "python",
   "name": "python3"
  },
  "language_info": {
   "codemirror_mode": {
    "name": "ipython",
    "version": 3
   },
   "file_extension": ".py",
   "mimetype": "text/x-python",
   "name": "python",
   "nbconvert_exporter": "python",
   "pygments_lexer": "ipython3",
   "version": "3.7.3"
  }
 },
 "nbformat": 4,
 "nbformat_minor": 2
}
