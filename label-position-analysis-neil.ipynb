{
 "cells": [
  {
   "cell_type": "code",
   "execution_count": 430,
   "metadata": {},
   "outputs": [],
   "source": [
    "import pandas as pd\n",
    "import numpy as np\n",
    "from scipy import stats\n",
    "import sys\n",
    "import matplotlib.pyplot as plt\n",
    "from dateutil.parser import parse\n",
    "import parse as str_parse\n",
    "from intersection_proximity import intersection_proximity\n",
    "from importlib import reload\n",
    "from scipy.spatial import distance\n",
    "from mpl_toolkits.mplot3d import Axes3D\n",
    "from sklearn.neighbors import KNeighborsRegressor\n",
    "from sklearn import preprocessing\n",
    "from sklearn.linear_model import SGDRegressor\n",
    "import seaborn as sns\n",
    "\n",
    "users = pd.read_csv('ml-users.csv') \n",
    "%matplotlib notebook"
   ]
  },
  {
   "cell_type": "code",
   "execution_count": 2,
   "metadata": {},
   "outputs": [
    {
     "data": {
      "text/plain": [
       "<module 'intersection_proximity.intersection_proximity' from '/Users/neil/Documents/Programming/sidewalk-quality-analysis/intersection_proximity/intersection_proximity.py'>"
      ]
     },
     "execution_count": 2,
     "metadata": {},
     "output_type": "execute_result"
    }
   ],
   "source": [
    "reload(intersection_proximity)"
   ]
  },
  {
   "cell_type": "code",
   "execution_count": 3,
   "metadata": {},
   "outputs": [],
   "source": [
    "crop_rows = -1"
   ]
  },
  {
   "cell_type": "code",
   "execution_count": 4,
   "metadata": {},
   "outputs": [],
   "source": [
    "df_interactions = pd.read_csv('ml-interactions.tar.gz', compression='gzip')\n",
    "\n",
    "if crop_rows > 0:\n",
    "    df_interactions = df_interactions.head(crop_rows)\n",
    "\n",
    "isna_result = pd.isna(df_interactions['action'])\n",
    "df_interactions= df_interactions[~isna_result]\n",
    "isna_result = pd.isna(df_interactions['action'])\n",
    "assert sum(df_interactions['action'].isna()) == 0\n",
    "\n",
    "df_interactions.rename(columns = {'ml-interactions.csv':'timestamp'}, inplace = True)"
   ]
  },
  {
   "cell_type": "code",
   "execution_count": 5,
   "metadata": {},
   "outputs": [],
   "source": [
    "point_labels = pd.read_csv('sidewalk-seattle-label_point.csv')\n",
    "point_labels.set_index('label_id', inplace=True)"
   ]
  },
  {
   "cell_type": "code",
   "execution_count": 6,
   "metadata": {},
   "outputs": [],
   "source": [
    "label_correctness = pd.read_csv('ml-label-correctness.csv')"
   ]
  },
  {
   "cell_type": "code",
   "execution_count": 7,
   "metadata": {},
   "outputs": [],
   "source": [
    "labeling_cols = ['user_id', 'audit_task_id', 'temporary_label_id']"
   ]
  },
  {
   "cell_type": "code",
   "execution_count": 8,
   "metadata": {},
   "outputs": [],
   "source": [
    "label_correctness.set_index(labeling_cols, inplace=True)"
   ]
  },
  {
   "cell_type": "code",
   "execution_count": 9,
   "metadata": {},
   "outputs": [],
   "source": [
    "# TODO: figure out why there are duplicates\n",
    "label_correctness = label_correctness[~label_correctness.index.duplicated()]"
   ]
  },
  {
   "cell_type": "code",
   "execution_count": 10,
   "metadata": {},
   "outputs": [],
   "source": [
    "label_correctness = label_correctness[~label_correctness['correct'].isna()]"
   ]
  },
  {
   "cell_type": "code",
   "execution_count": 11,
   "metadata": {
    "scrolled": false
   },
   "outputs": [],
   "source": [
    "df_interactions.set_index(labeling_cols, inplace=True)"
   ]
  },
  {
   "cell_type": "code",
   "execution_count": 12,
   "metadata": {},
   "outputs": [],
   "source": [
    "df_interactions.reset_index(inplace=True)"
   ]
  },
  {
   "cell_type": "code",
   "execution_count": 13,
   "metadata": {},
   "outputs": [],
   "source": [
    "# # fill nan temporary label id's\n",
    "# df_interactions['temporary_label_id'] = df_interactions['temporary_label_id'].fillna(method='bfill')\n",
    "\n",
    "# # get rid of nan label id's\n",
    "# df_interactions = df_interactions[~pd.isna(df_interactions['temporary_label_id'])]"
   ]
  },
  {
   "cell_type": "code",
   "execution_count": 14,
   "metadata": {},
   "outputs": [],
   "source": [
    "labels = df_interactions[df_interactions['action'] == 'LabelingCanvas_FinishLabeling']"
   ]
  },
  {
   "cell_type": "code",
   "execution_count": 15,
   "metadata": {},
   "outputs": [],
   "source": [
    "labels.reset_index( inplace=True)"
   ]
  },
  {
   "cell_type": "code",
   "execution_count": 16,
   "metadata": {},
   "outputs": [
    {
     "name": "stderr",
     "output_type": "stream",
     "text": [
      "/Users/neil/anaconda3/lib/python3.7/site-packages/ipykernel_launcher.py:1: SettingWithCopyWarning: \n",
      "A value is trying to be set on a copy of a slice from a DataFrame.\n",
      "Try using .loc[row_indexer,col_indexer] = value instead\n",
      "\n",
      "See the caveats in the documentation: http://pandas.pydata.org/pandas-docs/stable/indexing.html#indexing-view-versus-copy\n",
      "  \"\"\"Entry point for launching an IPython kernel.\n"
     ]
    }
   ],
   "source": [
    "labels['audit_task_id'] = labels['audit_task_id'].astype(int)"
   ]
  },
  {
   "cell_type": "code",
   "execution_count": 17,
   "metadata": {},
   "outputs": [
    {
     "name": "stderr",
     "output_type": "stream",
     "text": [
      "/Users/neil/anaconda3/lib/python3.7/site-packages/ipykernel_launcher.py:1: SettingWithCopyWarning: \n",
      "A value is trying to be set on a copy of a slice from a DataFrame.\n",
      "Try using .loc[row_indexer,col_indexer] = value instead\n",
      "\n",
      "See the caveats in the documentation: http://pandas.pydata.org/pandas-docs/stable/indexing.html#indexing-view-versus-copy\n",
      "  \"\"\"Entry point for launching an IPython kernel.\n"
     ]
    }
   ],
   "source": [
    "labels['temporary_label_id'] = labels['temporary_label_id'].astype(int)"
   ]
  },
  {
   "cell_type": "code",
   "execution_count": 18,
   "metadata": {},
   "outputs": [],
   "source": [
    "labels.set_index(labeling_cols, inplace=True)"
   ]
  },
  {
   "cell_type": "code",
   "execution_count": 19,
   "metadata": {},
   "outputs": [],
   "source": [
    "labels_joined = label_correctness.join(labels, how='inner')"
   ]
  },
  {
   "cell_type": "code",
   "execution_count": 20,
   "metadata": {},
   "outputs": [],
   "source": [
    "labels_joined.drop(['action', 'audit_task_interaction_id', 'timestamp', 'mission_id', 'lat', 'lng'], axis=1, inplace=True)"
   ]
  },
  {
   "cell_type": "code",
   "execution_count": 21,
   "metadata": {},
   "outputs": [],
   "source": [
    "def parse_note(x):\n",
    "    result = str_parse.parse('labelType:{},canvasX:{},canvasY:{}', x)\n",
    "    return pd.Series({\n",
    "        'labelType': result[0],\n",
    "        'canvasX': result[1],\n",
    "        'canvasY': result[2]\n",
    "    })\n",
    "    \n",
    "labels_joined = labels_joined.join(labels_joined['note'].apply(parse_note))"
   ]
  },
  {
   "cell_type": "code",
   "execution_count": 22,
   "metadata": {},
   "outputs": [],
   "source": [
    "labels_joined.drop('note', inplace=True, axis=1)"
   ]
  },
  {
   "cell_type": "code",
   "execution_count": 23,
   "metadata": {},
   "outputs": [],
   "source": [
    "labels_joined['correct'] = labels_joined['correct'] == 't'"
   ]
  },
  {
   "cell_type": "code",
   "execution_count": 24,
   "metadata": {
    "scrolled": true
   },
   "outputs": [],
   "source": [
    "labels_joined.reset_index(inplace=True)"
   ]
  },
  {
   "cell_type": "code",
   "execution_count": 25,
   "metadata": {},
   "outputs": [],
   "source": [
    "labels_joined.set_index('label_id', inplace=True)"
   ]
  },
  {
   "cell_type": "code",
   "execution_count": 26,
   "metadata": {},
   "outputs": [],
   "source": [
    "labels_joined = labels_joined.join(point_labels[['sv_image_x', 'sv_image_y', 'lat', 'lng']], how='inner')"
   ]
  },
  {
   "cell_type": "code",
   "execution_count": 440,
   "metadata": {},
   "outputs": [],
   "source": [
    "# curb_ramp = labels_joined[labels_joined['labelType'] == 'CurbRamp']"
   ]
  },
  {
   "cell_type": "code",
   "execution_count": 441,
   "metadata": {},
   "outputs": [],
   "source": [
    "# X = curb_ramp[['canvasX', 'canvasY', 'pitch']].values"
   ]
  },
  {
   "cell_type": "code",
   "execution_count": 442,
   "metadata": {},
   "outputs": [],
   "source": [
    "# y = curb_ramp['correct'].values"
   ]
  },
  {
   "cell_type": "code",
   "execution_count": 443,
   "metadata": {},
   "outputs": [],
   "source": [
    "# X = X.astype(int)"
   ]
  },
  {
   "cell_type": "code",
   "execution_count": 448,
   "metadata": {},
   "outputs": [],
   "source": [
    "# plt.figure()\n",
    "# plt.scatter(X[:, 1], X[:, 2], c=y)"
   ]
  },
  {
   "cell_type": "code",
   "execution_count": 445,
   "metadata": {},
   "outputs": [],
   "source": [
    "# clf = SGDRegressor()"
   ]
  },
  {
   "cell_type": "code",
   "execution_count": 446,
   "metadata": {},
   "outputs": [],
   "source": [
    "# clf.fit(X, y)"
   ]
  },
  {
   "cell_type": "code",
   "execution_count": 447,
   "metadata": {},
   "outputs": [],
   "source": [
    "# y_pred = clf.predict(X)"
   ]
  },
  {
   "cell_type": "code",
   "execution_count": 449,
   "metadata": {},
   "outputs": [],
   "source": [
    "# plt.figure()\n",
    "# plt.scatter(X[:, 1], X[:, 2], c=y_pred)"
   ]
  },
  {
   "cell_type": "code",
   "execution_count": 450,
   "metadata": {
    "scrolled": false
   },
   "outputs": [],
   "source": [
    "# fig, ax = plt.subplots()\n",
    "# ax = plt.axes(projection='3d')\n",
    "\n",
    "# xline = X[:, 0]\n",
    "# yline = X[:, 1]\n",
    "# zline = X[:, 2]\n",
    "\n",
    "# ax.set_xlabel('Dimension 0')\n",
    "# ax.set_ylabel('Dimension 1')\n",
    "# ax.set_zlabel('Dimension 2')\n",
    "# ax.scatter3D(xline, yline, zline, c=y_pred)"
   ]
  },
  {
   "cell_type": "code",
   "execution_count": 27,
   "metadata": {},
   "outputs": [],
   "source": [
    "def dist_prox(row):\n",
    "    try:\n",
    "        ip = intersection_proximity.compute_proximity(row.lat, row.lng)\n",
    "        return pd.Series({\n",
    "            'distance': ip[0],\n",
    "            'percent': ip[1]\n",
    "        })\n",
    "    except Exception:\n",
    "        return pd.Series({\n",
    "            'distance': -1,\n",
    "            'percent': -1\n",
    "        })"
   ]
  },
  {
   "cell_type": "code",
   "execution_count": 28,
   "metadata": {},
   "outputs": [],
   "source": [
    "labels_joined = labels_joined.join(labels_joined.apply(dist_prox, axis=1))"
   ]
  },
  {
   "cell_type": "code",
   "execution_count": 29,
   "metadata": {},
   "outputs": [],
   "source": [
    "def dist_to_street(row):\n",
    "    try:\n",
    "        return pd.Series({\n",
    "            'dist_to_street': intersection_proximity.compute_dist_to_street(row.lat, row.lng)\n",
    "        })\n",
    "    except Exception:\n",
    "        return pd.Series({\n",
    "            'dist_to_street': -1\n",
    "        })"
   ]
  },
  {
   "cell_type": "code",
   "execution_count": 30,
   "metadata": {},
   "outputs": [],
   "source": [
    "labels_joined = labels_joined.join(labels_joined.apply(dist_to_street, axis=1))"
   ]
  },
  {
   "cell_type": "code",
   "execution_count": 31,
   "metadata": {},
   "outputs": [],
   "source": [
    "le = preprocessing.LabelEncoder()\n",
    "# transform label_type into an int\n",
    "labels_joined['label_type'] = le.fit_transform(labels_joined['labelType'])"
   ]
  },
  {
   "cell_type": "code",
   "execution_count": 32,
   "metadata": {},
   "outputs": [],
   "source": [
    "# # OR one-hot encoding\n",
    "# oh = preprocessing.OneHotEncoder(handle_unknown='ignore')\n",
    "# one_hot_label = oh.fit_transform(labels_joined['labelType'].values.reshape(-1, 1)).todense()"
   ]
  },
  {
   "cell_type": "code",
   "execution_count": 451,
   "metadata": {},
   "outputs": [],
   "source": [
    "# fetch census tract data\n",
    "# takes about 0.8s per request\n",
    "\n",
    "import requests                                                                                                                                                                                             \n",
    "import json                                                                                                                                                                                                 \n",
    "                                                                                                                                                                                                            \n",
    "def fetch_census_data(lng, lat):                                                                                                                                                                            \n",
    "    geocode_url = 'https://geomap.ffiec.gov/FFIECGeocMap/GeocodeMap1.aspx/GetGeocodeData'                                                                                                                   \n",
    "    census_url = 'https://geomap.ffiec.gov/FFIECGeocMap/GeocodeMap1.aspx/GetCensusData'                                                                                                                     \n",
    "    data = {'sSingleLine': '-122.34080895597496, 47.608319043773058', 'iCensusYear': '2017'}                                                                                                                \n",
    "    headers = {'Accept': 'application/json, text/javascript, */*; q=0.01', 'Content-Type': 'application/json; charset=utf-8'}                                                                               \n",
    "    r = requests.post(geocode_url, data=json.dumps(data), headers=headers)                                                                                                                                  \n",
    "    j = json.loads(r.content)                                                                                                                                                                               \n",
    "    r2 = requests.post(census_url, data=json.dumps({'sMSACode': j['d']['sMSACode'], 'sStateCode': j['d']['sStateCode'], 'sCountyCode': j['d']['sCountyCode'], 'sTractCode': j['d']['sTractCode'], 'iCensusYear': j['d']['iCensusYear']}), headers=headers)                                                                                                                                                                                                 \n",
    "    j2 = json.loads(r2.content)                                                                                                                                                                              \n",
    "    return pd.Series(j2['d'])  \n"
   ]
  },
  {
   "cell_type": "code",
   "execution_count": 461,
   "metadata": {},
   "outputs": [
    {
     "name": "stdout",
     "output_type": "stream",
     "text": [
      "CPU times: user 2.41 s, sys: 207 ms, total: 2.62 s\n",
      "Wall time: 48.5 s\n"
     ]
    }
   ],
   "source": [
    "%%time\n",
    "labels_joined.head(60).apply(lambda x: fetch_census_data(x['lng'], x['lat']), axis=1)"
   ]
  },
  {
   "cell_type": "code",
   "execution_count": 33,
   "metadata": {
    "scrolled": false
   },
   "outputs": [
    {
     "data": {
      "text/html": [
       "<div>\n",
       "<style scoped>\n",
       "    .dataframe tbody tr th:only-of-type {\n",
       "        vertical-align: middle;\n",
       "    }\n",
       "\n",
       "    .dataframe tbody tr th {\n",
       "        vertical-align: top;\n",
       "    }\n",
       "\n",
       "    .dataframe thead th {\n",
       "        text-align: right;\n",
       "    }\n",
       "</style>\n",
       "<table border=\"1\" class=\"dataframe\">\n",
       "  <thead>\n",
       "    <tr style=\"text-align: right;\">\n",
       "      <th></th>\n",
       "      <th>user_id</th>\n",
       "      <th>audit_task_id</th>\n",
       "      <th>temporary_label_id</th>\n",
       "      <th>correct</th>\n",
       "      <th>index</th>\n",
       "      <th>gsv_panorama_id</th>\n",
       "      <th>heading</th>\n",
       "      <th>pitch</th>\n",
       "      <th>zoom</th>\n",
       "      <th>labelType</th>\n",
       "      <th>canvasX</th>\n",
       "      <th>canvasY</th>\n",
       "      <th>sv_image_x</th>\n",
       "      <th>sv_image_y</th>\n",
       "      <th>lat</th>\n",
       "      <th>lng</th>\n",
       "      <th>distance</th>\n",
       "      <th>percent</th>\n",
       "      <th>dist_to_street</th>\n",
       "      <th>label_type</th>\n",
       "    </tr>\n",
       "    <tr>\n",
       "      <th>label_id</th>\n",
       "      <th></th>\n",
       "      <th></th>\n",
       "      <th></th>\n",
       "      <th></th>\n",
       "      <th></th>\n",
       "      <th></th>\n",
       "      <th></th>\n",
       "      <th></th>\n",
       "      <th></th>\n",
       "      <th></th>\n",
       "      <th></th>\n",
       "      <th></th>\n",
       "      <th></th>\n",
       "      <th></th>\n",
       "      <th></th>\n",
       "      <th></th>\n",
       "      <th></th>\n",
       "      <th></th>\n",
       "      <th></th>\n",
       "      <th></th>\n",
       "    </tr>\n",
       "  </thead>\n",
       "  <tbody>\n",
       "    <tr>\n",
       "      <th>10407</th>\n",
       "      <td>0e1ae564-6d72-4670-98e4-71369cc5ab26</td>\n",
       "      <td>3366</td>\n",
       "      <td>5</td>\n",
       "      <td>True</td>\n",
       "      <td>18364631</td>\n",
       "      <td>L7SZej2SoaWbaqWE5bdB3Q</td>\n",
       "      <td>163.000000</td>\n",
       "      <td>-35.0000</td>\n",
       "      <td>1.0</td>\n",
       "      <td>NoCurbRamp</td>\n",
       "      <td>642</td>\n",
       "      <td>226</td>\n",
       "      <td>7629</td>\n",
       "      <td>-934</td>\n",
       "      <td>47.673359</td>\n",
       "      <td>-122.401878</td>\n",
       "      <td>10.140893</td>\n",
       "      <td>12.776624</td>\n",
       "      <td>4.897178</td>\n",
       "      <td>1</td>\n",
       "    </tr>\n",
       "    <tr>\n",
       "      <th>10409</th>\n",
       "      <td>0e1ae564-6d72-4670-98e4-71369cc5ab26</td>\n",
       "      <td>3367</td>\n",
       "      <td>7</td>\n",
       "      <td>False</td>\n",
       "      <td>18368154</td>\n",
       "      <td>KR-t1fL7CYXLuiwOpovEow</td>\n",
       "      <td>246.437500</td>\n",
       "      <td>-29.5625</td>\n",
       "      <td>1.0</td>\n",
       "      <td>NoCurbRamp</td>\n",
       "      <td>490</td>\n",
       "      <td>294</td>\n",
       "      <td>10007</td>\n",
       "      <td>-1294</td>\n",
       "      <td>47.672207</td>\n",
       "      <td>-122.401894</td>\n",
       "      <td>7.524051</td>\n",
       "      <td>22.726504</td>\n",
       "      <td>4.664472</td>\n",
       "      <td>1</td>\n",
       "    </tr>\n",
       "    <tr>\n",
       "      <th>10412</th>\n",
       "      <td>0e1ae564-6d72-4670-98e4-71369cc5ab26</td>\n",
       "      <td>3368</td>\n",
       "      <td>3</td>\n",
       "      <td>True</td>\n",
       "      <td>18372571</td>\n",
       "      <td>FDr1tDKldYX_PRQYQG713A</td>\n",
       "      <td>282.375000</td>\n",
       "      <td>-28.2500</td>\n",
       "      <td>1.0</td>\n",
       "      <td>SurfaceProblem</td>\n",
       "      <td>484</td>\n",
       "      <td>167</td>\n",
       "      <td>11160</td>\n",
       "      <td>-580</td>\n",
       "      <td>47.678715</td>\n",
       "      <td>-122.398766</td>\n",
       "      <td>31.683946</td>\n",
       "      <td>47.728451</td>\n",
       "      <td>1.872057</td>\n",
       "      <td>3</td>\n",
       "    </tr>\n",
       "    <tr>\n",
       "      <th>10413</th>\n",
       "      <td>0e1ae564-6d72-4670-98e4-71369cc5ab26</td>\n",
       "      <td>3368</td>\n",
       "      <td>4</td>\n",
       "      <td>False</td>\n",
       "      <td>18372984</td>\n",
       "      <td>EfYgFxuE0WkXVYEo0DJRsg</td>\n",
       "      <td>282.187500</td>\n",
       "      <td>-29.9375</td>\n",
       "      <td>1.0</td>\n",
       "      <td>SurfaceProblem</td>\n",
       "      <td>490</td>\n",
       "      <td>147</td>\n",
       "      <td>11177</td>\n",
       "      <td>-508</td>\n",
       "      <td>47.678722</td>\n",
       "      <td>-122.398911</td>\n",
       "      <td>43.905207</td>\n",
       "      <td>66.138486</td>\n",
       "      <td>2.937464</td>\n",
       "      <td>3</td>\n",
       "    </tr>\n",
       "    <tr>\n",
       "      <th>10429</th>\n",
       "      <td>0e1ae564-6d72-4670-98e4-71369cc5ab26</td>\n",
       "      <td>3378</td>\n",
       "      <td>20</td>\n",
       "      <td>True</td>\n",
       "      <td>18386753</td>\n",
       "      <td>-8GxPT6Z3OKYFimrUcYi1A</td>\n",
       "      <td>39.032169</td>\n",
       "      <td>-35.0000</td>\n",
       "      <td>1.0</td>\n",
       "      <td>CurbRamp</td>\n",
       "      <td>426</td>\n",
       "      <td>206</td>\n",
       "      <td>1897</td>\n",
       "      <td>-1076</td>\n",
       "      <td>47.687786</td>\n",
       "      <td>-122.402542</td>\n",
       "      <td>1.137692</td>\n",
       "      <td>15.489896</td>\n",
       "      <td>8.363878</td>\n",
       "      <td>0</td>\n",
       "    </tr>\n",
       "  </tbody>\n",
       "</table>\n",
       "</div>"
      ],
      "text/plain": [
       "                                       user_id  audit_task_id  \\\n",
       "label_id                                                        \n",
       "10407     0e1ae564-6d72-4670-98e4-71369cc5ab26           3366   \n",
       "10409     0e1ae564-6d72-4670-98e4-71369cc5ab26           3367   \n",
       "10412     0e1ae564-6d72-4670-98e4-71369cc5ab26           3368   \n",
       "10413     0e1ae564-6d72-4670-98e4-71369cc5ab26           3368   \n",
       "10429     0e1ae564-6d72-4670-98e4-71369cc5ab26           3378   \n",
       "\n",
       "          temporary_label_id  correct     index         gsv_panorama_id  \\\n",
       "label_id                                                                  \n",
       "10407                      5     True  18364631  L7SZej2SoaWbaqWE5bdB3Q   \n",
       "10409                      7    False  18368154  KR-t1fL7CYXLuiwOpovEow   \n",
       "10412                      3     True  18372571  FDr1tDKldYX_PRQYQG713A   \n",
       "10413                      4    False  18372984  EfYgFxuE0WkXVYEo0DJRsg   \n",
       "10429                     20     True  18386753  -8GxPT6Z3OKYFimrUcYi1A   \n",
       "\n",
       "             heading    pitch  zoom       labelType canvasX canvasY  \\\n",
       "label_id                                                              \n",
       "10407     163.000000 -35.0000   1.0      NoCurbRamp     642     226   \n",
       "10409     246.437500 -29.5625   1.0      NoCurbRamp     490     294   \n",
       "10412     282.375000 -28.2500   1.0  SurfaceProblem     484     167   \n",
       "10413     282.187500 -29.9375   1.0  SurfaceProblem     490     147   \n",
       "10429      39.032169 -35.0000   1.0        CurbRamp     426     206   \n",
       "\n",
       "          sv_image_x  sv_image_y        lat         lng   distance    percent  \\\n",
       "label_id                                                                        \n",
       "10407           7629        -934  47.673359 -122.401878  10.140893  12.776624   \n",
       "10409          10007       -1294  47.672207 -122.401894   7.524051  22.726504   \n",
       "10412          11160        -580  47.678715 -122.398766  31.683946  47.728451   \n",
       "10413          11177        -508  47.678722 -122.398911  43.905207  66.138486   \n",
       "10429           1897       -1076  47.687786 -122.402542   1.137692  15.489896   \n",
       "\n",
       "          dist_to_street  label_type  \n",
       "label_id                              \n",
       "10407           4.897178           1  \n",
       "10409           4.664472           1  \n",
       "10412           1.872057           3  \n",
       "10413           2.937464           3  \n",
       "10429           8.363878           0  "
      ]
     },
     "execution_count": 33,
     "metadata": {},
     "output_type": "execute_result"
    }
   ],
   "source": [
    "labels_joined.head()"
   ]
  },
  {
   "cell_type": "code",
   "execution_count": 460,
   "metadata": {},
   "outputs": [
    {
     "data": {
      "text/plain": [
       "(5406, 20)"
      ]
     },
     "execution_count": 460,
     "metadata": {},
     "output_type": "execute_result"
    }
   ],
   "source": [
    "labels_joined.shape"
   ]
  },
  {
   "cell_type": "markdown",
   "metadata": {},
   "source": [
    "# Classification"
   ]
  },
  {
   "cell_type": "code",
   "execution_count": 438,
   "metadata": {},
   "outputs": [],
   "source": [
    "features = ['pitch', 'label_type', 'canvasX', 'canvasY', 'distance', 'percent', 'dist_to_street', 'sv_image_x', 'sv_image_y']"
   ]
  },
  {
   "cell_type": "code",
   "execution_count": 439,
   "metadata": {},
   "outputs": [],
   "source": [
    "# X = labels_joined[['pitch', 'label_type', 'canvasX', 'canvasY', 'distance', 'percent']].values\n",
    "X = labels_joined[features].values\n",
    "y = labels_joined['correct'].astype(int).values\n",
    "label_id = labels_joined.index.values\n",
    "label_type = labels_joined['labelType'].values"
   ]
  },
  {
   "cell_type": "code",
   "execution_count": 345,
   "metadata": {},
   "outputs": [],
   "source": [
    "# # only select a certain type\n",
    "# mask = (label_type=='NoCurbRamp')\n",
    "# X = X[mask]\n",
    "# y = y[mask]\n",
    "# label_id = label_id[mask]\n",
    "# label_type = label_type[mask]"
   ]
  },
  {
   "cell_type": "code",
   "execution_count": 346,
   "metadata": {},
   "outputs": [],
   "source": [
    "# X = np.concatenate((X, one_hot_label), axis=1)"
   ]
  },
  {
   "cell_type": "code",
   "execution_count": 347,
   "metadata": {},
   "outputs": [],
   "source": [
    "# # Undersample the majority class\n",
    "# incorrect_indices, = np.where(y == 0)\n",
    "# correct_indices, = np.where(y == 1)\n",
    "# needed = min(len(incorrect_indices), len(correct_indices))\n",
    "# chosen_indices = np.concatenate((np.random.choice(correct_indices, needed, replace=False), np.random.choice(incorrect_indices, needed, replace=False)))\n",
    "\n",
    "# X = X[chosen_indices]\n",
    "# y = y[chosen_indices]"
   ]
  },
  {
   "cell_type": "code",
   "execution_count": 348,
   "metadata": {},
   "outputs": [],
   "source": [
    "# label_type = label_type[chosen_indices]"
   ]
  },
  {
   "cell_type": "code",
   "execution_count": 440,
   "metadata": {},
   "outputs": [],
   "source": [
    "from sklearn.ensemble import RandomForestClassifier, BaggingClassifier\n",
    "from sklearn.linear_model import LogisticRegressionCV\n",
    "# from sklearn.preprocessing import OneHotEncoder\n",
    "from sklearn.model_selection import KFold\n",
    "from sklearn.tree import DecisionTreeClassifier, export_graphviz\n",
    "from imblearn.over_sampling import RandomOverSampler, SMOTE, ADASYN\n",
    "from imblearn.under_sampling import RandomUnderSampler\n",
    "from imblearn.ensemble import BalancedRandomForestClassifier, EasyEnsembleClassifier\n",
    "from sklearn.neural_network import MLPClassifier\n",
    "from sklearn import svm"
   ]
  },
  {
   "cell_type": "code",
   "execution_count": 441,
   "metadata": {},
   "outputs": [],
   "source": [
    "cutoff_invalid = 0.8\n",
    "cutoff_valid = 0.8"
   ]
  },
  {
   "cell_type": "code",
   "execution_count": 442,
   "metadata": {
    "scrolled": false
   },
   "outputs": [
    {
     "name": "stdout",
     "output_type": "stream",
     "text": [
      "tn: 97, tp: 441, fn: 444, fp: 100\n",
      "tn: 86, tp: 453, fn: 451, fp: 91\n",
      "tn: 87, tp: 457, fn: 450, fp: 87\n",
      "tn: 111, tp: 432, fn: 430, fp: 108\n",
      "tn: 107, tp: 444, fn: 422, fp: 108\n"
     ]
    }
   ],
   "source": [
    "total = 0\n",
    "predicted = 0\n",
    "tp = 0\n",
    "tn = 0\n",
    "fp = 0\n",
    "fn = 0\n",
    "counter = 0\n",
    "correct_prob = np.zeros(y.shape[0])\n",
    "for train_index, test_index in KFold(n_splits=5, shuffle=True, random_state=0).split(X):\n",
    "    counter += 1\n",
    "\n",
    "    X_train, X_test = X[train_index], X[test_index]\n",
    "    y_train, y_test = y[train_index], y[test_index]\n",
    "    \n",
    "#     sampler = RandomUnderSampler(random_state=0)\n",
    "#     sampler = RandomOverSampler(random_state=0)\n",
    "#     X_resampled, y_resampled = sampler.fit_resample(X_train, y_train)\n",
    "    X_resampled, y_resampled = X_train, y_train \n",
    "#     X_resampled, y_resampled = sampler.fit_resample(X_train, y_train)\n",
    "    \n",
    "    clf = RandomForestClassifier(n_jobs=-1, random_state=0, n_estimators=1000)\n",
    "#     clf = BalancedRandomForestClassifier(n_jobs=-1, random_state=0, n_estimators=1000)\n",
    "#     clf = BaggingClassifier(random_state=0)\n",
    "#     clf = LogisticRegressionCV(n_jobs=-1, random_state=0, cv=5, max_iter=500)\n",
    "#     clf = DecisionTreeClassifier(random_state=0)\n",
    "#     clf = MLPClassifier(random_state=0, verbose=True)\n",
    "    clf.fit(X_resampled, y_resampled)\n",
    "    \n",
    "#     neigh = KNeighborsClassifier(n_neighbors=n_neighbors)\n",
    "    \n",
    "#     with open(\"tree.txt\", \"w\") as f:\n",
    "#         f = export_graphviz(clf, out_file=f)\n",
    "    use_probabilities = False\n",
    "    \n",
    "    if use_probabilities:\n",
    "        prediction = clf.predict_proba(X_test)\n",
    "    else:\n",
    "        p = clf.predict(X_test)\n",
    "        prediction = np.concatenate([1-p, p]).reshape((y_test.shape[0], 2))\n",
    "        \n",
    "    correct_prob[test_index] = prediction[:, 1]\n",
    "    pred_neg = prediction[:, 0] > cutoff_invalid\n",
    "    pred_pos = prediction[:, 1] > cutoff_valid\n",
    "\n",
    "    tn_ = np.sum(y_test[pred_neg] == 0)\n",
    "    fn_ = np.sum(pred_neg) - tn_\n",
    "    tp_ = np.sum(y_test[pred_pos] == 1)\n",
    "    fp_ = np.sum(pred_pos) - tp_\n",
    "\n",
    "\n",
    "#     print('tn: ' + str(label_id[test_index][pred_neg & (y_test == 0)]))\n",
    "#     print('fn: ' + str(label_id[test_index][pred_neg & (y_test == 1)]))\n",
    "    \n",
    "    print(f'tn: {tn_}, tp: {tp_}, fn: {fn_}, fp: {fp_}')\n",
    "    \n",
    "    predicted += (tn_ + fn_ + tp_ + fp_)\n",
    "    tn += tn_\n",
    "    fn += fn_\n",
    "    tp += tp_\n",
    "    fp += fp_\n",
    "    \n",
    "    total += y_test.shape[0]"
   ]
  },
  {
   "cell_type": "code",
   "execution_count": 443,
   "metadata": {},
   "outputs": [],
   "source": [
    "# plt.figure()\n",
    "# plt.ylabel('importance')\n",
    "# plt.title('Feature Importances')\n",
    "# plt.bar(features, clf.feature_importances_)\n",
    "# locs, labels = plt.xticks()\n",
    "# _ = plt.setp(labels, rotation=45)"
   ]
  },
  {
   "cell_type": "code",
   "execution_count": 444,
   "metadata": {
    "scrolled": true
   },
   "outputs": [
    {
     "name": "stdout",
     "output_type": "stream",
     "text": [
      "precision:\t50.22%\n",
      "recall:\t\t49.69%\n",
      "predicted:\t100.00%\n",
      "tp / tp + fp:\t81.84%\n",
      "tn / tn + fn:\t18.18%\n"
     ]
    }
   ],
   "source": [
    "accuracy = (tp + tn) / predicted\n",
    "print(f'precision:\\t{100*accuracy:.2f}%')\n",
    "print(f'recall:\\t\\t{100*tn/(tn+fp):.2f}%')\n",
    "print(f'predicted:\\t{100*predicted/total:.2f}%')\n",
    "print(f'tp / tp + fp:\\t{100*tp/(tp+fp):.2f}%')\n",
    "print(f'tn / tn + fn:\\t{100*tn/(tn+fn):.2f}%')"
   ]
  },
  {
   "cell_type": "code",
   "execution_count": 445,
   "metadata": {},
   "outputs": [
    {
     "data": {
      "text/plain": [
       "0.5022197558268591"
      ]
     },
     "execution_count": 445,
     "metadata": {},
     "output_type": "execute_result"
    }
   ],
   "source": []
  },
  {
   "cell_type": "code",
   "execution_count": 187,
   "metadata": {
    "scrolled": false
   },
   "outputs": [
    {
     "data": {
      "image/png": "[encoded data removed]",
      "text/plain": [
       "<Figure size 432x288 with 1 Axes>"
      ]
     },
     "metadata": {
      "needs_background": "light"
     },
     "output_type": "display_data"
    },
    {
     "data": {
      "image/png": "[encoded data removed]",
      "text/plain": [
       "<Figure size 432x288 with 1 Axes>"
      ]
     },
     "metadata": {
      "needs_background": "light"
     },
     "output_type": "display_data"
    },
    {
     "data": {
      "image/png": "[encoded data removed]",
      "text/plain": [
       "<Figure size 432x288 with 1 Axes>"
      ]
     },
     "metadata": {
      "needs_background": "light"
     },
     "output_type": "display_data"
    },
    {
     "data": {
      "image/png": "[encoded data removed]",
      "text/plain": [
       "<Figure size 432x288 with 1 Axes>"
      ]
     },
     "metadata": {
      "needs_background": "light"
     },
     "output_type": "display_data"
    }
   ],
   "source": [
    "for chosen_type in np.unique(label_type):\n",
    "    fig = plt.figure()\n",
    "    plt.title(f'Probability of predicting correct, {chosen_type}')\n",
    "    plt.hist(correct_prob[y==1 & (label_type == chosen_type)], bins=100, alpha=0.5, label='correct')\n",
    "    plt.hist(correct_prob[y==0 & (label_type == chosen_type)], bins=100, alpha=0.5, label='incorrect')\n",
    "    plt.xlabel('probability of predicting correct')\n",
    "    plt.ylabel('absolute count')\n",
    "    plt.legend()"
   ]
  },
  {
   "cell_type": "code",
   "execution_count": 164,
   "metadata": {},
   "outputs": [
    {
     "data": {
      "text/plain": [
       "<matplotlib.legend.Legend at 0x1a557256a0>"
      ]
     },
     "execution_count": 164,
     "metadata": {},
     "output_type": "execute_result"
    },
    {
     "data": {
      "image/png": "[encoded data removed]",
      "text/plain": [
       "<Figure size 432x288 with 1 Axes>"
      ]
     },
     "metadata": {
      "needs_background": "light"
     },
     "output_type": "display_data"
    }
   ],
   "source": [
    "fig = plt.figure()\n",
    "plt.title(f'Probability of predicting correct')\n",
    "plt.hist(correct_prob[y==1], bins=100, alpha=0.5, label='correct')\n",
    "plt.hist(correct_prob[y==0], bins=100, alpha=0.5, label='incorrect')\n",
    "plt.xlabel('probability of predicting correct')\n",
    "plt.ylabel('absolute count')\n",
    "plt.legend()"
   ]
  },
  {
   "cell_type": "markdown",
   "metadata": {},
   "source": [
    "## Classifying correctness based on lat/lng"
   ]
  },
  {
   "cell_type": "code",
   "execution_count": 256,
   "metadata": {},
   "outputs": [],
   "source": [
    "from sklearn.neighbors import KNeighborsClassifier\n",
    "from sklearn.model_selection import train_test_split\n",
    "from sklearn import metrics"
   ]
  },
  {
   "cell_type": "code",
   "execution_count": 221,
   "metadata": {},
   "outputs": [],
   "source": [
    "vals = pd.DataFrame([labels_joined['lat'], labels_joined['lng'], labels_joined['correct']]).T"
   ]
  },
  {
   "cell_type": "code",
   "execution_count": 222,
   "metadata": {},
   "outputs": [],
   "source": [
    "vals = vals[(vals['lat'] > 47) & (vals['lat'] < 48)]"
   ]
  },
  {
   "cell_type": "code",
   "execution_count": 228,
   "metadata": {},
   "outputs": [
    {
     "data": {
      "text/plain": [
       "<matplotlib.collections.PathCollection at 0x1a4703a048>"
      ]
     },
     "execution_count": 228,
     "metadata": {},
     "output_type": "execute_result"
    },
    {
     "data": {
      "image/png": "[encoded data removed]",
      "text/plain": [
       "<Figure size 432x288 with 1 Axes>"
      ]
     },
     "metadata": {
      "needs_background": "light"
     },
     "output_type": "display_data"
    }
   ],
   "source": [
    "plt.figure()\n",
    "plt.scatter(vals.lat, vals.lng, c=vals.correct, alpha=0.1)"
   ]
  },
  {
   "cell_type": "code",
   "execution_count": 574,
   "metadata": {},
   "outputs": [],
   "source": [
    "X_train, X_test, y_train, y_test = train_test_split(vals[['lat', 'lng']], vals['correct'], test_size=0.2)"
   ]
  },
  {
   "cell_type": "code",
   "execution_count": 559,
   "metadata": {},
   "outputs": [],
   "source": [
    "n_neighbors = 100"
   ]
  },
  {
   "cell_type": "code",
   "execution_count": 560,
   "metadata": {},
   "outputs": [],
   "source": [
    "# neigh = KNeighborsClassifier(n_neighbors=n_neighbors)\n",
    "# neigh = RandomForestClassifier(n_estimators=1000)\n",
    "neigh = BaggingClassifier(n_jobs=-1, n_estimators=1000)\n",
    "# neigh = DecisionTreeClassifier()\n",
    "neigh.fit(X_train, y_train)\n",
    "prediction = neigh.predict_proba(X_test)\n",
    "# prediction = neigh.predict(X_test)"
   ]
  },
  {
   "cell_type": "code",
   "execution_count": 564,
   "metadata": {},
   "outputs": [
    {
     "data": {
      "application/javascript": [
       "/* Put everything inside the global mpl namespace */\n",
       "window.mpl = {};\n",
       "\n",
       "\n",
       "mpl.get_websocket_type = function() {\n",
       "    if (typeof(WebSocket) !== 'undefined') {\n",
       "        return WebSocket;\n",
       "    } else if (typeof(MozWebSocket) !== 'undefined') {\n",
       "        return MozWebSocket;\n",
       "    } else {\n",
       "        alert('Your browser does not have WebSocket support.' +\n",
       "              'Please try Chrome, Safari or Firefox ≥ 6. ' +\n",
       "              'Firefox 4 and 5 are also supported but you ' +\n",
       "              'have to enable WebSockets in about:config.');\n",
       "    };\n",
       "}\n",
       "\n",
       "mpl.figure = function(figure_id, websocket, ondownload, parent_element) {\n",
       "    this.id = figure_id;\n",
       "\n",
       "    this.ws = websocket;\n",
       "\n",
       "    this.supports_binary = (this.ws.binaryType != undefined);\n",
       "\n",
       "    if (!this.supports_binary) {\n",
       "        var warnings = document.getElementById(\"mpl-warnings\");\n",
       "        if (warnings) {\n",
       "            warnings.style.display = 'block';\n",
       "            warnings.textContent = (\n",
       "                \"This browser does not support binary websocket messages. \" +\n",
       "                    \"Performance may be slow.\");\n",
       "        }\n",
       "    }\n",
       "\n",
       "    this.imageObj = new Image();\n",
       "\n",
       "    this.context = undefined;\n",
       "    this.message = undefined;\n",
       "    this.canvas = undefined;\n",
       "    this.rubberband_canvas = undefined;\n",
       "    this.rubberband_context = undefined;\n",
       "    this.format_dropdown = undefined;\n",
       "\n",
       "    this.image_mode = 'full';\n",
       "\n",
       "    this.root = $('<div/>');\n",
       "    this._root_extra_style(this.root)\n",
       "    this.root.attr('style', 'display: inline-block');\n",
       "\n",
       "    $(parent_element).append(this.root);\n",
       "\n",
       "    this._init_header(this);\n",
       "    this._init_canvas(this);\n",
       "    this._init_toolbar(this);\n",
       "\n",
       "    var fig = this;\n",
       "\n",
       "    this.waiting = false;\n",
       "\n",
       "    this.ws.onopen =  function () {\n",
       "            fig.send_message(\"supports_binary\", {value: fig.supports_binary});\n",
       "            fig.send_message(\"send_image_mode\", {});\n",
       "            if (mpl.ratio != 1) {\n",
       "                fig.send_message(\"set_dpi_ratio\", {'dpi_ratio': mpl.ratio});\n",
       "            }\n",
       "            fig.send_message(\"refresh\", {});\n",
       "        }\n",
       "\n",
       "    this.imageObj.onload = function() {\n",
       "            if (fig.image_mode == 'full') {\n",
       "                // Full images could contain transparency (where diff images\n",
       "                // almost always do), so we need to clear the canvas so that\n",
       "                // there is no ghosting.\n",
       "                fig.context.clearRect(0, 0, fig.canvas.width, fig.canvas.height);\n",
       "            }\n",
       "            fig.context.drawImage(fig.imageObj, 0, 0);\n",
       "        };\n",
       "\n",
       "    this.imageObj.onunload = function() {\n",
       "        fig.ws.close();\n",
       "    }\n",
       "\n",
       "    this.ws.onmessage = this._make_on_message_function(this);\n",
       "\n",
       "    this.ondownload = ondownload;\n",
       "}\n",
       "\n",
       "mpl.figure.prototype._init_header = function() {\n",
       "    var titlebar = $(\n",
       "        '<div class=\"ui-dialog-titlebar ui-widget-header ui-corner-all ' +\n",
       "        'ui-helper-clearfix\"/>');\n",
       "    var titletext = $(\n",
       "        '<div class=\"ui-dialog-title\" style=\"width: 100%; ' +\n",
       "        'text-align: center; padding: 3px;\"/>');\n",
       "    titlebar.append(titletext)\n",
       "    this.root.append(titlebar);\n",
       "    this.header = titletext[0];\n",
       "}\n",
       "\n",
       "\n",
       "\n",
       "mpl.figure.prototype._canvas_extra_style = function(canvas_div) {\n",
       "\n",
       "}\n",
       "\n",
       "\n",
       "mpl.figure.prototype._root_extra_style = function(canvas_div) {\n",
       "\n",
       "}\n",
       "\n",
       "mpl.figure.prototype._init_canvas = function() {\n",
       "    var fig = this;\n",
       "\n",
       "    var canvas_div = $('<div/>');\n",
       "\n",
       "    canvas_div.attr('style', 'position: relative; clear: both; outline: 0');\n",
       "\n",
       "    function canvas_keyboard_event(event) {\n",
       "        return fig.key_event(event, event['data']);\n",
       "    }\n",
       "\n",
       "    canvas_div.keydown('key_press', canvas_keyboard_event);\n",
       "    canvas_div.keyup('key_release', canvas_keyboard_event);\n",
       "    this.canvas_div = canvas_div\n",
       "    this._canvas_extra_style(canvas_div)\n",
       "    this.root.append(canvas_div);\n",
       "\n",
       "    var canvas = $('<canvas/>');\n",
       "    canvas.addClass('mpl-canvas');\n",
       "    canvas.attr('style', \"left: 0; top: 0; z-index: 0; outline: 0\")\n",
       "\n",
       "    this.canvas = canvas[0];\n",
       "    this.context = canvas[0].getContext(\"2d\");\n",
       "\n",
       "    var backingStore = this.context.backingStorePixelRatio ||\n",
       "\tthis.context.webkitBackingStorePixelRatio ||\n",
       "\tthis.context.mozBackingStorePixelRatio ||\n",
       "\tthis.context.msBackingStorePixelRatio ||\n",
       "\tthis.context.oBackingStorePixelRatio ||\n",
       "\tthis.context.backingStorePixelRatio || 1;\n",
       "\n",
       "    mpl.ratio = (window.devicePixelRatio || 1) / backingStore;\n",
       "\n",
       "    var rubberband = $('<canvas/>');\n",
       "    rubberband.attr('style', \"position: absolute; left: 0; top: 0; z-index: 1;\")\n",
       "\n",
       "    var pass_mouse_events = true;\n",
       "\n",
       "    canvas_div.resizable({\n",
       "        start: function(event, ui) {\n",
       "            pass_mouse_events = false;\n",
       "        },\n",
       "        resize: function(event, ui) {\n",
       "            fig.request_resize(ui.size.width, ui.size.height);\n",
       "        },\n",
       "        stop: function(event, ui) {\n",
       "            pass_mouse_events = true;\n",
       "            fig.request_resize(ui.size.width, ui.size.height);\n",
       "        },\n",
       "    });\n",
       "\n",
       "    function mouse_event_fn(event) {\n",
       "        if (pass_mouse_events)\n",
       "            return fig.mouse_event(event, event['data']);\n",
       "    }\n",
       "\n",
       "    rubberband.mousedown('button_press', mouse_event_fn);\n",
       "    rubberband.mouseup('button_release', mouse_event_fn);\n",
       "    // Throttle sequential mouse events to 1 every 20ms.\n",
       "    rubberband.mousemove('motion_notify', mouse_event_fn);\n",
       "\n",
       "    rubberband.mouseenter('figure_enter', mouse_event_fn);\n",
       "    rubberband.mouseleave('figure_leave', mouse_event_fn);\n",
       "\n",
       "    canvas_div.on(\"wheel\", function (event) {\n",
       "        event = event.originalEvent;\n",
       "        event['data'] = 'scroll'\n",
       "        if (event.deltaY < 0) {\n",
       "            event.step = 1;\n",
       "        } else {\n",
       "            event.step = -1;\n",
       "        }\n",
       "        mouse_event_fn(event);\n",
       "    });\n",
       "\n",
       "    canvas_div.append(canvas);\n",
       "    canvas_div.append(rubberband);\n",
       "\n",
       "    this.rubberband = rubberband;\n",
       "    this.rubberband_canvas = rubberband[0];\n",
       "    this.rubberband_context = rubberband[0].getContext(\"2d\");\n",
       "    this.rubberband_context.strokeStyle = \"#000000\";\n",
       "\n",
       "    this._resize_canvas = function(width, height) {\n",
       "        // Keep the size of the canvas, canvas container, and rubber band\n",
       "        // canvas in synch.\n",
       "        canvas_div.css('width', width)\n",
       "        canvas_div.css('height', height)\n",
       "\n",
       "        canvas.attr('width', width * mpl.ratio);\n",
       "        canvas.attr('height', height * mpl.ratio);\n",
       "        canvas.attr('style', 'width: ' + width + 'px; height: ' + height + 'px;');\n",
       "\n",
       "        rubberband.attr('width', width);\n",
       "        rubberband.attr('height', height);\n",
       "    }\n",
       "\n",
       "    // Set the figure to an initial 600x600px, this will subsequently be updated\n",
       "    // upon first draw.\n",
       "    this._resize_canvas(600, 600);\n",
       "\n",
       "    // Disable right mouse context menu.\n",
       "    $(this.rubberband_canvas).bind(\"contextmenu\",function(e){\n",
       "        return false;\n",
       "    });\n",
       "\n",
       "    function set_focus () {\n",
       "        canvas.focus();\n",
       "        canvas_div.focus();\n",
       "    }\n",
       "\n",
       "    window.setTimeout(set_focus, 100);\n",
       "}\n",
       "\n",
       "mpl.figure.prototype._init_toolbar = function() {\n",
       "    var fig = this;\n",
       "\n",
       "    var nav_element = $('<div/>')\n",
       "    nav_element.attr('style', 'width: 100%');\n",
       "    this.root.append(nav_element);\n",
       "\n",
       "    // Define a callback function for later on.\n",
       "    function toolbar_event(event) {\n",
       "        return fig.toolbar_button_onclick(event['data']);\n",
       "    }\n",
       "    function toolbar_mouse_event(event) {\n",
       "        return fig.toolbar_button_onmouseover(event['data']);\n",
       "    }\n",
       "\n",
       "    for(var toolbar_ind in mpl.toolbar_items) {\n",
       "        var name = mpl.toolbar_items[toolbar_ind][0];\n",
       "        var tooltip = mpl.toolbar_items[toolbar_ind][1];\n",
       "        var image = mpl.toolbar_items[toolbar_ind][2];\n",
       "        var method_name = mpl.toolbar_items[toolbar_ind][3];\n",
       "\n",
       "        if (!name) {\n",
       "            // put a spacer in here.\n",
       "            continue;\n",
       "        }\n",
       "        var button = $('<button/>');\n",
       "        button.addClass('ui-button ui-widget ui-state-default ui-corner-all ' +\n",
       "                        'ui-button-icon-only');\n",
       "        button.attr('role', 'button');\n",
       "        button.attr('aria-disabled', 'false');\n",
       "        button.click(method_name, toolbar_event);\n",
       "        button.mouseover(tooltip, toolbar_mouse_event);\n",
       "\n",
       "        var icon_img = $('<span/>');\n",
       "        icon_img.addClass('ui-button-icon-primary ui-icon');\n",
       "        icon_img.addClass(image);\n",
       "        icon_img.addClass('ui-corner-all');\n",
       "\n",
       "        var tooltip_span = $('<span/>');\n",
       "        tooltip_span.addClass('ui-button-text');\n",
       "        tooltip_span.html(tooltip);\n",
       "\n",
       "        button.append(icon_img);\n",
       "        button.append(tooltip_span);\n",
       "\n",
       "        nav_element.append(button);\n",
       "    }\n",
       "\n",
       "    var fmt_picker_span = $('<span/>');\n",
       "\n",
       "    var fmt_picker = $('<select/>');\n",
       "    fmt_picker.addClass('mpl-toolbar-option ui-widget ui-widget-content');\n",
       "    fmt_picker_span.append(fmt_picker);\n",
       "    nav_element.append(fmt_picker_span);\n",
       "    this.format_dropdown = fmt_picker[0];\n",
       "\n",
       "    for (var ind in mpl.extensions) {\n",
       "        var fmt = mpl.extensions[ind];\n",
       "        var option = $(\n",
       "            '<option/>', {selected: fmt === mpl.default_extension}).html(fmt);\n",
       "        fmt_picker.append(option)\n",
       "    }\n",
       "\n",
       "    // Add hover states to the ui-buttons\n",
       "    $( \".ui-button\" ).hover(\n",
       "        function() { $(this).addClass(\"ui-state-hover\");},\n",
       "        function() { $(this).removeClass(\"ui-state-hover\");}\n",
       "    );\n",
       "\n",
       "    var status_bar = $('<span class=\"mpl-message\"/>');\n",
       "    nav_element.append(status_bar);\n",
       "    this.message = status_bar[0];\n",
       "}\n",
       "\n",
       "mpl.figure.prototype.request_resize = function(x_pixels, y_pixels) {\n",
       "    // Request matplotlib to resize the figure. Matplotlib will then trigger a resize in the client,\n",
       "    // which will in turn request a refresh of the image.\n",
       "    this.send_message('resize', {'width': x_pixels, 'height': y_pixels});\n",
       "}\n",
       "\n",
       "mpl.figure.prototype.send_message = function(type, properties) {\n",
       "    properties['type'] = type;\n",
       "    properties['figure_id'] = this.id;\n",
       "    this.ws.send(JSON.stringify(properties));\n",
       "}\n",
       "\n",
       "mpl.figure.prototype.send_draw_message = function() {\n",
       "    if (!this.waiting) {\n",
       "        this.waiting = true;\n",
       "        this.ws.send(JSON.stringify({type: \"draw\", figure_id: this.id}));\n",
       "    }\n",
       "}\n",
       "\n",
       "\n",
       "mpl.figure.prototype.handle_save = function(fig, msg) {\n",
       "    var format_dropdown = fig.format_dropdown;\n",
       "    var format = format_dropdown.options[format_dropdown.selectedIndex].value;\n",
       "    fig.ondownload(fig, format);\n",
       "}\n",
       "\n",
       "\n",
       "mpl.figure.prototype.handle_resize = function(fig, msg) {\n",
       "    var size = msg['size'];\n",
       "    if (size[0] != fig.canvas.width || size[1] != fig.canvas.height) {\n",
       "        fig._resize_canvas(size[0], size[1]);\n",
       "        fig.send_message(\"refresh\", {});\n",
       "    };\n",
       "}\n",
       "\n",
       "mpl.figure.prototype.handle_rubberband = function(fig, msg) {\n",
       "    var x0 = msg['x0'] / mpl.ratio;\n",
       "    var y0 = (fig.canvas.height - msg['y0']) / mpl.ratio;\n",
       "    var x1 = msg['x1'] / mpl.ratio;\n",
       "    var y1 = (fig.canvas.height - msg['y1']) / mpl.ratio;\n",
       "    x0 = Math.floor(x0) + 0.5;\n",
       "    y0 = Math.floor(y0) + 0.5;\n",
       "    x1 = Math.floor(x1) + 0.5;\n",
       "    y1 = Math.floor(y1) + 0.5;\n",
       "    var min_x = Math.min(x0, x1);\n",
       "    var min_y = Math.min(y0, y1);\n",
       "    var width = Math.abs(x1 - x0);\n",
       "    var height = Math.abs(y1 - y0);\n",
       "\n",
       "    fig.rubberband_context.clearRect(\n",
       "        0, 0, fig.canvas.width, fig.canvas.height);\n",
       "\n",
       "    fig.rubberband_context.strokeRect(min_x, min_y, width, height);\n",
       "}\n",
       "\n",
       "mpl.figure.prototype.handle_figure_label = function(fig, msg) {\n",
       "    // Updates the figure title.\n",
       "    fig.header.textContent = msg['label'];\n",
       "}\n",
       "\n",
       "mpl.figure.prototype.handle_cursor = function(fig, msg) {\n",
       "    var cursor = msg['cursor'];\n",
       "    switch(cursor)\n",
       "    {\n",
       "    case 0:\n",
       "        cursor = 'pointer';\n",
       "        break;\n",
       "    case 1:\n",
       "        cursor = 'default';\n",
       "        break;\n",
       "    case 2:\n",
       "        cursor = 'crosshair';\n",
       "        break;\n",
       "    case 3:\n",
       "        cursor = 'move';\n",
       "        break;\n",
       "    }\n",
       "    fig.rubberband_canvas.style.cursor = cursor;\n",
       "}\n",
       "\n",
       "mpl.figure.prototype.handle_message = function(fig, msg) {\n",
       "    fig.message.textContent = msg['message'];\n",
       "}\n",
       "\n",
       "mpl.figure.prototype.handle_draw = function(fig, msg) {\n",
       "    // Request the server to send over a new figure.\n",
       "    fig.send_draw_message();\n",
       "}\n",
       "\n",
       "mpl.figure.prototype.handle_image_mode = function(fig, msg) {\n",
       "    fig.image_mode = msg['mode'];\n",
       "}\n",
       "\n",
       "mpl.figure.prototype.updated_canvas_event = function() {\n",
       "    // Called whenever the canvas gets updated.\n",
       "    this.send_message(\"ack\", {});\n",
       "}\n",
       "\n",
       "// A function to construct a web socket function for onmessage handling.\n",
       "// Called in the figure constructor.\n",
       "mpl.figure.prototype._make_on_message_function = function(fig) {\n",
       "    return function socket_on_message(evt) {\n",
       "        if (evt.data instanceof Blob) {\n",
       "            /* FIXME: We get \"Resource interpreted as Image but\n",
       "             * transferred with MIME type text/plain:\" errors on\n",
       "             * Chrome.  But how to set the MIME type?  It doesn't seem\n",
       "             * to be part of the websocket stream */\n",
       "            evt.data.type = \"image/png\";\n",
       "\n",
       "            /* Free the memory for the previous frames */\n",
       "            if (fig.imageObj.src) {\n",
       "                (window.URL || window.webkitURL).revokeObjectURL(\n",
       "                    fig.imageObj.src);\n",
       "            }\n",
       "\n",
       "            fig.imageObj.src = (window.URL || window.webkitURL).createObjectURL(\n",
       "                evt.data);\n",
       "            fig.updated_canvas_event();\n",
       "            fig.waiting = false;\n",
       "            return;\n",
       "        }\n",
       "        else if (typeof evt.data === 'string' && evt.data.slice(0, 21) == \"data:image/png;base64\") {\n",
       "            fig.imageObj.src = evt.data;\n",
       "            fig.updated_canvas_event();\n",
       "            fig.waiting = false;\n",
       "            return;\n",
       "        }\n",
       "\n",
       "        var msg = JSON.parse(evt.data);\n",
       "        var msg_type = msg['type'];\n",
       "\n",
       "        // Call the  \"handle_{type}\" callback, which takes\n",
       "        // the figure and JSON message as its only arguments.\n",
       "        try {\n",
       "            var callback = fig[\"handle_\" + msg_type];\n",
       "        } catch (e) {\n",
       "            console.log(\"No handler for the '\" + msg_type + \"' message type: \", msg);\n",
       "            return;\n",
       "        }\n",
       "\n",
       "        if (callback) {\n",
       "            try {\n",
       "                // console.log(\"Handling '\" + msg_type + \"' message: \", msg);\n",
       "                callback(fig, msg);\n",
       "            } catch (e) {\n",
       "                console.log(\"Exception inside the 'handler_\" + msg_type + \"' callback:\", e, e.stack, msg);\n",
       "            }\n",
       "        }\n",
       "    };\n",
       "}\n",
       "\n",
       "// from http://stackoverflow.com/questions/1114465/getting-mouse-location-in-canvas\n",
       "mpl.findpos = function(e) {\n",
       "    //this section is from http://www.quirksmode.org/js/events_properties.html\n",
       "    var targ;\n",
       "    if (!e)\n",
       "        e = window.event;\n",
       "    if (e.target)\n",
       "        targ = e.target;\n",
       "    else if (e.srcElement)\n",
       "        targ = e.srcElement;\n",
       "    if (targ.nodeType == 3) // defeat Safari bug\n",
       "        targ = targ.parentNode;\n",
       "\n",
       "    // jQuery normalizes the pageX and pageY\n",
       "    // pageX,Y are the mouse positions relative to the document\n",
       "    // offset() returns the position of the element relative to the document\n",
       "    var x = e.pageX - $(targ).offset().left;\n",
       "    var y = e.pageY - $(targ).offset().top;\n",
       "\n",
       "    return {\"x\": x, \"y\": y};\n",
       "};\n",
       "\n",
       "/*\n",
       " * return a copy of an object with only non-object keys\n",
       " * we need this to avoid circular references\n",
       " * http://stackoverflow.com/a/24161582/3208463\n",
       " */\n",
       "function simpleKeys (original) {\n",
       "  return Object.keys(original).reduce(function (obj, key) {\n",
       "    if (typeof original[key] !== 'object')\n",
       "        obj[key] = original[key]\n",
       "    return obj;\n",
       "  }, {});\n",
       "}\n",
       "\n",
       "mpl.figure.prototype.mouse_event = function(event, name) {\n",
       "    var canvas_pos = mpl.findpos(event)\n",
       "\n",
       "    if (name === 'button_press')\n",
       "    {\n",
       "        this.canvas.focus();\n",
       "        this.canvas_div.focus();\n",
       "    }\n",
       "\n",
       "    var x = canvas_pos.x * mpl.ratio;\n",
       "    var y = canvas_pos.y * mpl.ratio;\n",
       "\n",
       "    this.send_message(name, {x: x, y: y, button: event.button,\n",
       "                             step: event.step,\n",
       "                             guiEvent: simpleKeys(event)});\n",
       "\n",
       "    /* This prevents the web browser from automatically changing to\n",
       "     * the text insertion cursor when the button is pressed.  We want\n",
       "     * to control all of the cursor setting manually through the\n",
       "     * 'cursor' event from matplotlib */\n",
       "    event.preventDefault();\n",
       "    return false;\n",
       "}\n",
       "\n",
       "mpl.figure.prototype._key_event_extra = function(event, name) {\n",
       "    // Handle any extra behaviour associated with a key event\n",
       "}\n",
       "\n",
       "mpl.figure.prototype.key_event = function(event, name) {\n",
       "\n",
       "    // Prevent repeat events\n",
       "    if (name == 'key_press')\n",
       "    {\n",
       "        if (event.which === this._key)\n",
       "            return;\n",
       "        else\n",
       "            this._key = event.which;\n",
       "    }\n",
       "    if (name == 'key_release')\n",
       "        this._key = null;\n",
       "\n",
       "    var value = '';\n",
       "    if (event.ctrlKey && event.which != 17)\n",
       "        value += \"ctrl+\";\n",
       "    if (event.altKey && event.which != 18)\n",
       "        value += \"alt+\";\n",
       "    if (event.shiftKey && event.which != 16)\n",
       "        value += \"shift+\";\n",
       "\n",
       "    value += 'k';\n",
       "    value += event.which.toString();\n",
       "\n",
       "    this._key_event_extra(event, name);\n",
       "\n",
       "    this.send_message(name, {key: value,\n",
       "                             guiEvent: simpleKeys(event)});\n",
       "    return false;\n",
       "}\n",
       "\n",
       "mpl.figure.prototype.toolbar_button_onclick = function(name) {\n",
       "    if (name == 'download') {\n",
       "        this.handle_save(this, null);\n",
       "    } else {\n",
       "        this.send_message(\"toolbar_button\", {name: name});\n",
       "    }\n",
       "};\n",
       "\n",
       "mpl.figure.prototype.toolbar_button_onmouseover = function(tooltip) {\n",
       "    this.message.textContent = tooltip;\n",
       "};\n",
       "mpl.toolbar_items = [[\"Home\", \"Reset original view\", \"fa fa-home icon-home\", \"home\"], [\"Back\", \"Back to previous view\", \"fa fa-arrow-left icon-arrow-left\", \"back\"], [\"Forward\", \"Forward to next view\", \"fa fa-arrow-right icon-arrow-right\", \"forward\"], [\"\", \"\", \"\", \"\"], [\"Pan\", \"Pan axes with left mouse, zoom with right\", \"fa fa-arrows icon-move\", \"pan\"], [\"Zoom\", \"Zoom to rectangle\", \"fa fa-square-o icon-check-empty\", \"zoom\"], [\"\", \"\", \"\", \"\"], [\"Download\", \"Download plot\", \"fa fa-floppy-o icon-save\", \"download\"]];\n",
       "\n",
       "mpl.extensions = [\"eps\", \"jpeg\", \"pdf\", \"png\", \"ps\", \"raw\", \"svg\", \"tif\"];\n",
       "\n",
       "mpl.default_extension = \"png\";var comm_websocket_adapter = function(comm) {\n",
       "    // Create a \"websocket\"-like object which calls the given IPython comm\n",
       "    // object with the appropriate methods. Currently this is a non binary\n",
       "    // socket, so there is still some room for performance tuning.\n",
       "    var ws = {};\n",
       "\n",
       "    ws.close = function() {\n",
       "        comm.close()\n",
       "    };\n",
       "    ws.send = function(m) {\n",
       "        //console.log('sending', m);\n",
       "        comm.send(m);\n",
       "    };\n",
       "    // Register the callback with on_msg.\n",
       "    comm.on_msg(function(msg) {\n",
       "        //console.log('receiving', msg['content']['data'], msg);\n",
       "        // Pass the mpl event to the overridden (by mpl) onmessage function.\n",
       "        ws.onmessage(msg['content']['data'])\n",
       "    });\n",
       "    return ws;\n",
       "}\n",
       "\n",
       "mpl.mpl_figure_comm = function(comm, msg) {\n",
       "    // This is the function which gets called when the mpl process\n",
       "    // starts-up an IPython Comm through the \"matplotlib\" channel.\n",
       "\n",
       "    var id = msg.content.data.id;\n",
       "    // Get hold of the div created by the display call when the Comm\n",
       "    // socket was opened in Python.\n",
       "    var element = $(\"#\" + id);\n",
       "    var ws_proxy = comm_websocket_adapter(comm)\n",
       "\n",
       "    function ondownload(figure, format) {\n",
       "        window.open(figure.imageObj.src);\n",
       "    }\n",
       "\n",
       "    var fig = new mpl.figure(id, ws_proxy,\n",
       "                           ondownload,\n",
       "                           element.get(0));\n",
       "\n",
       "    // Call onopen now - mpl needs it, as it is assuming we've passed it a real\n",
       "    // web socket which is closed, not our websocket->open comm proxy.\n",
       "    ws_proxy.onopen();\n",
       "\n",
       "    fig.parent_element = element.get(0);\n",
       "    fig.cell_info = mpl.find_output_cell(\"<div id='\" + id + \"'></div>\");\n",
       "    if (!fig.cell_info) {\n",
       "        console.error(\"Failed to find cell for figure\", id, fig);\n",
       "        return;\n",
       "    }\n",
       "\n",
       "    var output_index = fig.cell_info[2]\n",
       "    var cell = fig.cell_info[0];\n",
       "\n",
       "};\n",
       "\n",
       "mpl.figure.prototype.handle_close = function(fig, msg) {\n",
       "    var width = fig.canvas.width/mpl.ratio\n",
       "    fig.root.unbind('remove')\n",
       "\n",
       "    // Update the output cell to use the data from the current canvas.\n",
       "    fig.push_to_output();\n",
       "    var dataURL = fig.canvas.toDataURL();\n",
       "    // Re-enable the keyboard manager in IPython - without this line, in FF,\n",
       "    // the notebook keyboard shortcuts fail.\n",
       "    IPython.keyboard_manager.enable()\n",
       "    $(fig.parent_element).html('<img src=\"' + dataURL + '\" width=\"' + width + '\">');\n",
       "    fig.close_ws(fig, msg);\n",
       "}\n",
       "\n",
       "mpl.figure.prototype.close_ws = function(fig, msg){\n",
       "    fig.send_message('closing', msg);\n",
       "    // fig.ws.close()\n",
       "}\n",
       "\n",
       "mpl.figure.prototype.push_to_output = function(remove_interactive) {\n",
       "    // Turn the data on the canvas into data in the output cell.\n",
       "    var width = this.canvas.width/mpl.ratio\n",
       "    var dataURL = this.canvas.toDataURL();\n",
       "    this.cell_info[1]['text/html'] = '<img src=\"' + dataURL + '\" width=\"' + width + '\">';\n",
       "}\n",
       "\n",
       "mpl.figure.prototype.updated_canvas_event = function() {\n",
       "    // Tell IPython that the notebook contents must change.\n",
       "    IPython.notebook.set_dirty(true);\n",
       "    this.send_message(\"ack\", {});\n",
       "    var fig = this;\n",
       "    // Wait a second, then push the new image to the DOM so\n",
       "    // that it is saved nicely (might be nice to debounce this).\n",
       "    setTimeout(function () { fig.push_to_output() }, 1000);\n",
       "}\n",
       "\n",
       "mpl.figure.prototype._init_toolbar = function() {\n",
       "    var fig = this;\n",
       "\n",
       "    var nav_element = $('<div/>')\n",
       "    nav_element.attr('style', 'width: 100%');\n",
       "    this.root.append(nav_element);\n",
       "\n",
       "    // Define a callback function for later on.\n",
       "    function toolbar_event(event) {\n",
       "        return fig.toolbar_button_onclick(event['data']);\n",
       "    }\n",
       "    function toolbar_mouse_event(event) {\n",
       "        return fig.toolbar_button_onmouseover(event['data']);\n",
       "    }\n",
       "\n",
       "    for(var toolbar_ind in mpl.toolbar_items){\n",
       "        var name = mpl.toolbar_items[toolbar_ind][0];\n",
       "        var tooltip = mpl.toolbar_items[toolbar_ind][1];\n",
       "        var image = mpl.toolbar_items[toolbar_ind][2];\n",
       "        var method_name = mpl.toolbar_items[toolbar_ind][3];\n",
       "\n",
       "        if (!name) { continue; };\n",
       "\n",
       "        var button = $('<button class=\"btn btn-default\" href=\"#\" title=\"' + name + '\"><i class=\"fa ' + image + ' fa-lg\"></i></button>');\n",
       "        button.click(method_name, toolbar_event);\n",
       "        button.mouseover(tooltip, toolbar_mouse_event);\n",
       "        nav_element.append(button);\n",
       "    }\n",
       "\n",
       "    // Add the status bar.\n",
       "    var status_bar = $('<span class=\"mpl-message\" style=\"text-align:right; float: right;\"/>');\n",
       "    nav_element.append(status_bar);\n",
       "    this.message = status_bar[0];\n",
       "\n",
       "    // Add the close button to the window.\n",
       "    var buttongrp = $('<div class=\"btn-group inline pull-right\"></div>');\n",
       "    var button = $('<button class=\"btn btn-mini btn-primary\" href=\"#\" title=\"Stop Interaction\"><i class=\"fa fa-power-off icon-remove icon-large\"></i></button>');\n",
       "    button.click(function (evt) { fig.handle_close(fig, {}); } );\n",
       "    button.mouseover('Stop Interaction', toolbar_mouse_event);\n",
       "    buttongrp.append(button);\n",
       "    var titlebar = this.root.find($('.ui-dialog-titlebar'));\n",
       "    titlebar.prepend(buttongrp);\n",
       "}\n",
       "\n",
       "mpl.figure.prototype._root_extra_style = function(el){\n",
       "    var fig = this\n",
       "    el.on(\"remove\", function(){\n",
       "\tfig.close_ws(fig, {});\n",
       "    });\n",
       "}\n",
       "\n",
       "mpl.figure.prototype._canvas_extra_style = function(el){\n",
       "    // this is important to make the div 'focusable\n",
       "    el.attr('tabindex', 0)\n",
       "    // reach out to IPython and tell the keyboard manager to turn it's self\n",
       "    // off when our div gets focus\n",
       "\n",
       "    // location in version 3\n",
       "    if (IPython.notebook.keyboard_manager) {\n",
       "        IPython.notebook.keyboard_manager.register_events(el);\n",
       "    }\n",
       "    else {\n",
       "        // location in version 2\n",
       "        IPython.keyboard_manager.register_events(el);\n",
       "    }\n",
       "\n",
       "}\n",
       "\n",
       "mpl.figure.prototype._key_event_extra = function(event, name) {\n",
       "    var manager = IPython.notebook.keyboard_manager;\n",
       "    if (!manager)\n",
       "        manager = IPython.keyboard_manager;\n",
       "\n",
       "    // Check for shift+enter\n",
       "    if (event.shiftKey && event.which == 13) {\n",
       "        this.canvas_div.blur();\n",
       "        event.shiftKey = false;\n",
       "        // Send a \"J\" for go to next cell\n",
       "        event.which = 74;\n",
       "        event.keyCode = 74;\n",
       "        manager.command_mode();\n",
       "        manager.handle_keydown(event);\n",
       "    }\n",
       "}\n",
       "\n",
       "mpl.figure.prototype.handle_save = function(fig, msg) {\n",
       "    fig.ondownload(fig, null);\n",
       "}\n",
       "\n",
       "\n",
       "mpl.find_output_cell = function(html_output) {\n",
       "    // Return the cell and output element which can be found *uniquely* in the notebook.\n",
       "    // Note - this is a bit hacky, but it is done because the \"notebook_saving.Notebook\"\n",
       "    // IPython event is triggered only after the cells have been serialised, which for\n",
       "    // our purposes (turning an active figure into a static one), is too late.\n",
       "    var cells = IPython.notebook.get_cells();\n",
       "    var ncells = cells.length;\n",
       "    for (var i=0; i<ncells; i++) {\n",
       "        var cell = cells[i];\n",
       "        if (cell.cell_type === 'code'){\n",
       "            for (var j=0; j<cell.output_area.outputs.length; j++) {\n",
       "                var data = cell.output_area.outputs[j];\n",
       "                if (data.data) {\n",
       "                    // IPython >= 3 moved mimebundle to data attribute of output\n",
       "                    data = data.data;\n",
       "                }\n",
       "                if (data['text/html'] == html_output) {\n",
       "                    return [cell, data, j];\n",
       "                }\n",
       "            }\n",
       "        }\n",
       "    }\n",
       "}\n",
       "\n",
       "// Register the function which deals with the matplotlib target/channel.\n",
       "// The kernel may be null if the page has been refreshed.\n",
       "if (IPython.notebook.kernel != null) {\n",
       "    IPython.notebook.kernel.comm_manager.register_target('matplotlib', mpl.mpl_figure_comm);\n",
       "}\n"
      ],
      "text/plain": [
       "<IPython.core.display.Javascript object>"
      ]
     },
     "metadata": {},
     "output_type": "display_data"
    },
    {
     "data": {
      "text/html": [
       "<img src=\"data:image/png;base64,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\" width=\"640\">"
      ],
      "text/plain": [
       "<IPython.core.display.HTML object>"
      ]
     },
     "metadata": {},
     "output_type": "display_data"
    },
    {
     "data": {
      "text/plain": [
       "<matplotlib.legend.Legend at 0x1b045fb128>"
      ]
     },
     "execution_count": 564,
     "metadata": {},
     "output_type": "execute_result"
    }
   ],
   "source": [
    "## plt.figure()\n",
    "plt.title('Correctness/incorrectness based on proximity to other correct/incorrect labels')\n",
    "plt.xlabel('probability correct')\n",
    "plt.ylabel('raw count')\n",
    "plt.hist(prediction[:, 1][y_test==1], bins=1000, alpha=0.5, label='correct')\n",
    "plt.hist(prediction[:, 1][y_test==0], bins=1000, alpha=0.5, label='incorrect')\n",
    "plt.legend()"
   ]
  },
  {
   "cell_type": "code",
   "execution_count": 573,
   "metadata": {},
   "outputs": [
    {
     "name": "stdout",
     "output_type": "stream",
     "text": [
      "0.10307017543859649\n",
      "0.925531914893617\n"
     ]
    }
   ],
   "source": [
    "mask = prediction[:, 1] == 1\n",
    "print(np.sum(mask) / np.sum(y_test==1))\n",
    "print(np.mean(y_test[mask]))"
   ]
  },
  {
   "cell_type": "code",
   "execution_count": 577,
   "metadata": {},
   "outputs": [],
   "source": [
    "X = vals[['lat', 'lng']].values\n",
    "y = vals['correct'].values"
   ]
  },
  {
   "cell_type": "code",
   "execution_count": null,
   "metadata": {},
   "outputs": [],
   "source": [
    "for train_index, test_index in KFold(n_splits=5, shuffle=True, random_state=0).split(X):\n",
    "    X_train, X_test = X[train_index], X[test_index]\n",
    "    y_train, y_test = y[train_index], y[test_index]\n",
    "    neigh = BaggingClassifier(n_jobs=-1, n_estimators=1000)\n",
    "    neigh.fit(X_train, y_train)\n",
    "    prediction = neigh.predict_proba(X_test)\n",
    "    mask = prediction[:, 1] == 1\n",
    "    print(f'precision: {(100 * np.mean(y_test[mask])):.2f}%')\n",
    "    print(f'recall: {(100 * np.sum(mask) / np.sum(y_test==1)):.2f}%')\n"
   ]
  },
  {
   "cell_type": "code",
   "execution_count": null,
   "metadata": {},
   "outputs": [],
   "source": []
  }
 ],
 "metadata": {
  "kernelspec": {
   "display_name": "Python 3",
   "language": "python",
   "name": "python3"
  },
  "language_info": {
   "codemirror_mode": {
    "name": "ipython",
    "version": 3
   },
   "file_extension": ".py",
   "mimetype": "text/x-python",
   "name": "python",
   "nbconvert_exporter": "python",
   "pygments_lexer": "ipython3",
   "version": "3.7.3"
  }
 },
 "nbformat": 4,
 "nbformat_minor": 2
}
