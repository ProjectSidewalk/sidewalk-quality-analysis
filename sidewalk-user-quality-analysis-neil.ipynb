{
 "cells": [
  {
   "cell_type": "markdown",
   "metadata": {},
   "source": [
    "Two high-level analyses:\n",
    "- Predict performance (accuracy) using a regression\n",
    "- Classify users into 'bad' vs 'good'--still need to define this but perhaps the threshold is any user < 70% and any user >= 70%\n",
    "\n",
    "For github issues and brainstorming features and analyses, use github:\n",
    "- https://github.com/ProjectSidewalk/sidewalk-quality-analysis/issues"
   ]
  },
  {
   "cell_type": "code",
   "execution_count": 148,
   "metadata": {},
   "outputs": [
    {
     "name": "stdout",
     "output_type": "stream",
     "text": [
      "CPU times: user 7.77 ms, sys: 16.4 ms, total: 24.1 ms\n",
      "Wall time: 28.9 ms\n"
     ]
    }
   ],
   "source": [
    "%%time\n",
    "import pandas as pd\n",
    "import numpy as np\n",
    "from scipy import stats\n",
    "import matplotlib.pyplot as plt\n",
    "import time\n",
    "users = pd.read_csv('ml-users.csv') \n",
    "#display(users)"
   ]
  },
  {
   "cell_type": "code",
   "execution_count": 3,
   "metadata": {},
   "outputs": [],
   "source": [
    "# the interactions table should really have the following header (but doesn't currently)\n",
    "# audit_task_interaction_id, audit_task_id, action, gsv_panorama_id, lat, lng, heading, pitch, zoom, note, \n",
    "# timestamp, temporary_label_id, mission_id \n",
    "\n",
    "# I had to turn off exceptions because of parsing problems, including:\n",
    "# https://github.com/ProjectSidewalk/sidewalk-quality-analysis/issues/3\n",
    "# col_names = ['audit_task_interaction_id', 'audit_task_id', 'action', 'gsv_panorama_id', 'lat', 'lng', \n",
    "#            'heading', 'pitch', 'zoom', 'note', 'timestamp', 'temporary_label_id', 'mission_id']\n",
    "# interactions = pd.read_csv('ml-interactions5000.csv', error_bad_lines=False,\n",
    "#                           header=None, names = col_names, index_col=False) \n",
    "#interactions = pd.read_csv('ml-interactions5000.csv')"
   ]
  },
  {
   "cell_type": "code",
   "execution_count": 4,
   "metadata": {
    "scrolled": false
   },
   "outputs": [
    {
     "name": "stdout",
     "output_type": "stream",
     "text": [
      "Printing all rows where 'action' == NaN...\n"
     ]
    },
    {
     "data": {
      "text/html": [
       "<div>\n",
       "<style scoped>\n",
       "    .dataframe tbody tr th:only-of-type {\n",
       "        vertical-align: middle;\n",
       "    }\n",
       "\n",
       "    .dataframe tbody tr th {\n",
       "        vertical-align: top;\n",
       "    }\n",
       "\n",
       "    .dataframe thead th {\n",
       "        text-align: right;\n",
       "    }\n",
       "</style>\n",
       "<table border=\"1\" class=\"dataframe\">\n",
       "  <thead>\n",
       "    <tr style=\"text-align: right;\">\n",
       "      <th></th>\n",
       "      <th>ml-interactions.csv</th>\n",
       "      <th>user_id</th>\n",
       "      <th>audit_task_interaction_id</th>\n",
       "      <th>audit_task_id</th>\n",
       "      <th>action</th>\n",
       "      <th>gsv_panorama_id</th>\n",
       "      <th>lat</th>\n",
       "      <th>lng</th>\n",
       "      <th>heading</th>\n",
       "      <th>pitch</th>\n",
       "      <th>zoom</th>\n",
       "      <th>note</th>\n",
       "      <th>temporary_label_id</th>\n",
       "      <th>mission_id</th>\n",
       "    </tr>\n",
       "  </thead>\n",
       "  <tbody>\n",
       "    <tr>\n",
       "      <th>18502779</th>\n",
       "      <td>NaN</td>\n",
       "      <td>NaN</td>\n",
       "      <td>NaN</td>\n",
       "      <td>NaN</td>\n",
       "      <td>NaN</td>\n",
       "      <td>NaN</td>\n",
       "      <td>NaN</td>\n",
       "      <td>NaN</td>\n",
       "      <td>NaN</td>\n",
       "      <td>NaN</td>\n",
       "      <td>NaN</td>\n",
       "      <td>NaN</td>\n",
       "      <td>NaN</td>\n",
       "      <td>NaN</td>\n",
       "    </tr>\n",
       "  </tbody>\n",
       "</table>\n",
       "</div>"
      ],
      "text/plain": [
       "         ml-interactions.csv user_id  audit_task_interaction_id  \\\n",
       "18502779                 NaN     NaN                        NaN   \n",
       "\n",
       "          audit_task_id action gsv_panorama_id  lat  lng  heading  pitch  \\\n",
       "18502779            NaN    NaN             NaN  NaN  NaN      NaN    NaN   \n",
       "\n",
       "          zoom note  temporary_label_id  mission_id  \n",
       "18502779   NaN  NaN                 NaN         NaN  "
      ]
     },
     "metadata": {},
     "output_type": "display_data"
    },
    {
     "name": "stdout",
     "output_type": "stream",
     "text": [
      "Printing all rows where 'action' == NaN... there should be no rows\n"
     ]
    },
    {
     "data": {
      "text/html": [
       "<div>\n",
       "<style scoped>\n",
       "    .dataframe tbody tr th:only-of-type {\n",
       "        vertical-align: middle;\n",
       "    }\n",
       "\n",
       "    .dataframe tbody tr th {\n",
       "        vertical-align: top;\n",
       "    }\n",
       "\n",
       "    .dataframe thead th {\n",
       "        text-align: right;\n",
       "    }\n",
       "</style>\n",
       "<table border=\"1\" class=\"dataframe\">\n",
       "  <thead>\n",
       "    <tr style=\"text-align: right;\">\n",
       "      <th></th>\n",
       "      <th>ml-interactions.csv</th>\n",
       "      <th>user_id</th>\n",
       "      <th>audit_task_interaction_id</th>\n",
       "      <th>audit_task_id</th>\n",
       "      <th>action</th>\n",
       "      <th>gsv_panorama_id</th>\n",
       "      <th>lat</th>\n",
       "      <th>lng</th>\n",
       "      <th>heading</th>\n",
       "      <th>pitch</th>\n",
       "      <th>zoom</th>\n",
       "      <th>note</th>\n",
       "      <th>temporary_label_id</th>\n",
       "      <th>mission_id</th>\n",
       "    </tr>\n",
       "  </thead>\n",
       "  <tbody>\n",
       "  </tbody>\n",
       "</table>\n",
       "</div>"
      ],
      "text/plain": [
       "Empty DataFrame\n",
       "Columns: [ml-interactions.csv, user_id, audit_task_interaction_id, audit_task_id, action, gsv_panorama_id, lat, lng, heading, pitch, zoom, note, temporary_label_id, mission_id]\n",
       "Index: []"
      ]
     },
     "metadata": {},
     "output_type": "display_data"
    },
    {
     "name": "stdout",
     "output_type": "stream",
     "text": [
      "CPU times: user 51.4 s, sys: 17.9 s, total: 1min 9s\n",
      "Wall time: 1min 14s\n"
     ]
    }
   ],
   "source": [
    "%%time\n",
    "df_interactions = pd.read_csv('ml-interactions.tar.gz', compression='gzip') # load the full gzip tarball\n",
    "#interactions = pd.read_csv('ml-interactions15000.csv')\n",
    "#display(df_interactions.head())\n",
    "\n",
    "# Do a little cleanup...\n",
    "# In my initial analysis, i found that at least one row has a NaN value for an 'action' field. This should\n",
    "# not happen. So, let's find that row (and others) that have this problem and remove them\n",
    "\n",
    "# pd.isna checks for missing values (NaN values). It returns a boolean array where the index corresponds to\n",
    "# row and the value corresponds to True/False indicating whether there is a NaN value\n",
    "isna_result = pd.isna(df_interactions['action'])\n",
    "\n",
    "print(\"Printing all rows where 'action' == NaN...\")\n",
    "display(df_interactions[isna_result])\n",
    "df_interactions= df_interactions[~isna_result] # we want all rows where isna is False (that is, all rows *without* a NaN for 'action')\n",
    "\n",
    "# As a test, we can again look for NaN 'action' cells\n",
    "isna_result = pd.isna(df_interactions['action'])\n",
    "print(\"Printing all rows where 'action' == NaN... there should be no rows\")\n",
    "display(df_interactions[isna_result])\n"
   ]
  },
  {
   "cell_type": "code",
   "execution_count": 8,
   "metadata": {},
   "outputs": [
    {
     "data": {
      "text/html": [
       "<div>\n",
       "<style scoped>\n",
       "    .dataframe tbody tr th:only-of-type {\n",
       "        vertical-align: middle;\n",
       "    }\n",
       "\n",
       "    .dataframe tbody tr th {\n",
       "        vertical-align: top;\n",
       "    }\n",
       "\n",
       "    .dataframe thead th {\n",
       "        text-align: right;\n",
       "    }\n",
       "</style>\n",
       "<table border=\"1\" class=\"dataframe\">\n",
       "  <thead>\n",
       "    <tr style=\"text-align: right;\">\n",
       "      <th></th>\n",
       "      <th>ml-interactions.csv</th>\n",
       "      <th>user_id</th>\n",
       "      <th>audit_task_interaction_id</th>\n",
       "      <th>audit_task_id</th>\n",
       "      <th>action</th>\n",
       "      <th>gsv_panorama_id</th>\n",
       "      <th>lat</th>\n",
       "      <th>lng</th>\n",
       "      <th>heading</th>\n",
       "      <th>pitch</th>\n",
       "      <th>zoom</th>\n",
       "      <th>note</th>\n",
       "      <th>temporary_label_id</th>\n",
       "      <th>mission_id</th>\n",
       "    </tr>\n",
       "  </thead>\n",
       "  <tbody>\n",
       "    <tr>\n",
       "      <th>0</th>\n",
       "      <td>2019-04-25 18:56:51.007-07</td>\n",
       "      <td>bf16418a-4c99-4fd6-99c6-7e8b40fbe17b</td>\n",
       "      <td>10829973.0</td>\n",
       "      <td>3458.0</td>\n",
       "      <td>LowLevelEvent_mousemove</td>\n",
       "      <td>yswXpbti65Rk8pcuuB5IAQ</td>\n",
       "      <td>47.629299</td>\n",
       "      <td>-122.301750</td>\n",
       "      <td>178.535721</td>\n",
       "      <td>-6.598214</td>\n",
       "      <td>2.0</td>\n",
       "      <td>cursorX:600,cursorY:421</td>\n",
       "      <td>NaN</td>\n",
       "      <td>2740.0</td>\n",
       "    </tr>\n",
       "    <tr>\n",
       "      <th>1</th>\n",
       "      <td>2019-04-25 18:56:51.102-07</td>\n",
       "      <td>bf16418a-4c99-4fd6-99c6-7e8b40fbe17b</td>\n",
       "      <td>10830000.0</td>\n",
       "      <td>3458.0</td>\n",
       "      <td>POV_Changed</td>\n",
       "      <td>yswXpbti65Rk8pcuuB5IAQ</td>\n",
       "      <td>47.629299</td>\n",
       "      <td>-122.301750</td>\n",
       "      <td>183.178574</td>\n",
       "      <td>-6.598214</td>\n",
       "      <td>2.0</td>\n",
       "      <td>NaN</td>\n",
       "      <td>NaN</td>\n",
       "      <td>2740.0</td>\n",
       "    </tr>\n",
       "    <tr>\n",
       "      <th>2</th>\n",
       "      <td>2019-04-25 18:56:56.289-07</td>\n",
       "      <td>2d9009b3-55d5-4aa8-a17a-a7c80afc4d51</td>\n",
       "      <td>10830056.0</td>\n",
       "      <td>3463.0</td>\n",
       "      <td>POV_Changed</td>\n",
       "      <td>Br6DzMb4z7VHPJoqJv-w5Q</td>\n",
       "      <td>47.680912</td>\n",
       "      <td>-122.319862</td>\n",
       "      <td>174.540176</td>\n",
       "      <td>-18.908482</td>\n",
       "      <td>1.0</td>\n",
       "      <td>NaN</td>\n",
       "      <td>NaN</td>\n",
       "      <td>2747.0</td>\n",
       "    </tr>\n",
       "    <tr>\n",
       "      <th>3</th>\n",
       "      <td>2019-04-25 18:56:51.985-07</td>\n",
       "      <td>bf16418a-4c99-4fd6-99c6-7e8b40fbe17b</td>\n",
       "      <td>10830121.0</td>\n",
       "      <td>3458.0</td>\n",
       "      <td>LowLevelEvent_mouseout</td>\n",
       "      <td>yswXpbti65Rk8pcuuB5IAQ</td>\n",
       "      <td>47.629299</td>\n",
       "      <td>-122.301750</td>\n",
       "      <td>183.178574</td>\n",
       "      <td>-6.598214</td>\n",
       "      <td>2.0</td>\n",
       "      <td>cursorX:641,cursorY:163</td>\n",
       "      <td>NaN</td>\n",
       "      <td>2740.0</td>\n",
       "    </tr>\n",
       "    <tr>\n",
       "      <th>4</th>\n",
       "      <td>2019-04-25 18:56:56.523-07</td>\n",
       "      <td>2d9009b3-55d5-4aa8-a17a-a7c80afc4d51</td>\n",
       "      <td>10830133.0</td>\n",
       "      <td>3463.0</td>\n",
       "      <td>LowLevelEvent_mousemove</td>\n",
       "      <td>Br6DzMb4z7VHPJoqJv-w5Q</td>\n",
       "      <td>47.680912</td>\n",
       "      <td>-122.319862</td>\n",
       "      <td>151.477676</td>\n",
       "      <td>-20.220982</td>\n",
       "      <td>1.0</td>\n",
       "      <td>cursorX:709,cursorY:426</td>\n",
       "      <td>NaN</td>\n",
       "      <td>2747.0</td>\n",
       "    </tr>\n",
       "  </tbody>\n",
       "</table>\n",
       "</div>"
      ],
      "text/plain": [
       "          ml-interactions.csv                               user_id  \\\n",
       "0  2019-04-25 18:56:51.007-07  bf16418a-4c99-4fd6-99c6-7e8b40fbe17b   \n",
       "1  2019-04-25 18:56:51.102-07  bf16418a-4c99-4fd6-99c6-7e8b40fbe17b   \n",
       "2  2019-04-25 18:56:56.289-07  2d9009b3-55d5-4aa8-a17a-a7c80afc4d51   \n",
       "3  2019-04-25 18:56:51.985-07  bf16418a-4c99-4fd6-99c6-7e8b40fbe17b   \n",
       "4  2019-04-25 18:56:56.523-07  2d9009b3-55d5-4aa8-a17a-a7c80afc4d51   \n",
       "\n",
       "   audit_task_interaction_id  audit_task_id                   action  \\\n",
       "0                 10829973.0         3458.0  LowLevelEvent_mousemove   \n",
       "1                 10830000.0         3458.0              POV_Changed   \n",
       "2                 10830056.0         3463.0              POV_Changed   \n",
       "3                 10830121.0         3458.0   LowLevelEvent_mouseout   \n",
       "4                 10830133.0         3463.0  LowLevelEvent_mousemove   \n",
       "\n",
       "          gsv_panorama_id        lat         lng     heading      pitch  zoom  \\\n",
       "0  yswXpbti65Rk8pcuuB5IAQ  47.629299 -122.301750  178.535721  -6.598214   2.0   \n",
       "1  yswXpbti65Rk8pcuuB5IAQ  47.629299 -122.301750  183.178574  -6.598214   2.0   \n",
       "2  Br6DzMb4z7VHPJoqJv-w5Q  47.680912 -122.319862  174.540176 -18.908482   1.0   \n",
       "3  yswXpbti65Rk8pcuuB5IAQ  47.629299 -122.301750  183.178574  -6.598214   2.0   \n",
       "4  Br6DzMb4z7VHPJoqJv-w5Q  47.680912 -122.319862  151.477676 -20.220982   1.0   \n",
       "\n",
       "                      note  temporary_label_id  mission_id  \n",
       "0  cursorX:600,cursorY:421                 NaN      2740.0  \n",
       "1                      NaN                 NaN      2740.0  \n",
       "2                      NaN                 NaN      2747.0  \n",
       "3  cursorX:641,cursorY:163                 NaN      2740.0  \n",
       "4  cursorX:709,cursorY:426                 NaN      2747.0  "
      ]
     },
     "execution_count": 8,
     "metadata": {},
     "output_type": "execute_result"
    }
   ],
   "source": [
    "df_interactions.head()"
   ]
  },
  {
   "cell_type": "code",
   "execution_count": 12,
   "metadata": {},
   "outputs": [],
   "source": [
    "assert sum(df_interactions['action'].isna()) == 0"
   ]
  },
  {
   "cell_type": "code",
   "execution_count": 157,
   "metadata": {},
   "outputs": [],
   "source": [
    "def scatter(series, name):\n",
    "    fig, ax = plt.subplots()\n",
    "    ax.set_xlabel(name)\n",
    "    ax.set_ylabel('accuracy')\n",
    "    slope, intercept, r_value, p_value, std_err = stats.linregress(series, users_merged[' accuracy'])\n",
    "    p = np.poly1d([slope, intercept])\n",
    "    ax.plot(series, p(series), 'r--')\n",
    "    ax.scatter(series, users_merged[' accuracy'])"
   ]
  },
  {
   "cell_type": "code",
   "execution_count": null,
   "metadata": {},
   "outputs": [],
   "source": []
  },
  {
   "cell_type": "code",
   "execution_count": null,
   "metadata": {},
   "outputs": [],
   "source": []
  },
  {
   "cell_type": "code",
   "execution_count": null,
   "metadata": {},
   "outputs": [],
   "source": []
  },
  {
   "cell_type": "code",
   "execution_count": null,
   "metadata": {},
   "outputs": [],
   "source": [
    "# analyze avg num of mouse moves per pano vs accuracy"
   ]
  },
  {
   "cell_type": "code",
   "execution_count": 17,
   "metadata": {},
   "outputs": [
    {
     "data": {
      "text/plain": [
       "<pandas.core.groupby.generic.DataFrameGroupBy object at 0x11a7cf470>"
      ]
     },
     "execution_count": 17,
     "metadata": {},
     "output_type": "execute_result"
    }
   ],
   "source": [
    "df_interactions.groupby('user_id')"
   ]
  },
  {
   "cell_type": "code",
   "execution_count": 137,
   "metadata": {},
   "outputs": [],
   "source": [
    "selection = df_interactions[['user_id', 'action', 'gsv_panorama_id']]"
   ]
  },
  {
   "cell_type": "code",
   "execution_count": null,
   "metadata": {},
   "outputs": [],
   "source": []
  },
  {
   "cell_type": "code",
   "execution_count": 55,
   "metadata": {},
   "outputs": [],
   "source": [
    "keyboard_counts = selection.groupby('user_id').apply(lambda x: sum(x['action'].isin(['LowLevelEvent_keydown', 'KeyboardShortcut_ModeSwitch_NoSidewalk'])))"
   ]
  },
  {
   "cell_type": "code",
   "execution_count": 152,
   "metadata": {},
   "outputs": [],
   "source": [
    "users = users.set_index('user_id')"
   ]
  },
  {
   "cell_type": "code",
   "execution_count": 153,
   "metadata": {},
   "outputs": [
    {
     "data": {
      "text/html": [
       "<div>\n",
       "<style scoped>\n",
       "    .dataframe tbody tr th:only-of-type {\n",
       "        vertical-align: middle;\n",
       "    }\n",
       "\n",
       "    .dataframe tbody tr th {\n",
       "        vertical-align: top;\n",
       "    }\n",
       "\n",
       "    .dataframe thead th {\n",
       "        text-align: right;\n",
       "    }\n",
       "</style>\n",
       "<table border=\"1\" class=\"dataframe\">\n",
       "  <thead>\n",
       "    <tr style=\"text-align: right;\">\n",
       "      <th></th>\n",
       "      <th>username</th>\n",
       "      <th>labels_validated</th>\n",
       "      <th>role</th>\n",
       "      <th>accuracy</th>\n",
       "    </tr>\n",
       "    <tr>\n",
       "      <th>user_id</th>\n",
       "      <th></th>\n",
       "      <th></th>\n",
       "      <th></th>\n",
       "      <th></th>\n",
       "    </tr>\n",
       "  </thead>\n",
       "  <tbody>\n",
       "    <tr>\n",
       "      <th>0e1ae564-6d72-4670-98e4-71369cc5ab26</th>\n",
       "      <td>AHLS6AZ1VTNH7</td>\n",
       "      <td>472</td>\n",
       "      <td>Turker</td>\n",
       "      <td>74.955595</td>\n",
       "    </tr>\n",
       "    <tr>\n",
       "      <th>2d9009b3-55d5-4aa8-a17a-a7c80afc4d51</th>\n",
       "      <td>A1A73A5Z4SDW06</td>\n",
       "      <td>393</td>\n",
       "      <td>Turker</td>\n",
       "      <td>84.551148</td>\n",
       "    </tr>\n",
       "    <tr>\n",
       "      <th>49723673-044d-4b47-855b-3bdebfe37073</th>\n",
       "      <td>shaunkuo</td>\n",
       "      <td>518</td>\n",
       "      <td>Registered</td>\n",
       "      <td>82.817869</td>\n",
       "    </tr>\n",
       "    <tr>\n",
       "      <th>7b1596af-14d4-4f2b-9e4e-71b1884db836</th>\n",
       "      <td>A1EK8YNHZHTW1J</td>\n",
       "      <td>98</td>\n",
       "      <td>Turker</td>\n",
       "      <td>82.178218</td>\n",
       "    </tr>\n",
       "    <tr>\n",
       "      <th>86d26e9d-010f-4802-88ba-680ae0a8e20d</th>\n",
       "      <td>A2AHXGFXPG6ZSR</td>\n",
       "      <td>157</td>\n",
       "      <td>Turker</td>\n",
       "      <td>38.497653</td>\n",
       "    </tr>\n",
       "    <tr>\n",
       "      <th>87833d72-b357-4e2c-81cd-23f58ff04c59</th>\n",
       "      <td>jonfroehlich</td>\n",
       "      <td>332</td>\n",
       "      <td>Owner</td>\n",
       "      <td>77.529658</td>\n",
       "    </tr>\n",
       "    <tr>\n",
       "      <th>9b595ba6-529b-4d37-93d7-dd189184e15a</th>\n",
       "      <td>kckamin</td>\n",
       "      <td>161</td>\n",
       "      <td>Registered</td>\n",
       "      <td>77.118644</td>\n",
       "    </tr>\n",
       "    <tr>\n",
       "      <th>ac272eb8-3bb3-4260-9960-8e6c463f3867</th>\n",
       "      <td>mosharp</td>\n",
       "      <td>90</td>\n",
       "      <td>Registered</td>\n",
       "      <td>80.808081</td>\n",
       "    </tr>\n",
       "    <tr>\n",
       "      <th>af812204-1521-4c42-bf88-4baaaffe3f06</th>\n",
       "      <td>A1NOINYD1FZ55T</td>\n",
       "      <td>185</td>\n",
       "      <td>Turker</td>\n",
       "      <td>77.073171</td>\n",
       "    </tr>\n",
       "    <tr>\n",
       "      <th>bca24c1a-a6b1-4625-ab8e-9ff8693022d7</th>\n",
       "      <td>AL6TUFYAMT6U4</td>\n",
       "      <td>316</td>\n",
       "      <td>Turker</td>\n",
       "      <td>62.972292</td>\n",
       "    </tr>\n",
       "    <tr>\n",
       "      <th>bf16418a-4c99-4fd6-99c6-7e8b40fbe17b</th>\n",
       "      <td>ANYX5000YGSK3</td>\n",
       "      <td>200</td>\n",
       "      <td>Turker</td>\n",
       "      <td>77.092511</td>\n",
       "    </tr>\n",
       "    <tr>\n",
       "      <th>dada416e-535f-4bb3-a213-172a8a94b581</th>\n",
       "      <td>annastk</td>\n",
       "      <td>95</td>\n",
       "      <td>Registered</td>\n",
       "      <td>68.881119</td>\n",
       "    </tr>\n",
       "    <tr>\n",
       "      <th>e4ff325c-309b-4ea6-8555-8f973e662362</th>\n",
       "      <td>mikey</td>\n",
       "      <td>303</td>\n",
       "      <td>Owner</td>\n",
       "      <td>71.241830</td>\n",
       "    </tr>\n",
       "    <tr>\n",
       "      <th>ec15a589-dd14-4513-a43e-8c06e55f4c71</th>\n",
       "      <td>A2Y2RVQO2UVFV1</td>\n",
       "      <td>206</td>\n",
       "      <td>Turker</td>\n",
       "      <td>57.327586</td>\n",
       "    </tr>\n",
       "    <tr>\n",
       "      <th>f13d2630-35fd-4a78-883d-d108be083425</th>\n",
       "      <td>AFDOCG0RZGSXU</td>\n",
       "      <td>301</td>\n",
       "      <td>Turker</td>\n",
       "      <td>73.177843</td>\n",
       "    </tr>\n",
       "    <tr>\n",
       "      <th>fa0bbee4-b98d-4eb3-b6da-d9e9aa287f6c</th>\n",
       "      <td>EronKutov</td>\n",
       "      <td>283</td>\n",
       "      <td>Researcher</td>\n",
       "      <td>82.283795</td>\n",
       "    </tr>\n",
       "  </tbody>\n",
       "</table>\n",
       "</div>"
      ],
      "text/plain": [
       "                                            username   labels_validated  \\\n",
       "user_id                                                                   \n",
       "0e1ae564-6d72-4670-98e4-71369cc5ab26   AHLS6AZ1VTNH7                472   \n",
       "2d9009b3-55d5-4aa8-a17a-a7c80afc4d51  A1A73A5Z4SDW06                393   \n",
       "49723673-044d-4b47-855b-3bdebfe37073        shaunkuo                518   \n",
       "7b1596af-14d4-4f2b-9e4e-71b1884db836  A1EK8YNHZHTW1J                 98   \n",
       "86d26e9d-010f-4802-88ba-680ae0a8e20d  A2AHXGFXPG6ZSR                157   \n",
       "87833d72-b357-4e2c-81cd-23f58ff04c59    jonfroehlich                332   \n",
       "9b595ba6-529b-4d37-93d7-dd189184e15a         kckamin                161   \n",
       "ac272eb8-3bb3-4260-9960-8e6c463f3867         mosharp                 90   \n",
       "af812204-1521-4c42-bf88-4baaaffe3f06  A1NOINYD1FZ55T                185   \n",
       "bca24c1a-a6b1-4625-ab8e-9ff8693022d7   AL6TUFYAMT6U4                316   \n",
       "bf16418a-4c99-4fd6-99c6-7e8b40fbe17b   ANYX5000YGSK3                200   \n",
       "dada416e-535f-4bb3-a213-172a8a94b581         annastk                 95   \n",
       "e4ff325c-309b-4ea6-8555-8f973e662362           mikey                303   \n",
       "ec15a589-dd14-4513-a43e-8c06e55f4c71  A2Y2RVQO2UVFV1                206   \n",
       "f13d2630-35fd-4a78-883d-d108be083425   AFDOCG0RZGSXU                301   \n",
       "fa0bbee4-b98d-4eb3-b6da-d9e9aa287f6c       EronKutov                283   \n",
       "\n",
       "                                            role   accuracy  \n",
       "user_id                                                      \n",
       "0e1ae564-6d72-4670-98e4-71369cc5ab26      Turker  74.955595  \n",
       "2d9009b3-55d5-4aa8-a17a-a7c80afc4d51      Turker  84.551148  \n",
       "49723673-044d-4b47-855b-3bdebfe37073  Registered  82.817869  \n",
       "7b1596af-14d4-4f2b-9e4e-71b1884db836      Turker  82.178218  \n",
       "86d26e9d-010f-4802-88ba-680ae0a8e20d      Turker  38.497653  \n",
       "87833d72-b357-4e2c-81cd-23f58ff04c59       Owner  77.529658  \n",
       "9b595ba6-529b-4d37-93d7-dd189184e15a  Registered  77.118644  \n",
       "ac272eb8-3bb3-4260-9960-8e6c463f3867  Registered  80.808081  \n",
       "af812204-1521-4c42-bf88-4baaaffe3f06      Turker  77.073171  \n",
       "bca24c1a-a6b1-4625-ab8e-9ff8693022d7      Turker  62.972292  \n",
       "bf16418a-4c99-4fd6-99c6-7e8b40fbe17b      Turker  77.092511  \n",
       "dada416e-535f-4bb3-a213-172a8a94b581  Registered  68.881119  \n",
       "e4ff325c-309b-4ea6-8555-8f973e662362       Owner  71.241830  \n",
       "ec15a589-dd14-4513-a43e-8c06e55f4c71      Turker  57.327586  \n",
       "f13d2630-35fd-4a78-883d-d108be083425      Turker  73.177843  \n",
       "fa0bbee4-b98d-4eb3-b6da-d9e9aa287f6c  Researcher  82.283795  "
      ]
     },
     "execution_count": 153,
     "metadata": {},
     "output_type": "execute_result"
    }
   ],
   "source": [
    "users"
   ]
  },
  {
   "cell_type": "code",
   "execution_count": null,
   "metadata": {},
   "outputs": [],
   "source": []
  },
  {
   "cell_type": "code",
   "execution_count": null,
   "metadata": {},
   "outputs": [],
   "source": []
  },
  {
   "cell_type": "code",
   "execution_count": 158,
   "metadata": {},
   "outputs": [
    {
     "data": {
      "image/png": "[encoded data removed]",
      "text/plain": [
       "<Figure size 432x288 with 1 Axes>"
      ]
     },
     "metadata": {
      "needs_background": "light"
     },
     "output_type": "display_data"
    }
   ],
   "source": [
    "scatter(keyboard_counts, 'keyboard presses')"
   ]
  },
  {
   "cell_type": "code",
   "execution_count": 68,
   "metadata": {},
   "outputs": [
    {
     "data": {
      "text/plain": [
       "(array([1., 0., 0., 0., 1., 1., 1., 3., 4., 5.]),\n",
       " array([38.49765258, 43.10300215, 47.70835171, 52.31370128, 56.91905084,\n",
       "        61.5244004 , 66.12974997, 70.73509953, 75.3404491 , 79.94579866,\n",
       "        84.55114823]),\n",
       " <a list of 10 Patch objects>)"
      ]
     },
     "execution_count": 68,
     "metadata": {},
     "output_type": "execute_result"
    },
    {
     "data": {
      "image/png": "[encoded data removed]",
      "text/plain": [
       "<Figure size 432x288 with 1 Axes>"
      ]
     },
     "metadata": {
      "needs_background": "light"
     },
     "output_type": "display_data"
    }
   ],
   "source": [
    "plt.hist(users_merged[' accuracy'])"
   ]
  },
  {
   "cell_type": "code",
   "execution_count": 76,
   "metadata": {},
   "outputs": [],
   "source": [
    "num_missions = selection.groupby('user_id').apply(lambda x: sum(x['action']=='MissionComplete'))"
   ]
  },
  {
   "cell_type": "code",
   "execution_count": 156,
   "metadata": {},
   "outputs": [
    {
     "data": {
      "image/png": "[encoded data removed]",
      "text/plain": [
       "<Figure size 432x288 with 1 Axes>"
      ]
     },
     "metadata": {
      "needs_background": "light"
     },
     "output_type": "display_data"
    }
   ],
   "source": [
    "scatter(num_missions, 'number of missions')"
   ]
  },
  {
   "cell_type": "code",
   "execution_count": null,
   "metadata": {},
   "outputs": [],
   "source": []
  },
  {
   "cell_type": "code",
   "execution_count": null,
   "metadata": {},
   "outputs": [],
   "source": []
  },
  {
   "cell_type": "markdown",
   "metadata": {},
   "source": [
    "Scatter matrix"
   ]
  },
  {
   "cell_type": "code",
   "execution_count": 130,
   "metadata": {},
   "outputs": [],
   "source": []
  },
  {
   "cell_type": "code",
   "execution_count": 131,
   "metadata": {},
   "outputs": [
    {
     "data": {
      "image/png": "[encoded data removed]",
      "text/plain": [
       "<Figure size 432x288 with 1 Axes>"
      ]
     },
     "metadata": {
      "needs_background": "light"
     },
     "output_type": "display_data"
    }
   ],
   "source": [
    "scatter(users_merged['keyboard_per_mission'], 'keyboard presses per mission')"
   ]
  },
  {
   "cell_type": "code",
   "execution_count": 133,
   "metadata": {},
   "outputs": [
    {
     "data": {
      "image/png": "[encoded data removed]",
      "text/plain": [
       "<Figure size 432x288 with 1 Axes>"
      ]
     },
     "metadata": {
      "needs_background": "light"
     },
     "output_type": "display_data"
    }
   ],
   "source": [
    "scatter(users_merged[' labels_validated'], 'labels validated')"
   ]
  },
  {
   "cell_type": "code",
   "execution_count": 140,
   "metadata": {},
   "outputs": [],
   "source": [
    "pov_per_panorama = selection.groupby('user_id').apply(lambda x: sum(x['action'] == 'POV_Changed') / x['gsv_panorama_id'].size)\n",
    "\n"
   ]
  },
  {
   "cell_type": "code",
   "execution_count": 143,
   "metadata": {},
   "outputs": [
    {
     "data": {
      "image/png": "[encoded data removed]",
      "text/plain": [
       "<Figure size 432x288 with 1 Axes>"
      ]
     },
     "metadata": {
      "needs_background": "light"
     },
     "output_type": "display_data"
    }
   ],
   "source": [
    "scatter(pov_per_panorama, 'POV changes per panorama viewed')"
   ]
  },
  {
   "cell_type": "code",
   "execution_count": 146,
   "metadata": {},
   "outputs": [],
   "source": [
    "avg_zoom = df_interactions.groupby('user_id').apply(lambda x: x['zoom'].mean())"
   ]
  },
  {
   "cell_type": "code",
   "execution_count": 147,
   "metadata": {},
   "outputs": [
    {
     "data": {
      "image/png": "[encoded data removed]",
      "text/plain": [
       "<Figure size 432x288 with 1 Axes>"
      ]
     },
     "metadata": {
      "needs_background": "light"
     },
     "output_type": "display_data"
    }
   ],
   "source": [
    "scatter(avg_zoom, 'Mean zoom level')"
   ]
  },
  {
   "cell_type": "code",
   "execution_count": 150,
   "metadata": {},
   "outputs": [
    {
     "ename": "ValueError",
     "evalue": "time data '4/25/2019  6:56:51 PM' does not match format '%d/%b/%Y  %H:%M:%S PM'",
     "output_type": "error",
     "traceback": [
      "\u001b[0;31m---------------------------------------------------------------------------\u001b[0m",
      "\u001b[0;31mValueError\u001b[0m                                Traceback (most recent call last)",
      "\u001b[0;32m<ipython-input-150-db1969a47286>\u001b[0m in \u001b[0;36m<module>\u001b[0;34m\u001b[0m\n\u001b[0;32m----> 1\u001b[0;31m \u001b[0mtime\u001b[0m\u001b[0;34m.\u001b[0m\u001b[0mstrptime\u001b[0m\u001b[0;34m(\u001b[0m\u001b[0;34m'4/25/2019  6:56:51 PM'\u001b[0m\u001b[0;34m,\u001b[0m \u001b[0;34m'%d/%b/%Y  %H:%M:%S PM'\u001b[0m\u001b[0;34m)\u001b[0m\u001b[0;34m\u001b[0m\u001b[0;34m\u001b[0m\u001b[0m\n\u001b[0m",
      "\u001b[0;32m/usr/local/Cellar/python/3.7.3/Frameworks/Python.framework/Versions/3.7/lib/python3.7/_strptime.py\u001b[0m in \u001b[0;36m_strptime_time\u001b[0;34m(data_string, format)\u001b[0m\n\u001b[1;32m    569\u001b[0m     \"\"\"Return a time struct based on the input string and the\n\u001b[1;32m    570\u001b[0m     format string.\"\"\"\n\u001b[0;32m--> 571\u001b[0;31m     \u001b[0mtt\u001b[0m \u001b[0;34m=\u001b[0m \u001b[0m_strptime\u001b[0m\u001b[0;34m(\u001b[0m\u001b[0mdata_string\u001b[0m\u001b[0;34m,\u001b[0m \u001b[0mformat\u001b[0m\u001b[0;34m)\u001b[0m\u001b[0;34m[\u001b[0m\u001b[0;36m0\u001b[0m\u001b[0;34m]\u001b[0m\u001b[0;34m\u001b[0m\u001b[0;34m\u001b[0m\u001b[0m\n\u001b[0m\u001b[1;32m    572\u001b[0m     \u001b[0;32mreturn\u001b[0m \u001b[0mtime\u001b[0m\u001b[0;34m.\u001b[0m\u001b[0mstruct_time\u001b[0m\u001b[0;34m(\u001b[0m\u001b[0mtt\u001b[0m\u001b[0;34m[\u001b[0m\u001b[0;34m:\u001b[0m\u001b[0mtime\u001b[0m\u001b[0;34m.\u001b[0m\u001b[0m_STRUCT_TM_ITEMS\u001b[0m\u001b[0;34m]\u001b[0m\u001b[0;34m)\u001b[0m\u001b[0;34m\u001b[0m\u001b[0;34m\u001b[0m\u001b[0m\n\u001b[1;32m    573\u001b[0m \u001b[0;34m\u001b[0m\u001b[0m\n",
      "\u001b[0;32m/usr/local/Cellar/python/3.7.3/Frameworks/Python.framework/Versions/3.7/lib/python3.7/_strptime.py\u001b[0m in \u001b[0;36m_strptime\u001b[0;34m(data_string, format)\u001b[0m\n\u001b[1;32m    357\u001b[0m     \u001b[0;32mif\u001b[0m \u001b[0;32mnot\u001b[0m \u001b[0mfound\u001b[0m\u001b[0;34m:\u001b[0m\u001b[0;34m\u001b[0m\u001b[0;34m\u001b[0m\u001b[0m\n\u001b[1;32m    358\u001b[0m         raise ValueError(\"time data %r does not match format %r\" %\n\u001b[0;32m--> 359\u001b[0;31m                          (data_string, format))\n\u001b[0m\u001b[1;32m    360\u001b[0m     \u001b[0;32mif\u001b[0m \u001b[0mlen\u001b[0m\u001b[0;34m(\u001b[0m\u001b[0mdata_string\u001b[0m\u001b[0;34m)\u001b[0m \u001b[0;34m!=\u001b[0m \u001b[0mfound\u001b[0m\u001b[0;34m.\u001b[0m\u001b[0mend\u001b[0m\u001b[0;34m(\u001b[0m\u001b[0;34m)\u001b[0m\u001b[0;34m:\u001b[0m\u001b[0;34m\u001b[0m\u001b[0;34m\u001b[0m\u001b[0m\n\u001b[1;32m    361\u001b[0m         raise ValueError(\"unconverted data remains: %s\" %\n",
      "\u001b[0;31mValueError\u001b[0m: time data '4/25/2019  6:56:51 PM' does not match format '%d/%b/%Y  %H:%M:%S PM'"
     ]
    }
   ],
   "source": [
    "time.strptime('4/25/2019  6:56:51 PM', '%d/%b/%Y  %H:%M:%S PM')"
   ]
  },
  {
   "cell_type": "code",
   "execution_count": null,
   "metadata": {},
   "outputs": [],
   "source": []
  }
 ],
 "metadata": {
  "kernelspec": {
   "display_name": "Python 3",
   "language": "python",
   "name": "python3"
  },
  "language_info": {
   "codemirror_mode": {
    "name": "ipython",
    "version": 3
   },
   "file_extension": ".py",
   "mimetype": "text/x-python",
   "name": "python",
   "nbconvert_exporter": "python",
   "pygments_lexer": "ipython3",
   "version": "3.7.3"
  }
 },
 "nbformat": 4,
 "nbformat_minor": 2
}
