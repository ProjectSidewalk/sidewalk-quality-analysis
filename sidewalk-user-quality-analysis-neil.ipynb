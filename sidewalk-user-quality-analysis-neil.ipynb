{
 "cells": [
  {
   "cell_type": "markdown",
   "metadata": {},
   "source": [
    " # Two high-level analyses:\n",
    " - Predict performance (accuracy) using a regression\n",
    " - Classify users into 'bad' vs 'good'--still need to define this but perhaps the threshold is any user < 70% and any user >= 70%\n",
    "\n",
    " For github issues and brainstorming features and analyses, use github:\n",
    " - https://github.com/ProjectSidewalk/sidewalk-quality-analysis/issues"
   ]
  },
  {
   "cell_type": "code",
   "execution_count": 1,
   "metadata": {},
   "outputs": [
    {
     "ename": "OSError",
     "evalue": "libspatialindex_c.so.4: cannot open shared object file: No such file or directory",
     "output_type": "error",
     "traceback": [
      "\u001b[0;31m---------------------------------------------------------------------------\u001b[0m",
      "\u001b[0;31mOSError\u001b[0m                                   Traceback (most recent call last)",
      "\u001b[0;32m<ipython-input-1-c33c3d171276>\u001b[0m in \u001b[0;36m<module>\u001b[0;34m\u001b[0m\n\u001b[1;32m     33\u001b[0m \u001b[0;32mimport\u001b[0m \u001b[0mwarnings\u001b[0m\u001b[0;34m\u001b[0m\u001b[0;34m\u001b[0m\u001b[0m\n\u001b[1;32m     34\u001b[0m \u001b[0;34m\u001b[0m\u001b[0m\n\u001b[0;32m---> 35\u001b[0;31m \u001b[0;32mfrom\u001b[0m \u001b[0mnew_proximity\u001b[0m\u001b[0;34m.\u001b[0m\u001b[0mintersection_proximity\u001b[0m \u001b[0;32mimport\u001b[0m \u001b[0mcompute_proximity\u001b[0m\u001b[0;34m\u001b[0m\u001b[0;34m\u001b[0m\u001b[0m\n\u001b[0m\u001b[1;32m     36\u001b[0m \u001b[0;32mfrom\u001b[0m \u001b[0mregion_stats\u001b[0m \u001b[0;32mimport\u001b[0m \u001b[0mRegionStats\u001b[0m\u001b[0;34m\u001b[0m\u001b[0;34m\u001b[0m\u001b[0m\n",
      "\u001b[0;32m~/sidewalk-quality-neil/new_proximity/intersection_proximity.py\u001b[0m in \u001b[0;36m<module>\u001b[0;34m\u001b[0m\n\u001b[1;32m      5\u001b[0m \u001b[0;32mfrom\u001b[0m \u001b[0mfunctools\u001b[0m \u001b[0;32mimport\u001b[0m \u001b[0mpartial\u001b[0m\u001b[0;34m\u001b[0m\u001b[0;34m\u001b[0m\u001b[0m\n\u001b[1;32m      6\u001b[0m \u001b[0;32mimport\u001b[0m \u001b[0mpyproj\u001b[0m\u001b[0;34m\u001b[0m\u001b[0;34m\u001b[0m\u001b[0m\n\u001b[0;32m----> 7\u001b[0;31m \u001b[0;32mfrom\u001b[0m \u001b[0;34m.\u001b[0m\u001b[0mpreprocessing\u001b[0m \u001b[0;32mimport\u001b[0m \u001b[0mmake_street_network_index\u001b[0m\u001b[0;34m\u001b[0m\u001b[0;34m\u001b[0m\u001b[0m\n\u001b[0m\u001b[1;32m      8\u001b[0m \u001b[0;32mfrom\u001b[0m \u001b[0;34m.\u001b[0m\u001b[0msettings\u001b[0m \u001b[0;32mimport\u001b[0m \u001b[0;34m*\u001b[0m\u001b[0;34m\u001b[0m\u001b[0;34m\u001b[0m\u001b[0m\n\u001b[1;32m      9\u001b[0m \u001b[0;34m\u001b[0m\u001b[0m\n",
      "\u001b[0;32m~/sidewalk-quality-neil/new_proximity/preprocessing.py\u001b[0m in \u001b[0;36m<module>\u001b[0;34m\u001b[0m\n\u001b[1;32m      1\u001b[0m \u001b[0;32mimport\u001b[0m \u001b[0mpandas\u001b[0m \u001b[0;32mas\u001b[0m \u001b[0mpd\u001b[0m\u001b[0;34m\u001b[0m\u001b[0;34m\u001b[0m\u001b[0m\n\u001b[1;32m      2\u001b[0m \u001b[0;32mfrom\u001b[0m \u001b[0mdbfread\u001b[0m \u001b[0;32mimport\u001b[0m \u001b[0mDBF\u001b[0m\u001b[0;34m\u001b[0m\u001b[0;34m\u001b[0m\u001b[0m\n\u001b[0;32m----> 3\u001b[0;31m \u001b[0;32mfrom\u001b[0m \u001b[0mrtree\u001b[0m \u001b[0;32mimport\u001b[0m \u001b[0mindex\u001b[0m\u001b[0;34m\u001b[0m\u001b[0;34m\u001b[0m\u001b[0m\n\u001b[0m\u001b[1;32m      4\u001b[0m \u001b[0;32mimport\u001b[0m \u001b[0mgeojson\u001b[0m\u001b[0;34m\u001b[0m\u001b[0;34m\u001b[0m\u001b[0m\n\u001b[1;32m      5\u001b[0m \u001b[0;32mfrom\u001b[0m \u001b[0mmath\u001b[0m \u001b[0;32mimport\u001b[0m \u001b[0misclose\u001b[0m\u001b[0;34m\u001b[0m\u001b[0;34m\u001b[0m\u001b[0m\n",
      "\u001b[0;32m~/anaconda3/lib/python3.7/site-packages/Rtree-0.8.3-py3.7.egg/rtree/__init__.py\u001b[0m in \u001b[0;36m<module>\u001b[0;34m\u001b[0m\n\u001b[0;32m----> 1\u001b[0;31m \u001b[0;32mfrom\u001b[0m \u001b[0;34m.\u001b[0m\u001b[0mindex\u001b[0m \u001b[0;32mimport\u001b[0m \u001b[0mRtree\u001b[0m\u001b[0;34m\u001b[0m\u001b[0;34m\u001b[0m\u001b[0m\n\u001b[0m\u001b[1;32m      2\u001b[0m \u001b[0;34m\u001b[0m\u001b[0m\n\u001b[1;32m      3\u001b[0m \u001b[0;32mfrom\u001b[0m \u001b[0;34m.\u001b[0m\u001b[0mcore\u001b[0m \u001b[0;32mimport\u001b[0m \u001b[0mrt\u001b[0m\u001b[0;34m\u001b[0m\u001b[0;34m\u001b[0m\u001b[0m\n\u001b[1;32m      4\u001b[0m \u001b[0;34m\u001b[0m\u001b[0m\n\u001b[1;32m      5\u001b[0m \u001b[0m__version__\u001b[0m \u001b[0;34m=\u001b[0m \u001b[0;34m'0.8.3'\u001b[0m\u001b[0;34m\u001b[0m\u001b[0;34m\u001b[0m\u001b[0m\n",
      "\u001b[0;32m~/anaconda3/lib/python3.7/site-packages/Rtree-0.8.3-py3.7.egg/rtree/index.py\u001b[0m in \u001b[0;36m<module>\u001b[0;34m\u001b[0m\n\u001b[1;32m      3\u001b[0m \u001b[0;32mimport\u001b[0m \u001b[0mpprint\u001b[0m\u001b[0;34m\u001b[0m\u001b[0;34m\u001b[0m\u001b[0m\n\u001b[1;32m      4\u001b[0m \u001b[0;34m\u001b[0m\u001b[0m\n\u001b[0;32m----> 5\u001b[0;31m \u001b[0;32mfrom\u001b[0m \u001b[0;34m.\u001b[0m \u001b[0;32mimport\u001b[0m \u001b[0mcore\u001b[0m\u001b[0;34m\u001b[0m\u001b[0;34m\u001b[0m\u001b[0m\n\u001b[0m\u001b[1;32m      6\u001b[0m \u001b[0;32mimport\u001b[0m \u001b[0mctypes\u001b[0m\u001b[0;34m\u001b[0m\u001b[0;34m\u001b[0m\u001b[0m\n\u001b[1;32m      7\u001b[0m \u001b[0;32mtry\u001b[0m\u001b[0;34m:\u001b[0m\u001b[0;34m\u001b[0m\u001b[0;34m\u001b[0m\u001b[0m\n",
      "\u001b[0;32m~/anaconda3/lib/python3.7/site-packages/Rtree-0.8.3-py3.7.egg/rtree/core.py\u001b[0m in \u001b[0;36m<module>\u001b[0;34m\u001b[0m\n\u001b[1;32m    125\u001b[0m         \u001b[0;32mraise\u001b[0m \u001b[0mOSError\u001b[0m\u001b[0;34m(\u001b[0m\u001b[0;34m\"Could not find libspatialindex_c library file\"\u001b[0m\u001b[0;34m)\u001b[0m\u001b[0;34m\u001b[0m\u001b[0;34m\u001b[0m\u001b[0m\n\u001b[1;32m    126\u001b[0m \u001b[0;34m\u001b[0m\u001b[0m\n\u001b[0;32m--> 127\u001b[0;31m     \u001b[0mrt\u001b[0m \u001b[0;34m=\u001b[0m \u001b[0mctypes\u001b[0m\u001b[0;34m.\u001b[0m\u001b[0mCDLL\u001b[0m\u001b[0;34m(\u001b[0m\u001b[0mlib_name\u001b[0m\u001b[0;34m)\u001b[0m\u001b[0;34m\u001b[0m\u001b[0;34m\u001b[0m\u001b[0m\n\u001b[0m\u001b[1;32m    128\u001b[0m \u001b[0;32melse\u001b[0m\u001b[0;34m:\u001b[0m\u001b[0;34m\u001b[0m\u001b[0;34m\u001b[0m\u001b[0m\n\u001b[1;32m    129\u001b[0m     \u001b[0;32mraise\u001b[0m \u001b[0mRTreeError\u001b[0m\u001b[0;34m(\u001b[0m\u001b[0;34m'Unsupported OS \"%s\"'\u001b[0m \u001b[0;34m%\u001b[0m \u001b[0mos\u001b[0m\u001b[0;34m.\u001b[0m\u001b[0mname\u001b[0m\u001b[0;34m)\u001b[0m\u001b[0;34m\u001b[0m\u001b[0;34m\u001b[0m\u001b[0m\n",
      "\u001b[0;32m~/anaconda3/lib/python3.7/ctypes/__init__.py\u001b[0m in \u001b[0;36m__init__\u001b[0;34m(self, name, mode, handle, use_errno, use_last_error)\u001b[0m\n\u001b[1;32m    354\u001b[0m \u001b[0;34m\u001b[0m\u001b[0m\n\u001b[1;32m    355\u001b[0m         \u001b[0;32mif\u001b[0m \u001b[0mhandle\u001b[0m \u001b[0;32mis\u001b[0m \u001b[0;32mNone\u001b[0m\u001b[0;34m:\u001b[0m\u001b[0;34m\u001b[0m\u001b[0;34m\u001b[0m\u001b[0m\n\u001b[0;32m--> 356\u001b[0;31m             \u001b[0mself\u001b[0m\u001b[0;34m.\u001b[0m\u001b[0m_handle\u001b[0m \u001b[0;34m=\u001b[0m \u001b[0m_dlopen\u001b[0m\u001b[0;34m(\u001b[0m\u001b[0mself\u001b[0m\u001b[0;34m.\u001b[0m\u001b[0m_name\u001b[0m\u001b[0;34m,\u001b[0m \u001b[0mmode\u001b[0m\u001b[0;34m)\u001b[0m\u001b[0;34m\u001b[0m\u001b[0;34m\u001b[0m\u001b[0m\n\u001b[0m\u001b[1;32m    357\u001b[0m         \u001b[0;32melse\u001b[0m\u001b[0;34m:\u001b[0m\u001b[0;34m\u001b[0m\u001b[0;34m\u001b[0m\u001b[0m\n\u001b[1;32m    358\u001b[0m             \u001b[0mself\u001b[0m\u001b[0;34m.\u001b[0m\u001b[0m_handle\u001b[0m \u001b[0;34m=\u001b[0m \u001b[0mhandle\u001b[0m\u001b[0;34m\u001b[0m\u001b[0;34m\u001b[0m\u001b[0m\n",
      "\u001b[0;31mOSError\u001b[0m: libspatialindex_c.so.4: cannot open shared object file: No such file or directory"
     ]
    }
   ],
   "source": [
    "import csv\n",
    "import sys\n",
    "import time\n",
    "from datetime import datetime, timezone\n",
    "\n",
    "import matplotlib.pyplot as plt\n",
    "import numpy as np\n",
    "import pandas as pd\n",
    "import parse as str_parse\n",
    "import seaborn as sns\n",
    "import sklearn.feature_selection\n",
    "from dateutil import parser as parser\n",
    "from imblearn.ensemble import (BalancedBaggingClassifier,\n",
    "                               BalancedRandomForestClassifier,\n",
    "                               EasyEnsembleClassifier)\n",
    "from imblearn.over_sampling import ADASYN, SMOTE, RandomOverSampler\n",
    "from imblearn.under_sampling import RandomUnderSampler\n",
    "from sklearn import linear_model, svm, tree\n",
    "from sklearn.base import BaseEstimator\n",
    "from sklearn.ensemble import (BaggingClassifier, BaggingRegressor,\n",
    "                              ExtraTreesClassifier, ExtraTreesRegressor,\n",
    "                              RandomForestClassifier, VotingClassifier)\n",
    "from sklearn.feature_selection import RFECV, SelectFromModel, VarianceThreshold\n",
    "from sklearn.linear_model import LogisticRegression, LogisticRegressionCV\n",
    "from sklearn.metrics import (accuracy_score, confusion_matrix, precision_score,\n",
    "                             r2_score, recall_score)\n",
    "# from sklearn.preprocessing import OneHotEncoder\n",
    "from sklearn.model_selection import KFold, cross_val_score, train_test_split, StratifiedKFold\n",
    "from sklearn.neural_network import MLPClassifier, MLPRegressor\n",
    "from sklearn.preprocessing import OrdinalEncoder, StandardScaler\n",
    "from sklearn.tree import DecisionTreeClassifier, export_graphviz\n",
    "import multiprocess as mp\n",
    "import warnings\n",
    "\n",
    "from new_proximity.intersection_proximity import compute_proximity\n",
    "from region_stats import RegionStats\n"
   ]
  },
  {
   "cell_type": "code",
   "execution_count": 2,
   "metadata": {},
   "outputs": [],
   "source": [
    "# users = pd.read_csv('ml-users.csv')\n",
    "users = pd.read_csv('users_one_mission.csv')\n",
    "users = users.set_index('user_id')\n",
    "##%%\n",
    "point_labels = pd.read_csv('sidewalk-seattle-label_point.csv')\n",
    "point_labels.set_index('label_id', inplace=True)\n",
    "##%%\n",
    "# label_correctness = pd.read_csv('ml-label-correctness.csv')\n",
    "label_correctness = pd.read_csv('ml-label-correctness-one-mission.csv')\n",
    "##%%\n",
    "label_correctness.set_index('label_id', inplace=True)\n",
    "##%%\n",
    "label_correctness = label_correctness.join(point_labels)\n",
    "##%%\n",
    "label_correctness = label_correctness[['user_id', 'label_type', \n",
    "    'correct', 'sv_image_x', 'sv_image_y', 'canvas_x', 'canvas_y', \n",
    "    'heading', 'pitch', 'zoom', 'lat', 'lng']]\n",
    "\n",
    "##%%\n",
    "users_for_analysis = users.index[users['labels_validated'] > 0]\n",
    "label_correctness = label_correctness[label_correctness['user_id'].isin(users_for_analysis)]\n",
    "users = users.loc[users_for_analysis]\n",
    "##%%\n",
    "label_correctness.update(label_correctness['correct'][~pd.isna(label_correctness['correct'])] == 't')\n",
    "##%%\n",
    "label_type_encoder = OrdinalEncoder()\n",
    "##%%\n",
    "label_correctness['label_type'] = label_type_encoder.fit_transform(label_correctness[['label_type']])\n"
   ]
  },
  {
   "cell_type": "markdown",
   "metadata": {},
   "source": [
    " # Intersection Proximity"
   ]
  },
  {
   "cell_type": "code",
   "execution_count": 3,
   "metadata": {},
   "outputs": [
    {
     "ename": "KeyboardInterrupt",
     "evalue": "",
     "output_type": "error",
     "traceback": [
      "\u001b[0;31m---------------------------------------------------------------------------\u001b[0m",
      "\u001b[0;31mKeyboardInterrupt\u001b[0m                         Traceback (most recent call last)",
      "\u001b[0;32m<ipython-input-3-5811bff292a6>\u001b[0m in \u001b[0;36m<module>\u001b[0;34m\u001b[0m\n\u001b[1;32m     11\u001b[0m     })\n\u001b[1;32m     12\u001b[0m \u001b[0;34m\u001b[0m\u001b[0m\n\u001b[0;32m---> 13\u001b[0;31m \u001b[0mlabel_correctness\u001b[0m \u001b[0;34m=\u001b[0m \u001b[0mlabel_correctness\u001b[0m\u001b[0;34m.\u001b[0m\u001b[0mjoin\u001b[0m\u001b[0;34m(\u001b[0m\u001b[0mlabel_correctness\u001b[0m\u001b[0;34m.\u001b[0m\u001b[0mapply\u001b[0m\u001b[0;34m(\u001b[0m\u001b[0mget_proximity_info\u001b[0m\u001b[0;34m,\u001b[0m \u001b[0maxis\u001b[0m\u001b[0;34m=\u001b[0m\u001b[0;36m1\u001b[0m\u001b[0;34m)\u001b[0m\u001b[0;34m)\u001b[0m\u001b[0;34m\u001b[0m\u001b[0;34m\u001b[0m\u001b[0m\n\u001b[0m",
      "\u001b[0;32m~/anaconda3/lib/python3.7/site-packages/pandas/core/frame.py\u001b[0m in \u001b[0;36mapply\u001b[0;34m(self, func, axis, broadcast, raw, reduce, result_type, args, **kwds)\u001b[0m\n\u001b[1;32m   6485\u001b[0m                          \u001b[0margs\u001b[0m\u001b[0;34m=\u001b[0m\u001b[0margs\u001b[0m\u001b[0;34m,\u001b[0m\u001b[0;34m\u001b[0m\u001b[0;34m\u001b[0m\u001b[0m\n\u001b[1;32m   6486\u001b[0m                          kwds=kwds)\n\u001b[0;32m-> 6487\u001b[0;31m         \u001b[0;32mreturn\u001b[0m \u001b[0mop\u001b[0m\u001b[0;34m.\u001b[0m\u001b[0mget_result\u001b[0m\u001b[0;34m(\u001b[0m\u001b[0;34m)\u001b[0m\u001b[0;34m\u001b[0m\u001b[0;34m\u001b[0m\u001b[0m\n\u001b[0m\u001b[1;32m   6488\u001b[0m \u001b[0;34m\u001b[0m\u001b[0m\n\u001b[1;32m   6489\u001b[0m     \u001b[0;32mdef\u001b[0m \u001b[0mapplymap\u001b[0m\u001b[0;34m(\u001b[0m\u001b[0mself\u001b[0m\u001b[0;34m,\u001b[0m \u001b[0mfunc\u001b[0m\u001b[0;34m)\u001b[0m\u001b[0;34m:\u001b[0m\u001b[0;34m\u001b[0m\u001b[0;34m\u001b[0m\u001b[0m\n",
      "\u001b[0;32m~/anaconda3/lib/python3.7/site-packages/pandas/core/apply.py\u001b[0m in \u001b[0;36mget_result\u001b[0;34m(self)\u001b[0m\n\u001b[1;32m    149\u001b[0m             \u001b[0;32mreturn\u001b[0m \u001b[0mself\u001b[0m\u001b[0;34m.\u001b[0m\u001b[0mapply_raw\u001b[0m\u001b[0;34m(\u001b[0m\u001b[0;34m)\u001b[0m\u001b[0;34m\u001b[0m\u001b[0;34m\u001b[0m\u001b[0m\n\u001b[1;32m    150\u001b[0m \u001b[0;34m\u001b[0m\u001b[0m\n\u001b[0;32m--> 151\u001b[0;31m         \u001b[0;32mreturn\u001b[0m \u001b[0mself\u001b[0m\u001b[0;34m.\u001b[0m\u001b[0mapply_standard\u001b[0m\u001b[0;34m(\u001b[0m\u001b[0;34m)\u001b[0m\u001b[0;34m\u001b[0m\u001b[0;34m\u001b[0m\u001b[0m\n\u001b[0m\u001b[1;32m    152\u001b[0m \u001b[0;34m\u001b[0m\u001b[0m\n\u001b[1;32m    153\u001b[0m     \u001b[0;32mdef\u001b[0m \u001b[0mapply_empty_result\u001b[0m\u001b[0;34m(\u001b[0m\u001b[0mself\u001b[0m\u001b[0;34m)\u001b[0m\u001b[0;34m:\u001b[0m\u001b[0;34m\u001b[0m\u001b[0;34m\u001b[0m\u001b[0m\n",
      "\u001b[0;32m~/anaconda3/lib/python3.7/site-packages/pandas/core/apply.py\u001b[0m in \u001b[0;36mapply_standard\u001b[0;34m(self)\u001b[0m\n\u001b[1;32m    255\u001b[0m \u001b[0;34m\u001b[0m\u001b[0m\n\u001b[1;32m    256\u001b[0m         \u001b[0;31m# compute the result using the series generator\u001b[0m\u001b[0;34m\u001b[0m\u001b[0;34m\u001b[0m\u001b[0;34m\u001b[0m\u001b[0m\n\u001b[0;32m--> 257\u001b[0;31m         \u001b[0mself\u001b[0m\u001b[0;34m.\u001b[0m\u001b[0mapply_series_generator\u001b[0m\u001b[0;34m(\u001b[0m\u001b[0;34m)\u001b[0m\u001b[0;34m\u001b[0m\u001b[0;34m\u001b[0m\u001b[0m\n\u001b[0m\u001b[1;32m    258\u001b[0m \u001b[0;34m\u001b[0m\u001b[0m\n\u001b[1;32m    259\u001b[0m         \u001b[0;31m# wrap results\u001b[0m\u001b[0;34m\u001b[0m\u001b[0;34m\u001b[0m\u001b[0;34m\u001b[0m\u001b[0m\n",
      "\u001b[0;32m~/anaconda3/lib/python3.7/site-packages/pandas/core/apply.py\u001b[0m in \u001b[0;36mapply_series_generator\u001b[0;34m(self)\u001b[0m\n\u001b[1;32m    284\u001b[0m             \u001b[0;32mtry\u001b[0m\u001b[0;34m:\u001b[0m\u001b[0;34m\u001b[0m\u001b[0;34m\u001b[0m\u001b[0m\n\u001b[1;32m    285\u001b[0m                 \u001b[0;32mfor\u001b[0m \u001b[0mi\u001b[0m\u001b[0;34m,\u001b[0m \u001b[0mv\u001b[0m \u001b[0;32min\u001b[0m \u001b[0menumerate\u001b[0m\u001b[0;34m(\u001b[0m\u001b[0mseries_gen\u001b[0m\u001b[0;34m)\u001b[0m\u001b[0;34m:\u001b[0m\u001b[0;34m\u001b[0m\u001b[0;34m\u001b[0m\u001b[0m\n\u001b[0;32m--> 286\u001b[0;31m                     \u001b[0mresults\u001b[0m\u001b[0;34m[\u001b[0m\u001b[0mi\u001b[0m\u001b[0;34m]\u001b[0m \u001b[0;34m=\u001b[0m \u001b[0mself\u001b[0m\u001b[0;34m.\u001b[0m\u001b[0mf\u001b[0m\u001b[0;34m(\u001b[0m\u001b[0mv\u001b[0m\u001b[0;34m)\u001b[0m\u001b[0;34m\u001b[0m\u001b[0;34m\u001b[0m\u001b[0m\n\u001b[0m\u001b[1;32m    287\u001b[0m                     \u001b[0mkeys\u001b[0m\u001b[0;34m.\u001b[0m\u001b[0mappend\u001b[0m\u001b[0;34m(\u001b[0m\u001b[0mv\u001b[0m\u001b[0;34m.\u001b[0m\u001b[0mname\u001b[0m\u001b[0;34m)\u001b[0m\u001b[0;34m\u001b[0m\u001b[0;34m\u001b[0m\u001b[0m\n\u001b[1;32m    288\u001b[0m             \u001b[0;32mexcept\u001b[0m \u001b[0mException\u001b[0m \u001b[0;32mas\u001b[0m \u001b[0me\u001b[0m\u001b[0;34m:\u001b[0m\u001b[0;34m\u001b[0m\u001b[0;34m\u001b[0m\u001b[0m\n",
      "\u001b[0;32m<ipython-input-3-5811bff292a6>\u001b[0m in \u001b[0;36mget_proximity_info\u001b[0;34m(label)\u001b[0m\n\u001b[1;32m      8\u001b[0m     return pd.Series({\n\u001b[1;32m      9\u001b[0m         \u001b[0;34m'proximity_distance'\u001b[0m\u001b[0;34m:\u001b[0m \u001b[0mdistance\u001b[0m\u001b[0;34m,\u001b[0m\u001b[0;34m\u001b[0m\u001b[0;34m\u001b[0m\u001b[0m\n\u001b[0;32m---> 10\u001b[0;31m         \u001b[0;34m'proximity_middleness'\u001b[0m\u001b[0;34m:\u001b[0m \u001b[0mmiddleness\u001b[0m\u001b[0;34m\u001b[0m\u001b[0;34m\u001b[0m\u001b[0m\n\u001b[0m\u001b[1;32m     11\u001b[0m     })\n\u001b[1;32m     12\u001b[0m \u001b[0;34m\u001b[0m\u001b[0m\n",
      "\u001b[0;32m~/anaconda3/lib/python3.7/site-packages/pandas/core/series.py\u001b[0m in \u001b[0;36m__init__\u001b[0;34m(self, data, index, dtype, name, copy, fastpath)\u001b[0m\n\u001b[1;32m    205\u001b[0m                 \u001b[0mdata\u001b[0m \u001b[0;34m=\u001b[0m \u001b[0mdata\u001b[0m\u001b[0;34m.\u001b[0m\u001b[0m_data\u001b[0m\u001b[0;34m\u001b[0m\u001b[0;34m\u001b[0m\u001b[0m\n\u001b[1;32m    206\u001b[0m             \u001b[0;32melif\u001b[0m \u001b[0misinstance\u001b[0m\u001b[0;34m(\u001b[0m\u001b[0mdata\u001b[0m\u001b[0;34m,\u001b[0m \u001b[0mdict\u001b[0m\u001b[0;34m)\u001b[0m\u001b[0;34m:\u001b[0m\u001b[0;34m\u001b[0m\u001b[0;34m\u001b[0m\u001b[0m\n\u001b[0;32m--> 207\u001b[0;31m                 \u001b[0mdata\u001b[0m\u001b[0;34m,\u001b[0m \u001b[0mindex\u001b[0m \u001b[0;34m=\u001b[0m \u001b[0mself\u001b[0m\u001b[0;34m.\u001b[0m\u001b[0m_init_dict\u001b[0m\u001b[0;34m(\u001b[0m\u001b[0mdata\u001b[0m\u001b[0;34m,\u001b[0m \u001b[0mindex\u001b[0m\u001b[0;34m,\u001b[0m \u001b[0mdtype\u001b[0m\u001b[0;34m)\u001b[0m\u001b[0;34m\u001b[0m\u001b[0;34m\u001b[0m\u001b[0m\n\u001b[0m\u001b[1;32m    208\u001b[0m                 \u001b[0mdtype\u001b[0m \u001b[0;34m=\u001b[0m \u001b[0;32mNone\u001b[0m\u001b[0;34m\u001b[0m\u001b[0;34m\u001b[0m\u001b[0m\n\u001b[1;32m    209\u001b[0m                 \u001b[0mcopy\u001b[0m \u001b[0;34m=\u001b[0m \u001b[0;32mFalse\u001b[0m\u001b[0;34m\u001b[0m\u001b[0;34m\u001b[0m\u001b[0m\n",
      "\u001b[0;32m~/anaconda3/lib/python3.7/site-packages/pandas/core/series.py\u001b[0m in \u001b[0;36m_init_dict\u001b[0;34m(self, data, index, dtype)\u001b[0m\n\u001b[1;32m    302\u001b[0m \u001b[0;34m\u001b[0m\u001b[0m\n\u001b[1;32m    303\u001b[0m         \u001b[0;31m# Input is now list-like, so rely on \"standard\" construction:\u001b[0m\u001b[0;34m\u001b[0m\u001b[0;34m\u001b[0m\u001b[0;34m\u001b[0m\u001b[0m\n\u001b[0;32m--> 304\u001b[0;31m         \u001b[0ms\u001b[0m \u001b[0;34m=\u001b[0m \u001b[0mSeries\u001b[0m\u001b[0;34m(\u001b[0m\u001b[0mvalues\u001b[0m\u001b[0;34m,\u001b[0m \u001b[0mindex\u001b[0m\u001b[0;34m=\u001b[0m\u001b[0mkeys\u001b[0m\u001b[0;34m,\u001b[0m \u001b[0mdtype\u001b[0m\u001b[0;34m=\u001b[0m\u001b[0mdtype\u001b[0m\u001b[0;34m)\u001b[0m\u001b[0;34m\u001b[0m\u001b[0;34m\u001b[0m\u001b[0m\n\u001b[0m\u001b[1;32m    305\u001b[0m \u001b[0;34m\u001b[0m\u001b[0m\n\u001b[1;32m    306\u001b[0m         \u001b[0;31m# Now we just make sure the order is respected, if any\u001b[0m\u001b[0;34m\u001b[0m\u001b[0;34m\u001b[0m\u001b[0;34m\u001b[0m\u001b[0m\n",
      "\u001b[0;32m~/anaconda3/lib/python3.7/site-packages/pandas/core/series.py\u001b[0m in \u001b[0;36m__init__\u001b[0;34m(self, data, index, dtype, name, copy, fastpath)\u001b[0m\n\u001b[1;32m    167\u001b[0m \u001b[0;34m\u001b[0m\u001b[0m\n\u001b[1;32m    168\u001b[0m             \u001b[0;32mif\u001b[0m \u001b[0mindex\u001b[0m \u001b[0;32mis\u001b[0m \u001b[0;32mnot\u001b[0m \u001b[0;32mNone\u001b[0m\u001b[0;34m:\u001b[0m\u001b[0;34m\u001b[0m\u001b[0;34m\u001b[0m\u001b[0m\n\u001b[0;32m--> 169\u001b[0;31m                 \u001b[0mindex\u001b[0m \u001b[0;34m=\u001b[0m \u001b[0mensure_index\u001b[0m\u001b[0;34m(\u001b[0m\u001b[0mindex\u001b[0m\u001b[0;34m)\u001b[0m\u001b[0;34m\u001b[0m\u001b[0;34m\u001b[0m\u001b[0m\n\u001b[0m\u001b[1;32m    170\u001b[0m \u001b[0;34m\u001b[0m\u001b[0m\n\u001b[1;32m    171\u001b[0m             \u001b[0;32mif\u001b[0m \u001b[0mdata\u001b[0m \u001b[0;32mis\u001b[0m \u001b[0;32mNone\u001b[0m\u001b[0;34m:\u001b[0m\u001b[0;34m\u001b[0m\u001b[0;34m\u001b[0m\u001b[0m\n",
      "\u001b[0;32m~/anaconda3/lib/python3.7/site-packages/pandas/core/indexes/base.py\u001b[0m in \u001b[0;36mensure_index\u001b[0;34m(index_like, copy)\u001b[0m\n\u001b[1;32m   5376\u001b[0m             \u001b[0mindex_like\u001b[0m \u001b[0;34m=\u001b[0m \u001b[0mcopy\u001b[0m\u001b[0;34m(\u001b[0m\u001b[0mindex_like\u001b[0m\u001b[0;34m)\u001b[0m\u001b[0;34m\u001b[0m\u001b[0;34m\u001b[0m\u001b[0m\n\u001b[1;32m   5377\u001b[0m \u001b[0;34m\u001b[0m\u001b[0m\n\u001b[0;32m-> 5378\u001b[0;31m     \u001b[0;32mreturn\u001b[0m \u001b[0mIndex\u001b[0m\u001b[0;34m(\u001b[0m\u001b[0mindex_like\u001b[0m\u001b[0;34m)\u001b[0m\u001b[0;34m\u001b[0m\u001b[0;34m\u001b[0m\u001b[0m\n\u001b[0m\u001b[1;32m   5379\u001b[0m \u001b[0;34m\u001b[0m\u001b[0m\n\u001b[1;32m   5380\u001b[0m \u001b[0;34m\u001b[0m\u001b[0m\n",
      "\u001b[0;32m~/anaconda3/lib/python3.7/site-packages/pandas/core/indexes/base.py\u001b[0m in \u001b[0;36m__new__\u001b[0;34m(cls, data, dtype, copy, name, fastpath, tupleize_cols, **kwargs)\u001b[0m\n\u001b[1;32m    481\u001b[0m             \u001b[0;31m# other iterable of some kind\u001b[0m\u001b[0;34m\u001b[0m\u001b[0;34m\u001b[0m\u001b[0;34m\u001b[0m\u001b[0m\n\u001b[1;32m    482\u001b[0m             \u001b[0msubarr\u001b[0m \u001b[0;34m=\u001b[0m \u001b[0mcom\u001b[0m\u001b[0;34m.\u001b[0m\u001b[0masarray_tuplesafe\u001b[0m\u001b[0;34m(\u001b[0m\u001b[0mdata\u001b[0m\u001b[0;34m,\u001b[0m \u001b[0mdtype\u001b[0m\u001b[0;34m=\u001b[0m\u001b[0mobject\u001b[0m\u001b[0;34m)\u001b[0m\u001b[0;34m\u001b[0m\u001b[0;34m\u001b[0m\u001b[0m\n\u001b[0;32m--> 483\u001b[0;31m             \u001b[0;32mreturn\u001b[0m \u001b[0mIndex\u001b[0m\u001b[0;34m(\u001b[0m\u001b[0msubarr\u001b[0m\u001b[0;34m,\u001b[0m \u001b[0mdtype\u001b[0m\u001b[0;34m=\u001b[0m\u001b[0mdtype\u001b[0m\u001b[0;34m,\u001b[0m \u001b[0mcopy\u001b[0m\u001b[0;34m=\u001b[0m\u001b[0mcopy\u001b[0m\u001b[0;34m,\u001b[0m \u001b[0mname\u001b[0m\u001b[0;34m=\u001b[0m\u001b[0mname\u001b[0m\u001b[0;34m,\u001b[0m \u001b[0;34m**\u001b[0m\u001b[0mkwargs\u001b[0m\u001b[0;34m)\u001b[0m\u001b[0;34m\u001b[0m\u001b[0;34m\u001b[0m\u001b[0m\n\u001b[0m\u001b[1;32m    484\u001b[0m \u001b[0;34m\u001b[0m\u001b[0m\n\u001b[1;32m    485\u001b[0m     \"\"\"\n",
      "\u001b[0;32m~/anaconda3/lib/python3.7/site-packages/pandas/core/indexes/base.py\u001b[0m in \u001b[0;36m__new__\u001b[0;34m(cls, data, dtype, copy, name, fastpath, tupleize_cols, **kwargs)\u001b[0m\n\u001b[1;32m    420\u001b[0m \u001b[0;34m\u001b[0m\u001b[0m\n\u001b[1;32m    421\u001b[0m             \u001b[0;32mif\u001b[0m \u001b[0mdtype\u001b[0m \u001b[0;32mis\u001b[0m \u001b[0;32mNone\u001b[0m\u001b[0;34m:\u001b[0m\u001b[0;34m\u001b[0m\u001b[0;34m\u001b[0m\u001b[0m\n\u001b[0;32m--> 422\u001b[0;31m                 \u001b[0minferred\u001b[0m \u001b[0;34m=\u001b[0m \u001b[0mlib\u001b[0m\u001b[0;34m.\u001b[0m\u001b[0minfer_dtype\u001b[0m\u001b[0;34m(\u001b[0m\u001b[0msubarr\u001b[0m\u001b[0;34m,\u001b[0m \u001b[0mskipna\u001b[0m\u001b[0;34m=\u001b[0m\u001b[0;32mFalse\u001b[0m\u001b[0;34m)\u001b[0m\u001b[0;34m\u001b[0m\u001b[0;34m\u001b[0m\u001b[0m\n\u001b[0m\u001b[1;32m    423\u001b[0m                 \u001b[0;32mif\u001b[0m \u001b[0minferred\u001b[0m \u001b[0;34m==\u001b[0m \u001b[0;34m'integer'\u001b[0m\u001b[0;34m:\u001b[0m\u001b[0;34m\u001b[0m\u001b[0;34m\u001b[0m\u001b[0m\n\u001b[1;32m    424\u001b[0m                     \u001b[0;32mtry\u001b[0m\u001b[0;34m:\u001b[0m\u001b[0;34m\u001b[0m\u001b[0;34m\u001b[0m\u001b[0m\n",
      "\u001b[0;32mpandas/_libs/lib.pyx\u001b[0m in \u001b[0;36mpandas._libs.lib.infer_dtype\u001b[0;34m()\u001b[0m\n",
      "\u001b[0;32mpandas/_libs/lib.pyx\u001b[0m in \u001b[0;36mpandas._libs.lib._try_infer_map\u001b[0;34m()\u001b[0m\n",
      "\u001b[0;32m~/anaconda3/lib/python3.7/site-packages/numpy/core/_dtype.py\u001b[0m in \u001b[0;36m_name_get\u001b[0;34m(dtype)\u001b[0m\n\u001b[1;32m    332\u001b[0m \u001b[0;34m\u001b[0m\u001b[0m\n\u001b[1;32m    333\u001b[0m     \u001b[0;31m# append bit counts to str, unicode, and void\u001b[0m\u001b[0;34m\u001b[0m\u001b[0;34m\u001b[0m\u001b[0;34m\u001b[0m\u001b[0m\n\u001b[0;32m--> 334\u001b[0;31m     \u001b[0;32mif\u001b[0m \u001b[0mnp\u001b[0m\u001b[0;34m.\u001b[0m\u001b[0missubdtype\u001b[0m\u001b[0;34m(\u001b[0m\u001b[0mdtype\u001b[0m\u001b[0;34m,\u001b[0m \u001b[0mnp\u001b[0m\u001b[0;34m.\u001b[0m\u001b[0mflexible\u001b[0m\u001b[0;34m)\u001b[0m \u001b[0;32mand\u001b[0m \u001b[0;32mnot\u001b[0m \u001b[0m_isunsized\u001b[0m\u001b[0;34m(\u001b[0m\u001b[0mdtype\u001b[0m\u001b[0;34m)\u001b[0m\u001b[0;34m:\u001b[0m\u001b[0;34m\u001b[0m\u001b[0;34m\u001b[0m\u001b[0m\n\u001b[0m\u001b[1;32m    335\u001b[0m         \u001b[0mname\u001b[0m \u001b[0;34m+=\u001b[0m \u001b[0;34m\"{}\"\u001b[0m\u001b[0;34m.\u001b[0m\u001b[0mformat\u001b[0m\u001b[0;34m(\u001b[0m\u001b[0mdtype\u001b[0m\u001b[0;34m.\u001b[0m\u001b[0mitemsize\u001b[0m \u001b[0;34m*\u001b[0m \u001b[0;36m8\u001b[0m\u001b[0;34m)\u001b[0m\u001b[0;34m\u001b[0m\u001b[0;34m\u001b[0m\u001b[0m\n\u001b[1;32m    336\u001b[0m \u001b[0;34m\u001b[0m\u001b[0m\n",
      "\u001b[0;32m~/anaconda3/lib/python3.7/site-packages/numpy/core/numerictypes.py\u001b[0m in \u001b[0;36missubdtype\u001b[0;34m(arg1, arg2)\u001b[0m\n\u001b[1;32m    363\u001b[0m \u001b[0;34m\u001b[0m\u001b[0m\n\u001b[1;32m    364\u001b[0m \u001b[0;34m\u001b[0m\u001b[0m\n\u001b[0;32m--> 365\u001b[0;31m \u001b[0;34m@\u001b[0m\u001b[0mset_module\u001b[0m\u001b[0;34m(\u001b[0m\u001b[0;34m'numpy'\u001b[0m\u001b[0;34m)\u001b[0m\u001b[0;34m\u001b[0m\u001b[0;34m\u001b[0m\u001b[0m\n\u001b[0m\u001b[1;32m    366\u001b[0m \u001b[0;32mdef\u001b[0m \u001b[0missubdtype\u001b[0m\u001b[0;34m(\u001b[0m\u001b[0marg1\u001b[0m\u001b[0;34m,\u001b[0m \u001b[0marg2\u001b[0m\u001b[0;34m)\u001b[0m\u001b[0;34m:\u001b[0m\u001b[0;34m\u001b[0m\u001b[0;34m\u001b[0m\u001b[0m\n\u001b[1;32m    367\u001b[0m     \"\"\"\n",
      "\u001b[0;31mKeyboardInterrupt\u001b[0m: "
     ]
    }
   ],
   "source": [
    "def get_proximity_info(label):\n",
    "    try:\n",
    "        distance, middleness = compute_proximity(label.lat, label.lng, cache=True)\n",
    "    except Exception:\n",
    "        distance = -1\n",
    "        middleness = -1\n",
    "    \n",
    "    return pd.Series({\n",
    "        'proximity_distance': distance,\n",
    "        'proximity_middleness': middleness\n",
    "    })\n",
    "\n",
    "label_correctness = label_correctness.join(label_correctness.apply(get_proximity_info, axis=1))\n"
   ]
  },
  {
   "cell_type": "markdown",
   "metadata": {},
   "source": [
    " # CV Analysis\n",
    " cv_predictions = pd.read_csv('summary_user.csv').rename("
   ]
  },
  {
   "cell_type": "code",
   "execution_count": null,
   "metadata": {},
   "outputs": [],
   "source": [
    "label_types = ['CurbRamp', 'NoCurbRamp', 'Obstacle', 'SurfaceProblem']\n"
   ]
  },
  {
   "cell_type": "code",
   "execution_count": null,
   "metadata": {},
   "outputs": [],
   "source": [
    "label_correctness = label_correctness.join(cv_predictions)"
   ]
  },
  {
   "cell_type": "code",
   "execution_count": null,
   "metadata": {},
   "outputs": [],
   "source": [
    "fig, axes = plt.subplots(nrows=2, ncols=2, figsize=(8, 8))\n",
    "for i in range(len(label_types)):\n",
    "    ax = axes[i//2][i%2]\n",
    "    label_encoded = label_type_encoder.transform([[label_types[i]]])[0][0]\n",
    "    selection = label_correctness[~pd.isna(label_correctness['correct']) & ~pd.isna(label_correctness['cv_confidence']) & (label_correctness['label_type'] == label_encoded)]\n",
    "    ax.set_xlabel('CV Confidence')\n",
    "    ax.set_ylabel('relative count')\n",
    "    ax.set_title(label_types[i])\n",
    "    ax.hist(selection[selection['correct'].astype(bool)]['cv_confidence'], alpha=0.5, label='correct', density=True)\n",
    "    ax.hist(selection[~selection['correct'].astype(bool)]['cv_confidence'], alpha=0.5, label='incorrect', density=True)\n",
    "    ax.legend()\n",
    "\n",
    "fig.tight_layout()"
   ]
  },
  {
   "cell_type": "code",
   "execution_count": null,
   "metadata": {},
   "outputs": [],
   "source": [
    "prob = np.zeros((4, 4))\n",
    "for i in range(len(label_types)):\n",
    "    for j in range(len(label_types)):\n",
    "        i_encoded = label_type_encoder.transform([[label_types[i]]])[0][0]\n",
    "        j_encoded = label_type_encoder.transform([[label_types[j]]])[0][0]\n",
    "\n",
    "        selection = label_correctness[~pd.isna(label_correctness['correct']) \n",
    "            & (label_correctness['label_type'] == i_encoded)\n",
    "            & (label_correctness['cv_label_type'] == j_encoded)]\n",
    "        \n",
    "        prob[i][j] = np.sum(selection['correct']) / len(selection)\n",
    "\n",
    "\n",
    "prob"
   ]
  },
  {
   "cell_type": "markdown",
   "metadata": {},
   "source": [
    " # Population Density"
   ]
  },
  {
   "cell_type": "code",
   "execution_count": null,
   "metadata": {},
   "outputs": [],
   "source": [
    "selection_all = label_correctness[['density', 'correct', 'label_type']]\n",
    "selection_all = selection_all[~pd.isna(selection_all).any(axis=1)]"
   ]
  },
  {
   "cell_type": "code",
   "execution_count": null,
   "metadata": {},
   "outputs": [],
   "source": [
    "/lab?fig, axes = plt.subplots(nrows=2, ncols=2, figsize=(8, 8))\n",
    "fig2, axes2 = plt.subplots(nrows=2, ncols=2, figsize=(8, 8))\n",
    "\n",
    "for i in range(len(label_types)):\n",
    "    ax = axes[i//2][i%2]\n",
    "    label_encoded = label_type_encoder.transform([[label_types[i]]])[0][0]\n",
    "    selection = selection_all[selection_all['label_type'] == label_encoded]\n",
    "    ax.set_xlabel('Population density (people/sq. mile)')\n",
    "    ax.set_ylabel('count')\n",
    "    ax.set_title(label_types[i])\n",
    "    nc, bins, _ = ax.hist(selection[selection['correct'] == True]['density'], density=False, bins=20, alpha=0.5, label='correct')\n",
    "    ni, _, _ = ax.hist(selection[selection['correct'] == False]['density'], density=False, bins=bins, alpha=0.5, label='incorrect')\n",
    "    ax.legend()\n",
    "\n",
    "    ax2 = axes2[i//2][i%2]\n",
    "    ax2.set_xlabel('Population density (people/sq. mile)')\n",
    "    ax2.set_ylabel('probability correct')\n",
    "    ax2.set_title(label_types[i])\n",
    "    density_vals = (bins[:-1] + bins[1:])/2\n",
    "    correct_prob = nc / (ni + nc)\n",
    "    mask = ~np.isnan(correct_prob)\n",
    "    density_vals = density_vals[mask]\n",
    "    correct_prob = correct_prob[mask]\n",
    "    ax2.scatter(density_vals, correct_prob)\n",
    "\n",
    "    \n",
    "    z = np.polyfit(density_vals, correct_prob, 1)\n",
    "    p = np.poly1d(z)\n",
    "    ax2.plot(density_vals, p(density_vals), \n",
    "    label=f\"R={r2_score(correct_prob, p(density_vals)):.3f}\")\n",
    "\n",
    "    ax2.legend()\n",
    "\n",
    "\n",
    "fig.tight_layout()\n",
    "fig2.tight_layout()\n"
   ]
  },
  {
   "cell_type": "markdown",
   "metadata": {},
   "source": [
    " # Zone type"
   ]
  },
  {
   "cell_type": "code",
   "execution_count": null,
   "metadata": {},
   "outputs": [],
   "source": [
    "rs = RegionStats('Zoning_Detailed.geojson')\n",
    "label_correctness = label_correctness.join(\n",
    "    label_correctness.apply(lambda x: pd.Series(rs.get_properties(x.lng, x.lat)), axis=1)\n",
    ")\n"
   ]
  },
  {
   "cell_type": "code",
   "execution_count": null,
   "metadata": {},
   "outputs": [],
   "source": [
    "selection_all = label_correctness[['CATEGORY_DESC', 'correct', 'label_type']]\n",
    "selection_all = selection_all[~pd.isna(selection_all).any(axis=1)]\n",
    "fig, axes = plt.subplots(nrows=2, ncols=2, figsize=(8, 10))\n",
    "categories = selection_all['CATEGORY_DESC'].unique()\n",
    "\n",
    "for i in range(len(label_types)):\n",
    "    ax = axes[i//2][i%2]\n",
    "    label_encoded = label_type_encoder.transform([[label_types[i]]])[0][0]\n",
    "    selection = selection_all[selection_all['label_type'] == label_encoded]\n",
    "    # ax.set_xlabel('Population density (people/sq. mile)')\n",
    "    # ax.set_ylabel('count')\n",
    "    ax.set_title(label_types[i])\n",
    "    prob_correct = dict()\n",
    "    for category in categories:\n",
    "        if np.sum(selection['CATEGORY_DESC'] == category) > 100:\n",
    "            prob_correct[category] = np.mean(selection['correct'][selection['CATEGORY_DESC'] == category])\n",
    "        else:\n",
    "            prob_correct[category] = 0\n",
    "        # num_in[category] = np.sum(selection['CATEGORY_DESC'] == category)\n",
    "\n",
    "    ax.bar(prob_correct.keys(), prob_correct.values())\n",
    "    ax.set_ylim(0, 1)\n",
    "    ax.tick_params(axis='x', labelrotation=90)\n",
    "\n",
    "fig.tight_layout()"
   ]
  },
  {
   "cell_type": "markdown",
   "metadata": {},
   "source": [
    " # Classification"
   ]
  },
  {
   "cell_type": "code",
   "execution_count": 4,
   "metadata": {},
   "outputs": [],
   "source": [
    "def prob_hist(probabilities, n_bins=5):\n",
    "    hist = np.zeros(n_bins)\n",
    "    hist[0] = np.sum(probabilities <= (1 / n_bins))\n",
    "    for i in range(1, n_bins):\n",
    "        hist[i] = np.sum(((i / n_bins) < probabilities) & (probabilities <= ((i+1) / n_bins)))\n",
    "\n",
    "    # return hist / np.sum(hist)\n",
    "    # return hist\n",
    "    return [np.mean(probabilities), np.std(probabilities),\n",
    "        np.percentile(probabilities, 25), np.percentile(probabilities, 50),\n",
    "        np.percentile(probabilities, 75)]\n",
    "def dearray(array):\n",
    "    return np.array([list(l) for l in array])\n"
   ]
  },
  {
   "cell_type": "markdown",
   "metadata": {},
   "source": [
    " # Tyler's features"
   ]
  },
  {
   "cell_type": "code",
   "execution_count": 5,
   "metadata": {},
   "outputs": [],
   "source": [
    "user_quality_features = pd.read_csv('all_users.csv')\n",
    "user_quality_features.set_index('user_id', inplace=True)\n"
   ]
  },
  {
   "cell_type": "code",
   "execution_count": 6,
   "metadata": {},
   "outputs": [],
   "source": [
    "def get_p_r(users, label_correctness):\n",
    "    features = ['label_type', 'sv_image_y', 'canvas_x', 'canvas_y', 'heading', 'pitch', 'zoom', 'lat', 'lng',]\n",
    "    proportion_labels = 0.1\n",
    "    comparisons = pd.DataFrame()\n",
    "    split_num = 0\n",
    "    np.random.seed(0)\n",
    "\n",
    "    for train_index, test_index in KFold(n_splits=5, shuffle=True, random_state=0).split(users.index):\n",
    "        X_train, X_test = users.index[train_index], users.index[test_index]\n",
    "        y_train, y_test = users['accuracy'][train_index], users['accuracy'][test_index]\n",
    "\n",
    "        mask = np.random.permutation(np.arange(len(X_train)))\n",
    "        users_labels_train = X_train[mask[:int(proportion_labels * len(mask))]]\n",
    "        users_labels_test = X_train[mask[int(proportion_labels * len(mask)):]]\n",
    "\n",
    "        train_labels = label_correctness[label_correctness['user_id'].isin(X_train)]\n",
    "        test_labels = label_correctness[label_correctness['user_id'].isin(X_test)]\n",
    "        #%%\n",
    "        test_labels = test_labels.drop(columns='correct')\n",
    "        #%%\n",
    "        train_labels = train_labels[~pd.isna(train_labels['correct'])]\n",
    "        train_labels = train_labels[~(pd.isna(train_labels[features]).any(axis=1))]\n",
    "        # scaler = StandardScaler()\n",
    "        # train_labels[features] = scaler.fit_transform(train_labels[features])\n",
    "\n",
    "        #%%\n",
    "        rfe_labels = RFECV(estimator=RandomForestClassifier(n_estimators=10), step=1, cv=StratifiedKFold(5),\n",
    "               scoring='precision')\n",
    "        clf_labels = RandomForestClassifier(random_state=0, n_jobs=-1, n_estimators=10)\n",
    "        # clf_accuracy = BalancedBaggingClassifier(n_jobs=-1, random_state=0, n_estimators=100)\n",
    "        rfe_accuracy = RFECV(estimator=RandomForestClassifier(n_estimators=10), step=1, cv=StratifiedKFold(5), scoring='f1')\n",
    "        clf_accuracy = BalancedBaggingClassifier(random_state=0, n_jobs=-1, n_estimators=20)\n",
    "        # clf = BalancedRandomForestClassifier(random_state=0)  \n",
    "\n",
    "        # TODO don't eliminate all nans\n",
    "\n",
    "        #%%\n",
    "        # clf_labels.fit(train_labels[features], train_labels['correct'].astype(int))\n",
    "    #     print('Training label classifier...')\n",
    "        rfe_labels.fit(train_labels[train_labels['user_id'].isin(users_labels_train)][features].values, \n",
    "            train_labels[train_labels['user_id'].isin(users_labels_train)]['correct'].astype(int))\n",
    "\n",
    "        clf_labels.fit(train_labels[train_labels['user_id'].isin(users_labels_train)][features].values[:, rfe_labels.support_], \n",
    "            train_labels[train_labels['user_id'].isin(users_labels_train)]['correct'].astype(int))\n",
    "\n",
    "        train_labels = train_labels.join(pd.Series(\n",
    "            data=clf_labels.predict_proba(train_labels[train_labels['user_id'].isin(users_labels_test)][features].values[:, rfe_labels.support_])[:, 1], \n",
    "            index=train_labels[train_labels['user_id'].isin(users_labels_test)].index).rename('prob'), how='outer')\n",
    "\n",
    "        prob_hist_predictions = pd.DataFrame(train_labels[train_labels['user_id'].isin(users_labels_test)]\n",
    "            .groupby('user_id').apply(lambda x:\\\n",
    "            prob_hist(x['prob'].values)).rename('prob'))\n",
    "\n",
    "        prob_hist_predictions = prob_hist_predictions.join(user_quality_features)\n",
    "\n",
    "    #     print('Training accuracy classifier...')\n",
    "        rfe_accuracy.fit(np.concatenate((dearray(prob_hist_predictions['prob']), \n",
    "            prob_hist_predictions.drop(columns='prob').values), axis=1), \n",
    "            (y_train.loc[prob_hist_predictions.index] > 65).astype(int))\n",
    "\n",
    "        clf_accuracy.fit(np.concatenate((dearray(prob_hist_predictions['prob']), \n",
    "            prob_hist_predictions.drop(columns='prob').values), axis=1)[:, rfe_accuracy.support_], \n",
    "            (y_train.loc[prob_hist_predictions.index] > 65).astype(int))\n",
    "        #%%\n",
    "        # Probabililty correct\n",
    "        useful_test = test_labels[~pd.isna(test_labels[features]).any(axis=1)].copy()  # TODO don't eliminate all nans\n",
    "        # useful_test[features] = scaler.transform(useful_test[features])\n",
    "        # useful_test = useful_test.join(useful_test.apply(get_proximity_info, axis=1))\n",
    "        useful_test.loc[:, 'prob'] = clf_labels.predict_proba(useful_test[features].values[:, rfe_labels.support_])[:, 1]\n",
    "\n",
    "        # a = useful_test.groupby('user_id').apply(lambda x: prob_hist(x['prob']))\n",
    "        # break\n",
    "        #%%\n",
    "\n",
    "        # Now predict accuracy\n",
    "\n",
    "        def predict_accuracy(probs, features):\n",
    "            # fig = plt.figure()\n",
    "            # plt.xlim(0, 1)\n",
    "            # plt.hist(probs)\n",
    "\n",
    "            # selected_probs = probs[~np.isnan(probs)]\n",
    "            # return np.mean(selected_probs)\n",
    "            # return clf_accuracy.predict_proba([np.concatenate((prob_hist(probs), features))])[:, 1][0]\n",
    "            return clf_accuracy.predict([np.concatenate((prob_hist(probs), features))[rfe_accuracy.support_]])[0]\n",
    "\n",
    "    #     print('Making predictions...')\n",
    "        mean_probs = useful_test.groupby('user_id').apply(lambda x: predict_accuracy(x['prob'].values, user_quality_features.loc[x.name])).rename('predicted')\n",
    "\n",
    "        #%%\n",
    "        comparison = pd.DataFrame((mean_probs, y_test, pd.Series(np.full((len(y_test)), split_num), name='split_num', index=y_test.index))).T\n",
    "        comparison['prob_hist'] = useful_test.groupby('user_id').apply(lambda x: prob_hist(x['prob'].values))\n",
    "        comparison['probs'] = useful_test.groupby('user_id').apply(lambda x: x['prob'].values)\n",
    "        comparisons = comparisons.append(comparison)\n",
    "\n",
    "        #%%\n",
    "\n",
    "        split_num += 1\n",
    "\n",
    "        # sys.stderr.write(f'{split_num} / 5\\n')\n",
    "\n",
    "    comparisons['accuracy'] = (comparisons['accuracy'] > 65).astype(int)\n",
    "\n",
    "    mask = ~pd.isna(comparisons[['accuracy', 'predicted']]).any(axis=1)\n",
    "    # print(precision_score(comparisons['accuracy'][mask], comparisons['predicted'][mask]))\n",
    "    # print(recall_score(comparisons['accuracy'][mask], comparisons['predicted'][mask]))\n",
    "    # print(accuracy_score(comparisons['accuracy'][mask], comparisons['predicted'][mask]))\n",
    "    # print(confusion_matrix(comparisons['accuracy'][mask], comparisons['predicted'][mask]))\n",
    "\n",
    "    return precision_score(comparisons['accuracy'][mask], comparisons['predicted'][mask]), recall_score(comparisons['accuracy'][mask], comparisons['predicted'][mask])\n"
   ]
  },
  {
   "cell_type": "code",
   "execution_count": 41,
   "metadata": {},
   "outputs": [
    {
     "ename": "SyntaxError",
     "evalue": "'return' outside function (<ipython-input-41-7c730930994f>, line 110)",
     "output_type": "error",
     "traceback": [
      "\u001b[0;36m  File \u001b[0;32m\"<ipython-input-41-7c730930994f>\"\u001b[0;36m, line \u001b[0;32m110\u001b[0m\n\u001b[0;31m    return precision_score(comparisons['accuracy'][mask], comparisons['predicted'][mask]), recall_score(comparisons['accuracy'][mask], comparisons['predicted'][mask])\u001b[0m\n\u001b[0m                                                                                                                                                                      ^\u001b[0m\n\u001b[0;31mSyntaxError\u001b[0m\u001b[0;31m:\u001b[0m 'return' outside function\n"
     ]
    }
   ],
   "source": [
    "features = ['label_type', 'sv_image_y', 'canvas_x', 'canvas_y', 'heading', 'pitch', 'zoom', 'lat', 'lng',]\n",
    "\n",
    "proportion_labels = 0.1\n",
    "comparisons = pd.DataFrame()\n",
    "split_num = 0\n",
    "np.random.seed(0)\n",
    "\n",
    "for train_index, test_index in KFold(n_splits=5, shuffle=True, random_state=0).split(users.index):\n",
    "    X_train, X_test = users.index[train_index], users.index[test_index]\n",
    "    y_train, y_test = users['accuracy'][train_index], users['accuracy'][test_index]\n",
    "\n",
    "    mask = np.random.permutation(np.arange(len(X_train)))\n",
    "    users_labels_train = X_train[mask[:int(proportion_labels * len(mask))]]\n",
    "    users_labels_test = X_train[mask[int(proportion_labels * len(mask)):]]\n",
    "\n",
    "    train_labels = label_correctness[label_correctness['user_id'].isin(X_train)]\n",
    "    test_labels = label_correctness[label_correctness['user_id'].isin(X_test)]\n",
    "    #%%\n",
    "    test_labels = test_labels.drop(columns='correct')\n",
    "    #%%\n",
    "    train_labels = train_labels[~pd.isna(train_labels['correct'])]\n",
    "    train_labels = train_labels[~(pd.isna(train_labels[features]).any(axis=1))]\n",
    "    # scaler = StandardScaler()\n",
    "    # train_labels[features] = scaler.fit_transform(train_labels[features])\n",
    "\n",
    "    #%%\n",
    "    rfe_labels = RFECV(estimator=RandomForestClassifier(n_estimators=10), step=1, cv=StratifiedKFold(5),\n",
    "           scoring='precision')\n",
    "    clf_labels = RandomForestClassifier(random_state=0, n_jobs=-1, n_estimators=10)\n",
    "    # clf_accuracy = BalancedBaggingClassifier(n_jobs=-1, random_state=0, n_estimators=100)\n",
    "    rfe_accuracy = RFECV(estimator=RandomForestClassifier(n_estimators=10), step=1, cv=StratifiedKFold(5), scoring='f1')\n",
    "    clf_accuracy = BalancedBaggingClassifier(random_state=0, n_jobs=-1, n_estimators=20)\n",
    "    # clf = BalancedRandomForestClassifier(random_state=0)  \n",
    "    \n",
    "    # TODO don't eliminate all nans\n",
    "\n",
    "    #%%\n",
    "    # clf_labels.fit(train_labels[features], train_labels['correct'].astype(int))\n",
    "    print('Training label classifier...')\n",
    "    rfe_labels.fit(train_labels[train_labels['user_id'].isin(users_labels_train)][features].values, \n",
    "        train_labels[train_labels['user_id'].isin(users_labels_train)]['correct'].astype(int))\n",
    "    \n",
    "    clf_labels.fit(train_labels[train_labels['user_id'].isin(users_labels_train)][features].values[:, rfe_labels.support_], \n",
    "        train_labels[train_labels['user_id'].isin(users_labels_train)]['correct'].astype(int))\n",
    "    \n",
    "    train_labels = train_labels.join(pd.Series(\n",
    "        data=clf_labels.predict_proba(train_labels[train_labels['user_id'].isin(users_labels_test)][features].values[:, rfe_labels.support_])[:, 1], \n",
    "        index=train_labels[train_labels['user_id'].isin(users_labels_test)].index).rename('prob'), how='outer')\n",
    "    \n",
    "    prob_hist_predictions = pd.DataFrame(train_labels[train_labels['user_id'].isin(users_labels_test)]\n",
    "        .groupby('user_id').apply(lambda x:\\\n",
    "        prob_hist(x['prob'].values)).rename('prob'))\n",
    "    \n",
    "    prob_hist_predictions = prob_hist_predictions.join(user_quality_features)\n",
    "    \n",
    "    print('Training accuracy classifier...')\n",
    "    rfe_accuracy.fit(np.concatenate((dearray(prob_hist_predictions['prob']), \n",
    "        prob_hist_predictions.drop(columns='prob').values), axis=1), \n",
    "        (y_train.loc[prob_hist_predictions.index] > 65).astype(int))\n",
    "    \n",
    "    clf_accuracy.fit(np.concatenate((dearray(prob_hist_predictions['prob']), \n",
    "        prob_hist_predictions.drop(columns='prob').values), axis=1)[:, rfe_accuracy.support_], \n",
    "        (y_train.loc[prob_hist_predictions.index] > 65).astype(int))\n",
    "    #%%\n",
    "    # Probabililty correct\n",
    "    useful_test = test_labels[~pd.isna(test_labels[features]).any(axis=1)].copy()  # TODO don't eliminate all nans\n",
    "    # useful_test[features] = scaler.transform(useful_test[features])\n",
    "    # useful_test = useful_test.join(useful_test.apply(get_proximity_info, axis=1))\n",
    "    useful_test.loc[:, 'prob'] = clf_labels.predict_proba(useful_test[features].values[:, rfe_labels.support_])[:, 1]\n",
    "\n",
    "    # a = useful_test.groupby('user_id').apply(lambda x: prob_hist(x['prob']))\n",
    "    # break\n",
    "    #%%\n",
    "\n",
    "    # Now predict accuracy\n",
    "\n",
    "    def predict_accuracy(probs, features):\n",
    "        # fig = plt.figure()\n",
    "        # plt.xlim(0, 1)\n",
    "        # plt.hist(probs)\n",
    "        \n",
    "        # selected_probs = probs[~np.isnan(probs)]\n",
    "        # return np.mean(selected_probs)\n",
    "        # return clf_accuracy.predict_proba([np.concatenate((prob_hist(probs), features))])[:, 1][0]\n",
    "        return clf_accuracy.predict([np.concatenate((prob_hist(probs), features))[rfe_accuracy.support_]])[0]\n",
    "    \n",
    "    print('Making predictions...')\n",
    "    mean_probs = useful_test.groupby('user_id').apply(lambda x: predict_accuracy(x['prob'].values, user_quality_features.loc[x.name])).rename('predicted')\n",
    "\n",
    "    #%%\n",
    "    comparison = pd.DataFrame((mean_probs, y_test, pd.Series(np.full((len(y_test)), split_num), name='split_num', index=y_test.index))).T\n",
    "    comparison['prob_hist'] = useful_test.groupby('user_id').apply(lambda x: prob_hist(x['prob'].values))\n",
    "    comparison['probs'] = useful_test.groupby('user_id').apply(lambda x: x['prob'].values)\n",
    "    comparisons = comparisons.append(comparison)\n",
    "\n",
    "    #%%\n",
    "\n",
    "    split_num += 1\n",
    "\n",
    "    # sys.stderr.write(f'{split_num} / 5\\n')\n",
    "\n",
    "comparisons['accuracy'] = (comparisons['accuracy'] > 65).astype(int)\n",
    "\n",
    "mask = ~pd.isna(comparisons[['accuracy', 'predicted']]).any(axis=1)\n",
    "print(precision_score(comparisons['accuracy'][mask], comparisons['predicted'][mask]))\n",
    "print(recall_score(comparisons['accuracy'][mask], comparisons['predicted'][mask]))\n",
    "print(accuracy_score(comparisons['accuracy'][mask], comparisons['predicted'][mask]))\n",
    "print(confusion_matrix(comparisons['accuracy'][mask], comparisons['predicted'][mask]))"
   ]
  },
  {
   "cell_type": "code",
   "execution_count": 22,
   "metadata": {},
   "outputs": [],
   "source": [
    "# Feature Selection\n",
    "mask = ~(pd.isna(label_correctness[features]).any(axis=1) | pd.isna(label_correctness['correct']))\n",
    "X = label_correctness[features][mask]\n",
    "y = label_correctness['correct'][mask].astype(int)\n",
    "rfecv = RFECV(estimator=RandomForestClassifier(n_estimators=10), step=1, cv=StratifiedKFold(5),\n",
    "              scoring='precision')\n",
    "rfecv.fit(X, y)\n",
    "rfe_labels_mask = rfecv.support_\n",
    "# RandomForestClassifier().fit(X, y)\n"
   ]
  },
  {
   "cell_type": "code",
   "execution_count": 24,
   "metadata": {},
   "outputs": [],
   "source": [
    "# Feature Selection\n",
    "mask = ~(pd.isna(label_correctness[features]).any(axis=1) | pd.isna(label_correctness['correct']))\n",
    "X = np.concatenate((dearray(prob_hist_predictions['prob']), \n",
    "        prob_hist_predictions.drop(columns='prob').values), axis=1)\n",
    "\n",
    "y = (y_train.loc[prob_hist_predictions.index] > 65).astype(int)\n",
    "rfecv = RFECV(estimator=RandomForestClassifier(n_estimators=10), step=1, cv=StratifiedKFold(5), scoring='f1')\n",
    "rfecv.fit(X, y)\n",
    "rfe_accuracy_mask = rfecv.support_\n",
    "\n",
    "# RandomForestClassifier().fit(X, y)\n",
    "\n"
   ]
  },
  {
   "cell_type": "code",
   "execution_count": null,
   "metadata": {},
   "outputs": [],
   "source": []
  },
  {
   "cell_type": "code",
   "execution_count": 16,
   "metadata": {},
   "outputs": [
    {
     "name": "stdout",
     "output_type": "stream",
     "text": [
      "Optimal number of features : 8\n",
      "Optimal number of features : [ True  True  True  True  True  True False  True  True]\n"
     ]
    },
    {
     "data": {
      "image/png": "[encoded data removed]",
      "text/plain": [
       "<Figure size 432x288 with 1 Axes>"
      ]
     },
     "metadata": {
      "needs_background": "light"
     },
     "output_type": "display_data"
    }
   ],
   "source": [
    "print(\"Optimal number of features : %d\" % rfecv.n_features_)\n",
    "print(\"Optimal number of features : %s\" % str(rfecv.support_))\n",
    "\n",
    "# Plot number of features VS. cross-validation scores\n",
    "plt.figure()\n",
    "plt.xlabel(\"Number of features selected\")\n",
    "plt.ylabel(\"Cross validation score (nb of correct classifications)\")\n",
    "plt.plot(range(1, len(rfecv.grid_scores_) + 1), rfecv.grid_scores_)\n",
    "plt.show()\n"
   ]
  },
  {
   "cell_type": "code",
   "execution_count": null,
   "metadata": {},
   "outputs": [],
   "source": [
    "mask = ~pd.isna(comparisons[['accuracy', 'predicted']]).any(axis=1)\n",
    "plt.figure()\n",
    "vals_correct, bins, _ = plt.hist(comparisons['predicted'][mask & (comparisons['accuracy'] == 1)], alpha=0.5, label='good', bins=30)\n",
    "vals_incorrect,_,_ = plt.hist(comparisons['predicted'][mask & (comparisons['accuracy'] == 0)], alpha=0.5, label='bad', bins=bins)\n",
    "plt.xlabel('predicted probability that the user is good')\n",
    "plt.ylabel('count')\n",
    "plt.legend()"
   ]
  },
  {
   "cell_type": "code",
   "execution_count": null,
   "metadata": {},
   "outputs": [],
   "source": [
    "def get_class_color(name):\n",
    "    if users.loc[name]['class'] == 'undefined':\n",
    "        return (0.5, 0.5, 0.5)\n",
    "    elif users.loc[name]['class'] == 'bad':\n",
    "        return (1, 0, 0)\n",
    "    elif users.loc[name]['class'] == 'good':\n",
    "        return (0, 1, 0)\n",
    "    elif users.loc[name]['class'] == 'region':\n",
    "        return (0, 0, 1)\n",
    "    \n",
    "    return (0.5, 0.5, 0.5)\n",
    "\n",
    "# comparisons = comparisons.drop(columns=('color'))\n",
    "comparisons = comparisons.join(comparisons.apply(lambda x: get_class_color(x.name), axis=1).rename('color'))\n",
    "\n",
    "# #%%\n",
    "# plt.figure()\n",
    "# plt.ylabel('relative importance')\n",
    "# plt.title('Feature Importances')\n",
    "# plt.xticks(rotation=90)\n",
    "# plt.bar(features, clf.feature_importances_)"
   ]
  },
  {
   "cell_type": "code",
   "execution_count": null,
   "metadata": {},
   "outputs": [],
   "source": [
    "plt.figure(figsize=(5, 5))\n",
    "# plt.xlim((20, 100))\n",
    "# plt.ylim((20, 100))\n",
    "# plt.axis('scaled')\n",
    "plt.xlabel('Predicted accuracy')\n",
    "plt.ylabel('Actual accuracy')\n",
    "# plt.scatter(comparisons['predicted'], comparisons['accuracy'], c=comparisons['color'].values)\n",
    "plt.scatter(comparisons['predicted'], comparisons['accuracy'], c=comparisons['split_num'])\n",
    "# plt.scatter(comparisons['predicted'], comparisons['confidence'], c=comparisons['color'].values)\n",
    "\n",
    "# z = np.polyfit(comparisons['predicted'], comparisons['accuracy'], 1)\n",
    "# p = np.poly1d(z)\n",
    "# plt.plot(comparisons['predicted'], p(comparisons['predicted']), \n",
    "#     label=f\"y={z[0]:2f}x+({z[1]:2f}), {r2_score(comparisons['accuracy'], p(comparisons['predicted'])):2f}\")\n",
    "plt.legend()\n",
    "\n"
   ]
  },
  {
   "cell_type": "code",
   "execution_count": null,
   "metadata": {},
   "outputs": [],
   "source": []
  },
  {
   "cell_type": "code",
   "execution_count": null,
   "metadata": {},
   "outputs": [],
   "source": [
    "plt.figure(figsize=(5, 5))\n",
    "plt.xlim((20, 100))\n",
    "plt.ylim((20, 100))\n",
    "plt.axis('scaled')\n",
    "plt.xlabel('Predicted accuracy')\n",
    "plt.ylabel('Actual accuracy')\n",
    "for train_index, test_index in KFold(n_splits=5, shuffle=True, random_state=0).split(users.index):\n",
    "    X_train, X_test = users.index[train_index], users.index[test_index]\n",
    "    y_train, y_test = users['accuracy'][train_index], users['accuracy'][test_index]\n",
    "\n",
    "    #%%\n",
    "    from sklearn.ensemble import BaggingRegressor\n",
    "    clf = BaggingRegressor(n_jobs=-1, random_state=0, n_estimators=100)\n",
    "\n",
    "    #%%\n",
    "    np.array([list(l) for l in comparisons.loc[X_train]['prob_hist'].values])\n",
    "\n",
    "    #%%\n",
    "    clf.fit([list(l) for l in comparisons.loc[X_train]['prob_hist'].values], comparisons.loc[X_train]['accuracy'])\n",
    "\n",
    "\n",
    "    #%%\n",
    "    prediction = clf.predict([list(l) for l in comparisons.loc[X_test]['prob_hist'].values])\n",
    "    prediction = pd.Series(data=prediction, index=X_test)\n",
    "    #%%\n",
    "    plt.scatter(prediction, y_test)\n",
    "    #%%\n",
    "\n"
   ]
  },
  {
   "cell_type": "markdown",
   "metadata": {},
   "source": [
    "# Analysis of min labels vs. precision"
   ]
  },
  {
   "cell_type": "code",
   "execution_count": 20,
   "metadata": {},
   "outputs": [
    {
     "name": "stdout",
     "output_type": "stream",
     "text": [
      "6\n",
      "16\n",
      "11\n",
      "1\n",
      "17\n",
      "2\n",
      "12\n",
      "7\n",
      "18\n",
      "8\n",
      "3\n",
      "13\n",
      "19\n",
      "9\n",
      "14\n",
      "4\n",
      "20\n",
      "15\n",
      "10\n",
      "5\n",
      "21\n",
      "26\n",
      "31\n",
      "22\n",
      "36\n",
      "27\n",
      "32\n",
      "23\n",
      "37\n",
      "28\n",
      "33\n",
      "38\n",
      "24\n",
      "29\n",
      "34\n",
      "39\n",
      "25\n",
      "30\n",
      "35\n",
      "40\n",
      "41\n",
      "46\n",
      "51\n",
      "56\n",
      "42\n",
      "57\n",
      "47\n",
      "52\n",
      "43\n",
      "58\n",
      "48\n",
      "53\n",
      "44\n",
      "59\n",
      "49\n",
      "54\n",
      "45\n",
      "60\n",
      "55\n",
      "50\n",
      "61\n",
      "66\n",
      "71\n",
      "62\n",
      "67\n",
      "72\n",
      "63\n",
      "68\n",
      "73\n",
      "64\n",
      "69\n",
      "74\n",
      "65\n",
      "70\n",
      "CPU times: user 310 ms, sys: 109 ms, total: 420 ms\n",
      "Wall time: 4min 26s\n"
     ]
    }
   ],
   "source": [
    "%%time\n",
    "warnings.filterwarnings('ignore')\n",
    "def run_range(min_labels):\n",
    "    try:\n",
    "        print(min_labels)\n",
    "        users_for_analysis = users.index[users['labels_validated'] > min_labels]\n",
    "        users2 = users.loc[users_for_analysis]\n",
    "        return get_p_r(users2, label_correctness)\n",
    "    except Exception:\n",
    "        return (-1, -1)\n",
    "    \n",
    "with mp.Pool(4) as p:\n",
    "    results = p.map(run_range, np.arange(1,75))"
   ]
  },
  {
   "cell_type": "code",
   "execution_count": 23,
   "metadata": {},
   "outputs": [],
   "source": [
    "results = np.array(results)"
   ]
  },
  {
   "cell_type": "code",
   "execution_count": 48,
   "metadata": {},
   "outputs": [],
   "source": [
    "results_with_min = np.concatenate((np.arange(2, 76).reshape(-1, 1), results), axis=1)\n",
    "results_invalid = results_with_min[~(results == -1).any(axis=1)]\n",
    "results_df = pd.DataFrame(data=results_invalid, columns=('min', 'precision', 'recall')).set_index('min')"
   ]
  },
  {
   "cell_type": "code",
   "execution_count": 65,
   "metadata": {},
   "outputs": [],
   "source": [
    "results_df = results_df.iloc[results_df.index < 45]"
   ]
  },
  {
   "cell_type": "code",
   "execution_count": 79,
   "metadata": {},
   "outputs": [
    {
     "data": {
      "text/plain": [
       "Text(0, 0.5, 'recall')"
      ]
     },
     "execution_count": 79,
     "metadata": {},
     "output_type": "execute_result"
    },
    {
     "data": {
      "image/png": "[encoded data removed]",
      "text/plain": [
       "<Figure size 432x288 with 1 Axes>"
      ]
     },
     "metadata": {
      "needs_background": "light"
     },
     "output_type": "display_data"
    }
   ],
   "source": [
    "plt.figure()\n",
    "# plt.scatter(results_df.index, results_df['precision'])\n",
    "plt.scatter(results_df.index, results_df['recall'])\n",
    "# plt.scatter(results_df.index, 2/(1/results_df['precision'] + 1/results_df['recall']))\n",
    "plt.xlabel('min number of labels')\n",
    "plt.ylabel('recall')"
   ]
  },
  {
   "cell_type": "code",
   "execution_count": 88,
   "metadata": {},
   "outputs": [
    {
     "data": {
      "text/plain": [
       "array([0.87804878, 0.8372093 ])"
      ]
     },
     "execution_count": 88,
     "metadata": {},
     "output_type": "execute_result"
    }
   ],
   "source": [
    "results[44]"
   ]
  },
  {
   "cell_type": "code",
   "execution_count": 126,
   "metadata": {},
   "outputs": [
    {
     "data": {
      "image/png": "[encoded data removed]",
      "text/plain": [
       "<Figure size 432x288 with 1 Axes>"
      ]
     },
     "metadata": {
      "needs_background": "light"
     },
     "output_type": "display_data"
    }
   ],
   "source": [
    "fig = plt.figure()\n",
    "plt.vlines(np.arange(len(users['labels_validated'])), 0, np.sort(users['labels_validated'])[::-1], color='C0')\n",
    "plt.axis((0, None, 0, None))\n",
    "plt.xlabel('user number')\n",
    "plt.ylabel('number of validated labels')\n",
    "fig.savefig('a.svg')"
   ]
  },
  {
   "cell_type": "code",
   "execution_count": null,
   "metadata": {},
   "outputs": [],
   "source": []
  },
  {
   "cell_type": "code",
   "execution_count": 106,
   "metadata": {},
   "outputs": [
    {
     "data": {
      "text/plain": [
       "array([1690, 1365, 1217, 1063,  886,  737,  639,  592,  541,  510,  482,\n",
       "        482,  399,  391,  321,  311,  284,  255,  242,  213,  203,  193,\n",
       "        176,  172,  165,  164,  136,  117,  111,  110,  108,  101,   94,\n",
       "         83,   79,   79,   76,   71,   70,   69,   68,   67,   67,   64,\n",
       "         63,   62,   59,   57,   54,   54,   53,   53,   53,   47,   46,\n",
       "         45,   44,   44,   43,   42,   42,   41,   41,   40,   40,   40,\n",
       "         39,   39,   39,   39,   39,   38,   38,   38,   37,   36,   35,\n",
       "         35,   34,   34,   33,   33,   32,   32,   32,   32,   32,   31,\n",
       "         31,   31,   31,   30,   30,   30,   30,   30,   30,   29,   29,\n",
       "         29,   28,   28,   28,   27,   27,   27,   26,   26,   26,   26,\n",
       "         26,   26,   25,   25,   25,   25,   24,   24,   24,   23,   23,\n",
       "         23,   23,   23,   23,   23,   22,   22,   22,   21,   21,   21,\n",
       "         21,   21,   21,   21,   21,   21,   21,   20,   20,   20,   20,\n",
       "         20,   20,   20,   20,   20,   20,   20,   19,   19,   19,   19,\n",
       "         19,   19,   18,   18,   18,   18,   18,   18,   17,   17,   17,\n",
       "         17,   17,   17,   16,   16,   16,   16,   16,   16,   16,   16,\n",
       "         16,   15,   15,   15,   15,   15,   15,   15,   15,   15,   15,\n",
       "         15,   15,   15,   15,   15,   14,   14,   14,   14,   14,   14,\n",
       "         14,   14,   14,   14,   14,   14,   14,   13,   13,   13,   13,\n",
       "         13,   13,   12,   12,   12,   12,   12,   12,   12,   12,   12,\n",
       "         12,   11,   11,   11,   11,   11,   11,   11,   11,   11,   11,\n",
       "         11,   11,   11,   11,   10,   10,   10,   10,   10,   10,   10,\n",
       "         10,   10,   10,   10,   10,   10,   10,    9,    9,    9,    9,\n",
       "          9,    9,    9,    9,    9,    9,    8,    8,    8,    8,    8,\n",
       "          8,    7,    7,    7,    6,    6,    6,    6,    6,    6,    6,\n",
       "          5,    5,    5,    5,    5,    5,    5,    5,    5,    5,    4,\n",
       "          4,    4,    4,    4,    3,    3,    3,    3,    3,    3,    2,\n",
       "          2,    2,    2,    2,    2,    2,    2,    2,    2,    2,    2,\n",
       "          1,    1,    1,    1,    1,    1,    1,    1,    1,    1,    1])"
      ]
     },
     "execution_count": 106,
     "metadata": {},
     "output_type": "execute_result"
    }
   ],
   "source": [
    " np.sort(users['labels_validated'])[::-1]"
   ]
  },
  {
   "cell_type": "code",
   "execution_count": null,
   "metadata": {},
   "outputs": [],
   "source": []
  }
 ],
 "metadata": {
  "file_extension": ".py",
  "kernelspec": {
   "display_name": "Python 3",
   "language": "python",
   "name": "python3"
  },
  "language_info": {
   "codemirror_mode": {
    "name": "ipython",
    "version": 3
   },
   "file_extension": ".py",
   "mimetype": "text/x-python",
   "name": "python",
   "nbconvert_exporter": "python",
   "pygments_lexer": "ipython3",
   "version": "3.7.3"
  },
  "mimetype": "text/x-python",
  "name": "python",
  "npconvert_exporter": "python",
  "pygments_lexer": "ipython3",
  "version": 3
 },
 "nbformat": 4,
 "nbformat_minor": 4
}
