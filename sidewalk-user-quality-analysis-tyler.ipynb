{
 "cells": [
  {
   "cell_type": "markdown",
   "metadata": {},
   "source": [
    "Two high-level analyses:\n",
    "- Predict performance (accuracy) using a regression\n",
    "- Classify users into 'bad' vs 'good'--still need to define this but perhaps the threshold is any user < 70% and any user >= 70%\n",
    "\n",
    "For github issues and brainstorming features and analyses, use github:\n",
    "- https://github.com/ProjectSidewalk/sidewalk-quality-analysis/issues"
   ]
  },
  {
   "cell_type": "code",
   "execution_count": 31,
   "metadata": {
    "scrolled": true
   },
   "outputs": [],
   "source": [
    "import pandas as pd\n",
    "import matplotlib.pyplot as plt\n",
    "import numpy as np\n",
    "from dateutil import parser as parser\n",
    "import time\n",
    "from datetime import datetime\n",
    "import csv\n",
    "users = pd.read_csv('ml-users.csv')"
   ]
  },
  {
   "cell_type": "code",
   "execution_count": 68,
   "metadata": {},
   "outputs": [],
   "source": [
    "# Takes in the row and appends the row into the given file\n",
    "def file_appender(row, created, user_info):\n",
    "    if user_info not in created:\n",
    "        with open('{0}.csv'.format(user_info), 'w', newline = '') as new_user:\n",
    "            writer = csv.writer(new_user)\n",
    "            created.append(user_info)\n",
    "            writer.writerow(header)\n",
    "    with open('{0}.csv'.format(user_info), 'a', newline = '') as edit_user:\n",
    "        editor = csv.writer(edit_user)\n",
    "        editor.writerow(row)\n",
    "    return created"
   ]
  },
  {
   "cell_type": "code",
   "execution_count": 69,
   "metadata": {},
   "outputs": [],
   "source": [
    " # Parses through the csv and creates new csv for every user_id & event\n",
    "with open('ml-interactions.csv', newline='') as data:\n",
    "    reader = csv.reader(data)\n",
    "    header = []\n",
    "    users_created = []\n",
    "    events_created = []\n",
    "    for row in reader:\n",
    "        if row[1] == 'user_id':\n",
    "            header = row\n",
    "        else:\n",
    "            user_id = row[1]\n",
    "            current_event = row[4]\n",
    "            users_created = file_appender(row, users_created, user_id)\n",
    "            events_created = file_appender(row, events_created, current_event)"
   ]
  },
  {
   "cell_type": "code",
   "execution_count": 2,
   "metadata": {},
   "outputs": [
    {
     "name": "stdout",
     "output_type": "stream",
     "text": [
      "Printing all rows where 'action' == NaN...\n"
     ]
    },
    {
     "data": {
      "text/html": [
       "<div>\n",
       "<style scoped>\n",
       "    .dataframe tbody tr th:only-of-type {\n",
       "        vertical-align: middle;\n",
       "    }\n",
       "\n",
       "    .dataframe tbody tr th {\n",
       "        vertical-align: top;\n",
       "    }\n",
       "\n",
       "    .dataframe thead th {\n",
       "        text-align: right;\n",
       "    }\n",
       "</style>\n",
       "<table border=\"1\" class=\"dataframe\">\n",
       "  <thead>\n",
       "    <tr style=\"text-align: right;\">\n",
       "      <th></th>\n",
       "      <th>ml-interactions.csv</th>\n",
       "      <th>user_id</th>\n",
       "      <th>audit_task_interaction_id</th>\n",
       "      <th>audit_task_id</th>\n",
       "      <th>action</th>\n",
       "      <th>gsv_panorama_id</th>\n",
       "      <th>lat</th>\n",
       "      <th>lng</th>\n",
       "      <th>heading</th>\n",
       "      <th>pitch</th>\n",
       "      <th>zoom</th>\n",
       "      <th>note</th>\n",
       "      <th>temporary_label_id</th>\n",
       "      <th>mission_id</th>\n",
       "    </tr>\n",
       "  </thead>\n",
       "  <tbody>\n",
       "    <tr>\n",
       "      <th>18502779</th>\n",
       "      <td>NaN</td>\n",
       "      <td>NaN</td>\n",
       "      <td>NaN</td>\n",
       "      <td>NaN</td>\n",
       "      <td>NaN</td>\n",
       "      <td>NaN</td>\n",
       "      <td>NaN</td>\n",
       "      <td>NaN</td>\n",
       "      <td>NaN</td>\n",
       "      <td>NaN</td>\n",
       "      <td>NaN</td>\n",
       "      <td>NaN</td>\n",
       "      <td>NaN</td>\n",
       "      <td>NaN</td>\n",
       "    </tr>\n",
       "  </tbody>\n",
       "</table>\n",
       "</div>"
      ],
      "text/plain": [
       "         ml-interactions.csv user_id  audit_task_interaction_id  \\\n",
       "18502779                 NaN     NaN                        NaN   \n",
       "\n",
       "          audit_task_id action gsv_panorama_id  lat  lng  heading  pitch  \\\n",
       "18502779            NaN    NaN             NaN  NaN  NaN      NaN    NaN   \n",
       "\n",
       "          zoom note  temporary_label_id  mission_id  \n",
       "18502779   NaN  NaN                 NaN         NaN  "
      ]
     },
     "metadata": {},
     "output_type": "display_data"
    },
    {
     "name": "stdout",
     "output_type": "stream",
     "text": [
      "Printing all rows where 'action' == NaN... there should be no rows\n"
     ]
    },
    {
     "data": {
      "text/html": [
       "<div>\n",
       "<style scoped>\n",
       "    .dataframe tbody tr th:only-of-type {\n",
       "        vertical-align: middle;\n",
       "    }\n",
       "\n",
       "    .dataframe tbody tr th {\n",
       "        vertical-align: top;\n",
       "    }\n",
       "\n",
       "    .dataframe thead th {\n",
       "        text-align: right;\n",
       "    }\n",
       "</style>\n",
       "<table border=\"1\" class=\"dataframe\">\n",
       "  <thead>\n",
       "    <tr style=\"text-align: right;\">\n",
       "      <th></th>\n",
       "      <th>ml-interactions.csv</th>\n",
       "      <th>user_id</th>\n",
       "      <th>audit_task_interaction_id</th>\n",
       "      <th>audit_task_id</th>\n",
       "      <th>action</th>\n",
       "      <th>gsv_panorama_id</th>\n",
       "      <th>lat</th>\n",
       "      <th>lng</th>\n",
       "      <th>heading</th>\n",
       "      <th>pitch</th>\n",
       "      <th>zoom</th>\n",
       "      <th>note</th>\n",
       "      <th>temporary_label_id</th>\n",
       "      <th>mission_id</th>\n",
       "    </tr>\n",
       "  </thead>\n",
       "  <tbody>\n",
       "  </tbody>\n",
       "</table>\n",
       "</div>"
      ],
      "text/plain": [
       "Empty DataFrame\n",
       "Columns: [ml-interactions.csv, user_id, audit_task_interaction_id, audit_task_id, action, gsv_panorama_id, lat, lng, heading, pitch, zoom, note, temporary_label_id, mission_id]\n",
       "Index: []"
      ]
     },
     "metadata": {},
     "output_type": "display_data"
    }
   ],
   "source": [
    "df_interactions = pd.read_csv('ml-interactions.tar.gz', compression='gzip') # load the full gzip tarball\n",
    "#df_interactions = pd.read_csv('ml-interactions15000.csv')\n",
    "\n",
    "# Do a little cleanup...\n",
    "# In my initial analysis, i found that at least one row has a NaN value for an 'action' field. This should\n",
    "# not happen. So, let's find that row (and others) that have this problem and remove them\n",
    "\n",
    "# pd.isna checks for missing values (NaN values). It returns a boolean array where the index corresponds to\n",
    "# row and the value corresponds to True/False indicating whether there is a NaN value\n",
    "isna_result = pd.isna(df_interactions['action'])\n",
    "\n",
    "print(\"Printing all rows where 'action' == NaN...\")\n",
    "display(df_interactions[isna_result])\n",
    "df_interactions= df_interactions[~isna_result] # we want all rows where isna is False (that is, all rows *without* a NaN for 'action')\n",
    "\n",
    "# As a test, we can again look for NaN 'action' cells\n",
    "isna_result = pd.isna(df_interactions['action'])\n",
    "print(\"Printing all rows where 'action' == NaN... there should be no rows\")\n",
    "display(df_interactions[isna_result])\n",
    "#small represents the first 50000 actions logged to be able to test a smaller subset\n",
    "small= df_interactions[:50000]"
   ]
  },
  {
   "cell_type": "code",
   "execution_count": 3,
   "metadata": {},
   "outputs": [],
   "source": [
    "# This fucntion iterates over the desired dataset and returns all of the logged events\n",
    "# that contains the desired action\n",
    "def find_action(args, use_subset = False):        \n",
    "    for index, word in enumerate(args):  \n",
    "        if use_subset:\n",
    "            if index == 0:\n",
    "                df_information = small[small['action'].str.contains(word)]\n",
    "            else:\n",
    "                frames = [df_information, small[small['action'].str.contains(word)]]\n",
    "                df_information = pd.concat(frames)\n",
    "        else:\n",
    "            if index == 0:\n",
    "                df_information = df_interactions[df_interactions['action'].str.contains(word)]\n",
    "            else:\n",
    "                frames = [df_information, df_interactions[df_interactions['action'].str.contains(word)]]\n",
    "                df_information = pd.concat(frames)\n",
    "    return df_information"
   ]
  },
  {
   "cell_type": "code",
   "execution_count": 4,
   "metadata": {},
   "outputs": [],
   "source": [
    "# Used to create a correlation between accuracy and the info type that was given\n",
    "# It accepts *args of strings for the actions that will be used to record the info type\n",
    "# graph_type determines how the information is shown and multi_plot determines if it can\n",
    "# be shows in per panos & per mission\n",
    "def counting_graph (info_type, graph_type, multi_plot, use_subset, *args):\n",
    "    user_information = {}\n",
    "    user_panos = {}\n",
    "    user_missions = {}\n",
    "    df_information = find_action(args, use_subset)\n",
    "    df_actions_grouped = df_information.groupby(['user_id'])\n",
    "    df_all_grouped = df_interactions.groupby(['user_id'])\n",
    "    for index, current_id in enumerate(df_actions_grouped.groups):\n",
    "        user_information[current_id] = len(df_actions_grouped.get_group(current_id)), users[' accuracy'][index]\n",
    "        if multi_plot:\n",
    "            user_panos[current_id] = df_all_grouped.get_group(current_id)['gsv_panorama_id'].nunique()\n",
    "            user_missions[current_id] = df_all_grouped.get_group(current_id)['mission_id'].nunique()\n",
    "    if graph_type == 'scatter_plot':\n",
    "        scatter_plot(info_type, user_information, user_panos, user_missions, multi_plot)\n",
    "    elif graph_type == 'histogram':\n",
    "        histogram(info_type, user_information)"
   ]
  },
  {
   "cell_type": "code",
   "execution_count": 5,
   "metadata": {},
   "outputs": [],
   "source": [
    "# In progress\n",
    "def range_graph(info_type, graph_type, use_subset, *args):\n",
    "    user_information = {}\n",
    "    df_information = find_action(args, use_subset)\n",
    "    df_actions_grouped = df_information.groupby(['user_id'])\n",
    "    for index, current_id in enumerate(df_actions_grouped.groups):\n",
    "        current_min = df_actions_grouped.get_group(current_id).min()\n",
    "        current_max = df_actions_grouped.get_group(current_id).max()\n",
    "        current_accuracy = users[' accuracy'][index]\n",
    "        user_information[current_id] = current_max - current_min, current_accuracy\n",
    "    if graph_type == 'scatter_plot' :\n",
    "        scatter_plot(info_type, user_information, None, None, False)"
   ]
  },
  {
   "cell_type": "code",
   "execution_count": 6,
   "metadata": {},
   "outputs": [],
   "source": [
    "# Determines the average time it takes for a certain action to occur per second and per\n",
    "# either panos or mission\n",
    "# The type of information is found using the *args of actions logged\n",
    "def time_graph(info_type, use_subset, *args):\n",
    "    user_panos = {}\n",
    "    user_missions = {}\n",
    "    df_info  = find_action(args, use_subset)\n",
    "    df_per_pano = df_info.groupby(['user_id', 'gsv_panorama_id'])\n",
    "    df_per_mission = df_info.groupby(['user_id','mission_id'])\n",
    "    current_group_times = []\n",
    "    for name,group_pano in df_per_pano:\n",
    "        for current_datetime in group_pano['ml-interactions.csv']:\n",
    "            current_group_times.append(parser.parse(current_datetime))\n",
    "        if name[0] in user_panos:\n",
    "            user_panos[name[0]] = user_panos[name[0]] + (max(current_group_times) - min(current_group_times)).total_seconds()\n",
    "        else:\n",
    "            user_panos[name[0]] = (max(current_group_times) - min(current_group_times)).total_seconds()\n",
    "    for name,group_mission in df_per_mission:\n",
    "        for current_datetime in group_mission['ml-interactions.csv']:\n",
    "            current_group_times.append(parser.parse(current_datetime))\n",
    "        if name[0] in df_per_mission:\n",
    "            user_missions[name[0]] = user_missions[name[0]] + (max(current_group_times) - min(current_group_times)).total_seconds()\n",
    "        else:\n",
    "            user_missions[name[0]] = (max(current_group_times) - min(current_group_times)).total_seconds()\n",
    "    time_scatter_plot(info_type, user_panos, user_missions)"
   ]
  },
  {
   "cell_type": "code",
   "execution_count": 7,
   "metadata": {},
   "outputs": [],
   "source": [
    "# Creates a scatter plot relating accuracy and the occurance of an action per second per\n",
    "# panos or mission\n",
    "def time_scatter_plot(info_type, user_panos, user_missions):\n",
    "    f, axs = plt.subplots(1,2,figsize=(12,4))\n",
    "    plt.subplot(122)\n",
    "    plt.ylabel('User Accuracy')\n",
    "    plt.xlabel(info_type + ' per second per Pano')\n",
    "    for index, entry in enumerate(user_panos.keys()):\n",
    "        user_info = user_panos.get(entry)\n",
    "        info = float(user_info)\n",
    "        accuracy = users[' accuracy'][index]\n",
    "        plt.plot(info, accuracy, '.', color = 'blue')\n",
    "    plt.subplot(121)\n",
    "    plt.ylabel('User Accuracy')\n",
    "    plt.xlabel(info_type + ' per second per Mission Started')\n",
    "    for index, entry in enumerate(user_missions.keys()):\n",
    "        user_info = user_missions.get(entry)\n",
    "        info = float(user_info)\n",
    "        accuracy = users[' accuracy'][index]\n",
    "        plt.plot(info, accuracy, '.', color = 'blue')"
   ]
  },
  {
   "cell_type": "code",
   "execution_count": 8,
   "metadata": {},
   "outputs": [],
   "source": [
    "# Creates a scatter plot of the information given, if multi_plot is true then it is also\n",
    "# divided by the number of unique panos seens and missions started\n",
    "def scatter_plot(info_type, user_information, user_panos, user_missions, multi_plot):\n",
    "    if multi_plot:\n",
    "        f, axs = plt.subplots(1,3,figsize=(12,4))\n",
    "        plt.subplot(133)\n",
    "        plt.ylabel('User Accuracy')\n",
    "        plt.xlabel(info_type + ' per Pano')\n",
    "        for entry in user_information.keys():\n",
    "            user_info = user_information.get(entry)\n",
    "            info = float(user_info[0]) / float(user_panos[entry])\n",
    "            accuracy = user_info[1]\n",
    "            plt.plot(info, accuracy, '.', color = 'blue')\n",
    "        plt.subplot(132)\n",
    "        plt.ylabel('User Accuracy')\n",
    "        plt.xlabel(info_type + ' per Mission Started')\n",
    "        for entry in user_information.keys():\n",
    "            user_info = user_information.get(entry)\n",
    "            info = float(user_info[0]) / float(user_missions[entry])\n",
    "            accuracy = user_info[1]\n",
    "            plt.plot(info, accuracy, '.', color = 'blue')\n",
    "        plt.subplot(131)\n",
    "    plt.ylabel('User Accuracy')\n",
    "    plt.xlabel(info_type)\n",
    "    for entry in user_information.keys():\n",
    "        user_info = user_information.get(entry)\n",
    "        info = user_info[0]\n",
    "        accuracy = user_info[1]\n",
    "        plt.plot(info, accuracy, '.', color = 'blue')"
   ]
  },
  {
   "cell_type": "code",
   "execution_count": 9,
   "metadata": {},
   "outputs": [],
   "source": [
    "#Creates a histogram counting the occurances of a certain type of information\n",
    "def histogram(info_type, user_information):\n",
    "    plt.hist(user_information) \n",
    "    plt.xlabel(info_type)\n",
    "    plt.ylabel('Count')"
   ]
  },
  {
   "cell_type": "code",
   "execution_count": 10,
   "metadata": {
    "scrolled": false
   },
   "outputs": [
    {
     "data": {
      "image/png": "[encoded data removed]",
      "text/plain": [
       "<Figure size 864x288 with 3 Axes>"
      ]
     },
     "metadata": {
      "needs_background": "light"
     },
     "output_type": "display_data"
    }
   ],
   "source": [
    "# Counts the number of keyboard presses\n",
    "counting_graph('Number of Keyboard Presses', 'scatter_plot', True, False, 'LowLevelEvent_keydown')"
   ]
  },
  {
   "cell_type": "code",
   "execution_count": 11,
   "metadata": {},
   "outputs": [
    {
     "data": {
      "image/png": "[encoded data removed]",
      "text/plain": [
       "<Figure size 864x288 with 3 Axes>"
      ]
     },
     "metadata": {
      "needs_background": "light"
     },
     "output_type": "display_data"
    }
   ],
   "source": [
    "# Counts the number of mouse clicks\n",
    "counting_graph('Number of Mouse Clicks', 'scatter_plot', True, False, 'LowLevelEvent_mousedown')"
   ]
  },
  {
   "cell_type": "code",
   "execution_count": 12,
   "metadata": {},
   "outputs": [
    {
     "data": {
      "image/png": "[encoded data removed]",
      "text/plain": [
       "<Figure size 432x288 with 1 Axes>"
      ]
     },
     "metadata": {
      "needs_background": "light"
     },
     "output_type": "display_data"
    }
   ],
   "source": [
    "# Counts the number of missions completed\n",
    "counting_graph('Number of Missions Completed', 'scatter_plot', False, False, 'MissionComplete')"
   ]
  },
  {
   "cell_type": "code",
   "execution_count": 13,
   "metadata": {},
   "outputs": [
    {
     "data": {
      "image/png": "[encoded data removed]",
      "text/plain": [
       "<Figure size 864x288 with 3 Axes>"
      ]
     },
     "metadata": {
      "needs_background": "light"
     },
     "output_type": "display_data"
    }
   ],
   "source": [
    "# Counts the number of zooms\n",
    "counting_graph('Number of Zooms', 'scatter_plot', True, False, 'Click_ZoomIn')"
   ]
  },
  {
   "cell_type": "code",
   "execution_count": 14,
   "metadata": {},
   "outputs": [
    {
     "data": {
      "image/png": "[encoded data removed]",
      "text/plain": [
       "<Figure size 864x288 with 3 Axes>"
      ]
     },
     "metadata": {
      "needs_background": "light"
     },
     "output_type": "display_data"
    }
   ],
   "source": [
    "# Counts the number of Labels confirmations based off of clicking the OK button\n",
    "counting_graph('Number of Label Confirmations', 'scatter_plot', True, False, 'ContextMenu_OKButtonClick')"
   ]
  },
  {
   "cell_type": "code",
   "execution_count": 15,
   "metadata": {},
   "outputs": [
    {
     "data": {
      "image/png": "[encoded data removed]",
      "text/plain": [
       "<Figure size 864x288 with 3 Axes>"
      ]
     },
     "metadata": {
      "needs_background": "light"
     },
     "output_type": "display_data"
    }
   ],
   "source": [
    "# Counts the number of Label Confirmation based off of closing the context window\n",
    "# I am currently unsure whether this one or the one above would be a more accurate measure\n",
    "# of labels done and what the other would represent\n",
    "counting_graph('Number of Label Confirmations', 'scatter_plot', True, False, 'ContextMenu_Close')"
   ]
  },
  {
   "cell_type": "code",
   "execution_count": 16,
   "metadata": {
    "scrolled": true
   },
   "outputs": [
    {
     "data": {
      "image/png": "[encoded data removed]",
      "text/plain": [
       "<Figure size 432x288 with 1 Axes>"
      ]
     },
     "metadata": {
      "needs_background": "light"
     },
     "output_type": "display_data"
    }
   ],
   "source": [
    "# Counts the number of users with different accuracies\n",
    "histogram('Accuracy', users[' accuracy'])"
   ]
  },
  {
   "cell_type": "code",
   "execution_count": 17,
   "metadata": {},
   "outputs": [],
   "source": [
    "# For the bottom three graphs, I was unable to run the entire dataset without notebooks \n",
    "# crashing. Below are when I use just the first 50000 lines of the whole dataset"
   ]
  },
  {
   "cell_type": "code",
   "execution_count": 18,
   "metadata": {
    "scrolled": true
   },
   "outputs": [
    {
     "data": {
      "image/png": "[encoded data removed]",
      "text/plain": [
       "<Figure size 864x288 with 2 Axes>"
      ]
     },
     "metadata": {
      "needs_background": "light"
     },
     "output_type": "display_data"
    }
   ],
   "source": [
    "# # Counts the number of mouse clicks per second\n",
    "time_graph('Number of Mouse Clicks', True, 'LowLevelEvent_mousedown')"
   ]
  },
  {
   "cell_type": "code",
   "execution_count": 19,
   "metadata": {},
   "outputs": [
    {
     "data": {
      "image/png": "[encoded data removed]",
      "text/plain": [
       "<Figure size 864x288 with 2 Axes>"
      ]
     },
     "metadata": {
      "needs_background": "light"
     },
     "output_type": "display_data"
    }
   ],
   "source": [
    "# Counts the number of keyboard presses per second\n",
    "time_graph('Number of Keyboard Presses', True, 'LowLevelEvent_keydown')"
   ]
  },
  {
   "cell_type": "code",
   "execution_count": 20,
   "metadata": {
    "scrolled": false
   },
   "outputs": [
    {
     "ename": "KeyboardInterrupt",
     "evalue": "",
     "output_type": "error",
     "traceback": [
      "\u001b[0;31m---------------------------------------------------------------------------\u001b[0m",
      "\u001b[0;31mKeyboardInterrupt\u001b[0m                         Traceback (most recent call last)",
      "\u001b[0;32m<ipython-input-20-912ec013e1b5>\u001b[0m in \u001b[0;36m<module>\u001b[0;34m\u001b[0m\n\u001b[1;32m      9\u001b[0m \u001b[0muser_missions\u001b[0m \u001b[0;34m=\u001b[0m \u001b[0;34m{\u001b[0m\u001b[0;34m}\u001b[0m\u001b[0;34m\u001b[0m\u001b[0;34m\u001b[0m\u001b[0m\n\u001b[1;32m     10\u001b[0m \u001b[0mdf_comments\u001b[0m \u001b[0;34m=\u001b[0m \u001b[0mfind_action\u001b[0m\u001b[0;34m(\u001b[0m\u001b[0;34m'ContextMenu_TextBoxBlur'\u001b[0m\u001b[0;34m,\u001b[0m \u001b[0;32mTrue\u001b[0m\u001b[0;34m)\u001b[0m\u001b[0;34m\u001b[0m\u001b[0;34m\u001b[0m\u001b[0m\n\u001b[0;32m---> 11\u001b[0;31m \u001b[0mdf_window_closes\u001b[0m \u001b[0;34m=\u001b[0m \u001b[0mfind_action\u001b[0m\u001b[0;34m(\u001b[0m\u001b[0;34m'ContextMenu_Close'\u001b[0m\u001b[0;34m)\u001b[0m\u001b[0;34m\u001b[0m\u001b[0;34m\u001b[0m\u001b[0m\n\u001b[0m\u001b[1;32m     12\u001b[0m \u001b[0mdf_comments_grouped\u001b[0m \u001b[0;34m=\u001b[0m \u001b[0mdf_comments\u001b[0m\u001b[0;34m.\u001b[0m\u001b[0mgroupby\u001b[0m\u001b[0;34m(\u001b[0m\u001b[0;34m[\u001b[0m\u001b[0;34m'user_id'\u001b[0m\u001b[0;34m]\u001b[0m\u001b[0;34m)\u001b[0m\u001b[0;34m\u001b[0m\u001b[0;34m\u001b[0m\u001b[0m\n\u001b[1;32m     13\u001b[0m \u001b[0mdf_window_closes_grouped\u001b[0m \u001b[0;34m=\u001b[0m \u001b[0mdf_window_closes\u001b[0m\u001b[0;34m.\u001b[0m\u001b[0mgroupby\u001b[0m\u001b[0;34m(\u001b[0m\u001b[0;34m[\u001b[0m\u001b[0;34m'user_id'\u001b[0m\u001b[0;34m]\u001b[0m\u001b[0;34m)\u001b[0m\u001b[0;34m\u001b[0m\u001b[0;34m\u001b[0m\u001b[0m\n",
      "\u001b[0;32m<ipython-input-3-de65f92fabc5>\u001b[0m in \u001b[0;36mfind_action\u001b[0;34m(args, use_subset)\u001b[0m\n\u001b[1;32m     14\u001b[0m             \u001b[0;32melse\u001b[0m\u001b[0;34m:\u001b[0m\u001b[0;34m\u001b[0m\u001b[0;34m\u001b[0m\u001b[0m\n\u001b[1;32m     15\u001b[0m                 \u001b[0mframes\u001b[0m \u001b[0;34m=\u001b[0m \u001b[0;34m[\u001b[0m\u001b[0mdf_information\u001b[0m\u001b[0;34m,\u001b[0m \u001b[0mdf_interactions\u001b[0m\u001b[0;34m[\u001b[0m\u001b[0mdf_interactions\u001b[0m\u001b[0;34m[\u001b[0m\u001b[0;34m'action'\u001b[0m\u001b[0;34m]\u001b[0m\u001b[0;34m.\u001b[0m\u001b[0mstr\u001b[0m\u001b[0;34m.\u001b[0m\u001b[0mcontains\u001b[0m\u001b[0;34m(\u001b[0m\u001b[0mword\u001b[0m\u001b[0;34m)\u001b[0m\u001b[0;34m]\u001b[0m\u001b[0;34m]\u001b[0m\u001b[0;34m\u001b[0m\u001b[0;34m\u001b[0m\u001b[0m\n\u001b[0;32m---> 16\u001b[0;31m                 \u001b[0mdf_information\u001b[0m \u001b[0;34m=\u001b[0m \u001b[0mpd\u001b[0m\u001b[0;34m.\u001b[0m\u001b[0mconcat\u001b[0m\u001b[0;34m(\u001b[0m\u001b[0mframes\u001b[0m\u001b[0;34m)\u001b[0m\u001b[0;34m\u001b[0m\u001b[0;34m\u001b[0m\u001b[0m\n\u001b[0m\u001b[1;32m     17\u001b[0m     \u001b[0;32mreturn\u001b[0m \u001b[0mdf_information\u001b[0m\u001b[0;34m\u001b[0m\u001b[0;34m\u001b[0m\u001b[0m\n",
      "\u001b[0;32m/anaconda3/lib/python3.7/site-packages/pandas/core/reshape/concat.py\u001b[0m in \u001b[0;36mconcat\u001b[0;34m(objs, axis, join, join_axes, ignore_index, keys, levels, names, verify_integrity, sort, copy)\u001b[0m\n\u001b[1;32m    227\u001b[0m                        \u001b[0mverify_integrity\u001b[0m\u001b[0;34m=\u001b[0m\u001b[0mverify_integrity\u001b[0m\u001b[0;34m,\u001b[0m\u001b[0;34m\u001b[0m\u001b[0;34m\u001b[0m\u001b[0m\n\u001b[1;32m    228\u001b[0m                        copy=copy, sort=sort)\n\u001b[0;32m--> 229\u001b[0;31m     \u001b[0;32mreturn\u001b[0m \u001b[0mop\u001b[0m\u001b[0;34m.\u001b[0m\u001b[0mget_result\u001b[0m\u001b[0;34m(\u001b[0m\u001b[0;34m)\u001b[0m\u001b[0;34m\u001b[0m\u001b[0;34m\u001b[0m\u001b[0m\n\u001b[0m\u001b[1;32m    230\u001b[0m \u001b[0;34m\u001b[0m\u001b[0m\n\u001b[1;32m    231\u001b[0m \u001b[0;34m\u001b[0m\u001b[0m\n",
      "\u001b[0;32m/anaconda3/lib/python3.7/site-packages/pandas/core/reshape/concat.py\u001b[0m in \u001b[0;36mget_result\u001b[0;34m(self)\u001b[0m\n\u001b[1;32m    424\u001b[0m             new_data = concatenate_block_managers(\n\u001b[1;32m    425\u001b[0m                 \u001b[0mmgrs_indexers\u001b[0m\u001b[0;34m,\u001b[0m \u001b[0mself\u001b[0m\u001b[0;34m.\u001b[0m\u001b[0mnew_axes\u001b[0m\u001b[0;34m,\u001b[0m \u001b[0mconcat_axis\u001b[0m\u001b[0;34m=\u001b[0m\u001b[0mself\u001b[0m\u001b[0;34m.\u001b[0m\u001b[0maxis\u001b[0m\u001b[0;34m,\u001b[0m\u001b[0;34m\u001b[0m\u001b[0;34m\u001b[0m\u001b[0m\n\u001b[0;32m--> 426\u001b[0;31m                 copy=self.copy)\n\u001b[0m\u001b[1;32m    427\u001b[0m             \u001b[0;32mif\u001b[0m \u001b[0;32mnot\u001b[0m \u001b[0mself\u001b[0m\u001b[0;34m.\u001b[0m\u001b[0mcopy\u001b[0m\u001b[0;34m:\u001b[0m\u001b[0;34m\u001b[0m\u001b[0;34m\u001b[0m\u001b[0m\n\u001b[1;32m    428\u001b[0m                 \u001b[0mnew_data\u001b[0m\u001b[0;34m.\u001b[0m\u001b[0m_consolidate_inplace\u001b[0m\u001b[0;34m(\u001b[0m\u001b[0;34m)\u001b[0m\u001b[0;34m\u001b[0m\u001b[0;34m\u001b[0m\u001b[0m\n",
      "\u001b[0;32m/anaconda3/lib/python3.7/site-packages/pandas/core/internals/managers.py\u001b[0m in \u001b[0;36mconcatenate_block_managers\u001b[0;34m(mgrs_indexers, axes, concat_axis, copy)\u001b[0m\n\u001b[1;32m   2059\u001b[0m         \u001b[0;32melse\u001b[0m\u001b[0;34m:\u001b[0m\u001b[0;34m\u001b[0m\u001b[0;34m\u001b[0m\u001b[0m\n\u001b[1;32m   2060\u001b[0m             b = make_block(\n\u001b[0;32m-> 2061\u001b[0;31m                 \u001b[0mconcatenate_join_units\u001b[0m\u001b[0;34m(\u001b[0m\u001b[0mjoin_units\u001b[0m\u001b[0;34m,\u001b[0m \u001b[0mconcat_axis\u001b[0m\u001b[0;34m,\u001b[0m \u001b[0mcopy\u001b[0m\u001b[0;34m=\u001b[0m\u001b[0mcopy\u001b[0m\u001b[0;34m)\u001b[0m\u001b[0;34m,\u001b[0m\u001b[0;34m\u001b[0m\u001b[0;34m\u001b[0m\u001b[0m\n\u001b[0m\u001b[1;32m   2062\u001b[0m                 placement=placement)\n\u001b[1;32m   2063\u001b[0m         \u001b[0mblocks\u001b[0m\u001b[0;34m.\u001b[0m\u001b[0mappend\u001b[0m\u001b[0;34m(\u001b[0m\u001b[0mb\u001b[0m\u001b[0;34m)\u001b[0m\u001b[0;34m\u001b[0m\u001b[0;34m\u001b[0m\u001b[0m\n",
      "\u001b[0;31mKeyboardInterrupt\u001b[0m: "
     ]
    }
   ],
   "source": [
    "# Counts the number of comments written\n",
    "# in progress\n",
    "# My current logic is to count the numver of times the textbox blurs but also take out the\n",
    "# counts of when the context menu is closed since the textbox will always blur when the \n",
    "# context menu is closed\n",
    "# There are currently negative numbers, unsure what is the current cause\n",
    "user_information = {}\n",
    "user_panos = {}\n",
    "user_missions = {}\n",
    "df_comments = find_action('ContextMenu_TextBoxBlur', True)\n",
    "df_window_closes = find_action('ContextMenu_Close')\n",
    "df_comments_grouped = df_comments.groupby(['user_id'])\n",
    "df_window_closes_grouped = df_window_closes.groupby(['user_id'])\n",
    "df_all_grouped = df_interactions.groupby(['user_id'])\n",
    "for index, current_id in enumerate(df_comments_grouped.groups):\n",
    "    user_information[current_id] = len(df_comments_grouped.get_group(current_id)) - len(df_all_grouped.get_group(current_id)), users[' accuracy'][index]\n",
    "    user_panos[current_id] = df_all_grouped.get_group(current_id)['gsv_panorama_id'].nunique()\n",
    "    user_missions[current_id] = df_all_grouped.get_group(current_id)['mission_id'].nunique()\n",
    "scatter_plot('Comments Written', user_information, user_panos, user_missions, True)"
   ]
  },
  {
   "cell_type": "code",
   "execution_count": null,
   "metadata": {},
   "outputs": [],
   "source": []
  }
 ],
 "metadata": {
  "kernelspec": {
   "display_name": "Python 3",
   "language": "python",
   "name": "python3"
  },
  "language_info": {
   "codemirror_mode": {
    "name": "ipython",
    "version": 3
   },
   "file_extension": ".py",
   "mimetype": "text/x-python",
   "name": "python",
   "nbconvert_exporter": "python",
   "pygments_lexer": "ipython3",
   "version": "3.7.3"
  }
 },
 "nbformat": 4,
 "nbformat_minor": 2
}
