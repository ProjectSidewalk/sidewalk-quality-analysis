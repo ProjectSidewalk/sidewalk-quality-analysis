{
 "cells": [
  {
   "cell_type": "markdown",
   "metadata": {},
   "source": [
    "Two high-level analyses:\n",
    "- Predict performance (accuracy) using a regression\n",
    "- Classify users into 'bad' vs 'good'--still need to define this but perhaps the threshold is any user < 70% and any user >= 70%\n",
    "\n",
    "For github issues and brainstorming features and analyses, use github:\n",
    "- https://github.com/ProjectSidewalk/sidewalk-quality-analysis/issues"
   ]
  },
  {
   "cell_type": "code",
   "execution_count": 844,
   "metadata": {
    "scrolled": true
   },
   "outputs": [],
   "source": [
    "import pandas as pd\n",
    "import matplotlib.pyplot as plt\n",
    "import numpy as np\n",
    "from dateutil import parser as parser\n",
    "import time\n",
    "from datetime import datetime, timezone\n",
    "import csv\n",
    "from sklearn import svm\n",
    "import sklearn.feature_selection\n",
    "from sklearn.feature_selection import SelectFromModel\n",
    "from sklearn import tree\n",
    "from sklearn.ensemble import ExtraTreesClassifier, ExtraTreesRegressor"
   ]
  },
  {
   "cell_type": "code",
   "execution_count": 869,
   "metadata": {},
   "outputs": [],
   "source": [
    "users = pd.read_csv('ml-users.csv')"
   ]
  },
  {
   "cell_type": "code",
   "execution_count": 870,
   "metadata": {},
   "outputs": [],
   "source": [
    "# parses through each user's csv and figures out how many unique panos and missions seen\n",
    "user_panos = {}\n",
    "user_missions = {}\n",
    "for current_user in users['user_id']:\n",
    "    df_current = pd.read_csv('{0}.csv'.format(current_user))\n",
    "    user_panos[current_user] = df_current['gsv_panorama_id'].nunique()\n",
    "    user_missions[current_user] = df_current['mission_id'].nunique()\n",
    "df_current = None"
   ]
  },
  {
   "cell_type": "code",
   "execution_count": 871,
   "metadata": {},
   "outputs": [
    {
     "data": {
      "text/plain": [
       "{'0e1ae564-6d72-4670-98e4-71369cc5ab26': 11241,\n",
       " '1353d168-ab49-4474-ae8a-213eb2dafab5': 1973,\n",
       " '2d9009b3-55d5-4aa8-a17a-a7c80afc4d51': 7349,\n",
       " '35872a6c-d171-40d9-8e66-9242b835ea71': 1085,\n",
       " '49723673-044d-4b47-855b-3bdebfe37073': 6624,\n",
       " '54c77d0f-fc8f-4497-84d3-5e336047b17e': 707,\n",
       " '6809bd6e-605f-4861-bc49-32e52c88c675': 1324,\n",
       " '715af4d8-0f17-47c4-99c6-7ef92d94803a': 6051,\n",
       " '7b1596af-14d4-4f2b-9e4e-71b1884db836': 3221,\n",
       " '86d26e9d-010f-4802-88ba-680ae0a8e20d': 2135,\n",
       " '87833d72-b357-4e2c-81cd-23f58ff04c59': 652,\n",
       " '8a471c0f-fa81-4c57-9b65-bd04a92c6a5e': 640,\n",
       " '9005a64a-fa73-4c84-b08b-b61eece1b9b7': 596,\n",
       " '939b6faa-0b57-4160-bcc2-d11fd2b69d9f': 827,\n",
       " '9b595ba6-529b-4d37-93d7-dd189184e15a': 249,\n",
       " 'ac272eb8-3bb3-4260-9960-8e6c463f3867': 1239,\n",
       " 'af812204-1521-4c42-bf88-4baaaffe3f06': 7792,\n",
       " 'bb64c416-b0bb-4a5b-b369-00f2a56fea3a': 2482,\n",
       " 'bca24c1a-a6b1-4625-ab8e-9ff8693022d7': 5496,\n",
       " 'bf16418a-4c99-4fd6-99c6-7e8b40fbe17b': 4148,\n",
       " 'c7190807-b56e-40c5-b96e-49dc8368328c': 422,\n",
       " 'd3636d4c-2d16-410c-bf44-c066ecaf1c31': 1190,\n",
       " 'dada416e-535f-4bb3-a213-172a8a94b581': 167,\n",
       " 'dce5984b-25d9-48f9-b8b7-640202b3be3c': 412,\n",
       " 'e4ff325c-309b-4ea6-8555-8f973e662362': 813,\n",
       " 'ec15a589-dd14-4513-a43e-8c06e55f4c71': 8431,\n",
       " 'f13d2630-35fd-4a78-883d-d108be083425': 9178,\n",
       " 'f5314ef9-3877-438c-ba65-ee2a2bbbf7f5': 1861,\n",
       " 'fa0bbee4-b98d-4eb3-b6da-d9e9aa287f6c': 136}"
      ]
     },
     "metadata": {},
     "output_type": "display_data"
    },
    {
     "data": {
      "text/plain": [
       "{'0e1ae564-6d72-4670-98e4-71369cc5ab26': 364,\n",
       " '1353d168-ab49-4474-ae8a-213eb2dafab5': 64,\n",
       " '2d9009b3-55d5-4aa8-a17a-a7c80afc4d51': 243,\n",
       " '35872a6c-d171-40d9-8e66-9242b835ea71': 42,\n",
       " '49723673-044d-4b47-855b-3bdebfe37073': 219,\n",
       " '54c77d0f-fc8f-4497-84d3-5e336047b17e': 29,\n",
       " '6809bd6e-605f-4861-bc49-32e52c88c675': 45,\n",
       " '715af4d8-0f17-47c4-99c6-7ef92d94803a': 198,\n",
       " '7b1596af-14d4-4f2b-9e4e-71b1884db836': 103,\n",
       " '86d26e9d-010f-4802-88ba-680ae0a8e20d': 75,\n",
       " '87833d72-b357-4e2c-81cd-23f58ff04c59': 34,\n",
       " '8a471c0f-fa81-4c57-9b65-bd04a92c6a5e': 21,\n",
       " '9005a64a-fa73-4c84-b08b-b61eece1b9b7': 23,\n",
       " '939b6faa-0b57-4160-bcc2-d11fd2b69d9f': 34,\n",
       " '9b595ba6-529b-4d37-93d7-dd189184e15a': 11,\n",
       " 'ac272eb8-3bb3-4260-9960-8e6c463f3867': 45,\n",
       " 'af812204-1521-4c42-bf88-4baaaffe3f06': 257,\n",
       " 'bb64c416-b0bb-4a5b-b369-00f2a56fea3a': 83,\n",
       " 'bca24c1a-a6b1-4625-ab8e-9ff8693022d7': 184,\n",
       " 'bf16418a-4c99-4fd6-99c6-7e8b40fbe17b': 132,\n",
       " 'c7190807-b56e-40c5-b96e-49dc8368328c': 21,\n",
       " 'd3636d4c-2d16-410c-bf44-c066ecaf1c31': 43,\n",
       " 'dada416e-535f-4bb3-a213-172a8a94b581': 12,\n",
       " 'dce5984b-25d9-48f9-b8b7-640202b3be3c': 16,\n",
       " 'e4ff325c-309b-4ea6-8555-8f973e662362': 48,\n",
       " 'ec15a589-dd14-4513-a43e-8c06e55f4c71': 275,\n",
       " 'f13d2630-35fd-4a78-883d-d108be083425': 297,\n",
       " 'f5314ef9-3877-438c-ba65-ee2a2bbbf7f5': 61,\n",
       " 'fa0bbee4-b98d-4eb3-b6da-d9e9aa287f6c': 8}"
      ]
     },
     "metadata": {},
     "output_type": "display_data"
    }
   ],
   "source": [
    "display(user_panos)\n",
    "display(user_missions)"
   ]
  },
  {
   "cell_type": "code",
   "execution_count": 245,
   "metadata": {},
   "outputs": [],
   "source": [
    "user_times = pd.read_csv('user_times.csv')"
   ]
  },
  {
   "cell_type": "code",
   "execution_count": 946,
   "metadata": {},
   "outputs": [],
   "source": [
    "# parses through each user's csv and figures out the total time spent labeling based off of\n",
    "# start and end time of a mission\n",
    "# I don't think my time calculations are corrected based off of the graphs I had produced\n",
    "# with the information, it seems like too little actions are happening per time period\n",
    "temp = {}\n",
    "current_times = []\n",
    "current_mission = ''\n",
    "time_total = 0\n",
    "#for current_user in users['user_id']:\n",
    "current_user = 'fa0bbee4-b98d-4eb3-b6da-d9e9aa287f6c'\n",
    "df_current = pd.read_csv('{0}.csv'.format(current_user))\n",
    "for index, time in enumerate(df_current['timestamp']):\n",
    "#     if index < 10000:\n",
    "#         display(time)\n",
    "    if time.count(':') == 1:\n",
    "            time = '00:'+ time\n",
    "    if df_current['mission_id'].iloc[index] != current_mission:\n",
    "        if len(current_times) > 0:\n",
    "            time_total = time_total + (max(current_times) - min(current_times))\n",
    "        display(time)\n",
    "        current_times = [(datetime.now(timezone.utc) - parser.parse(time)).total_seconds()]\n",
    "        current_mission = df_current['mission_id'].iloc[index]\n",
    "    else:\n",
    "        current_times.append((datetime.now(timezone.utc) - parser.parse(time)).total_seconds())\n",
    "    temp[current_user] = time_total"
   ]
  },
  {
   "cell_type": "code",
   "execution_count": 138,
   "metadata": {},
   "outputs": [],
   "source": [
    "# Creates a csv of the total amount of time that the \n",
    "time_header = ['user_id', 'total_time_spent']\n",
    "with open('user_times.csv', 'w', newline = '') as new_user:\n",
    "    writer = csv.writer(new_user)\n",
    "    writer.writerow(time_header)\n",
    "with open('user_times.csv', 'a', newline = '') as edit_user:\n",
    "    editor = csv.writer(edit_user)\n",
    "    for entry in user_times.keys():\n",
    "        editor.writerow([entry, user_times[entry]])"
   ]
  },
  {
   "cell_type": "code",
   "execution_count": 204,
   "metadata": {},
   "outputs": [],
   "source": [
    "# df_interactions = pd.read_csv('ml-interactions.tar.gz', compression='gzip') # load the full gzip tarball\n",
    "# #df_interactions = pd.read_csv('ml-interactions15000.csv')\n",
    "\n",
    "# # Do a little cleanup...\n",
    "# # In my initial analysis, i found that at least one row has a NaN value for an 'action' field. This should\n",
    "# # not happen. So, let's find that row (and others) that have this problem and remove them\n",
    "\n",
    "# # pd.isna checks for missing values (NaN values). It returns a boolean array where the index corresponds to\n",
    "# # row and the value corresponds to True/False indicating whether there is a NaN value\n",
    "# isna_result = pd.isna(df_interactions['action'])\n",
    "\n",
    "# print(\"Printing all rows where 'action' == NaN...\")\n",
    "# display(df_interactions[isna_result])\n",
    "# df_interactions= df_interactions[~isna_result] # we want all rows where isna is False (that is, all rows *without* a NaN for 'action')\n",
    "\n",
    "# # As a test, we can again look for NaN 'action' cells\n",
    "# isna_result = pd.isna(df_interactions['action'])\n",
    "# print(\"Printing all rows where 'action' == NaN... there should be no rows\")\n",
    "# display(df_interactions[isna_result])\n",
    "\n",
    "# small represents the first 50000 actions logged to be able to test a smaller subset\n",
    "# small= df_interactions[:50000]"
   ]
  },
  {
   "cell_type": "code",
   "execution_count": 763,
   "metadata": {},
   "outputs": [],
   "source": [
    "# Takes in the row and appends the row into the given file\n",
    "def file_appender(row, created, user_info):\n",
    "    if user_info not in created:\n",
    "        with open('{0}.csv'.format(user_info), 'w', newline = '') as new_user:\n",
    "            writer = csv.writer(new_user)\n",
    "            created.append(user_info)\n",
    "            writer.writerow(header)\n",
    "    with open('{0}.csv'.format(user_info), 'a', newline = '') as edit_user:\n",
    "        editor = csv.writer(edit_user)\n",
    "        editor.writerow(row)\n",
    "    return created"
   ]
  },
  {
   "cell_type": "code",
   "execution_count": 772,
   "metadata": {},
   "outputs": [],
   "source": [
    "# Parses through the csv and creates new csv for every user_id & event\n",
    "with open('ml-interactions 2.csv', newline = '') as data:\n",
    "    reader = csv.reader(data)\n",
    "    header = []\n",
    "    users_created = []\n",
    "    events_created = []\n",
    "    for row in reader:\n",
    "        if row[1] == 'user_id':\n",
    "            header = row\n",
    "        else:\n",
    "            user_id = row[1]\n",
    "            current_event = row[4]\n",
    "            users_created = file_appender(row, users_created, user_id)\n",
    "            events_created = file_appender(row, events_created, current_event)"
   ]
  },
  {
   "cell_type": "code",
   "execution_count": 775,
   "metadata": {},
   "outputs": [],
   "source": [
    "# # This fucntion iterates over the desired dataset and returns all of the logged events\n",
    "# # that contains the desired action\n",
    "# def find_action(args, use_subset = False):        \n",
    "#     for index, word in enumerate(args):  \n",
    "#         if use_subset:\n",
    "#             if index == 0:\n",
    "#                 df_information = small[small['action'].str.contains(word)]\n",
    "#             else:\n",
    "#                 frames = [df_information, small[small['action'].str.contains(word)]]\n",
    "#                 df_information = pd.concat(frames)\n",
    "#         else:\n",
    "#             if index == 0:\n",
    "#                 df_information = df_interactions[df_interactions['action'].str.contains(word)]\n",
    "#             else:\n",
    "#                 frames = [df_information, df_interactions[df_interactions['action'].str.contains(word)]]\n",
    "#                 df_information = pd.concat(frames)\n",
    "#     return df_information"
   ]
  },
  {
   "cell_type": "code",
   "execution_count": 875,
   "metadata": {},
   "outputs": [],
   "source": [
    "# Used to create a correlation between accuracy and the info type that was given\n",
    "# It accepts a string for the actions that will be used to record the info type\n",
    "# graph_type determines how the information is shown and multi_plot determines if it can\n",
    "# be shows in per panos & per mission. Time graph determines if it is measured by minute\n",
    "# Unsure why but when measuring time, the user fa0bbee4-b98d-4eb3-b6da-d9e9aa287f6c has\n",
    "# a way higher value than all other users, unsure why\n",
    "def counting_graph (info_type, graph_type, multi_plot, action, time, period):\n",
    "    user_information = {}\n",
    "    df_information = pd.read_csv('{0}.csv'.format(action))\n",
    "    df_actions_grouped = df_information.groupby(['user_id'])\n",
    "    time_period = 1\n",
    "    if period == 'Minutes':\n",
    "        time_period = 60\n",
    "    elif period == 'Hours':\n",
    "        time_period = 3600\n",
    "    for index, current_id in enumerate(df_actions_grouped.groups):\n",
    "        users_index = (users['user_id'] == current_id).idxmax()\n",
    "        if time and index < 15:\n",
    "            user_information[current_id] = len(df_actions_grouped.get_group(current_id)) / (user_times['total_time_spent'][users_index] / time_period), users['accuracy'][users_index]\n",
    "        elif not time:\n",
    "            user_information[current_id] = len(df_actions_grouped.get_group(current_id)), users['accuracy'][users_index]\n",
    "    for index, current_user in enumerate(users['user_id']):\n",
    "        if current_user not in user_information:\n",
    "            user_information[current_user] = 0, users['accuracy'][index]\n",
    "    if graph_type == 'scatter_plot':\n",
    "        scatter_plot(info_type, user_information, multi_plot, time, period)\n",
    "    elif graph_type == 'histogram':\n",
    "        histogram(info_type, user_information)"
   ]
  },
  {
   "cell_type": "code",
   "execution_count": 184,
   "metadata": {},
   "outputs": [],
   "source": [
    "# def time_graph (info_type, multi_plot, action):\n",
    "#     user_information = {}\n",
    "#     df_information = pd.read_csv('{0}.csv'.format(action))\n",
    "#     df_actions_grouped = df_information.groupby(['user_id'])\n",
    "#     for index, current_id in enumerate(df_actions_grouped.groups):\n",
    "#         users_index = (users['user_id'] == current_id).idxmax()\n",
    "#         user_information[current_id] = len(df_actions_grouped.get_group(current_id)) / (user_times[current_id] / 60), users[' accuracy'][users_index]\n",
    "#     for index, current_user in enumerate(users['user_id']):\n",
    "#         if current_user not in user_information:\n",
    "#             user_information[current_user] = 0, users[' accuracy'][index]\n",
    "#     scatter_plot(info_type, user_information, multi_plot, True)"
   ]
  },
  {
   "cell_type": "code",
   "execution_count": 511,
   "metadata": {},
   "outputs": [],
   "source": [
    "# def range_graph(info_type, graph_type, column):\n",
    "#     user_information = {}\n",
    "#     for index, current_id in enumerate(users['user_id']):\n",
    "#         df_current_user = pd.read_csv('{0}.csv'.format(current_id))\n",
    "#         user_information[current_id] = df_current_user[column].mean(), users[' accuracy'][index]\n",
    "#     if graph_type == 'scatter_plot' :\n",
    "#         scatter_plot(info_type, user_information, False, False, None)"
   ]
  },
  {
   "cell_type": "code",
   "execution_count": 945,
   "metadata": {
    "scrolled": true
   },
   "outputs": [],
   "source": [
    "# Finds the average pitch, how far up or down the users is usally looking\n",
    "user_information = {}\n",
    "for index, current_id in enumerate(users['user_id']):\n",
    "    display(current_id)\n",
    "    df_current_user = pd.read_csv('{0}.csv'.format(current_id))\n",
    "    df_grouped = df_current_user.groupby(['gsv_panorama_id'])\n",
    "    current_user_panos = []\n",
    "    current_pano = ''\n",
    "    average_per_panos = 0\n",
    "    for index_second, current in enumerate(df_current_user['pitch']):\n",
    "        if index_second != 0:\n",
    "            if index_second == 1:\n",
    "                current_pano = df_current_user['gsv_panorama_id'][index_second]\n",
    "            if df_current_user['gsv_panorama_id'][index_second] == current_pano:\n",
    "                current_user_panos.append(current)\n",
    "            else:\n",
    "                if average_per_panos == 0:\n",
    "                    average_per_panos = sum(current_user_panos) / float(len(current_user_panos))\n",
    "                else:\n",
    "                    average_per_panos = (average_per_panos + sum(current_user_panos) / float(len(current_user_panos))) / 2\n",
    "    user_information[current_id] = df_current_user['pitch'].mean(), users['accuracy'][index], average_per_panos\n",
    "scatter_plot('Average Pitch', user_information, True, False, None)"
   ]
  },
  {
   "cell_type": "code",
   "execution_count": 27,
   "metadata": {},
   "outputs": [],
   "source": [
    "# # Determines the average time it takes for a certain action to occur per second and per\n",
    "# # either panos or mission\n",
    "# # The type of information is found using the action logged\n",
    "# # Currently takes too long and doesn't run all the way, even when only processing only \n",
    "# # Per panos or per mission\n",
    "# def time_graph(info_type, action):\n",
    "#     df_info = pd.read_csv('{0}.csv'.format(action))\n",
    "#     df_per_pano = df_info.groupby(['user_id', 'gsv_panorama_id'])\n",
    "#     df_per_mission = df_info.groupby(['user_id','mission_id'])\n",
    "#     user_info = {}\n",
    "#     current_group_times = []\n",
    "#     for name,group_pano in df_per_pano:\n",
    "#         for current_datetime in group_pano['timestamp']:\n",
    "#             current_group_times.append(parser.parse(current_datetime))\n",
    "#         if name[0] in user_info:\n",
    "#             user_info[name[0]] = user_info[name[0]][0] + (max(current_group_times) - min(current_group_times)).total_seconds(), 0\n",
    "#         else:\n",
    "#             user_info[name[0]] = (max(current_group_times) - min(current_group_times)).total_seconds(), 0\n",
    "#     for name,group_mission in df_per_mission:\n",
    "#         for current_datetime in group_mission['timestamp']:\n",
    "#             current_group_times.append(parser.parse(current_datetime))\n",
    "#         user_info[name[0]][1] = user_info[name[0]][1] + (max(current_group_times) - min(current_group_times)).total_seconds()\n",
    "#     time_scatter_plot(info_type, user_info)"
   ]
  },
  {
   "cell_type": "code",
   "execution_count": 29,
   "metadata": {},
   "outputs": [],
   "source": [
    "# def time_graph(info_type, action):\n",
    "#     df_information = pd.read_csv('{0}.csv'.format(action))\n",
    "#     df_actions_grouped = df_information.groupby(['user_id'])\n",
    "#     user_info = {}\n",
    "#     current_pano_times = []\n",
    "#     current_mission_times = []\n",
    "#     current_pano = ''\n",
    "#     current_mission = ''\n",
    "#     pano_time_total = 0\n",
    "#     mission_time_total = 0\n",
    "#     count = 0\n",
    "#     for name, current_group in df_actions_grouped:\n",
    "#         for index, time in enumerate(current_group['timestamp']):\n",
    "# #             if count < 1:\n",
    "# #                 count += 1\n",
    "# #                 display(current_group['gsv_panorama_id'])\n",
    "# #                 display(current_group['gsv_panorama_id'].keys())\n",
    "#             if current_group['gsv_panorama_id'].index[index] != current_pano:\n",
    "#                 if len(current_pano_times) > 0:\n",
    "#                     pano_time_total = pano_time_total + (max(current_pano_times) - min(current_pano_times))\n",
    "#                 current_pano_times.append((parser.parse(time) - datetime.now(timezone.utc)).total_seconds())\n",
    "#                 current_pano = current_group['gsv_panorama_id'].index[index]\n",
    "#             else:\n",
    "#                 read_time = (parser.parse(time) - datetime.now(timezone.utc)).total_seconds()\n",
    "#                 current_pano_times.append(read_time)\n",
    "#             if current_group['mission_id'].index[index] != current_mission:\n",
    "#                 if len(current_mission_times) > 0:\n",
    "#                     mission_time_total = mission_time_total + (max(current_mission_times) - min(current_mission_times))\n",
    "#                 current_mission_times.append((parser.parse(time) - datetime.now(timezone.utc)).total_seconds())\n",
    "#                 current_mission = current_group['mission_id'].index[index]\n",
    "#             else:\n",
    "#                 current_mission_times.append((parser.parse(time) - datetime.now(timezone.utc)).total_seconds())  \n",
    "#         user_info[name] = pano_time_total, mission_time_total\n",
    "# #     time_scatter_plot(info_type, user_info)"
   ]
  },
  {
   "cell_type": "code",
   "execution_count": 6,
   "metadata": {},
   "outputs": [],
   "source": [
    "# def time_graph(info_type, action):\n",
    "#     df_information = pd.read_csv('{0}.csv'.format(action))\n",
    "#     df_actions_grouped = df_information.groupby(['user_id'])\n",
    "#     user_info = {}\n",
    "#     for name, current_group in df_actions_grouped:\n",
    "#         current_times = []\n",
    "#         current_mission = ''\n",
    "#         time_total = 0\n",
    "#         for index, time in enumerate(current_group['timestamp']):\n",
    "#             if current_group['mission_id'].iloc[index] != current_mission:\n",
    "#                 if len(current_times) > 0:\n",
    "#                     time_total = time_total + (max(current_times) - min(current_times))\n",
    "#                 current_times = [(datetime.now(timezone.utc) - parser.parse(time)).total_seconds()]\n",
    "#                 current_mission = current_group['mission_id'].iloc[index]\n",
    "#             else:\n",
    "#                 current_times.append((datetime.now(timezone.utc) - parser.parse(time)).total_seconds())  \n",
    "#         user_info[name] = time_total\n",
    "#     time_scatter_plot(info_type, user_info)"
   ]
  },
  {
   "cell_type": "code",
   "execution_count": 147,
   "metadata": {},
   "outputs": [],
   "source": [
    "# # Creates a scatter plot relating accuracy and the occurance of an action per second per\n",
    "# # panos or mission\n",
    "# def time_scatter_plot(info_type, user_info, multi_plot):\n",
    "#     f, axs = plt.subplots(1,2,figsize=(12,4))\n",
    "#     plt.subplot(122)\n",
    "#     plt.ylabel('User Accuracy')\n",
    "#     plt.xlabel(info_type + ' per second per Pano')\n",
    "#     for index, entry in enumerate(user_info.keys()):\n",
    "#         current_info = user_info.get(entry)\n",
    "#         info = float(current_info[0])\n",
    "#         accuracy = users[' accuracy'][index]\n",
    "#         if accuracy > 65:\n",
    "#             plt.plot(info, accuracy, '.', color = 'blue')\n",
    "#         else:\n",
    "#             plt.plot(info, accuracy, '.', color = 'red')\n",
    "#     plt.subplot(121)\n",
    "#     plt.ylabel('User Accuracy')\n",
    "#     plt.xlabel(info_type + ' per second per Mission Started')\n",
    "#     for index, entry in enumerate(user_info.keys()):\n",
    "#         current_info = user_info.get(entry)\n",
    "#         info = float(current_info[1])\n",
    "#         accuracy = users[' accuracy'][index]\n",
    "#         if accuracy > 65:\n",
    "#             plt.plot(info, accuracy, '.', color = 'blue')\n",
    "#         else:\n",
    "#             plt.plot(info, accuracy, '.', color = 'red')"
   ]
  },
  {
   "cell_type": "code",
   "execution_count": 874,
   "metadata": {},
   "outputs": [],
   "source": [
    "# Creates a scatter plot of the information given, if multi_plot is true then it is also\n",
    "# divided by the number of unique panos seens and missions started\n",
    "def scatter_plot(info_type, user_information, multi_plot, per_time, period):\n",
    "    if multi_plot:\n",
    "        f, axs = plt.subplots(1,3,figsize=(12,4))\n",
    "        plt.subplot(133)\n",
    "        plt.ylabel('User Accuracy')\n",
    "        if per_time:\n",
    "            plt.xlabel(info_type + ' per ' + period + ' per Pano')\n",
    "        else:\n",
    "            plt.xlabel(info_type + ' per Pano')\n",
    "        for entry in user_information.keys():\n",
    "            user_info = user_information.get(entry)\n",
    "            info = float(user_info[0]) / float(user_panos[entry])\n",
    "            accuracy = user_info[1]\n",
    "            if accuracy > 65:\n",
    "                plt.plot(info, accuracy, '.', color = 'blue')\n",
    "            else:\n",
    "                plt.plot(info, accuracy, '.', color = 'red')\n",
    "        plt.subplot(132)\n",
    "        plt.ylabel('User Accuracy')\n",
    "        if per_time:\n",
    "            plt.xlabel(info_type + ' per ' + period + ' per Mission Started')\n",
    "        else:\n",
    "            plt.xlabel(info_type + ' per Mission Started')\n",
    "        for entry in user_information.keys():\n",
    "            user_info = user_information.get(entry)\n",
    "            info = float(user_info[0]) / float(user_missions[entry])\n",
    "            accuracy = user_info[1]\n",
    "            if accuracy > 65:\n",
    "                plt.plot(info, accuracy, '.', color = 'blue')\n",
    "            else:\n",
    "                plt.plot(info, accuracy, '.', color = 'red')\n",
    "        plt.subplot(131)\n",
    "    plt.ylabel('User Accuracy')\n",
    "    if per_time:\n",
    "        plt.xlabel(info_type + ' per ' + period)\n",
    "    else:\n",
    "        plt.xlabel(info_type)\n",
    "    for entry in user_information.keys():\n",
    "        user_info = user_information.get(entry)\n",
    "        info = user_info[0]\n",
    "        accuracy = user_info[1]\n",
    "        if accuracy > 65:\n",
    "            plt.plot(info, accuracy, '.', color = 'blue')\n",
    "        else:\n",
    "            plt.plot(info, accuracy, '.', color = 'red')"
   ]
  },
  {
   "cell_type": "code",
   "execution_count": 769,
   "metadata": {},
   "outputs": [],
   "source": [
    "#Creates a histogram counting the occurances of a certain type of information\n",
    "def histogram(info_type, user_information):\n",
    "    plt.hist(user_information) \n",
    "    plt.xlabel(info_type)\n",
    "    plt.ylabel('Count')"
   ]
  },
  {
   "cell_type": "code",
   "execution_count": 876,
   "metadata": {
    "scrolled": false
   },
   "outputs": [
    {
     "data": {
      "image/png": "[encoded data removed]",
      "text/plain": [
       "<Figure size 864x288 with 3 Axes>"
      ]
     },
     "metadata": {
      "needs_background": "light"
     },
     "output_type": "display_data"
    }
   ],
   "source": [
    "# Counts the number of keyboard presses\n",
    "counting_graph('Keyboard Presses', 'scatter_plot', True, 'LowLevelEvent_keydown', False, None)"
   ]
  },
  {
   "cell_type": "code",
   "execution_count": 877,
   "metadata": {},
   "outputs": [
    {
     "data": {
      "image/png": "[encoded data removed]",
      "text/plain": [
       "<Figure size 864x288 with 3 Axes>"
      ]
     },
     "metadata": {
      "needs_background": "light"
     },
     "output_type": "display_data"
    }
   ],
   "source": [
    "# Counts the number of mouse clicks\n",
    "counting_graph('Mouse Clicks', 'scatter_plot', True, 'LowLevelEvent_mousedown', False, None)"
   ]
  },
  {
   "cell_type": "code",
   "execution_count": 878,
   "metadata": {},
   "outputs": [
    {
     "data": {
      "image/png": "[encoded data removed]",
      "text/plain": [
       "<Figure size 432x288 with 1 Axes>"
      ]
     },
     "metadata": {
      "needs_background": "light"
     },
     "output_type": "display_data"
    }
   ],
   "source": [
    "# Counts the number of missions completed\n",
    "counting_graph('Missions Completed', 'scatter_plot', False, 'MissionComplete', False, None)"
   ]
  },
  {
   "cell_type": "code",
   "execution_count": 879,
   "metadata": {},
   "outputs": [
    {
     "data": {
      "image/png": "[encoded data removed]",
      "text/plain": [
       "<Figure size 864x288 with 3 Axes>"
      ]
     },
     "metadata": {
      "needs_background": "light"
     },
     "output_type": "display_data"
    }
   ],
   "source": [
    "# Counts the number of zooms\n",
    "counting_graph('Zooms', 'scatter_plot', True, 'Click_ZoomIn', False, None)"
   ]
  },
  {
   "cell_type": "code",
   "execution_count": 880,
   "metadata": {},
   "outputs": [
    {
     "data": {
      "image/png": "[encoded data removed]",
      "text/plain": [
       "<Figure size 864x288 with 3 Axes>"
      ]
     },
     "metadata": {
      "needs_background": "light"
     },
     "output_type": "display_data"
    }
   ],
   "source": [
    "# Counts the number of Labels confirmations based off of time the context menu was opened\n",
    "counting_graph('Label Confirmations', 'scatter_plot', True, 'ContextMenu_Open', False, None)"
   ]
  },
  {
   "cell_type": "code",
   "execution_count": 881,
   "metadata": {},
   "outputs": [
    {
     "data": {
      "image/png": "[encoded data removed]",
      "text/plain": [
       "<Figure size 864x288 with 3 Axes>"
      ]
     },
     "metadata": {
      "needs_background": "light"
     },
     "output_type": "display_data"
    }
   ],
   "source": [
    "# Counts the number of Labels Deleted\n",
    "counting_graph('Label deleted', 'scatter_plot', True, 'RemoveLabel', False, None)"
   ]
  },
  {
   "cell_type": "code",
   "execution_count": 882,
   "metadata": {},
   "outputs": [
    {
     "data": {
      "image/png": "[encoded data removed]",
      "text/plain": [
       "<Figure size 864x288 with 3 Axes>"
      ]
     },
     "metadata": {
      "needs_background": "light"
     },
     "output_type": "display_data"
    }
   ],
   "source": [
    "# Counts the number of Tags Placed\n",
    "counting_graph('Label deleted', 'scatter_plot', True, 'ContextMenu_TagAdded', False, None)"
   ]
  },
  {
   "cell_type": "code",
   "execution_count": 883,
   "metadata": {},
   "outputs": [
    {
     "data": {
      "image/png": "[encoded data removed]",
      "text/plain": [
       "<Figure size 864x288 with 3 Axes>"
      ]
     },
     "metadata": {
      "needs_background": "light"
     },
     "output_type": "display_data"
    }
   ],
   "source": [
    "# Counts the number of Label Confirmation based off of closing the context window\n",
    "# I am currently unsure whether this one or the one above would be a more accurate measure\n",
    "# of labels done and what the other would represent\n",
    "counting_graph('Label Confirmations', 'scatter_plot', True, 'LabelingCanvas_FinishLabeling', False, None)"
   ]
  },
  {
   "cell_type": "code",
   "execution_count": 884,
   "metadata": {
    "scrolled": true
   },
   "outputs": [
    {
     "data": {
      "image/png": "[encoded data removed]",
      "text/plain": [
       "<Figure size 864x288 with 3 Axes>"
      ]
     },
     "metadata": {
      "needs_background": "light"
     },
     "output_type": "display_data"
    }
   ],
   "source": [
    "# Counts the number of Comments Written\n",
    "# Unsure if measuring the blur of the text box is an accurate representation of comments written\n",
    "counting_graph('Comments Written', 'scatter_plot', True, 'ContextMenu_TextBoxChange', False, None)"
   ]
  },
  {
   "cell_type": "code",
   "execution_count": 128,
   "metadata": {
    "scrolled": false
   },
   "outputs": [],
   "source": [
    "# # Counts the number of comments written\n",
    "\n",
    "# user_information = {}\n",
    "# df_comments = pd.read_csv('{0}.csv'.format('ContextMenu_TextBoxBlur'))\n",
    "# df_window_closes = pd.read_csv('{0}.csv'.format('ContextMenu_Close'))\n",
    "# df_comments_grouped = df_comments.groupby(['user_id'])\n",
    "# df_window_closes_grouped = df_window_closes.groupby(['user_id'])\n",
    "# for index, current_id in enumerate(df_comments_grouped.groups):\n",
    "#     user_information[current_id] = len(df_comments_grouped.get_group(current_id)), users[' accuracy'][index]\n",
    "# scatter_plot('Comments Written', user_information, True)"
   ]
  },
  {
   "cell_type": "code",
   "execution_count": 885,
   "metadata": {
    "scrolled": true
   },
   "outputs": [
    {
     "data": {
      "image/png": "[encoded data removed]",
      "text/plain": [
       "<Figure size 432x288 with 1 Axes>"
      ]
     },
     "metadata": {
      "needs_background": "light"
     },
     "output_type": "display_data"
    }
   ],
   "source": [
    "# Counts the number of users with different accuracies\n",
    "histogram('Accuracy', users['accuracy'])"
   ]
  },
  {
   "cell_type": "code",
   "execution_count": 303,
   "metadata": {
    "scrolled": true
   },
   "outputs": [
    {
     "data": {
      "image/png": "[encoded data removed]",
      "text/plain": [
       "<Figure size 864x288 with 3 Axes>"
      ]
     },
     "metadata": {
      "needs_background": "light"
     },
     "output_type": "display_data"
    }
   ],
   "source": [
    "counting_graph('Label Confirmations', 'scatter_plot', True, 'LabelingCanvas_FinishLabeling', True, 'Hours')"
   ]
  },
  {
   "cell_type": "code",
   "execution_count": 304,
   "metadata": {
    "scrolled": false
   },
   "outputs": [
    {
     "data": {
      "image/png": "[encoded data removed]",
      "text/plain": [
       "<Figure size 864x288 with 3 Axes>"
      ]
     },
     "metadata": {
      "needs_background": "light"
     },
     "output_type": "display_data"
    }
   ],
   "source": [
    "# Counts the number of mouse clicks per minute\n",
    "counting_graph('Mouse Clicks', 'scatter_plot', True, 'LowLevelEvent_mousedown', True, 'Hours')"
   ]
  },
  {
   "cell_type": "code",
   "execution_count": 311,
   "metadata": {},
   "outputs": [
    {
     "data": {
      "image/png": "[encoded data removed]",
      "text/plain": [
       "<Figure size 864x288 with 3 Axes>"
      ]
     },
     "metadata": {
      "needs_background": "light"
     },
     "output_type": "display_data"
    }
   ],
   "source": [
    "# Counts the number of keyboard presses per minute\n",
    "counting_graph('Keyboard Presses', 'scatter_plot', True, 'LowLevelEvent_keydown', True, 'Hours')"
   ]
  },
  {
   "cell_type": "code",
   "execution_count": 307,
   "metadata": {},
   "outputs": [
    {
     "data": {
      "image/png": "[encoded data removed]",
      "text/plain": [
       "<Figure size 432x288 with 1 Axes>"
      ]
     },
     "metadata": {
      "needs_background": "light"
     },
     "output_type": "display_data"
    }
   ],
   "source": [
    "# Counts the number of Pano changes per minute\n",
    "counting_graph('Pano Changes', 'scatter_plot', False, 'PanoId_Changed', True, 'Minutes')"
   ]
  },
  {
   "cell_type": "code",
   "execution_count": 308,
   "metadata": {},
   "outputs": [
    {
     "data": {
      "image/png": "[encoded data removed]",
      "text/plain": [
       "<Figure size 432x288 with 1 Axes>"
      ]
     },
     "metadata": {
      "needs_background": "light"
     },
     "output_type": "display_data"
    }
   ],
   "source": [
    "# Counts the number of missions completed per hour\n",
    "counting_graph('Missions Completed', 'scatter_plot', False, 'MissionComplete', True, 'Hours')"
   ]
  },
  {
   "cell_type": "code",
   "execution_count": 309,
   "metadata": {},
   "outputs": [
    {
     "data": {
      "image/png": "[encoded data removed]",
      "text/plain": [
       "<Figure size 432x288 with 1 Axes>"
      ]
     },
     "metadata": {
      "needs_background": "light"
     },
     "output_type": "display_data"
    }
   ],
   "source": [
    "# Counts the number of tasks started per hour\n",
    "counting_graph('Tasks Started', 'scatter_plot', False, 'TaskStart', True, 'Hours')"
   ]
  },
  {
   "cell_type": "code",
   "execution_count": 886,
   "metadata": {},
   "outputs": [
    {
     "data": {
      "image/png": "[encoded data removed]",
      "text/plain": [
       "<Figure size 432x288 with 1 Axes>"
      ]
     },
     "metadata": {
      "needs_background": "light"
     },
     "output_type": "display_data"
    }
   ],
   "source": [
    "# Finds the average pitch, how far up or down the users is usally looking\n",
    "user_information = {}\n",
    "for index, current_id in enumerate(users['user_id']):\n",
    "    df_current_user = pd.read_csv('{0}.csv'.format(current_id))\n",
    "    user_information[current_id] = df_current_user['pitch'].mean(), users['accuracy'][index]\n",
    "scatter_plot('Average Pitch', user_information, False, False, None)"
   ]
  },
  {
   "cell_type": "code",
   "execution_count": 887,
   "metadata": {},
   "outputs": [
    {
     "data": {
      "image/png": "[encoded data removed]",
      "text/plain": [
       "<Figure size 432x288 with 1 Axes>"
      ]
     },
     "metadata": {
      "needs_background": "light"
     },
     "output_type": "display_data"
    }
   ],
   "source": [
    "# Calculates the average range of how much a person looks looks side to side\n",
    "user_information = {}\n",
    "for index, current_id in enumerate(users['user_id']):\n",
    "    df_current_user = pd.read_csv('{0}.csv'.format(current_id))\n",
    "    df_grouped = df_current_user.groupby(['gsv_panorama_id'])\n",
    "    current_heading = []\n",
    "    for current, group in df_grouped:\n",
    "        current_heading.append(group['heading'].max() - group['heading'].min())\n",
    "    user_information[current_id] = (sum(current_heading) / float(len(current_heading))), users['accuracy'][index]\n",
    "scatter_plot('Average Heading', user_information, False, False, None)"
   ]
  },
  {
   "cell_type": "code",
   "execution_count": 892,
   "metadata": {},
   "outputs": [],
   "source": [
    "test_data = []\n",
    "training_data = []\n",
    "feature_header = ['test']\n",
    "test_id = []\n",
    "training_id = []\n",
    "training_output = []\n",
    "test_output = []\n",
    "output_header = ['Quality', 'Accuracy']\n",
    "create_groups(25)"
   ]
  },
  {
   "cell_type": "code",
   "execution_count": 896,
   "metadata": {
    "scrolled": true
   },
   "outputs": [
    {
     "data": {
      "text/plain": [
       "['test', 'Average Pitch']"
      ]
     },
     "metadata": {},
     "output_type": "display_data"
    },
    {
     "data": {
      "text/plain": [
       "[[0, -21.15926586977427],\n",
       " [0, -20.037270042145735],\n",
       " [0, -22.913363875577915],\n",
       " [0, -17.094591308250653],\n",
       " [0, -23.614854446813293],\n",
       " [0, -22.372120062392113],\n",
       " [0, -12.331478498128579],\n",
       " [0, -19.731631314501747],\n",
       " [0, -22.002346829436863],\n",
       " [0, -11.129765593699345],\n",
       " [0, -18.353221092355916],\n",
       " [0, -16.949211424957806],\n",
       " [0, -20.251933147760678],\n",
       " [0, -23.2755191231088],\n",
       " [0, -16.466069077943907],\n",
       " [0, -24.77485008470693],\n",
       " [0, -26.430964053074543],\n",
       " [0, -29.14317321088398],\n",
       " [0, -23.448291696073824],\n",
       " [0, -20.006998023888862],\n",
       " [0, -15.818322032082976],\n",
       " [0, -22.239289338792325],\n",
       " [0, -17.666648998052956],\n",
       " [0, -24.075948967466726],\n",
       " [0, -15.612335016121987]]"
      ]
     },
     "metadata": {},
     "output_type": "display_data"
    },
    {
     "data": {
      "text/plain": [
       "[[0, -10.498907626361033],\n",
       " [0, -11.0338256228948],\n",
       " [0, -18.239756104119156],\n",
       " [0, -22.705144524571313]]"
      ]
     },
     "metadata": {},
     "output_type": "display_data"
    },
    {
     "data": {
      "text/plain": [
       "['Quality', 'Accuracy']"
      ]
     },
     "metadata": {},
     "output_type": "display_data"
    },
    {
     "data": {
      "text/plain": [
       "[['1', 73.42657342657343],\n",
       " ['0', 57.608695652173914],\n",
       " ['1', 84.68085106382978],\n",
       " ['0', 63.34164588528678],\n",
       " ['1', 83.49917081260365],\n",
       " ['0', 42.857142857142854],\n",
       " ['0', 54.11764705882353],\n",
       " ['1', 80.2734375],\n",
       " ['1', 74.93975903614458],\n",
       " ['0', 41.43302180685358],\n",
       " ['1', 77.26980038634899],\n",
       " ['0', 46.15384615384615],\n",
       " ['1', 70.1923076923077],\n",
       " ['0', 59.32203389830509],\n",
       " ['1', 77.19780219780219],\n",
       " ['1', 80.9322033898305],\n",
       " ['1', 79.46257197696737],\n",
       " ['1', 84.82758620689654],\n",
       " ['1', 65.80027359781121],\n",
       " ['1', 76.90476190476191],\n",
       " ['1', 69.91150442477877],\n",
       " ['0', 56.41025641025641],\n",
       " ['1', 68.4931506849315],\n",
       " ['1', 71.42857142857143],\n",
       " ['1', 71.3015873015873]]"
      ]
     },
     "metadata": {},
     "output_type": "display_data"
    },
    {
     "data": {
      "text/plain": [
       "[['0', 59.68882602545968],\n",
       " ['1', 68.8],\n",
       " ['0', 57.692307692307686],\n",
       " ['1', 82.17573221757323]]"
      ]
     },
     "metadata": {},
     "output_type": "display_data"
    }
   ],
   "source": [
    "display(feature_header)\n",
    "display(training_data)\n",
    "display(test_data)\n",
    "display(output_header)\n",
    "display(training_output)\n",
    "display(test_output)"
   ]
  },
  {
   "cell_type": "code",
   "execution_count": 897,
   "metadata": {},
   "outputs": [],
   "source": [
    "add_feature(None, 'heading', 'Average Heading Range', False)"
   ]
  },
  {
   "cell_type": "code",
   "execution_count": 890,
   "metadata": {},
   "outputs": [],
   "source": [
    "# Creates a lists of each user's outputs (Quality 0 = Bad, 1 = Good, and accuracy)\n",
    "# Also creates an list for features\n",
    "def create_groups(number_of_training):\n",
    "    for index, entry in enumerate(users['user_id']):\n",
    "        current_accuracy = users['accuracy'][index]\n",
    "        if current_accuracy <= 65:\n",
    "            quality = '0'\n",
    "        else:\n",
    "            quality = '1'\n",
    "        if index < number_of_training:\n",
    "            training_output.append([quality, current_accuracy])\n",
    "            training_data.append([0])\n",
    "            training_id.append(entry)\n",
    "        else:\n",
    "            test_output.append([quality, current_accuracy])\n",
    "            test_data.append([0])\n",
    "            test_id.append(entry)"
   ]
  },
  {
   "cell_type": "code",
   "execution_count": 891,
   "metadata": {},
   "outputs": [],
   "source": [
    "# Adds a feature into the features list of both the training and testing model\n",
    "def add_feature(feature, info_type, feature_title, multi):\n",
    "    if feature_title not in feature_header:\n",
    "        if multi:\n",
    "            feature_header.append(feature_title + ' per Panos')\n",
    "            feature_header.append(feature_title + ' per Mission')\n",
    "        else:\n",
    "            feature_header.append(feature_title)\n",
    "        for index, entry in enumerate(users['user_id']):\n",
    "            df_user = pd.read_csv('{0}.csv'.format(entry))\n",
    "            action_count = df_user['action'].value_counts()\n",
    "            if feature in action_count:\n",
    "                #if info_type == 'count':\n",
    "                panos =  action_count[feature] / float(user_panos[entry])\n",
    "                missions = action_count[feature] / float(user_missions[entry])\n",
    "                if info_type == 'time':\n",
    "                    panos =  panos / user_times[entry]\n",
    "                    missions = missions / user_times[entry]\n",
    "            elif info_type == 'pitch':\n",
    "                info = df_user['pitch'].mean()     \n",
    "            elif info_type == 'heading':\n",
    "                df_grouped = df_user.groupby(['gsv_panorama_id'])\n",
    "                current_heading = []\n",
    "                for current, group in df_grouped:\n",
    "                    current_heading.append(group['heading'].max() - group['heading'].min())\n",
    "                info = (sum(current_heading) / float(len(current_heading)))      \n",
    "            else:\n",
    "                panos = 0\n",
    "                missions = 0\n",
    "            if multi:\n",
    "                if entry in training_id:\n",
    "                    current_index = training_id.index(entry)\n",
    "                    training_data[current_index].append(panos)\n",
    "                    training_data[current_index].append(missions)\n",
    "                else:\n",
    "                    current_index = test_id.index(entry)\n",
    "                    test_data[current_index].append(panos)\n",
    "                    test_data[current_index].append(missions)\n",
    "            else:\n",
    "                if entry in training_id:\n",
    "                    current_index = training_id.index(entry)\n",
    "                    training_data[current_index].append(info)\n",
    "                else:\n",
    "                    current_index = test_id.index(entry)\n",
    "                    test_data[current_index].append(info)"
   ]
  },
  {
   "cell_type": "code",
   "execution_count": 912,
   "metadata": {},
   "outputs": [],
   "source": [
    "# Creates dataframes of all of the lists (features, outputs, combied)\n",
    "df_test = pd.DataFrame(test_data, columns = feature_header, index = test_id)\n",
    "df_training = pd.DataFrame(training_data, columns = feature_header, index = training_id)\n",
    "df_test_output = pd.DataFrame(test_output, columns = output_header, index = test_id)\n",
    "df_training_output = pd.DataFrame(training_output, columns = output_header, index = training_id)\n",
    "df_joined_training = df_training.join(df_training_output)\n",
    "df_joined_test = df_test.join(df_test_output)"
   ]
  },
  {
   "cell_type": "code",
   "execution_count": 903,
   "metadata": {
    "scrolled": true
   },
   "outputs": [
    {
     "name": "stdout",
     "output_type": "stream",
     "text": [
      "test\n"
     ]
    },
    {
     "data": {
      "text/html": [
       "<div>\n",
       "<style scoped>\n",
       "    .dataframe tbody tr th:only-of-type {\n",
       "        vertical-align: middle;\n",
       "    }\n",
       "\n",
       "    .dataframe tbody tr th {\n",
       "        vertical-align: top;\n",
       "    }\n",
       "\n",
       "    .dataframe thead th {\n",
       "        text-align: right;\n",
       "    }\n",
       "</style>\n",
       "<table border=\"1\" class=\"dataframe\">\n",
       "  <thead>\n",
       "    <tr style=\"text-align: right;\">\n",
       "      <th></th>\n",
       "      <th>test</th>\n",
       "      <th>Average Pitch</th>\n",
       "      <th>Average Heading Range</th>\n",
       "    </tr>\n",
       "  </thead>\n",
       "  <tbody>\n",
       "    <tr>\n",
       "      <th>ec15a589-dd14-4513-a43e-8c06e55f4c71</th>\n",
       "      <td>0</td>\n",
       "      <td>-10.498908</td>\n",
       "      <td>48.859672</td>\n",
       "    </tr>\n",
       "    <tr>\n",
       "      <th>f13d2630-35fd-4a78-883d-d108be083425</th>\n",
       "      <td>0</td>\n",
       "      <td>-11.033826</td>\n",
       "      <td>56.778802</td>\n",
       "    </tr>\n",
       "    <tr>\n",
       "      <th>f5314ef9-3877-438c-ba65-ee2a2bbbf7f5</th>\n",
       "      <td>0</td>\n",
       "      <td>-18.239756</td>\n",
       "      <td>31.668148</td>\n",
       "    </tr>\n",
       "    <tr>\n",
       "      <th>fa0bbee4-b98d-4eb3-b6da-d9e9aa287f6c</th>\n",
       "      <td>0</td>\n",
       "      <td>-22.705145</td>\n",
       "      <td>183.747194</td>\n",
       "    </tr>\n",
       "  </tbody>\n",
       "</table>\n",
       "</div>"
      ],
      "text/plain": [
       "                                      test  Average Pitch  \\\n",
       "ec15a589-dd14-4513-a43e-8c06e55f4c71     0     -10.498908   \n",
       "f13d2630-35fd-4a78-883d-d108be083425     0     -11.033826   \n",
       "f5314ef9-3877-438c-ba65-ee2a2bbbf7f5     0     -18.239756   \n",
       "fa0bbee4-b98d-4eb3-b6da-d9e9aa287f6c     0     -22.705145   \n",
       "\n",
       "                                      Average Heading Range  \n",
       "ec15a589-dd14-4513-a43e-8c06e55f4c71              48.859672  \n",
       "f13d2630-35fd-4a78-883d-d108be083425              56.778802  \n",
       "f5314ef9-3877-438c-ba65-ee2a2bbbf7f5              31.668148  \n",
       "fa0bbee4-b98d-4eb3-b6da-d9e9aa287f6c             183.747194  "
      ]
     },
     "metadata": {},
     "output_type": "display_data"
    },
    {
     "name": "stdout",
     "output_type": "stream",
     "text": [
      "training\n"
     ]
    },
    {
     "data": {
      "text/html": [
       "<div>\n",
       "<style scoped>\n",
       "    .dataframe tbody tr th:only-of-type {\n",
       "        vertical-align: middle;\n",
       "    }\n",
       "\n",
       "    .dataframe tbody tr th {\n",
       "        vertical-align: top;\n",
       "    }\n",
       "\n",
       "    .dataframe thead th {\n",
       "        text-align: right;\n",
       "    }\n",
       "</style>\n",
       "<table border=\"1\" class=\"dataframe\">\n",
       "  <thead>\n",
       "    <tr style=\"text-align: right;\">\n",
       "      <th></th>\n",
       "      <th>test</th>\n",
       "      <th>Average Pitch</th>\n",
       "      <th>Average Heading Range</th>\n",
       "    </tr>\n",
       "  </thead>\n",
       "  <tbody>\n",
       "    <tr>\n",
       "      <th>0e1ae564-6d72-4670-98e4-71369cc5ab26</th>\n",
       "      <td>0</td>\n",
       "      <td>-21.159266</td>\n",
       "      <td>80.602521</td>\n",
       "    </tr>\n",
       "    <tr>\n",
       "      <th>1353d168-ab49-4474-ae8a-213eb2dafab5</th>\n",
       "      <td>0</td>\n",
       "      <td>-20.037270</td>\n",
       "      <td>51.053598</td>\n",
       "    </tr>\n",
       "    <tr>\n",
       "      <th>2d9009b3-55d5-4aa8-a17a-a7c80afc4d51</th>\n",
       "      <td>0</td>\n",
       "      <td>-22.913364</td>\n",
       "      <td>72.750053</td>\n",
       "    </tr>\n",
       "    <tr>\n",
       "      <th>35872a6c-d171-40d9-8e66-9242b835ea71</th>\n",
       "      <td>0</td>\n",
       "      <td>-17.094591</td>\n",
       "      <td>109.923155</td>\n",
       "    </tr>\n",
       "    <tr>\n",
       "      <th>49723673-044d-4b47-855b-3bdebfe37073</th>\n",
       "      <td>0</td>\n",
       "      <td>-23.614854</td>\n",
       "      <td>82.709347</td>\n",
       "    </tr>\n",
       "    <tr>\n",
       "      <th>54c77d0f-fc8f-4497-84d3-5e336047b17e</th>\n",
       "      <td>0</td>\n",
       "      <td>-22.372120</td>\n",
       "      <td>207.116265</td>\n",
       "    </tr>\n",
       "    <tr>\n",
       "      <th>6809bd6e-605f-4861-bc49-32e52c88c675</th>\n",
       "      <td>0</td>\n",
       "      <td>-12.331478</td>\n",
       "      <td>59.582813</td>\n",
       "    </tr>\n",
       "    <tr>\n",
       "      <th>715af4d8-0f17-47c4-99c6-7ef92d94803a</th>\n",
       "      <td>0</td>\n",
       "      <td>-19.731631</td>\n",
       "      <td>64.251512</td>\n",
       "    </tr>\n",
       "    <tr>\n",
       "      <th>7b1596af-14d4-4f2b-9e4e-71b1884db836</th>\n",
       "      <td>0</td>\n",
       "      <td>-22.002347</td>\n",
       "      <td>98.297571</td>\n",
       "    </tr>\n",
       "    <tr>\n",
       "      <th>86d26e9d-010f-4802-88ba-680ae0a8e20d</th>\n",
       "      <td>0</td>\n",
       "      <td>-11.129766</td>\n",
       "      <td>38.040449</td>\n",
       "    </tr>\n",
       "    <tr>\n",
       "      <th>87833d72-b357-4e2c-81cd-23f58ff04c59</th>\n",
       "      <td>0</td>\n",
       "      <td>-18.353221</td>\n",
       "      <td>166.083466</td>\n",
       "    </tr>\n",
       "    <tr>\n",
       "      <th>8a471c0f-fa81-4c57-9b65-bd04a92c6a5e</th>\n",
       "      <td>0</td>\n",
       "      <td>-16.949211</td>\n",
       "      <td>32.881213</td>\n",
       "    </tr>\n",
       "    <tr>\n",
       "      <th>9005a64a-fa73-4c84-b08b-b61eece1b9b7</th>\n",
       "      <td>0</td>\n",
       "      <td>-20.251933</td>\n",
       "      <td>155.589307</td>\n",
       "    </tr>\n",
       "    <tr>\n",
       "      <th>939b6faa-0b57-4160-bcc2-d11fd2b69d9f</th>\n",
       "      <td>0</td>\n",
       "      <td>-23.275519</td>\n",
       "      <td>106.101472</td>\n",
       "    </tr>\n",
       "    <tr>\n",
       "      <th>9b595ba6-529b-4d37-93d7-dd189184e15a</th>\n",
       "      <td>0</td>\n",
       "      <td>-16.466069</td>\n",
       "      <td>234.494342</td>\n",
       "    </tr>\n",
       "    <tr>\n",
       "      <th>ac272eb8-3bb3-4260-9960-8e6c463f3867</th>\n",
       "      <td>0</td>\n",
       "      <td>-24.774850</td>\n",
       "      <td>178.091364</td>\n",
       "    </tr>\n",
       "    <tr>\n",
       "      <th>af812204-1521-4c42-bf88-4baaaffe3f06</th>\n",
       "      <td>0</td>\n",
       "      <td>-26.430964</td>\n",
       "      <td>52.666623</td>\n",
       "    </tr>\n",
       "    <tr>\n",
       "      <th>bb64c416-b0bb-4a5b-b369-00f2a56fea3a</th>\n",
       "      <td>0</td>\n",
       "      <td>-29.143173</td>\n",
       "      <td>70.349131</td>\n",
       "    </tr>\n",
       "    <tr>\n",
       "      <th>bca24c1a-a6b1-4625-ab8e-9ff8693022d7</th>\n",
       "      <td>0</td>\n",
       "      <td>-23.448292</td>\n",
       "      <td>63.129521</td>\n",
       "    </tr>\n",
       "    <tr>\n",
       "      <th>bf16418a-4c99-4fd6-99c6-7e8b40fbe17b</th>\n",
       "      <td>0</td>\n",
       "      <td>-20.006998</td>\n",
       "      <td>85.671857</td>\n",
       "    </tr>\n",
       "    <tr>\n",
       "      <th>c7190807-b56e-40c5-b96e-49dc8368328c</th>\n",
       "      <td>0</td>\n",
       "      <td>-15.818322</td>\n",
       "      <td>209.102768</td>\n",
       "    </tr>\n",
       "    <tr>\n",
       "      <th>d3636d4c-2d16-410c-bf44-c066ecaf1c31</th>\n",
       "      <td>0</td>\n",
       "      <td>-22.239289</td>\n",
       "      <td>94.364528</td>\n",
       "    </tr>\n",
       "    <tr>\n",
       "      <th>dada416e-535f-4bb3-a213-172a8a94b581</th>\n",
       "      <td>0</td>\n",
       "      <td>-17.666649</td>\n",
       "      <td>199.111191</td>\n",
       "    </tr>\n",
       "    <tr>\n",
       "      <th>dce5984b-25d9-48f9-b8b7-640202b3be3c</th>\n",
       "      <td>0</td>\n",
       "      <td>-24.075949</td>\n",
       "      <td>151.635273</td>\n",
       "    </tr>\n",
       "    <tr>\n",
       "      <th>e4ff325c-309b-4ea6-8555-8f973e662362</th>\n",
       "      <td>0</td>\n",
       "      <td>-15.612335</td>\n",
       "      <td>161.540520</td>\n",
       "    </tr>\n",
       "  </tbody>\n",
       "</table>\n",
       "</div>"
      ],
      "text/plain": [
       "                                      test  Average Pitch  \\\n",
       "0e1ae564-6d72-4670-98e4-71369cc5ab26     0     -21.159266   \n",
       "1353d168-ab49-4474-ae8a-213eb2dafab5     0     -20.037270   \n",
       "2d9009b3-55d5-4aa8-a17a-a7c80afc4d51     0     -22.913364   \n",
       "35872a6c-d171-40d9-8e66-9242b835ea71     0     -17.094591   \n",
       "49723673-044d-4b47-855b-3bdebfe37073     0     -23.614854   \n",
       "54c77d0f-fc8f-4497-84d3-5e336047b17e     0     -22.372120   \n",
       "6809bd6e-605f-4861-bc49-32e52c88c675     0     -12.331478   \n",
       "715af4d8-0f17-47c4-99c6-7ef92d94803a     0     -19.731631   \n",
       "7b1596af-14d4-4f2b-9e4e-71b1884db836     0     -22.002347   \n",
       "86d26e9d-010f-4802-88ba-680ae0a8e20d     0     -11.129766   \n",
       "87833d72-b357-4e2c-81cd-23f58ff04c59     0     -18.353221   \n",
       "8a471c0f-fa81-4c57-9b65-bd04a92c6a5e     0     -16.949211   \n",
       "9005a64a-fa73-4c84-b08b-b61eece1b9b7     0     -20.251933   \n",
       "939b6faa-0b57-4160-bcc2-d11fd2b69d9f     0     -23.275519   \n",
       "9b595ba6-529b-4d37-93d7-dd189184e15a     0     -16.466069   \n",
       "ac272eb8-3bb3-4260-9960-8e6c463f3867     0     -24.774850   \n",
       "af812204-1521-4c42-bf88-4baaaffe3f06     0     -26.430964   \n",
       "bb64c416-b0bb-4a5b-b369-00f2a56fea3a     0     -29.143173   \n",
       "bca24c1a-a6b1-4625-ab8e-9ff8693022d7     0     -23.448292   \n",
       "bf16418a-4c99-4fd6-99c6-7e8b40fbe17b     0     -20.006998   \n",
       "c7190807-b56e-40c5-b96e-49dc8368328c     0     -15.818322   \n",
       "d3636d4c-2d16-410c-bf44-c066ecaf1c31     0     -22.239289   \n",
       "dada416e-535f-4bb3-a213-172a8a94b581     0     -17.666649   \n",
       "dce5984b-25d9-48f9-b8b7-640202b3be3c     0     -24.075949   \n",
       "e4ff325c-309b-4ea6-8555-8f973e662362     0     -15.612335   \n",
       "\n",
       "                                      Average Heading Range  \n",
       "0e1ae564-6d72-4670-98e4-71369cc5ab26              80.602521  \n",
       "1353d168-ab49-4474-ae8a-213eb2dafab5              51.053598  \n",
       "2d9009b3-55d5-4aa8-a17a-a7c80afc4d51              72.750053  \n",
       "35872a6c-d171-40d9-8e66-9242b835ea71             109.923155  \n",
       "49723673-044d-4b47-855b-3bdebfe37073              82.709347  \n",
       "54c77d0f-fc8f-4497-84d3-5e336047b17e             207.116265  \n",
       "6809bd6e-605f-4861-bc49-32e52c88c675              59.582813  \n",
       "715af4d8-0f17-47c4-99c6-7ef92d94803a              64.251512  \n",
       "7b1596af-14d4-4f2b-9e4e-71b1884db836              98.297571  \n",
       "86d26e9d-010f-4802-88ba-680ae0a8e20d              38.040449  \n",
       "87833d72-b357-4e2c-81cd-23f58ff04c59             166.083466  \n",
       "8a471c0f-fa81-4c57-9b65-bd04a92c6a5e              32.881213  \n",
       "9005a64a-fa73-4c84-b08b-b61eece1b9b7             155.589307  \n",
       "939b6faa-0b57-4160-bcc2-d11fd2b69d9f             106.101472  \n",
       "9b595ba6-529b-4d37-93d7-dd189184e15a             234.494342  \n",
       "ac272eb8-3bb3-4260-9960-8e6c463f3867             178.091364  \n",
       "af812204-1521-4c42-bf88-4baaaffe3f06              52.666623  \n",
       "bb64c416-b0bb-4a5b-b369-00f2a56fea3a              70.349131  \n",
       "bca24c1a-a6b1-4625-ab8e-9ff8693022d7              63.129521  \n",
       "bf16418a-4c99-4fd6-99c6-7e8b40fbe17b              85.671857  \n",
       "c7190807-b56e-40c5-b96e-49dc8368328c             209.102768  \n",
       "d3636d4c-2d16-410c-bf44-c066ecaf1c31              94.364528  \n",
       "dada416e-535f-4bb3-a213-172a8a94b581             199.111191  \n",
       "dce5984b-25d9-48f9-b8b7-640202b3be3c             151.635273  \n",
       "e4ff325c-309b-4ea6-8555-8f973e662362             161.540520  "
      ]
     },
     "metadata": {},
     "output_type": "display_data"
    },
    {
     "name": "stdout",
     "output_type": "stream",
     "text": [
      "test outputs\n"
     ]
    },
    {
     "data": {
      "text/html": [
       "<div>\n",
       "<style scoped>\n",
       "    .dataframe tbody tr th:only-of-type {\n",
       "        vertical-align: middle;\n",
       "    }\n",
       "\n",
       "    .dataframe tbody tr th {\n",
       "        vertical-align: top;\n",
       "    }\n",
       "\n",
       "    .dataframe thead th {\n",
       "        text-align: right;\n",
       "    }\n",
       "</style>\n",
       "<table border=\"1\" class=\"dataframe\">\n",
       "  <thead>\n",
       "    <tr style=\"text-align: right;\">\n",
       "      <th></th>\n",
       "      <th>Quality</th>\n",
       "      <th>Accuracy</th>\n",
       "    </tr>\n",
       "  </thead>\n",
       "  <tbody>\n",
       "    <tr>\n",
       "      <th>ec15a589-dd14-4513-a43e-8c06e55f4c71</th>\n",
       "      <td>0</td>\n",
       "      <td>59.688826</td>\n",
       "    </tr>\n",
       "    <tr>\n",
       "      <th>f13d2630-35fd-4a78-883d-d108be083425</th>\n",
       "      <td>1</td>\n",
       "      <td>68.800000</td>\n",
       "    </tr>\n",
       "    <tr>\n",
       "      <th>f5314ef9-3877-438c-ba65-ee2a2bbbf7f5</th>\n",
       "      <td>0</td>\n",
       "      <td>57.692308</td>\n",
       "    </tr>\n",
       "    <tr>\n",
       "      <th>fa0bbee4-b98d-4eb3-b6da-d9e9aa287f6c</th>\n",
       "      <td>1</td>\n",
       "      <td>82.175732</td>\n",
       "    </tr>\n",
       "  </tbody>\n",
       "</table>\n",
       "</div>"
      ],
      "text/plain": [
       "                                     Quality   Accuracy\n",
       "ec15a589-dd14-4513-a43e-8c06e55f4c71       0  59.688826\n",
       "f13d2630-35fd-4a78-883d-d108be083425       1  68.800000\n",
       "f5314ef9-3877-438c-ba65-ee2a2bbbf7f5       0  57.692308\n",
       "fa0bbee4-b98d-4eb3-b6da-d9e9aa287f6c       1  82.175732"
      ]
     },
     "metadata": {},
     "output_type": "display_data"
    },
    {
     "name": "stdout",
     "output_type": "stream",
     "text": [
      "training outputs\n"
     ]
    },
    {
     "data": {
      "text/html": [
       "<div>\n",
       "<style scoped>\n",
       "    .dataframe tbody tr th:only-of-type {\n",
       "        vertical-align: middle;\n",
       "    }\n",
       "\n",
       "    .dataframe tbody tr th {\n",
       "        vertical-align: top;\n",
       "    }\n",
       "\n",
       "    .dataframe thead th {\n",
       "        text-align: right;\n",
       "    }\n",
       "</style>\n",
       "<table border=\"1\" class=\"dataframe\">\n",
       "  <thead>\n",
       "    <tr style=\"text-align: right;\">\n",
       "      <th></th>\n",
       "      <th>Quality</th>\n",
       "      <th>Accuracy</th>\n",
       "    </tr>\n",
       "  </thead>\n",
       "  <tbody>\n",
       "    <tr>\n",
       "      <th>0e1ae564-6d72-4670-98e4-71369cc5ab26</th>\n",
       "      <td>1</td>\n",
       "      <td>73.426573</td>\n",
       "    </tr>\n",
       "    <tr>\n",
       "      <th>1353d168-ab49-4474-ae8a-213eb2dafab5</th>\n",
       "      <td>0</td>\n",
       "      <td>57.608696</td>\n",
       "    </tr>\n",
       "    <tr>\n",
       "      <th>2d9009b3-55d5-4aa8-a17a-a7c80afc4d51</th>\n",
       "      <td>1</td>\n",
       "      <td>84.680851</td>\n",
       "    </tr>\n",
       "    <tr>\n",
       "      <th>35872a6c-d171-40d9-8e66-9242b835ea71</th>\n",
       "      <td>0</td>\n",
       "      <td>63.341646</td>\n",
       "    </tr>\n",
       "    <tr>\n",
       "      <th>49723673-044d-4b47-855b-3bdebfe37073</th>\n",
       "      <td>1</td>\n",
       "      <td>83.499171</td>\n",
       "    </tr>\n",
       "    <tr>\n",
       "      <th>54c77d0f-fc8f-4497-84d3-5e336047b17e</th>\n",
       "      <td>0</td>\n",
       "      <td>42.857143</td>\n",
       "    </tr>\n",
       "    <tr>\n",
       "      <th>6809bd6e-605f-4861-bc49-32e52c88c675</th>\n",
       "      <td>0</td>\n",
       "      <td>54.117647</td>\n",
       "    </tr>\n",
       "    <tr>\n",
       "      <th>715af4d8-0f17-47c4-99c6-7ef92d94803a</th>\n",
       "      <td>1</td>\n",
       "      <td>80.273438</td>\n",
       "    </tr>\n",
       "    <tr>\n",
       "      <th>7b1596af-14d4-4f2b-9e4e-71b1884db836</th>\n",
       "      <td>1</td>\n",
       "      <td>74.939759</td>\n",
       "    </tr>\n",
       "    <tr>\n",
       "      <th>86d26e9d-010f-4802-88ba-680ae0a8e20d</th>\n",
       "      <td>0</td>\n",
       "      <td>41.433022</td>\n",
       "    </tr>\n",
       "    <tr>\n",
       "      <th>87833d72-b357-4e2c-81cd-23f58ff04c59</th>\n",
       "      <td>1</td>\n",
       "      <td>77.269800</td>\n",
       "    </tr>\n",
       "    <tr>\n",
       "      <th>8a471c0f-fa81-4c57-9b65-bd04a92c6a5e</th>\n",
       "      <td>0</td>\n",
       "      <td>46.153846</td>\n",
       "    </tr>\n",
       "    <tr>\n",
       "      <th>9005a64a-fa73-4c84-b08b-b61eece1b9b7</th>\n",
       "      <td>1</td>\n",
       "      <td>70.192308</td>\n",
       "    </tr>\n",
       "    <tr>\n",
       "      <th>939b6faa-0b57-4160-bcc2-d11fd2b69d9f</th>\n",
       "      <td>0</td>\n",
       "      <td>59.322034</td>\n",
       "    </tr>\n",
       "    <tr>\n",
       "      <th>9b595ba6-529b-4d37-93d7-dd189184e15a</th>\n",
       "      <td>1</td>\n",
       "      <td>77.197802</td>\n",
       "    </tr>\n",
       "    <tr>\n",
       "      <th>ac272eb8-3bb3-4260-9960-8e6c463f3867</th>\n",
       "      <td>1</td>\n",
       "      <td>80.932203</td>\n",
       "    </tr>\n",
       "    <tr>\n",
       "      <th>af812204-1521-4c42-bf88-4baaaffe3f06</th>\n",
       "      <td>1</td>\n",
       "      <td>79.462572</td>\n",
       "    </tr>\n",
       "    <tr>\n",
       "      <th>bb64c416-b0bb-4a5b-b369-00f2a56fea3a</th>\n",
       "      <td>1</td>\n",
       "      <td>84.827586</td>\n",
       "    </tr>\n",
       "    <tr>\n",
       "      <th>bca24c1a-a6b1-4625-ab8e-9ff8693022d7</th>\n",
       "      <td>1</td>\n",
       "      <td>65.800274</td>\n",
       "    </tr>\n",
       "    <tr>\n",
       "      <th>bf16418a-4c99-4fd6-99c6-7e8b40fbe17b</th>\n",
       "      <td>1</td>\n",
       "      <td>76.904762</td>\n",
       "    </tr>\n",
       "    <tr>\n",
       "      <th>c7190807-b56e-40c5-b96e-49dc8368328c</th>\n",
       "      <td>1</td>\n",
       "      <td>69.911504</td>\n",
       "    </tr>\n",
       "    <tr>\n",
       "      <th>d3636d4c-2d16-410c-bf44-c066ecaf1c31</th>\n",
       "      <td>0</td>\n",
       "      <td>56.410256</td>\n",
       "    </tr>\n",
       "    <tr>\n",
       "      <th>dada416e-535f-4bb3-a213-172a8a94b581</th>\n",
       "      <td>1</td>\n",
       "      <td>68.493151</td>\n",
       "    </tr>\n",
       "    <tr>\n",
       "      <th>dce5984b-25d9-48f9-b8b7-640202b3be3c</th>\n",
       "      <td>1</td>\n",
       "      <td>71.428571</td>\n",
       "    </tr>\n",
       "    <tr>\n",
       "      <th>e4ff325c-309b-4ea6-8555-8f973e662362</th>\n",
       "      <td>1</td>\n",
       "      <td>71.301587</td>\n",
       "    </tr>\n",
       "  </tbody>\n",
       "</table>\n",
       "</div>"
      ],
      "text/plain": [
       "                                     Quality   Accuracy\n",
       "0e1ae564-6d72-4670-98e4-71369cc5ab26       1  73.426573\n",
       "1353d168-ab49-4474-ae8a-213eb2dafab5       0  57.608696\n",
       "2d9009b3-55d5-4aa8-a17a-a7c80afc4d51       1  84.680851\n",
       "35872a6c-d171-40d9-8e66-9242b835ea71       0  63.341646\n",
       "49723673-044d-4b47-855b-3bdebfe37073       1  83.499171\n",
       "54c77d0f-fc8f-4497-84d3-5e336047b17e       0  42.857143\n",
       "6809bd6e-605f-4861-bc49-32e52c88c675       0  54.117647\n",
       "715af4d8-0f17-47c4-99c6-7ef92d94803a       1  80.273438\n",
       "7b1596af-14d4-4f2b-9e4e-71b1884db836       1  74.939759\n",
       "86d26e9d-010f-4802-88ba-680ae0a8e20d       0  41.433022\n",
       "87833d72-b357-4e2c-81cd-23f58ff04c59       1  77.269800\n",
       "8a471c0f-fa81-4c57-9b65-bd04a92c6a5e       0  46.153846\n",
       "9005a64a-fa73-4c84-b08b-b61eece1b9b7       1  70.192308\n",
       "939b6faa-0b57-4160-bcc2-d11fd2b69d9f       0  59.322034\n",
       "9b595ba6-529b-4d37-93d7-dd189184e15a       1  77.197802\n",
       "ac272eb8-3bb3-4260-9960-8e6c463f3867       1  80.932203\n",
       "af812204-1521-4c42-bf88-4baaaffe3f06       1  79.462572\n",
       "bb64c416-b0bb-4a5b-b369-00f2a56fea3a       1  84.827586\n",
       "bca24c1a-a6b1-4625-ab8e-9ff8693022d7       1  65.800274\n",
       "bf16418a-4c99-4fd6-99c6-7e8b40fbe17b       1  76.904762\n",
       "c7190807-b56e-40c5-b96e-49dc8368328c       1  69.911504\n",
       "d3636d4c-2d16-410c-bf44-c066ecaf1c31       0  56.410256\n",
       "dada416e-535f-4bb3-a213-172a8a94b581       1  68.493151\n",
       "dce5984b-25d9-48f9-b8b7-640202b3be3c       1  71.428571\n",
       "e4ff325c-309b-4ea6-8555-8f973e662362       1  71.301587"
      ]
     },
     "metadata": {},
     "output_type": "display_data"
    }
   ],
   "source": [
    "print('test')\n",
    "display(df_test)\n",
    "print('training')\n",
    "display(df_training)\n",
    "print('test outputs')\n",
    "display(df_test_output)\n",
    "print('training outputs')\n",
    "display(df_training_output)"
   ]
  },
  {
   "cell_type": "code",
   "execution_count": 938,
   "metadata": {},
   "outputs": [
    {
     "data": {
      "text/plain": [
       "SVC(C=100, cache_size=200, class_weight=None, coef0=0.0,\n",
       "    decision_function_shape='ovr', degree=3, gamma='auto', kernel='linear',\n",
       "    max_iter=-1, probability=False, random_state=None, shrinking=True,\n",
       "    tol=0.001, verbose=False)"
      ]
     },
     "execution_count": 938,
     "metadata": {},
     "output_type": "execute_result"
    }
   ],
   "source": [
    "# SVM Classifier model\n",
    "clf = svm.SVC(C = 100, gamma = 'auto', kernel = 'linear')\n",
    "clf.fit(df_training, df_training_output['Quality'])"
   ]
  },
  {
   "cell_type": "code",
   "execution_count": 925,
   "metadata": {},
   "outputs": [
    {
     "data": {
      "text/plain": [
       "SVR(C=100, cache_size=200, coef0=0.0, degree=3, epsilon=0.1, gamma='auto',\n",
       "    kernel='linear', max_iter=-1, shrinking=True, tol=0.001, verbose=False)"
      ]
     },
     "execution_count": 925,
     "metadata": {},
     "output_type": "execute_result"
    }
   ],
   "source": [
    "# SVM Regression Model\n",
    "clf = svm.SVR(C = 100, gamma = 'auto', kernel = 'linear')\n",
    "clf.fit(df_training, df_training_output['Accuracy'])"
   ]
  },
  {
   "cell_type": "code",
   "execution_count": 816,
   "metadata": {},
   "outputs": [],
   "source": [
    "# Tree Classifier\n",
    "clf = tree.DecisionTreeClassifier()\n",
    "clf = clf.fit(df_training, df_training_output['Quality'])"
   ]
  },
  {
   "cell_type": "code",
   "execution_count": 825,
   "metadata": {},
   "outputs": [],
   "source": [
    "# Tree Regressor\n",
    "clf = tree.DecisionTreeRegressor()\n",
    "clf = clf.fit(df_training, df_training_output['Accuracy'])"
   ]
  },
  {
   "cell_type": "code",
   "execution_count": 744,
   "metadata": {},
   "outputs": [],
   "source": [
    "# Removing features with low variance\n",
    "selector = VarianceThreshold(threshold=(.8 * (1 - .8)))\n",
    "df_training_new = selector.fit_transform(df_training)\n",
    "df_test_new = selector.transform(df_test)"
   ]
  },
  {
   "cell_type": "code",
   "execution_count": 935,
   "metadata": {},
   "outputs": [],
   "source": [
    "# SVM SelectFromModel feature selection\n",
    "selector = SelectFromModel(clf, prefit = True)\n",
    "df_training_new = selector.transform(df_training)"
   ]
  },
  {
   "cell_type": "code",
   "execution_count": 942,
   "metadata": {},
   "outputs": [],
   "source": [
    "# Tree Classifier SelectFromModel\n",
    "clf = ExtraTreesClassifier(n_estimators=50)\n",
    "clf = clf.fit(df_training, df_training_output['Quality'])\n",
    "clf.feature_importances_  \n",
    "selector = SelectFromModel(clf, prefit=True)\n",
    "df_training_new = selector.transform(df_training)"
   ]
  },
  {
   "cell_type": "code",
   "execution_count": 931,
   "metadata": {},
   "outputs": [],
   "source": [
    "# Tree Regressor SelectFromModel\n",
    "clf = ExtraTreesRegressor(n_estimators=50)\n",
    "clf = clf.fit(df_training, df_training_output['Accuracy'])\n",
    "clf.feature_importances_  \n",
    "selector = SelectFromModel(clf, prefit=True)\n",
    "df_training_new = selector.transform(df_training)"
   ]
  },
  {
   "cell_type": "code",
   "execution_count": 943,
   "metadata": {},
   "outputs": [
    {
     "data": {
      "text/plain": [
       "0.75"
      ]
     },
     "execution_count": 943,
     "metadata": {},
     "output_type": "execute_result"
    }
   ],
   "source": [
    "clf.score(df_test, df_test_output['Quality'])"
   ]
  },
  {
   "cell_type": "code",
   "execution_count": 944,
   "metadata": {},
   "outputs": [
    {
     "data": {
      "text/plain": [
       "array(['0', '0', '0', '1'], dtype=object)"
      ]
     },
     "execution_count": 944,
     "metadata": {},
     "output_type": "execute_result"
    }
   ],
   "source": [
    "# Test for the svm models\n",
    "clf.predict(df_test)"
   ]
  },
  {
   "cell_type": "code",
   "execution_count": 936,
   "metadata": {},
   "outputs": [
    {
     "data": {
      "text/plain": [
       "array([[-21.15926587,  80.60252065],\n",
       "       [-20.03727004,  51.05359774],\n",
       "       [-22.91336388,  72.75005308],\n",
       "       [-17.09459131, 109.92315493],\n",
       "       [-23.61485445,  82.70934696],\n",
       "       [-22.37212006, 207.1162646 ],\n",
       "       [-12.3314785 ,  59.582813  ],\n",
       "       [-19.73163131,  64.25151153],\n",
       "       [-22.00234683,  98.29757135],\n",
       "       [-11.12976559,  38.04044879],\n",
       "       [-18.35322109, 166.08346594],\n",
       "       [-16.94921142,  32.88121308],\n",
       "       [-20.25193315, 155.5893069 ],\n",
       "       [-23.27551912, 106.10147228],\n",
       "       [-16.46606908, 234.49434241],\n",
       "       [-24.77485008, 178.09136432],\n",
       "       [-26.43096405,  52.66662288],\n",
       "       [-29.14317321,  70.34913129],\n",
       "       [-23.4482917 ,  63.12952124],\n",
       "       [-20.00699802,  85.67185736],\n",
       "       [-15.81832203, 209.10276806],\n",
       "       [-22.23928934,  94.36452846],\n",
       "       [-17.666649  , 199.11119076],\n",
       "       [-24.07594897, 151.63527289],\n",
       "       [-15.61233502, 161.54052   ]])"
      ]
     },
     "metadata": {},
     "output_type": "display_data"
    }
   ],
   "source": [
    "display(df_training_new)"
   ]
  },
  {
   "cell_type": "code",
   "execution_count": 916,
   "metadata": {},
   "outputs": [
    {
     "data": {
      "text/plain": [
       "<matplotlib.collections.PathCollection at 0x1a319919b0>"
      ]
     },
     "execution_count": 916,
     "metadata": {},
     "output_type": "execute_result"
    },
    {
     "data": {
      "image/png": "[encoded data removed]",
      "text/plain": [
       "<Figure size 432x288 with 1 Axes>"
      ]
     },
     "metadata": {
      "needs_background": "light"
     },
     "output_type": "display_data"
    }
   ],
   "source": [
    "\n",
    "plt.scatter('Average Heading Range', 'Accuracy', data = df_joined_training, c = (df_joined_training['Quality'] == '1'))"
   ]
  },
  {
   "cell_type": "code",
   "execution_count": 918,
   "metadata": {},
   "outputs": [
    {
     "data": {
      "text/plain": [
       "<matplotlib.collections.PathCollection at 0x1a33fd0128>"
      ]
     },
     "execution_count": 918,
     "metadata": {},
     "output_type": "execute_result"
    },
    {
     "data": {
      "image/png": "[encoded data removed]",
      "text/plain": [
       "<Figure size 432x288 with 1 Axes>"
      ]
     },
     "metadata": {
      "needs_background": "light"
     },
     "output_type": "display_data"
    }
   ],
   "source": [
    "# Shows Test Data\n",
    "plt.scatter('Average Heading Range', 'Accuracy', data = df_joined_test, c = (df_joined_test['Quality'] == '1'))"
   ]
  },
  {
   "cell_type": "code",
   "execution_count": 919,
   "metadata": {},
   "outputs": [
    {
     "data": {
      "text/plain": [
       "<matplotlib.collections.PathCollection at 0x1a2b21f898>"
      ]
     },
     "execution_count": 919,
     "metadata": {},
     "output_type": "execute_result"
    },
    {
     "data": {
      "image/png": "[encoded data removed]",
      "text/plain": [
       "<Figure size 432x288 with 1 Axes>"
      ]
     },
     "metadata": {
      "needs_background": "light"
     },
     "output_type": "display_data"
    }
   ],
   "source": [
    "# Shows all data\n",
    "plt.scatter('Average Heading Range', 'Accuracy', data = df_joined_training, c = (df_joined_training['Quality'] == '1'))\n",
    "plt.scatter('Average Heading Range', 'Accuracy', data = df_joined_test, c = (df_joined_test['Quality'] == '1'))"
   ]
  },
  {
   "cell_type": "code",
   "execution_count": 313,
   "metadata": {},
   "outputs": [],
   "source": [
    "df_finished_labeling = pd.read_csv('LabelingCanvas_FinishLabeling.csv')\n",
    "df_all_labels = pd.read_csv('ml-label-correctness.csv')"
   ]
  },
  {
   "cell_type": "code",
   "execution_count": 329,
   "metadata": {},
   "outputs": [],
   "source": [
    "df_finished_labeling.set_index(['audit_task_id', 'temporary_label_id'], inplace=True)\n",
    "df_all_labels.set_index(['audit_task_id', 'temporary_label_id'], inplace=True)\n",
    "df_all_labels.drop(columns=('user_id'), inplace=True)"
   ]
  },
  {
   "cell_type": "code",
   "execution_count": 388,
   "metadata": {},
   "outputs": [],
   "source": [
    "df_joined = df_finished_labeling.join(df_all_labels)\n",
    "df_joined = df_joined[~pd.isna(df_joined['correct'])]\n",
    "df_joined = df_joined[df_joined['lat'] > 46]\n",
    "df_joined.to_csv('all_labels.csv', encoding='utf-8', index=False)"
   ]
  },
  {
   "cell_type": "code",
   "execution_count": 385,
   "metadata": {},
   "outputs": [],
   "source": [
    "# Creates a csv of all of the labels of each users\n",
    "for current_user in users['user_id']:\n",
    "    current_correctness = df_joined[df_joined['user_id'] == current_user]\n",
    "    current_correctness.to_csv('{0}_correctness.csv'.format(current_user), encoding='utf-8', index=False)"
   ]
  },
  {
   "cell_type": "code",
   "execution_count": 395,
   "metadata": {
    "scrolled": false
   },
   "outputs": [
    {
     "data": {
      "text/plain": [
       "<matplotlib.collections.PathCollection at 0x1a35131b38>"
      ]
     },
     "execution_count": 395,
     "metadata": {},
     "output_type": "execute_result"
    },
    {
     "data": {
      "image/png": "[encoded data removed]",
      "text/plain": [
       "<Figure size 576x864 with 1 Axes>"
      ]
     },
     "metadata": {
      "needs_background": "light"
     },
     "output_type": "display_data"
    }
   ],
   "source": [
    "# Plots all validated labels\n",
    "plt.figure(figsize=(8, 12))\n",
    "plt.scatter(df_joined['lng'], df_joined['lat'], c = (df_joined['correct'] == 't'))"
   ]
  },
  {
   "cell_type": "code",
   "execution_count": null,
   "metadata": {},
   "outputs": [],
   "source": []
  }
 ],
 "metadata": {
  "kernelspec": {
   "display_name": "Python 3",
   "language": "python",
   "name": "python3"
  },
  "language_info": {
   "codemirror_mode": {
    "name": "ipython",
    "version": 3
   },
   "file_extension": ".py",
   "mimetype": "text/x-python",
   "name": "python",
   "nbconvert_exporter": "python",
   "pygments_lexer": "ipython3",
   "version": "3.7.3"
  }
 },
 "nbformat": 4,
 "nbformat_minor": 2
}
