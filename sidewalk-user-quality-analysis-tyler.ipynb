{
 "cells": [
  {
   "cell_type": "markdown",
   "metadata": {},
   "source": [
    "Two high-level analyses:\n",
    "- Predict performance (accuracy) using a regression\n",
    "- Classify users into 'bad' vs 'good'--still need to define this but perhaps the threshold is any user < 70% and any user >= 70%\n",
    "\n",
    "For github issues and brainstorming features and analyses, use github:\n",
    "- https://github.com/ProjectSidewalk/sidewalk-quality-analysis/issues"
   ]
  },
  {
   "cell_type": "code",
   "execution_count": 124,
   "metadata": {
    "scrolled": true
   },
   "outputs": [],
   "source": [
    "import pandas as pd\n",
    "import matplotlib.pyplot as plt\n",
    "import numpy as np\n",
    "from dateutil import parser as parser\n",
    "import time\n",
    "from datetime import datetime, timezone\n",
    "import csv\n",
    "from sklearn import svm\n",
    "users = pd.read_csv('ml-users.csv')"
   ]
  },
  {
   "cell_type": "code",
   "execution_count": 3,
   "metadata": {},
   "outputs": [],
   "source": [
    "# parses through each user's csv and figures out how many unique panos and missions seen\n",
    "user_panos = {}\n",
    "user_missions = {}\n",
    "for current_user in users['user_id']:\n",
    "    df_current = pd.read_csv('{0}.csv'.format(current_user))\n",
    "    user_panos[current_user] = df_current['gsv_panorama_id'].nunique()\n",
    "    user_missions[current_user] = df_current['mission_id'].nunique()\n",
    "df_current = None"
   ]
  },
  {
   "cell_type": "code",
   "execution_count": 245,
   "metadata": {},
   "outputs": [],
   "source": [
    "user_times = pd.read_csv('user_times.csv')"
   ]
  },
  {
   "cell_type": "code",
   "execution_count": 244,
   "metadata": {},
   "outputs": [
    {
     "data": {
      "text/plain": [
       "'00:42:33.5'"
      ]
     },
     "metadata": {},
     "output_type": "display_data"
    },
    {
     "ename": "TypeError",
     "evalue": "can't subtract offset-naive and offset-aware datetimes",
     "output_type": "error",
     "traceback": [
      "\u001b[0;31m---------------------------------------------------------------------------\u001b[0m",
      "\u001b[0;31mTypeError\u001b[0m                                 Traceback (most recent call last)",
      "\u001b[0;32m<ipython-input-244-44e89a488908>\u001b[0m in \u001b[0;36m<module>\u001b[0;34m\u001b[0m\n\u001b[1;32m     17\u001b[0m             \u001b[0mtime_total\u001b[0m \u001b[0;34m=\u001b[0m \u001b[0mtime_total\u001b[0m \u001b[0;34m+\u001b[0m \u001b[0;34m(\u001b[0m\u001b[0mmax\u001b[0m\u001b[0;34m(\u001b[0m\u001b[0mcurrent_times\u001b[0m\u001b[0;34m)\u001b[0m \u001b[0;34m-\u001b[0m \u001b[0mmin\u001b[0m\u001b[0;34m(\u001b[0m\u001b[0mcurrent_times\u001b[0m\u001b[0;34m)\u001b[0m\u001b[0;34m)\u001b[0m\u001b[0;34m\u001b[0m\u001b[0;34m\u001b[0m\u001b[0m\n\u001b[1;32m     18\u001b[0m         \u001b[0mdisplay\u001b[0m\u001b[0;34m(\u001b[0m\u001b[0mtime\u001b[0m\u001b[0;34m)\u001b[0m\u001b[0;34m\u001b[0m\u001b[0;34m\u001b[0m\u001b[0m\n\u001b[0;32m---> 19\u001b[0;31m         \u001b[0mcurrent_times\u001b[0m \u001b[0;34m=\u001b[0m \u001b[0;34m[\u001b[0m\u001b[0;34m(\u001b[0m\u001b[0mdatetime\u001b[0m\u001b[0;34m.\u001b[0m\u001b[0mnow\u001b[0m\u001b[0;34m(\u001b[0m\u001b[0mtimezone\u001b[0m\u001b[0;34m.\u001b[0m\u001b[0mutc\u001b[0m\u001b[0;34m)\u001b[0m \u001b[0;34m-\u001b[0m \u001b[0mparser\u001b[0m\u001b[0;34m.\u001b[0m\u001b[0mparse\u001b[0m\u001b[0;34m(\u001b[0m\u001b[0mtime\u001b[0m\u001b[0;34m)\u001b[0m\u001b[0;34m)\u001b[0m\u001b[0;34m.\u001b[0m\u001b[0mtotal_seconds\u001b[0m\u001b[0;34m(\u001b[0m\u001b[0;34m)\u001b[0m\u001b[0;34m]\u001b[0m\u001b[0;34m\u001b[0m\u001b[0;34m\u001b[0m\u001b[0m\n\u001b[0m\u001b[1;32m     20\u001b[0m         \u001b[0mcurrent_mission\u001b[0m \u001b[0;34m=\u001b[0m \u001b[0mdf_current\u001b[0m\u001b[0;34m[\u001b[0m\u001b[0;34m'mission_id'\u001b[0m\u001b[0;34m]\u001b[0m\u001b[0;34m.\u001b[0m\u001b[0miloc\u001b[0m\u001b[0;34m[\u001b[0m\u001b[0mindex\u001b[0m\u001b[0;34m]\u001b[0m\u001b[0;34m\u001b[0m\u001b[0;34m\u001b[0m\u001b[0m\n\u001b[1;32m     21\u001b[0m     \u001b[0;32melse\u001b[0m\u001b[0;34m:\u001b[0m\u001b[0;34m\u001b[0m\u001b[0;34m\u001b[0m\u001b[0m\n",
      "\u001b[0;31mTypeError\u001b[0m: can't subtract offset-naive and offset-aware datetimes"
     ]
    }
   ],
   "source": [
    "# parses through each user's csv and figures out the total time spent labeling based off of\n",
    "# start and end time of a mission\n",
    "temp = {}\n",
    "current_times = []\n",
    "current_mission = ''\n",
    "time_total = 0\n",
    "#for current_user in users['user_id']:\n",
    "current_user = 'fa0bbee4-b98d-4eb3-b6da-d9e9aa287f6c'\n",
    "df_current = pd.read_csv('{0}.csv'.format(current_user))\n",
    "for index, time in enumerate(df_current['timestamp']):\n",
    "#     if index < 10000:\n",
    "#         display(time)\n",
    "    if time.count(':') == 1:\n",
    "            time = '00:'+ time\n",
    "    if df_current['mission_id'].iloc[index] != current_mission:\n",
    "        if len(current_times) > 0:\n",
    "            time_total = time_total + (max(current_times) - min(current_times))\n",
    "        display(time)\n",
    "        current_times = [(datetime.now(timezone.utc) - parser.parse(time)).total_seconds()]\n",
    "        current_mission = df_current['mission_id'].iloc[index]\n",
    "    else:\n",
    "        current_times.append((datetime.now(timezone.utc) - parser.parse(time)).total_seconds())\n",
    "    temp[current_user] = time_total"
   ]
  },
  {
   "cell_type": "code",
   "execution_count": 138,
   "metadata": {},
   "outputs": [],
   "source": [
    "# Creates a csv of the total amount of time that the \n",
    "time_header = ['user_id', 'total_time_spent']\n",
    "with open('user_times.csv', 'w', newline = '') as new_user:\n",
    "    writer = csv.writer(new_user)\n",
    "    writer.writerow(time_header)\n",
    "with open('user_times.csv', 'a', newline = '') as edit_user:\n",
    "    editor = csv.writer(edit_user)\n",
    "    for entry in user_times.keys():\n",
    "        editor.writerow([entry, user_times[entry]])"
   ]
  },
  {
   "cell_type": "code",
   "execution_count": 204,
   "metadata": {},
   "outputs": [],
   "source": [
    "# df_interactions = pd.read_csv('ml-interactions.tar.gz', compression='gzip') # load the full gzip tarball\n",
    "# #df_interactions = pd.read_csv('ml-interactions15000.csv')\n",
    "\n",
    "# # Do a little cleanup...\n",
    "# # In my initial analysis, i found that at least one row has a NaN value for an 'action' field. This should\n",
    "# # not happen. So, let's find that row (and others) that have this problem and remove them\n",
    "\n",
    "# # pd.isna checks for missing values (NaN values). It returns a boolean array where the index corresponds to\n",
    "# # row and the value corresponds to True/False indicating whether there is a NaN value\n",
    "# isna_result = pd.isna(df_interactions['action'])\n",
    "\n",
    "# print(\"Printing all rows where 'action' == NaN...\")\n",
    "# display(df_interactions[isna_result])\n",
    "# df_interactions= df_interactions[~isna_result] # we want all rows where isna is False (that is, all rows *without* a NaN for 'action')\n",
    "\n",
    "# # As a test, we can again look for NaN 'action' cells\n",
    "# isna_result = pd.isna(df_interactions['action'])\n",
    "# print(\"Printing all rows where 'action' == NaN... there should be no rows\")\n",
    "# display(df_interactions[isna_result])\n",
    "\n",
    "# small represents the first 50000 actions logged to be able to test a smaller subset\n",
    "# small= df_interactions[:50000]"
   ]
  },
  {
   "cell_type": "code",
   "execution_count": 68,
   "metadata": {},
   "outputs": [],
   "source": [
    "# Takes in the row and appends the row into the given file\n",
    "def file_appender(row, created, user_info):\n",
    "    if user_info not in created:\n",
    "        with open('{0}.csv'.format(user_info), 'w', newline = '') as new_user:\n",
    "            writer = csv.writer(new_user)\n",
    "            created.append(user_info)\n",
    "            writer.writerow(header)\n",
    "    with open('{0}.csv'.format(user_info), 'a', newline = '') as edit_user:\n",
    "        editor = csv.writer(edit_user)\n",
    "        editor.writerow(row)\n",
    "    return created"
   ]
  },
  {
   "cell_type": "code",
   "execution_count": 140,
   "metadata": {},
   "outputs": [],
   "source": [
    "# Parses through the csv and creates new csv for every user_id & event\n",
    "with open('ml-interactions.csv', newline = '') as data:\n",
    "    reader = csv.reader(data)\n",
    "    header = []\n",
    "    users_created = []\n",
    "    events_created = []\n",
    "    for row in reader:\n",
    "        if row[1] == 'user_id':\n",
    "            header = row\n",
    "        else:\n",
    "            user_id = row[1]\n",
    "            current_event = row[4]\n",
    "            users_created = file_appender(row, users_created, user_id)\n",
    "            events_created = file_appender(row, events_created, current_event)"
   ]
  },
  {
   "cell_type": "code",
   "execution_count": 3,
   "metadata": {},
   "outputs": [],
   "source": [
    "# # This fucntion iterates over the desired dataset and returns all of the logged events\n",
    "# # that contains the desired action\n",
    "# def find_action(args, use_subset = False):        \n",
    "#     for index, word in enumerate(args):  \n",
    "#         if use_subset:\n",
    "#             if index == 0:\n",
    "#                 df_information = small[small['action'].str.contains(word)]\n",
    "#             else:\n",
    "#                 frames = [df_information, small[small['action'].str.contains(word)]]\n",
    "#                 df_information = pd.concat(frames)\n",
    "#         else:\n",
    "#             if index == 0:\n",
    "#                 df_information = df_interactions[df_interactions['action'].str.contains(word)]\n",
    "#             else:\n",
    "#                 frames = [df_information, df_interactions[df_interactions['action'].str.contains(word)]]\n",
    "#                 df_information = pd.concat(frames)\n",
    "#     return df_information"
   ]
  },
  {
   "cell_type": "code",
   "execution_count": 299,
   "metadata": {},
   "outputs": [],
   "source": [
    "# Used to create a correlation between accuracy and the info type that was given\n",
    "# It accepts a string for the actions that will be used to record the info type\n",
    "# graph_type determines how the information is shown and multi_plot determines if it can\n",
    "# be shows in per panos & per mission. Time graph determines if it is measured by minute\n",
    "# Unsure why but when measuring time, the user fa0bbee4-b98d-4eb3-b6da-d9e9aa287f6c has\n",
    "# a way higher value than all other users, unsure why\n",
    "def counting_graph (info_type, graph_type, multi_plot, action, time, period):\n",
    "    user_information = {}\n",
    "    df_information = pd.read_csv('{0}.csv'.format(action))\n",
    "    df_actions_grouped = df_information.groupby(['user_id'])\n",
    "    time_period = 1\n",
    "    if period == 'Minutes':\n",
    "        time_period = 60\n",
    "    elif period == 'Hours':\n",
    "        time_period = 3600\n",
    "    for index, current_id in enumerate(df_actions_grouped.groups):\n",
    "        users_index = (users['user_id'] == current_id).idxmax()\n",
    "        if time and index < 15:\n",
    "            user_information[current_id] = len(df_actions_grouped.get_group(current_id)) / (user_times['total_time_spent'][users_index] / time_period), users[' accuracy'][users_index]\n",
    "        elif not time:\n",
    "            user_information[current_id] = len(df_actions_grouped.get_group(current_id)), users[' accuracy'][users_index]\n",
    "    for index, current_user in enumerate(users['user_id']):\n",
    "        if current_user not in user_information:\n",
    "            user_information[current_user] = 0, users[' accuracy'][index]\n",
    "    if graph_type == 'scatter_plot':\n",
    "        scatter_plot(info_type, user_information, multi_plot, time, period)\n",
    "    elif graph_type == 'histogram':\n",
    "        histogram(info_type, user_information)"
   ]
  },
  {
   "cell_type": "code",
   "execution_count": 184,
   "metadata": {},
   "outputs": [],
   "source": [
    "# def time_graph (info_type, multi_plot, action):\n",
    "#     user_information = {}\n",
    "#     df_information = pd.read_csv('{0}.csv'.format(action))\n",
    "#     df_actions_grouped = df_information.groupby(['user_id'])\n",
    "#     for index, current_id in enumerate(df_actions_grouped.groups):\n",
    "#         users_index = (users['user_id'] == current_id).idxmax()\n",
    "#         user_information[current_id] = len(df_actions_grouped.get_group(current_id)) / (user_times[current_id] / 60), users[' accuracy'][users_index]\n",
    "#     for index, current_user in enumerate(users['user_id']):\n",
    "#         if current_user not in user_information:\n",
    "#             user_information[current_user] = 0, users[' accuracy'][index]\n",
    "#     scatter_plot(info_type, user_information, multi_plot, True)"
   ]
  },
  {
   "cell_type": "code",
   "execution_count": 5,
   "metadata": {},
   "outputs": [],
   "source": [
    "# In progress\n",
    "def range_graph(info_type, graph_type, action):\n",
    "    user_information = {}\n",
    "    df_information = pd.read_csv('{0}.csv'.format(action))\n",
    "    df_actions_grouped = df_information.groupby(['user_id'])\n",
    "    for index, current_id in enumerate(df_actions_grouped.groups):\n",
    "        current_min = df_actions_grouped.get_group(current_id).min()\n",
    "        current_max = df_actions_grouped.get_group(current_id).max()\n",
    "        current_accuracy = users[' accuracy'][index]\n",
    "        user_information[current_id] = current_max - current_min, current_accuracy\n",
    "    if graph_type == 'scatter_plot' :\n",
    "        scatter_plot(info_type, user_information, False)"
   ]
  },
  {
   "cell_type": "code",
   "execution_count": 27,
   "metadata": {},
   "outputs": [],
   "source": [
    "# # Determines the average time it takes for a certain action to occur per second and per\n",
    "# # either panos or mission\n",
    "# # The type of information is found using the action logged\n",
    "# # Currently takes too long and doesn't run all the way, even when only processing only \n",
    "# # Per panos or per mission\n",
    "# def time_graph(info_type, action):\n",
    "#     df_info = pd.read_csv('{0}.csv'.format(action))\n",
    "#     df_per_pano = df_info.groupby(['user_id', 'gsv_panorama_id'])\n",
    "#     df_per_mission = df_info.groupby(['user_id','mission_id'])\n",
    "#     user_info = {}\n",
    "#     current_group_times = []\n",
    "#     for name,group_pano in df_per_pano:\n",
    "#         for current_datetime in group_pano['timestamp']:\n",
    "#             current_group_times.append(parser.parse(current_datetime))\n",
    "#         if name[0] in user_info:\n",
    "#             user_info[name[0]] = user_info[name[0]][0] + (max(current_group_times) - min(current_group_times)).total_seconds(), 0\n",
    "#         else:\n",
    "#             user_info[name[0]] = (max(current_group_times) - min(current_group_times)).total_seconds(), 0\n",
    "#     for name,group_mission in df_per_mission:\n",
    "#         for current_datetime in group_mission['timestamp']:\n",
    "#             current_group_times.append(parser.parse(current_datetime))\n",
    "#         user_info[name[0]][1] = user_info[name[0]][1] + (max(current_group_times) - min(current_group_times)).total_seconds()\n",
    "#     time_scatter_plot(info_type, user_info)"
   ]
  },
  {
   "cell_type": "code",
   "execution_count": 29,
   "metadata": {},
   "outputs": [],
   "source": [
    "# def time_graph(info_type, action):\n",
    "#     df_information = pd.read_csv('{0}.csv'.format(action))\n",
    "#     df_actions_grouped = df_information.groupby(['user_id'])\n",
    "#     user_info = {}\n",
    "#     current_pano_times = []\n",
    "#     current_mission_times = []\n",
    "#     current_pano = ''\n",
    "#     current_mission = ''\n",
    "#     pano_time_total = 0\n",
    "#     mission_time_total = 0\n",
    "#     count = 0\n",
    "#     for name, current_group in df_actions_grouped:\n",
    "#         for index, time in enumerate(current_group['timestamp']):\n",
    "# #             if count < 1:\n",
    "# #                 count += 1\n",
    "# #                 display(current_group['gsv_panorama_id'])\n",
    "# #                 display(current_group['gsv_panorama_id'].keys())\n",
    "#             if current_group['gsv_panorama_id'].index[index] != current_pano:\n",
    "#                 if len(current_pano_times) > 0:\n",
    "#                     pano_time_total = pano_time_total + (max(current_pano_times) - min(current_pano_times))\n",
    "#                 current_pano_times.append((parser.parse(time) - datetime.now(timezone.utc)).total_seconds())\n",
    "#                 current_pano = current_group['gsv_panorama_id'].index[index]\n",
    "#             else:\n",
    "#                 read_time = (parser.parse(time) - datetime.now(timezone.utc)).total_seconds()\n",
    "#                 current_pano_times.append(read_time)\n",
    "#             if current_group['mission_id'].index[index] != current_mission:\n",
    "#                 if len(current_mission_times) > 0:\n",
    "#                     mission_time_total = mission_time_total + (max(current_mission_times) - min(current_mission_times))\n",
    "#                 current_mission_times.append((parser.parse(time) - datetime.now(timezone.utc)).total_seconds())\n",
    "#                 current_mission = current_group['mission_id'].index[index]\n",
    "#             else:\n",
    "#                 current_mission_times.append((parser.parse(time) - datetime.now(timezone.utc)).total_seconds())  \n",
    "#         user_info[name] = pano_time_total, mission_time_total\n",
    "# #     time_scatter_plot(info_type, user_info)"
   ]
  },
  {
   "cell_type": "code",
   "execution_count": 6,
   "metadata": {},
   "outputs": [],
   "source": [
    "# def time_graph(info_type, action):\n",
    "#     df_information = pd.read_csv('{0}.csv'.format(action))\n",
    "#     df_actions_grouped = df_information.groupby(['user_id'])\n",
    "#     user_info = {}\n",
    "#     for name, current_group in df_actions_grouped:\n",
    "#         current_times = []\n",
    "#         current_mission = ''\n",
    "#         time_total = 0\n",
    "#         for index, time in enumerate(current_group['timestamp']):\n",
    "#             if current_group['mission_id'].iloc[index] != current_mission:\n",
    "#                 if len(current_times) > 0:\n",
    "#                     time_total = time_total + (max(current_times) - min(current_times))\n",
    "#                 current_times = [(datetime.now(timezone.utc) - parser.parse(time)).total_seconds()]\n",
    "#                 current_mission = current_group['mission_id'].iloc[index]\n",
    "#             else:\n",
    "#                 current_times.append((datetime.now(timezone.utc) - parser.parse(time)).total_seconds())  \n",
    "#         user_info[name] = time_total\n",
    "#     time_scatter_plot(info_type, user_info)"
   ]
  },
  {
   "cell_type": "code",
   "execution_count": 147,
   "metadata": {},
   "outputs": [],
   "source": [
    "# # Creates a scatter plot relating accuracy and the occurance of an action per second per\n",
    "# # panos or mission\n",
    "# def time_scatter_plot(info_type, user_info, multi_plot):\n",
    "#     f, axs = plt.subplots(1,2,figsize=(12,4))\n",
    "#     plt.subplot(122)\n",
    "#     plt.ylabel('User Accuracy')\n",
    "#     plt.xlabel(info_type + ' per second per Pano')\n",
    "#     for index, entry in enumerate(user_info.keys()):\n",
    "#         current_info = user_info.get(entry)\n",
    "#         info = float(current_info[0])\n",
    "#         accuracy = users[' accuracy'][index]\n",
    "#         if accuracy > 65:\n",
    "#             plt.plot(info, accuracy, '.', color = 'blue')\n",
    "#         else:\n",
    "#             plt.plot(info, accuracy, '.', color = 'red')\n",
    "#     plt.subplot(121)\n",
    "#     plt.ylabel('User Accuracy')\n",
    "#     plt.xlabel(info_type + ' per second per Mission Started')\n",
    "#     for index, entry in enumerate(user_info.keys()):\n",
    "#         current_info = user_info.get(entry)\n",
    "#         info = float(current_info[1])\n",
    "#         accuracy = users[' accuracy'][index]\n",
    "#         if accuracy > 65:\n",
    "#             plt.plot(info, accuracy, '.', color = 'blue')\n",
    "#         else:\n",
    "#             plt.plot(info, accuracy, '.', color = 'red')"
   ]
  },
  {
   "cell_type": "code",
   "execution_count": 301,
   "metadata": {},
   "outputs": [],
   "source": [
    "# Creates a scatter plot of the information given, if multi_plot is true then it is also\n",
    "# divided by the number of unique panos seens and missions started\n",
    "def scatter_plot(info_type, user_information, multi_plot, per_time, period):\n",
    "    if multi_plot:\n",
    "        f, axs = plt.subplots(1,3,figsize=(12,4))\n",
    "        plt.subplot(133)\n",
    "        plt.ylabel('User Accuracy')\n",
    "        if per_time:\n",
    "            plt.xlabel(info_type + ' per ' + period + ' per Pano')\n",
    "        else:\n",
    "            plt.xlabel(info_type + ' per Pano')\n",
    "        for entry in user_information.keys():\n",
    "            user_info = user_information.get(entry)\n",
    "            info = float(user_info[0]) / float(user_panos[entry])\n",
    "            accuracy = user_info[1]\n",
    "            if accuracy > 65:\n",
    "                plt.plot(info, accuracy, '.', color = 'blue')\n",
    "            else:\n",
    "                plt.plot(info, accuracy, '.', color = 'red')\n",
    "        plt.subplot(132)\n",
    "        plt.ylabel('User Accuracy')\n",
    "        if per_time:\n",
    "            plt.xlabel(info_type + ' per ' + period + ' per Mission Started')\n",
    "        else:\n",
    "            plt.xlabel(info_type + ' per Mission Started')\n",
    "        for entry in user_information.keys():\n",
    "            user_info = user_information.get(entry)\n",
    "            info = float(user_info[0]) / float(user_missions[entry])\n",
    "            accuracy = user_info[1]\n",
    "            if accuracy > 65:\n",
    "                plt.plot(info, accuracy, '.', color = 'blue')\n",
    "            else:\n",
    "                plt.plot(info, accuracy, '.', color = 'red')\n",
    "        plt.subplot(131)\n",
    "    plt.ylabel('User Accuracy')\n",
    "    if per_time:\n",
    "        plt.xlabel(info_type + ' per ' + period)\n",
    "    else:\n",
    "        plt.xlabel(info_type)\n",
    "    for entry in user_information.keys():\n",
    "        user_info = user_information.get(entry)\n",
    "        info = user_info[0]\n",
    "        accuracy = user_info[1]\n",
    "        if accuracy > 65:\n",
    "            plt.plot(info, accuracy, '.', color = 'blue')\n",
    "        else:\n",
    "            plt.plot(info, accuracy, '.', color = 'red')"
   ]
  },
  {
   "cell_type": "code",
   "execution_count": 9,
   "metadata": {},
   "outputs": [],
   "source": [
    "#Creates a histogram counting the occurances of a certain type of information\n",
    "def histogram(info_type, user_information):\n",
    "    plt.hist(user_information) \n",
    "    plt.xlabel(info_type)\n",
    "    plt.ylabel('Count')"
   ]
  },
  {
   "cell_type": "code",
   "execution_count": 302,
   "metadata": {
    "scrolled": false
   },
   "outputs": [
    {
     "data": {
      "image/png": "[encoded data removed]",
      "text/plain": [
       "<Figure size 864x288 with 3 Axes>"
      ]
     },
     "metadata": {
      "needs_background": "light"
     },
     "output_type": "display_data"
    }
   ],
   "source": [
    "# Counts the number of keyboard presses\n",
    "counting_graph('Keyboard Presses', 'scatter_plot', True, 'LowLevelEvent_keydown', False, None)"
   ]
  },
  {
   "cell_type": "code",
   "execution_count": 158,
   "metadata": {},
   "outputs": [
    {
     "data": {
      "image/png": "[encoded data removed]",
      "text/plain": [
       "<Figure size 864x288 with 3 Axes>"
      ]
     },
     "metadata": {
      "needs_background": "light"
     },
     "output_type": "display_data"
    }
   ],
   "source": [
    "# Counts the number of mouse clicks\n",
    "counting_graph('Mouse Clicks', 'scatter_plot', True, 'LowLevelEvent_mousedown', False, None)"
   ]
  },
  {
   "cell_type": "code",
   "execution_count": 256,
   "metadata": {},
   "outputs": [
    {
     "data": {
      "image/png": "[encoded data removed]",
      "text/plain": [
       "<Figure size 432x288 with 1 Axes>"
      ]
     },
     "metadata": {
      "needs_background": "light"
     },
     "output_type": "display_data"
    }
   ],
   "source": [
    "# Counts the number of missions completed\n",
    "counting_graph('Missions Completed', 'scatter_plot', False, 'MissionComplete', False, None)"
   ]
  },
  {
   "cell_type": "code",
   "execution_count": 11,
   "metadata": {},
   "outputs": [
    {
     "data": {
      "image/png": "[encoded data removed]",
      "text/plain": [
       "<Figure size 864x288 with 3 Axes>"
      ]
     },
     "metadata": {
      "needs_background": "light"
     },
     "output_type": "display_data"
    }
   ],
   "source": [
    "# Counts the number of zooms\n",
    "counting_graph('Zooms', 'scatter_plot', True, 'Click_ZoomIn', False, None)"
   ]
  },
  {
   "cell_type": "code",
   "execution_count": 37,
   "metadata": {},
   "outputs": [
    {
     "data": {
      "image/png": "[encoded data removed]",
      "text/plain": [
       "<Figure size 864x288 with 3 Axes>"
      ]
     },
     "metadata": {
      "needs_background": "light"
     },
     "output_type": "display_data"
    }
   ],
   "source": [
    "# Counts the number of Labels confirmations based off of time the context menu was opened\n",
    "counting_graph('Label Confirmations', 'scatter_plot', True, 'ContextMenu_Open', False, None)"
   ]
  },
  {
   "cell_type": "code",
   "execution_count": 13,
   "metadata": {},
   "outputs": [
    {
     "data": {
      "image/png": "[encoded data removed]",
      "text/plain": [
       "<Figure size 864x288 with 3 Axes>"
      ]
     },
     "metadata": {
      "needs_background": "light"
     },
     "output_type": "display_data"
    }
   ],
   "source": [
    "# Counts the number of Labels Deleted\n",
    "counting_graph('Label deleted', 'scatter_plot', True, 'RemoveLabel', False, None)"
   ]
  },
  {
   "cell_type": "code",
   "execution_count": 14,
   "metadata": {},
   "outputs": [
    {
     "data": {
      "image/png": "[encoded data removed]",
      "text/plain": [
       "<Figure size 864x288 with 3 Axes>"
      ]
     },
     "metadata": {
      "needs_background": "light"
     },
     "output_type": "display_data"
    }
   ],
   "source": [
    "# Counts the number of Tags Placed\n",
    "counting_graph('Label deleted', 'scatter_plot', True, 'ContextMenu_TagAdded', False, None)"
   ]
  },
  {
   "cell_type": "code",
   "execution_count": 35,
   "metadata": {},
   "outputs": [
    {
     "data": {
      "image/png": "[encoded data removed]",
      "text/plain": [
       "<Figure size 864x288 with 3 Axes>"
      ]
     },
     "metadata": {
      "needs_background": "light"
     },
     "output_type": "display_data"
    }
   ],
   "source": [
    "# Counts the number of Label Confirmation based off of closing the context window\n",
    "# I am currently unsure whether this one or the one above would be a more accurate measure\n",
    "# of labels done and what the other would represent\n",
    "counting_graph('Label Confirmations', 'scatter_plot', True, 'LabelingCanvas_FinishLabeling', False, None)"
   ]
  },
  {
   "cell_type": "code",
   "execution_count": 295,
   "metadata": {
    "scrolled": true
   },
   "outputs": [
    {
     "data": {
      "image/png": "[encoded data removed]",
      "text/plain": [
       "<Figure size 864x288 with 3 Axes>"
      ]
     },
     "metadata": {
      "needs_background": "light"
     },
     "output_type": "display_data"
    }
   ],
   "source": [
    "# Counts the number of Comments Written\n",
    "# Unsure if measuring the blur of the text box is an accurate representation of comments written\n",
    "counting_graph('Comments Written', 'scatter_plot', True, 'ContextMenu_TextBoxChange', False, None)"
   ]
  },
  {
   "cell_type": "code",
   "execution_count": 128,
   "metadata": {
    "scrolled": false
   },
   "outputs": [],
   "source": [
    "# # Counts the number of comments written\n",
    "\n",
    "# user_information = {}\n",
    "# df_comments = pd.read_csv('{0}.csv'.format('ContextMenu_TextBoxBlur'))\n",
    "# df_window_closes = pd.read_csv('{0}.csv'.format('ContextMenu_Close'))\n",
    "# df_comments_grouped = df_comments.groupby(['user_id'])\n",
    "# df_window_closes_grouped = df_window_closes.groupby(['user_id'])\n",
    "# for index, current_id in enumerate(df_comments_grouped.groups):\n",
    "#     user_information[current_id] = len(df_comments_grouped.get_group(current_id)), users[' accuracy'][index]\n",
    "# scatter_plot('Comments Written', user_information, True)"
   ]
  },
  {
   "cell_type": "code",
   "execution_count": 17,
   "metadata": {
    "scrolled": true
   },
   "outputs": [
    {
     "data": {
      "image/png": "[encoded data removed]",
      "text/plain": [
       "<Figure size 432x288 with 1 Axes>"
      ]
     },
     "metadata": {
      "needs_background": "light"
     },
     "output_type": "display_data"
    }
   ],
   "source": [
    "# Counts the number of users with different accuracies\n",
    "histogram('Accuracy', users[' accuracy'])"
   ]
  },
  {
   "cell_type": "code",
   "execution_count": 303,
   "metadata": {
    "scrolled": true
   },
   "outputs": [
    {
     "data": {
      "image/png": "[encoded data removed]",
      "text/plain": [
       "<Figure size 864x288 with 3 Axes>"
      ]
     },
     "metadata": {
      "needs_background": "light"
     },
     "output_type": "display_data"
    }
   ],
   "source": [
    "counting_graph('Label Confirmations', 'scatter_plot', True, 'LabelingCanvas_FinishLabeling', True, 'Hours')"
   ]
  },
  {
   "cell_type": "code",
   "execution_count": 304,
   "metadata": {
    "scrolled": false
   },
   "outputs": [
    {
     "data": {
      "image/png": "[encoded data removed]",
      "text/plain": [
       "<Figure size 864x288 with 3 Axes>"
      ]
     },
     "metadata": {
      "needs_background": "light"
     },
     "output_type": "display_data"
    }
   ],
   "source": [
    "# Counts the number of mouse clicks per minute\n",
    "counting_graph('Mouse Clicks', 'scatter_plot', True, 'LowLevelEvent_mousedown', True, 'Hours')"
   ]
  },
  {
   "cell_type": "code",
   "execution_count": 311,
   "metadata": {},
   "outputs": [
    {
     "data": {
      "image/png": "[encoded data removed]",
      "text/plain": [
       "<Figure size 864x288 with 3 Axes>"
      ]
     },
     "metadata": {
      "needs_background": "light"
     },
     "output_type": "display_data"
    }
   ],
   "source": [
    "# Counts the number of keyboard presses per minute\n",
    "counting_graph('Keyboard Presses', 'scatter_plot', True, 'LowLevelEvent_keydown', True, 'Hours')"
   ]
  },
  {
   "cell_type": "code",
   "execution_count": 307,
   "metadata": {},
   "outputs": [
    {
     "data": {
      "image/png": "[encoded data removed]",
      "text/plain": [
       "<Figure size 432x288 with 1 Axes>"
      ]
     },
     "metadata": {
      "needs_background": "light"
     },
     "output_type": "display_data"
    }
   ],
   "source": [
    "# Counts the number of Pano changes per minute\n",
    "counting_graph('Pano Changes', 'scatter_plot', False, 'PanoId_Changed', True, 'Minutes')"
   ]
  },
  {
   "cell_type": "code",
   "execution_count": 308,
   "metadata": {},
   "outputs": [
    {
     "data": {
      "image/png": "[encoded data removed]",
      "text/plain": [
       "<Figure size 432x288 with 1 Axes>"
      ]
     },
     "metadata": {
      "needs_background": "light"
     },
     "output_type": "display_data"
    }
   ],
   "source": [
    "counting_graph('Missions Completed', 'scatter_plot', False, 'MissionComplete', True, 'Hours')"
   ]
  },
  {
   "cell_type": "code",
   "execution_count": 309,
   "metadata": {},
   "outputs": [
    {
     "data": {
      "image/png": "[encoded data removed]",
      "text/plain": [
       "<Figure size 432x288 with 1 Axes>"
      ]
     },
     "metadata": {
      "needs_background": "light"
     },
     "output_type": "display_data"
    }
   ],
   "source": [
    "counting_graph('Tasks Started', 'scatter_plot', False, 'TaskStart', True, 'Hours')"
   ]
  },
  {
   "cell_type": "code",
   "execution_count": 99,
   "metadata": {},
   "outputs": [],
   "source": [
    "test_data = []\n",
    "training_data = []\n",
    "header = ['Quality']\n",
    "test_id = []\n",
    "training_id = []\n",
    "create_groups(13)\n",
    "# add_feature('LowLevelEvent_mousedown', 'ContextMenu_TextBoxFocus', 'LowLevelEvent_keydown', )\n",
    "# header = ['Mouse Clicks per Panos', 'Mouse Clicks per Mission', 'Comments per Panos', \n",
    "#           'Comments per Mission', 'Key Presses per Panos', 'Key Presses per Mission',\n",
    "#           'Quality']"
   ]
  },
  {
   "cell_type": "code",
   "execution_count": 286,
   "metadata": {},
   "outputs": [
    {
     "data": {
      "text/plain": [
       "['ec15a589-dd14-4513-a43e-8c06e55f4c71',\n",
       " 'f13d2630-35fd-4a78-883d-d108be083425',\n",
       " 'fa0bbee4-b98d-4eb3-b6da-d9e9aa287f6c']"
      ]
     },
     "metadata": {},
     "output_type": "display_data"
    },
    {
     "data": {
      "text/plain": [
       "['0e1ae564-6d72-4670-98e4-71369cc5ab26',\n",
       " '2d9009b3-55d5-4aa8-a17a-a7c80afc4d51',\n",
       " '49723673-044d-4b47-855b-3bdebfe37073',\n",
       " '7b1596af-14d4-4f2b-9e4e-71b1884db836',\n",
       " '86d26e9d-010f-4802-88ba-680ae0a8e20d',\n",
       " '87833d72-b357-4e2c-81cd-23f58ff04c59',\n",
       " '9b595ba6-529b-4d37-93d7-dd189184e15a',\n",
       " 'ac272eb8-3bb3-4260-9960-8e6c463f3867',\n",
       " 'af812204-1521-4c42-bf88-4baaaffe3f06',\n",
       " 'bca24c1a-a6b1-4625-ab8e-9ff8693022d7',\n",
       " 'bf16418a-4c99-4fd6-99c6-7e8b40fbe17b',\n",
       " 'dada416e-535f-4bb3-a213-172a8a94b581',\n",
       " 'e4ff325c-309b-4ea6-8555-8f973e662362']"
      ]
     },
     "metadata": {},
     "output_type": "display_data"
    }
   ],
   "source": [
    "display(test_id)\n",
    "display(training_id)"
   ]
  },
  {
   "cell_type": "code",
   "execution_count": 287,
   "metadata": {},
   "outputs": [
    {
     "data": {
      "text/plain": [
       "[['Good', 1.6758295525309137, 51.752747252747255, 0, 0],\n",
       " ['Good',\n",
       "  1.0070757926248468,\n",
       "  30.45679012345679,\n",
       "  0.0009525105456524698,\n",
       "  0.02880658436213992],\n",
       " ['Good',\n",
       "  0.8472222222222222,\n",
       "  25.625570776255707,\n",
       "  0.003170289855072464,\n",
       "  0.0958904109589041],\n",
       " ['Good', 1.393977025768395, 43.592233009708735, 0, 0],\n",
       " ['Bad', 3.455737704918033, 98.37333333333333, 0, 0],\n",
       " ['Good', 3.7528301886792454, 66.3, 0.05849056603773585, 1.0333333333333334],\n",
       " ['Good', 0.23293172690763053, 5.2727272727272725, 0, 0],\n",
       " ['Good', 1.6335754640839386, 44.977777777777774, 0, 0],\n",
       " ['Good',\n",
       "  1.8051848049281314,\n",
       "  54.731517509727624,\n",
       "  0.0006416837782340862,\n",
       "  0.019455252918287938],\n",
       " ['Bad', 1.319505094614265, 39.41304347826087, 0, 0],\n",
       " ['Good',\n",
       "  3.217695274831244,\n",
       "  101.11363636363636,\n",
       "  0.0033751205400192863,\n",
       "  0.10606060606060606],\n",
       " ['Good',\n",
       "  1.6946107784431137,\n",
       "  23.583333333333332,\n",
       "  0.041916167664670656,\n",
       "  0.5833333333333334],\n",
       " ['Good',\n",
       "  4.409090909090909,\n",
       "  74.44186046511628,\n",
       "  0.005509641873278237,\n",
       "  0.09302325581395349]]"
      ]
     },
     "metadata": {},
     "output_type": "display_data"
    },
    {
     "data": {
      "text/plain": [
       "[['Bad', 2.9150753172814614, 89.3709090909091, 0, 0],\n",
       " ['Good', 2.1872957071257355, 67.5925925925926, 0, 0],\n",
       " ['Good', 4.095588235294118, 69.625, 0, 0]]"
      ]
     },
     "metadata": {},
     "output_type": "display_data"
    },
    {
     "data": {
      "text/plain": [
       "[]"
      ]
     },
     "metadata": {},
     "output_type": "display_data"
    }
   ],
   "source": [
    "display(training_data)\n",
    "display(test_data)\n",
    "display(header)"
   ]
  },
  {
   "cell_type": "code",
   "execution_count": 114,
   "metadata": {},
   "outputs": [],
   "source": [
    "add_feature('ContextMenu_TextBoxChange', 'count')\n",
    "header.append('Comments Written per Panos')\n",
    "header.append('Comments Written per Mission')"
   ]
  },
  {
   "cell_type": "code",
   "execution_count": 96,
   "metadata": {},
   "outputs": [],
   "source": [
    "def create_groups(number_of_training):\n",
    "    for index, entry in enumerate(users['user_id']):\n",
    "        if users[' accuracy'][index] <= 65:\n",
    "            quality = ['Bad']\n",
    "        else:\n",
    "            quality = ['Good']\n",
    "        if index < number_of_training:\n",
    "            training_data.append(quality)\n",
    "            training_id.append(entry)\n",
    "        else:\n",
    "            test_data.append(quality)\n",
    "            test_id.append(entry)"
   ]
  },
  {
   "cell_type": "code",
   "execution_count": 13,
   "metadata": {},
   "outputs": [],
   "source": [
    "def add_feature(feature, info_type):\n",
    "    for index, entry in enumerate(users['user_id']):\n",
    "        df_user = pd.read_csv('{0}.csv'.format(entry))\n",
    "        action_count = df_user['action'].value_counts()\n",
    "        if feature in action_count:\n",
    "            #if info_type == 'count':\n",
    "            panos =  action_count[feature] / float(user_panos[entry])\n",
    "            missions = action_count[feature] / float(user_missions[entry])\n",
    "            if info_type == 'time':\n",
    "                panos =  panos / user_times[entry]\n",
    "                missions = missions / user_times[entry]\n",
    "        else:\n",
    "            panos = 0\n",
    "            missions = 0\n",
    "        if entry in training_id:\n",
    "            current_index = training_id.index(entry)\n",
    "            training_data[current_index].append(panos)\n",
    "            training_data[current_index].append(missions)\n",
    "        else:\n",
    "            current_index = test_id.index(entry)\n",
    "            test_data[current_index].append(panos)\n",
    "            test_data[current_index].append(missions)"
   ]
  },
  {
   "cell_type": "code",
   "execution_count": 289,
   "metadata": {},
   "outputs": [],
   "source": [
    "header = ['Quality', 'Key Presses per Panos', 'Key Presses per Mission', 'Comments Written per Panos', 'Comments Written per Mission']"
   ]
  },
  {
   "cell_type": "code",
   "execution_count": 290,
   "metadata": {},
   "outputs": [],
   "source": [
    "df_test = pd.DataFrame(test_data, columns = header, index = test_id)\n",
    "df_training = pd.DataFrame(training_data, columns = header, index = training_id)"
   ]
  },
  {
   "cell_type": "code",
   "execution_count": 292,
   "metadata": {},
   "outputs": [
    {
     "name": "stdout",
     "output_type": "stream",
     "text": [
      "test\n"
     ]
    },
    {
     "data": {
      "text/html": [
       "<div>\n",
       "<style scoped>\n",
       "    .dataframe tbody tr th:only-of-type {\n",
       "        vertical-align: middle;\n",
       "    }\n",
       "\n",
       "    .dataframe tbody tr th {\n",
       "        vertical-align: top;\n",
       "    }\n",
       "\n",
       "    .dataframe thead th {\n",
       "        text-align: right;\n",
       "    }\n",
       "</style>\n",
       "<table border=\"1\" class=\"dataframe\">\n",
       "  <thead>\n",
       "    <tr style=\"text-align: right;\">\n",
       "      <th></th>\n",
       "      <th>Quality</th>\n",
       "      <th>Key Presses per Panos</th>\n",
       "      <th>Key Presses per Mission</th>\n",
       "      <th>Comments Written per Panos</th>\n",
       "      <th>Comments Written per Mission</th>\n",
       "    </tr>\n",
       "  </thead>\n",
       "  <tbody>\n",
       "    <tr>\n",
       "      <th>ec15a589-dd14-4513-a43e-8c06e55f4c71</th>\n",
       "      <td>Bad</td>\n",
       "      <td>2.915075</td>\n",
       "      <td>89.370909</td>\n",
       "      <td>0</td>\n",
       "      <td>0</td>\n",
       "    </tr>\n",
       "    <tr>\n",
       "      <th>f13d2630-35fd-4a78-883d-d108be083425</th>\n",
       "      <td>Good</td>\n",
       "      <td>2.187296</td>\n",
       "      <td>67.592593</td>\n",
       "      <td>0</td>\n",
       "      <td>0</td>\n",
       "    </tr>\n",
       "    <tr>\n",
       "      <th>fa0bbee4-b98d-4eb3-b6da-d9e9aa287f6c</th>\n",
       "      <td>Good</td>\n",
       "      <td>4.095588</td>\n",
       "      <td>69.625000</td>\n",
       "      <td>0</td>\n",
       "      <td>0</td>\n",
       "    </tr>\n",
       "  </tbody>\n",
       "</table>\n",
       "</div>"
      ],
      "text/plain": [
       "                                     Quality  Key Presses per Panos  \\\n",
       "ec15a589-dd14-4513-a43e-8c06e55f4c71     Bad               2.915075   \n",
       "f13d2630-35fd-4a78-883d-d108be083425    Good               2.187296   \n",
       "fa0bbee4-b98d-4eb3-b6da-d9e9aa287f6c    Good               4.095588   \n",
       "\n",
       "                                      Key Presses per Mission  \\\n",
       "ec15a589-dd14-4513-a43e-8c06e55f4c71                89.370909   \n",
       "f13d2630-35fd-4a78-883d-d108be083425                67.592593   \n",
       "fa0bbee4-b98d-4eb3-b6da-d9e9aa287f6c                69.625000   \n",
       "\n",
       "                                      Comments Written per Panos  \\\n",
       "ec15a589-dd14-4513-a43e-8c06e55f4c71                           0   \n",
       "f13d2630-35fd-4a78-883d-d108be083425                           0   \n",
       "fa0bbee4-b98d-4eb3-b6da-d9e9aa287f6c                           0   \n",
       "\n",
       "                                      Comments Written per Mission  \n",
       "ec15a589-dd14-4513-a43e-8c06e55f4c71                             0  \n",
       "f13d2630-35fd-4a78-883d-d108be083425                             0  \n",
       "fa0bbee4-b98d-4eb3-b6da-d9e9aa287f6c                             0  "
      ]
     },
     "metadata": {},
     "output_type": "display_data"
    },
    {
     "name": "stdout",
     "output_type": "stream",
     "text": [
      "training\n"
     ]
    },
    {
     "data": {
      "text/html": [
       "<div>\n",
       "<style scoped>\n",
       "    .dataframe tbody tr th:only-of-type {\n",
       "        vertical-align: middle;\n",
       "    }\n",
       "\n",
       "    .dataframe tbody tr th {\n",
       "        vertical-align: top;\n",
       "    }\n",
       "\n",
       "    .dataframe thead th {\n",
       "        text-align: right;\n",
       "    }\n",
       "</style>\n",
       "<table border=\"1\" class=\"dataframe\">\n",
       "  <thead>\n",
       "    <tr style=\"text-align: right;\">\n",
       "      <th></th>\n",
       "      <th>Quality</th>\n",
       "      <th>Key Presses per Panos</th>\n",
       "      <th>Key Presses per Mission</th>\n",
       "      <th>Comments Written per Panos</th>\n",
       "      <th>Comments Written per Mission</th>\n",
       "    </tr>\n",
       "  </thead>\n",
       "  <tbody>\n",
       "    <tr>\n",
       "      <th>0e1ae564-6d72-4670-98e4-71369cc5ab26</th>\n",
       "      <td>Good</td>\n",
       "      <td>1.675830</td>\n",
       "      <td>51.752747</td>\n",
       "      <td>0.000000</td>\n",
       "      <td>0.000000</td>\n",
       "    </tr>\n",
       "    <tr>\n",
       "      <th>2d9009b3-55d5-4aa8-a17a-a7c80afc4d51</th>\n",
       "      <td>Good</td>\n",
       "      <td>1.007076</td>\n",
       "      <td>30.456790</td>\n",
       "      <td>0.000953</td>\n",
       "      <td>0.028807</td>\n",
       "    </tr>\n",
       "    <tr>\n",
       "      <th>49723673-044d-4b47-855b-3bdebfe37073</th>\n",
       "      <td>Good</td>\n",
       "      <td>0.847222</td>\n",
       "      <td>25.625571</td>\n",
       "      <td>0.003170</td>\n",
       "      <td>0.095890</td>\n",
       "    </tr>\n",
       "    <tr>\n",
       "      <th>7b1596af-14d4-4f2b-9e4e-71b1884db836</th>\n",
       "      <td>Good</td>\n",
       "      <td>1.393977</td>\n",
       "      <td>43.592233</td>\n",
       "      <td>0.000000</td>\n",
       "      <td>0.000000</td>\n",
       "    </tr>\n",
       "    <tr>\n",
       "      <th>86d26e9d-010f-4802-88ba-680ae0a8e20d</th>\n",
       "      <td>Bad</td>\n",
       "      <td>3.455738</td>\n",
       "      <td>98.373333</td>\n",
       "      <td>0.000000</td>\n",
       "      <td>0.000000</td>\n",
       "    </tr>\n",
       "    <tr>\n",
       "      <th>87833d72-b357-4e2c-81cd-23f58ff04c59</th>\n",
       "      <td>Good</td>\n",
       "      <td>3.752830</td>\n",
       "      <td>66.300000</td>\n",
       "      <td>0.058491</td>\n",
       "      <td>1.033333</td>\n",
       "    </tr>\n",
       "    <tr>\n",
       "      <th>9b595ba6-529b-4d37-93d7-dd189184e15a</th>\n",
       "      <td>Good</td>\n",
       "      <td>0.232932</td>\n",
       "      <td>5.272727</td>\n",
       "      <td>0.000000</td>\n",
       "      <td>0.000000</td>\n",
       "    </tr>\n",
       "    <tr>\n",
       "      <th>ac272eb8-3bb3-4260-9960-8e6c463f3867</th>\n",
       "      <td>Good</td>\n",
       "      <td>1.633575</td>\n",
       "      <td>44.977778</td>\n",
       "      <td>0.000000</td>\n",
       "      <td>0.000000</td>\n",
       "    </tr>\n",
       "    <tr>\n",
       "      <th>af812204-1521-4c42-bf88-4baaaffe3f06</th>\n",
       "      <td>Good</td>\n",
       "      <td>1.805185</td>\n",
       "      <td>54.731518</td>\n",
       "      <td>0.000642</td>\n",
       "      <td>0.019455</td>\n",
       "    </tr>\n",
       "    <tr>\n",
       "      <th>bca24c1a-a6b1-4625-ab8e-9ff8693022d7</th>\n",
       "      <td>Bad</td>\n",
       "      <td>1.319505</td>\n",
       "      <td>39.413043</td>\n",
       "      <td>0.000000</td>\n",
       "      <td>0.000000</td>\n",
       "    </tr>\n",
       "    <tr>\n",
       "      <th>bf16418a-4c99-4fd6-99c6-7e8b40fbe17b</th>\n",
       "      <td>Good</td>\n",
       "      <td>3.217695</td>\n",
       "      <td>101.113636</td>\n",
       "      <td>0.003375</td>\n",
       "      <td>0.106061</td>\n",
       "    </tr>\n",
       "    <tr>\n",
       "      <th>dada416e-535f-4bb3-a213-172a8a94b581</th>\n",
       "      <td>Good</td>\n",
       "      <td>1.694611</td>\n",
       "      <td>23.583333</td>\n",
       "      <td>0.041916</td>\n",
       "      <td>0.583333</td>\n",
       "    </tr>\n",
       "    <tr>\n",
       "      <th>e4ff325c-309b-4ea6-8555-8f973e662362</th>\n",
       "      <td>Good</td>\n",
       "      <td>4.409091</td>\n",
       "      <td>74.441860</td>\n",
       "      <td>0.005510</td>\n",
       "      <td>0.093023</td>\n",
       "    </tr>\n",
       "  </tbody>\n",
       "</table>\n",
       "</div>"
      ],
      "text/plain": [
       "                                     Quality  Key Presses per Panos  \\\n",
       "0e1ae564-6d72-4670-98e4-71369cc5ab26    Good               1.675830   \n",
       "2d9009b3-55d5-4aa8-a17a-a7c80afc4d51    Good               1.007076   \n",
       "49723673-044d-4b47-855b-3bdebfe37073    Good               0.847222   \n",
       "7b1596af-14d4-4f2b-9e4e-71b1884db836    Good               1.393977   \n",
       "86d26e9d-010f-4802-88ba-680ae0a8e20d     Bad               3.455738   \n",
       "87833d72-b357-4e2c-81cd-23f58ff04c59    Good               3.752830   \n",
       "9b595ba6-529b-4d37-93d7-dd189184e15a    Good               0.232932   \n",
       "ac272eb8-3bb3-4260-9960-8e6c463f3867    Good               1.633575   \n",
       "af812204-1521-4c42-bf88-4baaaffe3f06    Good               1.805185   \n",
       "bca24c1a-a6b1-4625-ab8e-9ff8693022d7     Bad               1.319505   \n",
       "bf16418a-4c99-4fd6-99c6-7e8b40fbe17b    Good               3.217695   \n",
       "dada416e-535f-4bb3-a213-172a8a94b581    Good               1.694611   \n",
       "e4ff325c-309b-4ea6-8555-8f973e662362    Good               4.409091   \n",
       "\n",
       "                                      Key Presses per Mission  \\\n",
       "0e1ae564-6d72-4670-98e4-71369cc5ab26                51.752747   \n",
       "2d9009b3-55d5-4aa8-a17a-a7c80afc4d51                30.456790   \n",
       "49723673-044d-4b47-855b-3bdebfe37073                25.625571   \n",
       "7b1596af-14d4-4f2b-9e4e-71b1884db836                43.592233   \n",
       "86d26e9d-010f-4802-88ba-680ae0a8e20d                98.373333   \n",
       "87833d72-b357-4e2c-81cd-23f58ff04c59                66.300000   \n",
       "9b595ba6-529b-4d37-93d7-dd189184e15a                 5.272727   \n",
       "ac272eb8-3bb3-4260-9960-8e6c463f3867                44.977778   \n",
       "af812204-1521-4c42-bf88-4baaaffe3f06                54.731518   \n",
       "bca24c1a-a6b1-4625-ab8e-9ff8693022d7                39.413043   \n",
       "bf16418a-4c99-4fd6-99c6-7e8b40fbe17b               101.113636   \n",
       "dada416e-535f-4bb3-a213-172a8a94b581                23.583333   \n",
       "e4ff325c-309b-4ea6-8555-8f973e662362                74.441860   \n",
       "\n",
       "                                      Comments Written per Panos  \\\n",
       "0e1ae564-6d72-4670-98e4-71369cc5ab26                    0.000000   \n",
       "2d9009b3-55d5-4aa8-a17a-a7c80afc4d51                    0.000953   \n",
       "49723673-044d-4b47-855b-3bdebfe37073                    0.003170   \n",
       "7b1596af-14d4-4f2b-9e4e-71b1884db836                    0.000000   \n",
       "86d26e9d-010f-4802-88ba-680ae0a8e20d                    0.000000   \n",
       "87833d72-b357-4e2c-81cd-23f58ff04c59                    0.058491   \n",
       "9b595ba6-529b-4d37-93d7-dd189184e15a                    0.000000   \n",
       "ac272eb8-3bb3-4260-9960-8e6c463f3867                    0.000000   \n",
       "af812204-1521-4c42-bf88-4baaaffe3f06                    0.000642   \n",
       "bca24c1a-a6b1-4625-ab8e-9ff8693022d7                    0.000000   \n",
       "bf16418a-4c99-4fd6-99c6-7e8b40fbe17b                    0.003375   \n",
       "dada416e-535f-4bb3-a213-172a8a94b581                    0.041916   \n",
       "e4ff325c-309b-4ea6-8555-8f973e662362                    0.005510   \n",
       "\n",
       "                                      Comments Written per Mission  \n",
       "0e1ae564-6d72-4670-98e4-71369cc5ab26                      0.000000  \n",
       "2d9009b3-55d5-4aa8-a17a-a7c80afc4d51                      0.028807  \n",
       "49723673-044d-4b47-855b-3bdebfe37073                      0.095890  \n",
       "7b1596af-14d4-4f2b-9e4e-71b1884db836                      0.000000  \n",
       "86d26e9d-010f-4802-88ba-680ae0a8e20d                      0.000000  \n",
       "87833d72-b357-4e2c-81cd-23f58ff04c59                      1.033333  \n",
       "9b595ba6-529b-4d37-93d7-dd189184e15a                      0.000000  \n",
       "ac272eb8-3bb3-4260-9960-8e6c463f3867                      0.000000  \n",
       "af812204-1521-4c42-bf88-4baaaffe3f06                      0.019455  \n",
       "bca24c1a-a6b1-4625-ab8e-9ff8693022d7                      0.000000  \n",
       "bf16418a-4c99-4fd6-99c6-7e8b40fbe17b                      0.106061  \n",
       "dada416e-535f-4bb3-a213-172a8a94b581                      0.583333  \n",
       "e4ff325c-309b-4ea6-8555-8f973e662362                      0.093023  "
      ]
     },
     "metadata": {},
     "output_type": "display_data"
    }
   ],
   "source": [
    "print('test')\n",
    "display(df_test)\n",
    "print('training')\n",
    "display(df_training)"
   ]
  },
  {
   "cell_type": "code",
   "execution_count": 293,
   "metadata": {},
   "outputs": [
    {
     "data": {
      "text/plain": [
       "SVC(C=1.0, cache_size=200, class_weight=None, coef0=0.0,\n",
       "    decision_function_shape='ovr', degree=3, gamma='auto', kernel='rbf',\n",
       "    max_iter=-1, probability=False, random_state=None, shrinking=True,\n",
       "    tol=0.001, verbose=False)"
      ]
     },
     "execution_count": 293,
     "metadata": {},
     "output_type": "execute_result"
    }
   ],
   "source": [
    "clf = svm.SVC(gamma = 'auto')\n",
    "features = []\n",
    "quality = []\n",
    "for index, entry in enumerate(df_training['Quality']):\n",
    "    current_features = df_training['Comments Written per Panos'][index], df_training['Comments Written per Mission'][index]\n",
    "    features.append(current_features)\n",
    "    quality.append(entry)\n",
    "features = np.array(features)\n",
    "quality = np.array(quality)\n",
    "clf.fit(features, quality.ravel())"
   ]
  },
  {
   "cell_type": "code",
   "execution_count": 294,
   "metadata": {},
   "outputs": [
    {
     "data": {
      "text/plain": [
       "array(['Good', 'Good', 'Good'], dtype='<U4')"
      ]
     },
     "execution_count": 294,
     "metadata": {},
     "output_type": "execute_result"
    }
   ],
   "source": [
    "current_test = []\n",
    "for index, entry in enumerate(df_test['Quality']):\n",
    "    current_features = df_training['Comments Written per Panos'][index], df_training['Comments Written per Mission'][index]\n",
    "    current_test.append(current_features)\n",
    "all_test = np.array(current_test)\n",
    "clf.predict(current_test)"
   ]
  },
  {
   "cell_type": "code",
   "execution_count": 313,
   "metadata": {},
   "outputs": [],
   "source": [
    "df_finished_labeling = pd.read_csv('LabelingCanvas_FinishLabeling.csv')\n",
    "df_all_labels = pd.read_csv('ml-label-correctness.csv')"
   ]
  },
  {
   "cell_type": "code",
   "execution_count": 317,
   "metadata": {},
   "outputs": [],
   "source": [
    "df_finished_labeling.set_index(['audit_task_id', 'temporary_label_id'], inplace=True)"
   ]
  },
  {
   "cell_type": "code",
   "execution_count": 322,
   "metadata": {},
   "outputs": [],
   "source": [
    "df_all_labels.set_index(['audit_task_id', 'temporary_label_id'], inplace=True)"
   ]
  },
  {
   "cell_type": "code",
   "execution_count": 329,
   "metadata": {},
   "outputs": [],
   "source": [
    "df_all_labels.drop(columns=('user_id'), inplace=True)"
   ]
  },
  {
   "cell_type": "code",
   "execution_count": 331,
   "metadata": {},
   "outputs": [],
   "source": [
    "df_joined = df_finished_labeling.join(df_all_labels)"
   ]
  },
  {
   "cell_type": "code",
   "execution_count": 334,
   "metadata": {},
   "outputs": [],
   "source": [
    "df_joined = df_joined[~pd.isna(df_joined['correct'])]"
   ]
  },
  {
   "cell_type": "code",
   "execution_count": 340,
   "metadata": {},
   "outputs": [],
   "source": [
    "df_joined = df_joined[df_joined['lat'] > 46]"
   ]
  },
  {
   "cell_type": "code",
   "execution_count": 347,
   "metadata": {},
   "outputs": [
    {
     "data": {
      "text/plain": [
       "<matplotlib.collections.PathCollection at 0x1a3dca3240>"
      ]
     },
     "execution_count": 347,
     "metadata": {},
     "output_type": "execute_result"
    },
    {
     "data": {
      "image/png": "[encoded data removed]",
      "text/plain": [
       "<Figure size 432x288 with 1 Axes>"
      ]
     },
     "metadata": {
      "needs_background": "light"
     },
     "output_type": "display_data"
    }
   ],
   "source": [
    "plt.figure()\n",
    "plt.scatter(df_joined['lng'], df_joined['lat'], c = (df_joined['correct'] == 't') )"
   ]
  },
  {
   "cell_type": "code",
   "execution_count": null,
   "metadata": {},
   "outputs": [],
   "source": []
  }
 ],
 "metadata": {
  "kernelspec": {
   "display_name": "Python 3",
   "language": "python",
   "name": "python3"
  },
  "language_info": {
   "codemirror_mode": {
    "name": "ipython",
    "version": 3
   },
   "file_extension": ".py",
   "mimetype": "text/x-python",
   "name": "python",
   "nbconvert_exporter": "python",
   "pygments_lexer": "ipython3",
   "version": "3.7.3"
  }
 },
 "nbformat": 4,
 "nbformat_minor": 2
}
