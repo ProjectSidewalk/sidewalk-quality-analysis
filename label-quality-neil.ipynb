{
 "cells": [
  {
   "cell_type": "code",
   "execution_count": 1,
   "metadata": {},
   "outputs": [],
   "source": [
    "import pandas as pd\n",
    "import numpy as np\n",
    "from scipy import stats\n",
    "import matplotlib.pyplot as plt\n",
    "from dateutil.parser import parse\n",
    "import parse as str_parse\n",
    "users = pd.read_csv('ml-users.csv') \n",
    "%matplotlib notebook"
   ]
  },
  {
   "cell_type": "code",
   "execution_count": 132,
   "metadata": {},
   "outputs": [],
   "source": [
    "crop_rows = 100000"
   ]
  },
  {
   "cell_type": "code",
   "execution_count": 133,
   "metadata": {},
   "outputs": [],
   "source": [
    "df_interactions = pd.read_csv('ml-interactions.tar.gz', compression='gzip')\n",
    "\n",
    "if crop_rows > 0:\n",
    "    df_interactions = df_interactions.head(crop_rows)\n",
    "\n",
    "isna_result = pd.isna(df_interactions['action'])\n",
    "df_interactions= df_interactions[~isna_result]\n",
    "isna_result = pd.isna(df_interactions['action'])\n",
    "assert sum(df_interactions['action'].isna()) == 0\n",
    "\n",
    "df_interactions.rename(columns = {'ml-interactions.csv':'timestamp'}, inplace = True)"
   ]
  },
  {
   "cell_type": "code",
   "execution_count": 134,
   "metadata": {},
   "outputs": [],
   "source": [
    "# fill nan temporary label id's\n",
    "df_interactions['temporary_label_id'] = df_interactions['temporary_label_id'].fillna(method='bfill')\n",
    "\n",
    "# get rid of nan label id's\n",
    "df_interactions = df_interactions[~pd.isna(df_interactions['temporary_label_id'])]"
   ]
  },
  {
   "cell_type": "code",
   "execution_count": 135,
   "metadata": {},
   "outputs": [],
   "source": [
    "label_correctness = pd.read_csv('ml-label-correctness.csv')"
   ]
  },
  {
   "cell_type": "code",
   "execution_count": 137,
   "metadata": {},
   "outputs": [],
   "source": [
    "labeling_cols = ['user_id', 'audit_task_id', 'temporary_label_id']"
   ]
  },
  {
   "cell_type": "code",
   "execution_count": 150,
   "metadata": {},
   "outputs": [],
   "source": [
    "label_correctness.set_index(labeling_cols, inplace=True)"
   ]
  },
  {
   "cell_type": "code",
   "execution_count": 138,
   "metadata": {
    "scrolled": false
   },
   "outputs": [],
   "source": [
    "interaction_groups = df_interactions.groupby(labeling_cols)"
   ]
  },
  {
   "cell_type": "code",
   "execution_count": 144,
   "metadata": {},
   "outputs": [],
   "source": [
    "label_features = interaction_groups.apply(lambda x: x['zoom'].mean()).to_frame(name='zoom')"
   ]
  },
  {
   "cell_type": "code",
   "execution_count": 176,
   "metadata": {
    "scrolled": true
   },
   "outputs": [],
   "source": [
    "# TODO: figure out why there are duplicates\n",
    "label_correctness = label_correctness[~label_correctness.index.duplicated()]"
   ]
  },
  {
   "cell_type": "code",
   "execution_count": 185,
   "metadata": {},
   "outputs": [],
   "source": [
    "label_features['correct'] = label_correctness['correct'].apply(lambda x: True if x == 't' else False if x == 'f' else np.nan)"
   ]
  },
  {
   "cell_type": "markdown",
   "metadata": {},
   "source": [
    "## Make plots"
   ]
  },
  {
   "cell_type": "code",
   "execution_count": 191,
   "metadata": {},
   "outputs": [],
   "source": [
    "validated_label_features = label_features[~pd.isna(label_features['correct'])]"
   ]
  },
  {
   "cell_type": "code",
   "execution_count": 194,
   "metadata": {},
   "outputs": [
    {
     "data": {
      "text/plain": [
       "<matplotlib.collections.PathCollection at 0x1c08211390>"
      ]
     },
     "execution_count": 194,
     "metadata": {},
     "output_type": "execute_result"
    },
    {
     "data": {
      "image/png": "[encoded data removed]",
      "text/plain": [
       "<Figure size 432x288 with 1 Axes>"
      ]
     },
     "metadata": {
      "needs_background": "light"
     },
     "output_type": "display_data"
    }
   ],
   "source": [
    "plt.figure()\n",
    "plt.xlabel('average zoom')\n",
    "plt.ylabel('correct?')\n",
    "plt.scatter(validated_label_features['zoom'], validated_label_features['correct'])"
   ]
  },
  {
   "cell_type": "code",
   "execution_count": null,
   "metadata": {},
   "outputs": [],
   "source": []
  }
 ],
 "metadata": {
  "kernelspec": {
   "display_name": "Python 3",
   "language": "python",
   "name": "python3"
  },
  "language_info": {
   "codemirror_mode": {
    "name": "ipython",
    "version": 3
   },
   "file_extension": ".py",
   "mimetype": "text/x-python",
   "name": "python",
   "nbconvert_exporter": "python",
   "pygments_lexer": "ipython3",
   "version": "3.7.3"
  }
 },
 "nbformat": 4,
 "nbformat_minor": 2
}
