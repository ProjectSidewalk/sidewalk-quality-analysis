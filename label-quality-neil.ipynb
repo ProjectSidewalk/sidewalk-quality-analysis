{
 "cells": [
  {
   "cell_type": "code",
   "execution_count": 280,
   "metadata": {},
   "outputs": [],
   "source": [
    "import pandas as pd\n",
    "import numpy as np\n",
    "from scipy import stats\n",
    "import sys\n",
    "import matplotlib.pyplot as plt\n",
    "from dateutil.parser import parse\n",
    "import parse as str_parse\n",
    "from intersection_proximity import intersection_proximity\n",
    "from importlib import reload\n",
    "from scipy.spatial import distance\n",
    "reload(intersection_proximity)\n",
    "import seaborn as sns\n",
    "\n",
    "users = pd.read_csv('ml-users.csv') \n",
    "%matplotlib notebook"
   ]
  },
  {
   "cell_type": "code",
   "execution_count": 2,
   "metadata": {},
   "outputs": [],
   "source": [
    "crop_rows = 10000000"
   ]
  },
  {
   "cell_type": "code",
   "execution_count": 3,
   "metadata": {},
   "outputs": [],
   "source": [
    "df_interactions = pd.read_csv('ml-interactions.tar.gz', compression='gzip')\n",
    "\n",
    "if crop_rows > 0:\n",
    "    df_interactions = df_interactions.head(crop_rows)\n",
    "\n",
    "isna_result = pd.isna(df_interactions['action'])\n",
    "df_interactions= df_interactions[~isna_result]\n",
    "isna_result = pd.isna(df_interactions['action'])\n",
    "assert sum(df_interactions['action'].isna()) == 0\n",
    "\n",
    "df_interactions.rename(columns = {'ml-interactions.csv':'timestamp'}, inplace = True)"
   ]
  },
  {
   "cell_type": "code",
   "execution_count": 4,
   "metadata": {},
   "outputs": [],
   "source": [
    "# fill nan temporary label id's\n",
    "df_interactions['temporary_label_id'] = df_interactions['temporary_label_id'].fillna(method='bfill')\n",
    "\n",
    "# get rid of nan label id's\n",
    "df_interactions = df_interactions[~pd.isna(df_interactions['temporary_label_id'])]"
   ]
  },
  {
   "cell_type": "code",
   "execution_count": 5,
   "metadata": {},
   "outputs": [],
   "source": [
    "df_interactions['timestamp'] = df_interactions['timestamp'].apply(lambda x: parse(x))"
   ]
  },
  {
   "cell_type": "code",
   "execution_count": 6,
   "metadata": {},
   "outputs": [],
   "source": [
    "label_correctness = pd.read_csv('ml-label-correctness.csv')"
   ]
  },
  {
   "cell_type": "code",
   "execution_count": 7,
   "metadata": {},
   "outputs": [],
   "source": [
    "labeling_cols = ['user_id', 'audit_task_id', 'temporary_label_id']"
   ]
  },
  {
   "cell_type": "code",
   "execution_count": 8,
   "metadata": {},
   "outputs": [],
   "source": [
    "label_correctness.set_index(labeling_cols, inplace=True)"
   ]
  },
  {
   "cell_type": "code",
   "execution_count": 9,
   "metadata": {
    "scrolled": true
   },
   "outputs": [],
   "source": [
    "# TODO: figure out why there are duplicates\n",
    "label_correctness = label_correctness[~label_correctness.index.duplicated()]"
   ]
  },
  {
   "cell_type": "code",
   "execution_count": 10,
   "metadata": {
    "scrolled": false
   },
   "outputs": [],
   "source": [
    "interaction_groups = df_interactions.groupby(labeling_cols)"
   ]
  },
  {
   "cell_type": "markdown",
   "metadata": {},
   "source": [
    "## Calculate features"
   ]
  },
  {
   "cell_type": "code",
   "execution_count": 11,
   "metadata": {},
   "outputs": [],
   "source": [
    "label_features = interaction_groups.apply(lambda x: x['zoom'].mean()).to_frame(name='zoom')"
   ]
  },
  {
   "cell_type": "code",
   "execution_count": 12,
   "metadata": {},
   "outputs": [],
   "source": [
    "# filter rows\n",
    "label_features = label_features[interaction_groups \\\n",
    "                                .apply(lambda x: sum(x['action'] == 'LabelingCanvas_FinishLabeling') == 1)]"
   ]
  },
  {
   "cell_type": "code",
   "execution_count": 13,
   "metadata": {},
   "outputs": [],
   "source": [
    "def label_type(x):\n",
    "    try:\n",
    "        note = x['note'][x['action'] == 'LabelingCanvas_FinishLabeling'].iloc[0]\n",
    "        return str_parse.parse('labelType:{},canvasX:{},canvasY:{}', note)[0]\n",
    "    except (IndexError, KeyError) as e:\n",
    "        return ''\n",
    "\n",
    "label_features['label_type'] = interaction_groups.apply(label_type)"
   ]
  },
  {
   "cell_type": "code",
   "execution_count": 14,
   "metadata": {},
   "outputs": [],
   "source": [
    "label_features['mousemoves'] = interaction_groups.apply(lambda x: sum(x['action'] == 'LowLevelEvent_mousemove'))"
   ]
  },
  {
   "cell_type": "code",
   "execution_count": 15,
   "metadata": {},
   "outputs": [],
   "source": [
    "def normalize_headings(heading_list):\n",
    "    start_heading = heading_list.iloc[0]\n",
    "    h = heading_list - start_heading\n",
    "    h[h > 180] = h[h > 180] - 360\n",
    "    return h\n",
    "\n",
    "def range_headings(heading_list):\n",
    "    norm = normalize_headings(heading_list)\n",
    "    return np.max(norm) - np.min(norm)\n",
    "#     return pd.Series({'heading_min': np.min(norm), 'heading_max': np.max(norm), 'heading_range': np.max(norm) - np.min(norm)})"
   ]
  },
  {
   "cell_type": "code",
   "execution_count": 16,
   "metadata": {},
   "outputs": [],
   "source": [
    "label_features['heading_range'] = interaction_groups.apply(lambda x: x.groupby('gsv_panorama_id').apply(lambda y: range_headings(y['heading'])).mean())"
   ]
  },
  {
   "cell_type": "code",
   "execution_count": 17,
   "metadata": {},
   "outputs": [],
   "source": [
    "def total_time(x):\n",
    "    time = x['timestamp'].sort_values()\n",
    "    return (time.iloc[-1] - time.iloc[0]).total_seconds()\n",
    "\n",
    "# Time from start to finish\n",
    "label_features['total_time'] = interaction_groups.apply(lambda x: total_time(x))"
   ]
  },
  {
   "cell_type": "code",
   "execution_count": 18,
   "metadata": {},
   "outputs": [],
   "source": [
    "def time_between_pov_change_and_label(x):\n",
    "    pov_change = x['timestamp'][x['action'] == 'POV_Changed'].max()\n",
    "    last_time = x['timestamp'].max()\n",
    "    return (last_time - pov_change).total_seconds()\n",
    "                                \n",
    "clicks_per_pano = df_interactions.groupby('user_id').apply(lambda x: sum(x['action'] == 'LowLevelEvent_click') / x['gsv_panorama_id'].unique().size)\n"
   ]
  },
  {
   "cell_type": "code",
   "execution_count": 19,
   "metadata": {},
   "outputs": [],
   "source": [
    "label_features['pov_changes_per_pano'] = interaction_groups.apply(lambda x: sum(x['action'] == 'POV_Changed') / x['gsv_panorama_id'].nunique() \\\n",
    "                                                                  if x['gsv_panorama_id'].nunique() > 0 else 0)"
   ]
  },
  {
   "cell_type": "code",
   "execution_count": 157,
   "metadata": {},
   "outputs": [],
   "source": [
    "def time_per_pano(x):\n",
    "    try:\n",
    "        time = x['timestamp'].sort_values()\n",
    "        return ((time.iloc[-1] - time.iloc[0]).total_seconds() / x['gsv_panorama_id'].nunique())\n",
    "    except ZeroDivisionError as e:\n",
    "        return 0\n",
    "\n",
    "label_features['time_per_pano'] = interaction_groups.apply(time_per_pano)"
   ]
  },
  {
   "cell_type": "code",
   "execution_count": 159,
   "metadata": {},
   "outputs": [],
   "source": [
    "def mouseups(x):\n",
    "    try:\n",
    "        return sum(x['action'] == 'LowLevelEvent_mouseup') / x['gsv_panorama_id'].nunique()\n",
    "    except ZeroDivisionError as e:\n",
    "        return 0\n",
    "\n",
    "label_features['mouseups_per_pano'] = interaction_groups.apply(mouseups) "
   ]
  },
  {
   "cell_type": "code",
   "execution_count": 20,
   "metadata": {},
   "outputs": [],
   "source": [
    "def intersection_proximity_percentage(x):\n",
    "    try:\n",
    "        evt = x[x['action'] == 'LabelingCanvas_FinishLabeling'].iloc[0]\n",
    "        try:\n",
    "            distance, percentage = intersection_proximity.compute_proximity(evt.lat, evt.lng)\n",
    "            return percentage\n",
    "        except Exception as e:\n",
    "#             print(evt.lat, evt.lng)\n",
    "            # Throws error when the distance is 0 or street length. TODO: fix.\n",
    "            return 0\n",
    "    except IndexError as e:\n",
    "        # TODO: determine why some events have no finishlabeling event\n",
    "        return -1"
   ]
  },
  {
   "cell_type": "code",
   "execution_count": 21,
   "metadata": {
    "scrolled": true
   },
   "outputs": [],
   "source": [
    "label_features['intersection_proximity'] = interaction_groups.apply(intersection_proximity_percentage)"
   ]
  },
  {
   "cell_type": "code",
   "execution_count": 200,
   "metadata": {},
   "outputs": [],
   "source": [
    "def up_keys_per_pano(x):\n",
    "    try:\n",
    "        return (sum(x['note'] == 'keyCode:38') / x['gsv_panorama_id'].nunique())\n",
    "    except ZeroDivisionError as e:\n",
    "        return 0\n",
    "\n",
    "label_features['up_keys_per_pano'] = interaction_groups.apply(up_keys_per_pano)"
   ]
  },
  {
   "cell_type": "code",
   "execution_count": 212,
   "metadata": {},
   "outputs": [],
   "source": [
    "def canvas_coord(x, index):\n",
    "    try:\n",
    "        note = x['note'][x['action'] == 'LabelingCanvas_FinishLabeling'].iloc[0]\n",
    "        return str_parse.parse('labelType:{},canvasX:{},canvasY:{}', note)[index]\n",
    "    except Exception as e:\n",
    "        return ''\n",
    "\n",
    "label_features['canvas_x'] = interaction_groups.apply(lambda x: canvas_coord(x, 1))\n",
    "label_features['canvas_y'] = interaction_groups.apply(lambda x: canvas_coord(x, 2))"
   ]
  },
  {
   "cell_type": "code",
   "execution_count": 277,
   "metadata": {},
   "outputs": [],
   "source": [
    "# TODO: speed up\n",
    "# def mouse_movement_speed(x):\n",
    "#     relevant_actions = x[x['action'] == 'LowLevelEvent_mousemove']\n",
    "#     relevant_actions.sort_values('timestamp')\n",
    "#     last_row = None\n",
    "#     total_dist = 0\n",
    "#     total_time = 0\n",
    "#     last_result = None\n",
    "#     for index, row in relevant_actions.iterrows():\n",
    "#         result = str_parse.parse('cursorX:{},cursorY:{}', row['note'])\n",
    "#         if last_row is not None and ((row['timestamp'] - last_row['timestamp']).total_seconds() < 0.4):\n",
    "#             total_time += (row['timestamp'] - last_row['timestamp']).total_seconds()\n",
    "#             total_dist += distance.euclidean([int(result[0]), int(result[1])], [int(last_result[0]), int(last_result[1])])\n",
    "\n",
    "#         last_result = result\n",
    "#         last_row = row\n",
    "        \n",
    "#     try:\n",
    "#         return total_dist / total_time\n",
    "#     except ZeroDivisionError:\n",
    "#         return 0\n",
    "    \n",
    "# label_features['mouse_speed'] = interaction_groups.apply(mouse_movement_speed)"
   ]
  },
  {
   "cell_type": "code",
   "execution_count": 286,
   "metadata": {},
   "outputs": [
    {
     "name": "stderr",
     "output_type": "stream",
     "text": [
      "/Users/neil/anaconda3/lib/python3.7/site-packages/ipykernel_launcher.py:18: RuntimeWarning: divide by zero encountered in double_scalars\n",
      "/Users/neil/anaconda3/lib/python3.7/site-packages/ipykernel_launcher.py:18: RuntimeWarning: divide by zero encountered in double_scalars\n",
      "/Users/neil/anaconda3/lib/python3.7/site-packages/ipykernel_launcher.py:18: RuntimeWarning: divide by zero encountered in double_scalars\n"
     ]
    }
   ],
   "source": [
    "def mouse_movement_speed(x, count=0):\n",
    "    relevant_actions = x[x['action'] == 'LowLevelEvent_mousemove'].iloc[:5]\n",
    "    relevant_actions.sort_values('timestamp')\n",
    "    last_row = None\n",
    "    total_dist = 0\n",
    "    total_time = 0\n",
    "    last_result = None\n",
    "    for index, row in relevant_actions.iterrows():\n",
    "        result = str_parse.parse('cursorX:{},cursorY:{}', row['note'])\n",
    "        if last_row is not None and ((row['timestamp'] - last_row['timestamp']).total_seconds() < 0.4):\n",
    "            total_time += (row['timestamp'] - last_row['timestamp']).total_seconds()\n",
    "            total_dist += distance.euclidean([int(result[0]), int(result[1])], [int(last_result[0]), int(last_result[1])])\n",
    "\n",
    "        last_result = result\n",
    "        last_row = row\n",
    "        \n",
    "    try:\n",
    "        return total_dist / total_time\n",
    "    except ZeroDivisionError:\n",
    "        return 0\n",
    "    \n",
    "label_features['mouse_speed'] = interaction_groups.apply(mouse_movement_speed)"
   ]
  },
  {
   "cell_type": "code",
   "execution_count": 298,
   "metadata": {},
   "outputs": [],
   "source": [
    "label_features[~np.isfinite(label_features['mouse_speed'])]['mouse_speed'] = 0\n",
    "label_features['mouse_speed'] = np.abs(label_features['mouse_speed'])"
   ]
  },
  {
   "cell_type": "code",
   "execution_count": 22,
   "metadata": {},
   "outputs": [],
   "source": [
    "label_features['correct'] = label_correctness['correct'].apply(lambda x: True if x == 't' else False if x == 'f' else np.nan)"
   ]
  },
  {
   "cell_type": "code",
   "execution_count": 303,
   "metadata": {},
   "outputs": [],
   "source": [
    "validated_label_features = label_features[~pd.isna(label_features['correct'])]"
   ]
  },
  {
   "cell_type": "markdown",
   "metadata": {},
   "source": [
    "## Make plots"
   ]
  },
  {
   "cell_type": "code",
   "execution_count": 24,
   "metadata": {},
   "outputs": [],
   "source": [
    "def plot_intersection_proximity(df, title):\n",
    "    plt.figure()\n",
    "    plt.title(title)\n",
    "    plt.xlabel('intersection proximity (%)')\n",
    "    plt.ylabel('relative count')\n",
    "    plt.hist(df[df['correct'] == True]['intersection_proximity'], density=True, alpha=0.2, bins=20, label='correct')\n",
    "    plt.hist(df[df['correct'] == False]['intersection_proximity'], density=True, alpha=0.2, bins=20, label='incorrect')\n",
    "    plt.legend()"
   ]
  },
  {
   "cell_type": "code",
   "execution_count": 25,
   "metadata": {
    "scrolled": true
   },
   "outputs": [
    {
     "data": {
      "text/html": [
       "<div>\n",
       "<style scoped>\n",
       "    .dataframe tbody tr th:only-of-type {\n",
       "        vertical-align: middle;\n",
       "    }\n",
       "\n",
       "    .dataframe tbody tr th {\n",
       "        vertical-align: top;\n",
       "    }\n",
       "\n",
       "    .dataframe thead th {\n",
       "        text-align: right;\n",
       "    }\n",
       "</style>\n",
       "<table border=\"1\" class=\"dataframe\">\n",
       "  <thead>\n",
       "    <tr style=\"text-align: right;\">\n",
       "      <th></th>\n",
       "    </tr>\n",
       "  </thead>\n",
       "  <tbody>\n",
       "  </tbody>\n",
       "</table>\n",
       "</div>"
      ],
      "text/plain": [
       "Empty DataFrame\n",
       "Columns: []\n",
       "Index: []"
      ]
     },
     "execution_count": 25,
     "metadata": {},
     "output_type": "execute_result"
    },
    {
     "data": {
      "image/png": "[encoded data removed]",
      "text/plain": [
       "<Figure size 432x288 with 1 Axes>"
      ]
     },
     "metadata": {
      "needs_background": "light"
     },
     "output_type": "display_data"
    },
    {
     "data": {
      "image/png": "[encoded data removed]",
      "text/plain": [
       "<Figure size 432x288 with 1 Axes>"
      ]
     },
     "metadata": {
      "needs_background": "light"
     },
     "output_type": "display_data"
    },
    {
     "data": {
      "image/png": "[encoded data removed]",
      "text/plain": [
       "<Figure size 432x288 with 1 Axes>"
      ]
     },
     "metadata": {
      "needs_background": "light"
     },
     "output_type": "display_data"
    },
    {
     "data": {
      "image/png": "[encoded data removed]",
      "text/plain": [
       "<Figure size 432x288 with 1 Axes>"
      ]
     },
     "metadata": {
      "needs_background": "light"
     },
     "output_type": "display_data"
    }
   ],
   "source": [
    "validated_label_features.groupby('label_type').apply(lambda x: plot_intersection_proximity(x, x.name))\n"
   ]
  },
  {
   "cell_type": "code",
   "execution_count": 26,
   "metadata": {
    "scrolled": true
   },
   "outputs": [
    {
     "data": {
      "image/png": "[encoded data removed]",
      "text/plain": [
       "<Figure size 432x288 with 1 Axes>"
      ]
     },
     "metadata": {
      "needs_background": "light"
     },
     "output_type": "display_data"
    }
   ],
   "source": [
    "plot_intersection_proximity(validated_label_features, 'Aggregate')"
   ]
  },
  {
   "cell_type": "code",
   "execution_count": 27,
   "metadata": {},
   "outputs": [
    {
     "data": {
      "text/plain": [
       "<matplotlib.legend.Legend at 0x1a52d6cd30>"
      ]
     },
     "execution_count": 27,
     "metadata": {},
     "output_type": "execute_result"
    },
    {
     "data": {
      "image/png": "[encoded data removed]",
      "text/plain": [
       "<Figure size 432x288 with 1 Axes>"
      ]
     },
     "metadata": {
      "needs_background": "light"
     },
     "output_type": "display_data"
    }
   ],
   "source": [
    "plt.figure()\n",
    "correct_labels = validated_label_features['label_type'][validated_label_features['correct'] == True].value_counts()\n",
    "incorrect_labels = validated_label_features['label_type'][validated_label_features['correct'] == False].value_counts()\n",
    "df = pd.concat([correct_labels.rename('correct'), incorrect_labels.rename('incorrect')], axis=1, sort=True)\n",
    "plt.bar(df.index, df['correct'], label='correct')\n",
    "plt.bar(df.index, df['incorrect'], bottom=df['correct'], label='incorrect')\n",
    "plt.ylabel('count')\n",
    "plt.title('Correctness of labels by type')\n",
    "plt.legend()"
   ]
  },
  {
   "cell_type": "markdown",
   "metadata": {},
   "source": [
    "## Correlation Matrix"
   ]
  },
  {
   "cell_type": "code",
   "execution_count": 161,
   "metadata": {},
   "outputs": [
    {
     "data": {
      "text/plain": [
       "<matplotlib.axes._subplots.AxesSubplot at 0x1a746382b0>"
      ]
     },
     "execution_count": 161,
     "metadata": {},
     "output_type": "execute_result"
    },
    {
     "data": {
      "image/png": "[encoded data removed]",
      "text/plain": [
       "<Figure size 432x288 with 2 Axes>"
      ]
     },
     "metadata": {
      "needs_background": "light"
     },
     "output_type": "display_data"
    }
   ],
   "source": [
    "plt.figure()\n",
    "plt.title('Correlation Matrix')\n",
    "sns.heatmap(validated_label_features.corr())"
   ]
  },
  {
   "cell_type": "code",
   "execution_count": 162,
   "metadata": {},
   "outputs": [
    {
     "data": {
      "text/plain": [
       "<matplotlib.axes._subplots.AxesSubplot at 0x1a3d75ae10>"
      ]
     },
     "execution_count": 162,
     "metadata": {},
     "output_type": "execute_result"
    },
    {
     "data": {
      "image/png": "[encoded data removed]",
      "text/plain": [
       "<Figure size 720x432 with 2 Axes>"
      ]
     },
     "metadata": {
      "needs_background": "light"
     },
     "output_type": "display_data"
    }
   ],
   "source": [
    "# Compute the correlation matrix\n",
    "corr = validated_label_features.corr()\n",
    "# Generate a mask for the upper triangle\n",
    "mask = np.zeros_like(corr, dtype=np.bool)\n",
    "mask[np.triu_indices_from (mask)] = True\n",
    "# Set up the matplotlib figure\n",
    "f, ax = plt.subplots(figsize=(10, 6))\n",
    "ax.set_title('Pretty Correlation Matrix')\n",
    "# Generate a custom diverging colormap\n",
    "cmap = sns.diverging_palette (220, 10, as_cmap=True)\n",
    "# Draw heatmap w/the mask & correct aspect ratio\n",
    "sns.heatmap(corr, mask=mask, cmap=cmap, vmax=1, center=0, square=True, linewidths=.5,cbar_kws={\"shrink\":.5})"
   ]
  },
  {
   "cell_type": "markdown",
   "metadata": {},
   "source": [
    "# ML Pipeline"
   ]
  },
  {
   "cell_type": "code",
   "execution_count": 168,
   "metadata": {},
   "outputs": [],
   "source": [
    "from sklearn import svm\n",
    "from sklearn import preprocessing\n",
    "from sklearn.model_selection import KFold\n",
    "from sklearn.feature_selection import SelectFromModel\n",
    "from sklearn.pipeline import Pipeline\n",
    "from sklearn.ensemble import RandomForestClassifier, ExtraTreesClassifier\n",
    "from sklearn.model_selection import GridSearchCV"
   ]
  },
  {
   "cell_type": "code",
   "execution_count": 305,
   "metadata": {
    "scrolled": true
   },
   "outputs": [],
   "source": [
    "le = preprocessing.LabelEncoder()\n",
    "# transform label_type into an int\n",
    "validated_label_features['label_id'] = le.fit_transform(validated_label_features['label_type'])"
   ]
  },
  {
   "cell_type": "code",
   "execution_count": 306,
   "metadata": {},
   "outputs": [],
   "source": [
    "features = ['zoom', 'label_id', 'mousemoves', 'heading_range', \n",
    "            'total_time', 'pov_changes_per_pano', 'intersection_proximity',\n",
    "           'time_per_pano', 'mouseups_per_pano', 'up_keys_per_pano', 'canvas_x', 'canvas_y', 'mouse_speed']"
   ]
  },
  {
   "cell_type": "code",
   "execution_count": 307,
   "metadata": {},
   "outputs": [],
   "source": [
    "X = validated_label_features[features].values\n",
    "y = validated_label_features['correct'].values"
   ]
  },
  {
   "cell_type": "code",
   "execution_count": 308,
   "metadata": {},
   "outputs": [],
   "source": [
    "# Undersample the majority class\n",
    "incorrect_indices, = np.where(y == 0)\n",
    "correct_indices, = np.where(y == 1)\n",
    "needed = min(len(incorrect_indices), len(correct_indices))\n",
    "chosen_indices = np.concatenate((np.random.choice(correct_indices, needed, replace=False), np.random.choice(incorrect_indices, needed, replace=False)))\n",
    "\n",
    "X = X[chosen_indices]\n",
    "y = y[chosen_indices]"
   ]
  },
  {
   "cell_type": "code",
   "execution_count": 309,
   "metadata": {},
   "outputs": [],
   "source": [
    "y = y.astype(int)"
   ]
  },
  {
   "cell_type": "code",
   "execution_count": 310,
   "metadata": {
    "scrolled": false
   },
   "outputs": [
    {
     "data": {
      "application/javascript": [
       "/* Put everything inside the global mpl namespace */\n",
       "window.mpl = {};\n",
       "\n",
       "\n",
       "mpl.get_websocket_type = function() {\n",
       "    if (typeof(WebSocket) !== 'undefined') {\n",
       "        return WebSocket;\n",
       "    } else if (typeof(MozWebSocket) !== 'undefined') {\n",
       "        return MozWebSocket;\n",
       "    } else {\n",
       "        alert('Your browser does not have WebSocket support.' +\n",
       "              'Please try Chrome, Safari or Firefox ≥ 6. ' +\n",
       "              'Firefox 4 and 5 are also supported but you ' +\n",
       "              'have to enable WebSockets in about:config.');\n",
       "    };\n",
       "}\n",
       "\n",
       "mpl.figure = function(figure_id, websocket, ondownload, parent_element) {\n",
       "    this.id = figure_id;\n",
       "\n",
       "    this.ws = websocket;\n",
       "\n",
       "    this.supports_binary = (this.ws.binaryType != undefined);\n",
       "\n",
       "    if (!this.supports_binary) {\n",
       "        var warnings = document.getElementById(\"mpl-warnings\");\n",
       "        if (warnings) {\n",
       "            warnings.style.display = 'block';\n",
       "            warnings.textContent = (\n",
       "                \"This browser does not support binary websocket messages. \" +\n",
       "                    \"Performance may be slow.\");\n",
       "        }\n",
       "    }\n",
       "\n",
       "    this.imageObj = new Image();\n",
       "\n",
       "    this.context = undefined;\n",
       "    this.message = undefined;\n",
       "    this.canvas = undefined;\n",
       "    this.rubberband_canvas = undefined;\n",
       "    this.rubberband_context = undefined;\n",
       "    this.format_dropdown = undefined;\n",
       "\n",
       "    this.image_mode = 'full';\n",
       "\n",
       "    this.root = $('<div/>');\n",
       "    this._root_extra_style(this.root)\n",
       "    this.root.attr('style', 'display: inline-block');\n",
       "\n",
       "    $(parent_element).append(this.root);\n",
       "\n",
       "    this._init_header(this);\n",
       "    this._init_canvas(this);\n",
       "    this._init_toolbar(this);\n",
       "\n",
       "    var fig = this;\n",
       "\n",
       "    this.waiting = false;\n",
       "\n",
       "    this.ws.onopen =  function () {\n",
       "            fig.send_message(\"supports_binary\", {value: fig.supports_binary});\n",
       "            fig.send_message(\"send_image_mode\", {});\n",
       "            if (mpl.ratio != 1) {\n",
       "                fig.send_message(\"set_dpi_ratio\", {'dpi_ratio': mpl.ratio});\n",
       "            }\n",
       "            fig.send_message(\"refresh\", {});\n",
       "        }\n",
       "\n",
       "    this.imageObj.onload = function() {\n",
       "            if (fig.image_mode == 'full') {\n",
       "                // Full images could contain transparency (where diff images\n",
       "                // almost always do), so we need to clear the canvas so that\n",
       "                // there is no ghosting.\n",
       "                fig.context.clearRect(0, 0, fig.canvas.width, fig.canvas.height);\n",
       "            }\n",
       "            fig.context.drawImage(fig.imageObj, 0, 0);\n",
       "        };\n",
       "\n",
       "    this.imageObj.onunload = function() {\n",
       "        fig.ws.close();\n",
       "    }\n",
       "\n",
       "    this.ws.onmessage = this._make_on_message_function(this);\n",
       "\n",
       "    this.ondownload = ondownload;\n",
       "}\n",
       "\n",
       "mpl.figure.prototype._init_header = function() {\n",
       "    var titlebar = $(\n",
       "        '<div class=\"ui-dialog-titlebar ui-widget-header ui-corner-all ' +\n",
       "        'ui-helper-clearfix\"/>');\n",
       "    var titletext = $(\n",
       "        '<div class=\"ui-dialog-title\" style=\"width: 100%; ' +\n",
       "        'text-align: center; padding: 3px;\"/>');\n",
       "    titlebar.append(titletext)\n",
       "    this.root.append(titlebar);\n",
       "    this.header = titletext[0];\n",
       "}\n",
       "\n",
       "\n",
       "\n",
       "mpl.figure.prototype._canvas_extra_style = function(canvas_div) {\n",
       "\n",
       "}\n",
       "\n",
       "\n",
       "mpl.figure.prototype._root_extra_style = function(canvas_div) {\n",
       "\n",
       "}\n",
       "\n",
       "mpl.figure.prototype._init_canvas = function() {\n",
       "    var fig = this;\n",
       "\n",
       "    var canvas_div = $('<div/>');\n",
       "\n",
       "    canvas_div.attr('style', 'position: relative; clear: both; outline: 0');\n",
       "\n",
       "    function canvas_keyboard_event(event) {\n",
       "        return fig.key_event(event, event['data']);\n",
       "    }\n",
       "\n",
       "    canvas_div.keydown('key_press', canvas_keyboard_event);\n",
       "    canvas_div.keyup('key_release', canvas_keyboard_event);\n",
       "    this.canvas_div = canvas_div\n",
       "    this._canvas_extra_style(canvas_div)\n",
       "    this.root.append(canvas_div);\n",
       "\n",
       "    var canvas = $('<canvas/>');\n",
       "    canvas.addClass('mpl-canvas');\n",
       "    canvas.attr('style', \"left: 0; top: 0; z-index: 0; outline: 0\")\n",
       "\n",
       "    this.canvas = canvas[0];\n",
       "    this.context = canvas[0].getContext(\"2d\");\n",
       "\n",
       "    var backingStore = this.context.backingStorePixelRatio ||\n",
       "\tthis.context.webkitBackingStorePixelRatio ||\n",
       "\tthis.context.mozBackingStorePixelRatio ||\n",
       "\tthis.context.msBackingStorePixelRatio ||\n",
       "\tthis.context.oBackingStorePixelRatio ||\n",
       "\tthis.context.backingStorePixelRatio || 1;\n",
       "\n",
       "    mpl.ratio = (window.devicePixelRatio || 1) / backingStore;\n",
       "\n",
       "    var rubberband = $('<canvas/>');\n",
       "    rubberband.attr('style', \"position: absolute; left: 0; top: 0; z-index: 1;\")\n",
       "\n",
       "    var pass_mouse_events = true;\n",
       "\n",
       "    canvas_div.resizable({\n",
       "        start: function(event, ui) {\n",
       "            pass_mouse_events = false;\n",
       "        },\n",
       "        resize: function(event, ui) {\n",
       "            fig.request_resize(ui.size.width, ui.size.height);\n",
       "        },\n",
       "        stop: function(event, ui) {\n",
       "            pass_mouse_events = true;\n",
       "            fig.request_resize(ui.size.width, ui.size.height);\n",
       "        },\n",
       "    });\n",
       "\n",
       "    function mouse_event_fn(event) {\n",
       "        if (pass_mouse_events)\n",
       "            return fig.mouse_event(event, event['data']);\n",
       "    }\n",
       "\n",
       "    rubberband.mousedown('button_press', mouse_event_fn);\n",
       "    rubberband.mouseup('button_release', mouse_event_fn);\n",
       "    // Throttle sequential mouse events to 1 every 20ms.\n",
       "    rubberband.mousemove('motion_notify', mouse_event_fn);\n",
       "\n",
       "    rubberband.mouseenter('figure_enter', mouse_event_fn);\n",
       "    rubberband.mouseleave('figure_leave', mouse_event_fn);\n",
       "\n",
       "    canvas_div.on(\"wheel\", function (event) {\n",
       "        event = event.originalEvent;\n",
       "        event['data'] = 'scroll'\n",
       "        if (event.deltaY < 0) {\n",
       "            event.step = 1;\n",
       "        } else {\n",
       "            event.step = -1;\n",
       "        }\n",
       "        mouse_event_fn(event);\n",
       "    });\n",
       "\n",
       "    canvas_div.append(canvas);\n",
       "    canvas_div.append(rubberband);\n",
       "\n",
       "    this.rubberband = rubberband;\n",
       "    this.rubberband_canvas = rubberband[0];\n",
       "    this.rubberband_context = rubberband[0].getContext(\"2d\");\n",
       "    this.rubberband_context.strokeStyle = \"#000000\";\n",
       "\n",
       "    this._resize_canvas = function(width, height) {\n",
       "        // Keep the size of the canvas, canvas container, and rubber band\n",
       "        // canvas in synch.\n",
       "        canvas_div.css('width', width)\n",
       "        canvas_div.css('height', height)\n",
       "\n",
       "        canvas.attr('width', width * mpl.ratio);\n",
       "        canvas.attr('height', height * mpl.ratio);\n",
       "        canvas.attr('style', 'width: ' + width + 'px; height: ' + height + 'px;');\n",
       "\n",
       "        rubberband.attr('width', width);\n",
       "        rubberband.attr('height', height);\n",
       "    }\n",
       "\n",
       "    // Set the figure to an initial 600x600px, this will subsequently be updated\n",
       "    // upon first draw.\n",
       "    this._resize_canvas(600, 600);\n",
       "\n",
       "    // Disable right mouse context menu.\n",
       "    $(this.rubberband_canvas).bind(\"contextmenu\",function(e){\n",
       "        return false;\n",
       "    });\n",
       "\n",
       "    function set_focus () {\n",
       "        canvas.focus();\n",
       "        canvas_div.focus();\n",
       "    }\n",
       "\n",
       "    window.setTimeout(set_focus, 100);\n",
       "}\n",
       "\n",
       "mpl.figure.prototype._init_toolbar = function() {\n",
       "    var fig = this;\n",
       "\n",
       "    var nav_element = $('<div/>')\n",
       "    nav_element.attr('style', 'width: 100%');\n",
       "    this.root.append(nav_element);\n",
       "\n",
       "    // Define a callback function for later on.\n",
       "    function toolbar_event(event) {\n",
       "        return fig.toolbar_button_onclick(event['data']);\n",
       "    }\n",
       "    function toolbar_mouse_event(event) {\n",
       "        return fig.toolbar_button_onmouseover(event['data']);\n",
       "    }\n",
       "\n",
       "    for(var toolbar_ind in mpl.toolbar_items) {\n",
       "        var name = mpl.toolbar_items[toolbar_ind][0];\n",
       "        var tooltip = mpl.toolbar_items[toolbar_ind][1];\n",
       "        var image = mpl.toolbar_items[toolbar_ind][2];\n",
       "        var method_name = mpl.toolbar_items[toolbar_ind][3];\n",
       "\n",
       "        if (!name) {\n",
       "            // put a spacer in here.\n",
       "            continue;\n",
       "        }\n",
       "        var button = $('<button/>');\n",
       "        button.addClass('ui-button ui-widget ui-state-default ui-corner-all ' +\n",
       "                        'ui-button-icon-only');\n",
       "        button.attr('role', 'button');\n",
       "        button.attr('aria-disabled', 'false');\n",
       "        button.click(method_name, toolbar_event);\n",
       "        button.mouseover(tooltip, toolbar_mouse_event);\n",
       "\n",
       "        var icon_img = $('<span/>');\n",
       "        icon_img.addClass('ui-button-icon-primary ui-icon');\n",
       "        icon_img.addClass(image);\n",
       "        icon_img.addClass('ui-corner-all');\n",
       "\n",
       "        var tooltip_span = $('<span/>');\n",
       "        tooltip_span.addClass('ui-button-text');\n",
       "        tooltip_span.html(tooltip);\n",
       "\n",
       "        button.append(icon_img);\n",
       "        button.append(tooltip_span);\n",
       "\n",
       "        nav_element.append(button);\n",
       "    }\n",
       "\n",
       "    var fmt_picker_span = $('<span/>');\n",
       "\n",
       "    var fmt_picker = $('<select/>');\n",
       "    fmt_picker.addClass('mpl-toolbar-option ui-widget ui-widget-content');\n",
       "    fmt_picker_span.append(fmt_picker);\n",
       "    nav_element.append(fmt_picker_span);\n",
       "    this.format_dropdown = fmt_picker[0];\n",
       "\n",
       "    for (var ind in mpl.extensions) {\n",
       "        var fmt = mpl.extensions[ind];\n",
       "        var option = $(\n",
       "            '<option/>', {selected: fmt === mpl.default_extension}).html(fmt);\n",
       "        fmt_picker.append(option)\n",
       "    }\n",
       "\n",
       "    // Add hover states to the ui-buttons\n",
       "    $( \".ui-button\" ).hover(\n",
       "        function() { $(this).addClass(\"ui-state-hover\");},\n",
       "        function() { $(this).removeClass(\"ui-state-hover\");}\n",
       "    );\n",
       "\n",
       "    var status_bar = $('<span class=\"mpl-message\"/>');\n",
       "    nav_element.append(status_bar);\n",
       "    this.message = status_bar[0];\n",
       "}\n",
       "\n",
       "mpl.figure.prototype.request_resize = function(x_pixels, y_pixels) {\n",
       "    // Request matplotlib to resize the figure. Matplotlib will then trigger a resize in the client,\n",
       "    // which will in turn request a refresh of the image.\n",
       "    this.send_message('resize', {'width': x_pixels, 'height': y_pixels});\n",
       "}\n",
       "\n",
       "mpl.figure.prototype.send_message = function(type, properties) {\n",
       "    properties['type'] = type;\n",
       "    properties['figure_id'] = this.id;\n",
       "    this.ws.send(JSON.stringify(properties));\n",
       "}\n",
       "\n",
       "mpl.figure.prototype.send_draw_message = function() {\n",
       "    if (!this.waiting) {\n",
       "        this.waiting = true;\n",
       "        this.ws.send(JSON.stringify({type: \"draw\", figure_id: this.id}));\n",
       "    }\n",
       "}\n",
       "\n",
       "\n",
       "mpl.figure.prototype.handle_save = function(fig, msg) {\n",
       "    var format_dropdown = fig.format_dropdown;\n",
       "    var format = format_dropdown.options[format_dropdown.selectedIndex].value;\n",
       "    fig.ondownload(fig, format);\n",
       "}\n",
       "\n",
       "\n",
       "mpl.figure.prototype.handle_resize = function(fig, msg) {\n",
       "    var size = msg['size'];\n",
       "    if (size[0] != fig.canvas.width || size[1] != fig.canvas.height) {\n",
       "        fig._resize_canvas(size[0], size[1]);\n",
       "        fig.send_message(\"refresh\", {});\n",
       "    };\n",
       "}\n",
       "\n",
       "mpl.figure.prototype.handle_rubberband = function(fig, msg) {\n",
       "    var x0 = msg['x0'] / mpl.ratio;\n",
       "    var y0 = (fig.canvas.height - msg['y0']) / mpl.ratio;\n",
       "    var x1 = msg['x1'] / mpl.ratio;\n",
       "    var y1 = (fig.canvas.height - msg['y1']) / mpl.ratio;\n",
       "    x0 = Math.floor(x0) + 0.5;\n",
       "    y0 = Math.floor(y0) + 0.5;\n",
       "    x1 = Math.floor(x1) + 0.5;\n",
       "    y1 = Math.floor(y1) + 0.5;\n",
       "    var min_x = Math.min(x0, x1);\n",
       "    var min_y = Math.min(y0, y1);\n",
       "    var width = Math.abs(x1 - x0);\n",
       "    var height = Math.abs(y1 - y0);\n",
       "\n",
       "    fig.rubberband_context.clearRect(\n",
       "        0, 0, fig.canvas.width, fig.canvas.height);\n",
       "\n",
       "    fig.rubberband_context.strokeRect(min_x, min_y, width, height);\n",
       "}\n",
       "\n",
       "mpl.figure.prototype.handle_figure_label = function(fig, msg) {\n",
       "    // Updates the figure title.\n",
       "    fig.header.textContent = msg['label'];\n",
       "}\n",
       "\n",
       "mpl.figure.prototype.handle_cursor = function(fig, msg) {\n",
       "    var cursor = msg['cursor'];\n",
       "    switch(cursor)\n",
       "    {\n",
       "    case 0:\n",
       "        cursor = 'pointer';\n",
       "        break;\n",
       "    case 1:\n",
       "        cursor = 'default';\n",
       "        break;\n",
       "    case 2:\n",
       "        cursor = 'crosshair';\n",
       "        break;\n",
       "    case 3:\n",
       "        cursor = 'move';\n",
       "        break;\n",
       "    }\n",
       "    fig.rubberband_canvas.style.cursor = cursor;\n",
       "}\n",
       "\n",
       "mpl.figure.prototype.handle_message = function(fig, msg) {\n",
       "    fig.message.textContent = msg['message'];\n",
       "}\n",
       "\n",
       "mpl.figure.prototype.handle_draw = function(fig, msg) {\n",
       "    // Request the server to send over a new figure.\n",
       "    fig.send_draw_message();\n",
       "}\n",
       "\n",
       "mpl.figure.prototype.handle_image_mode = function(fig, msg) {\n",
       "    fig.image_mode = msg['mode'];\n",
       "}\n",
       "\n",
       "mpl.figure.prototype.updated_canvas_event = function() {\n",
       "    // Called whenever the canvas gets updated.\n",
       "    this.send_message(\"ack\", {});\n",
       "}\n",
       "\n",
       "// A function to construct a web socket function for onmessage handling.\n",
       "// Called in the figure constructor.\n",
       "mpl.figure.prototype._make_on_message_function = function(fig) {\n",
       "    return function socket_on_message(evt) {\n",
       "        if (evt.data instanceof Blob) {\n",
       "            /* FIXME: We get \"Resource interpreted as Image but\n",
       "             * transferred with MIME type text/plain:\" errors on\n",
       "             * Chrome.  But how to set the MIME type?  It doesn't seem\n",
       "             * to be part of the websocket stream */\n",
       "            evt.data.type = \"image/png\";\n",
       "\n",
       "            /* Free the memory for the previous frames */\n",
       "            if (fig.imageObj.src) {\n",
       "                (window.URL || window.webkitURL).revokeObjectURL(\n",
       "                    fig.imageObj.src);\n",
       "            }\n",
       "\n",
       "            fig.imageObj.src = (window.URL || window.webkitURL).createObjectURL(\n",
       "                evt.data);\n",
       "            fig.updated_canvas_event();\n",
       "            fig.waiting = false;\n",
       "            return;\n",
       "        }\n",
       "        else if (typeof evt.data === 'string' && evt.data.slice(0, 21) == \"data:image/png;base64\") {\n",
       "            fig.imageObj.src = evt.data;\n",
       "            fig.updated_canvas_event();\n",
       "            fig.waiting = false;\n",
       "            return;\n",
       "        }\n",
       "\n",
       "        var msg = JSON.parse(evt.data);\n",
       "        var msg_type = msg['type'];\n",
       "\n",
       "        // Call the  \"handle_{type}\" callback, which takes\n",
       "        // the figure and JSON message as its only arguments.\n",
       "        try {\n",
       "            var callback = fig[\"handle_\" + msg_type];\n",
       "        } catch (e) {\n",
       "            console.log(\"No handler for the '\" + msg_type + \"' message type: \", msg);\n",
       "            return;\n",
       "        }\n",
       "\n",
       "        if (callback) {\n",
       "            try {\n",
       "                // console.log(\"Handling '\" + msg_type + \"' message: \", msg);\n",
       "                callback(fig, msg);\n",
       "            } catch (e) {\n",
       "                console.log(\"Exception inside the 'handler_\" + msg_type + \"' callback:\", e, e.stack, msg);\n",
       "            }\n",
       "        }\n",
       "    };\n",
       "}\n",
       "\n",
       "// from http://stackoverflow.com/questions/1114465/getting-mouse-location-in-canvas\n",
       "mpl.findpos = function(e) {\n",
       "    //this section is from http://www.quirksmode.org/js/events_properties.html\n",
       "    var targ;\n",
       "    if (!e)\n",
       "        e = window.event;\n",
       "    if (e.target)\n",
       "        targ = e.target;\n",
       "    else if (e.srcElement)\n",
       "        targ = e.srcElement;\n",
       "    if (targ.nodeType == 3) // defeat Safari bug\n",
       "        targ = targ.parentNode;\n",
       "\n",
       "    // jQuery normalizes the pageX and pageY\n",
       "    // pageX,Y are the mouse positions relative to the document\n",
       "    // offset() returns the position of the element relative to the document\n",
       "    var x = e.pageX - $(targ).offset().left;\n",
       "    var y = e.pageY - $(targ).offset().top;\n",
       "\n",
       "    return {\"x\": x, \"y\": y};\n",
       "};\n",
       "\n",
       "/*\n",
       " * return a copy of an object with only non-object keys\n",
       " * we need this to avoid circular references\n",
       " * http://stackoverflow.com/a/24161582/3208463\n",
       " */\n",
       "function simpleKeys (original) {\n",
       "  return Object.keys(original).reduce(function (obj, key) {\n",
       "    if (typeof original[key] !== 'object')\n",
       "        obj[key] = original[key]\n",
       "    return obj;\n",
       "  }, {});\n",
       "}\n",
       "\n",
       "mpl.figure.prototype.mouse_event = function(event, name) {\n",
       "    var canvas_pos = mpl.findpos(event)\n",
       "\n",
       "    if (name === 'button_press')\n",
       "    {\n",
       "        this.canvas.focus();\n",
       "        this.canvas_div.focus();\n",
       "    }\n",
       "\n",
       "    var x = canvas_pos.x * mpl.ratio;\n",
       "    var y = canvas_pos.y * mpl.ratio;\n",
       "\n",
       "    this.send_message(name, {x: x, y: y, button: event.button,\n",
       "                             step: event.step,\n",
       "                             guiEvent: simpleKeys(event)});\n",
       "\n",
       "    /* This prevents the web browser from automatically changing to\n",
       "     * the text insertion cursor when the button is pressed.  We want\n",
       "     * to control all of the cursor setting manually through the\n",
       "     * 'cursor' event from matplotlib */\n",
       "    event.preventDefault();\n",
       "    return false;\n",
       "}\n",
       "\n",
       "mpl.figure.prototype._key_event_extra = function(event, name) {\n",
       "    // Handle any extra behaviour associated with a key event\n",
       "}\n",
       "\n",
       "mpl.figure.prototype.key_event = function(event, name) {\n",
       "\n",
       "    // Prevent repeat events\n",
       "    if (name == 'key_press')\n",
       "    {\n",
       "        if (event.which === this._key)\n",
       "            return;\n",
       "        else\n",
       "            this._key = event.which;\n",
       "    }\n",
       "    if (name == 'key_release')\n",
       "        this._key = null;\n",
       "\n",
       "    var value = '';\n",
       "    if (event.ctrlKey && event.which != 17)\n",
       "        value += \"ctrl+\";\n",
       "    if (event.altKey && event.which != 18)\n",
       "        value += \"alt+\";\n",
       "    if (event.shiftKey && event.which != 16)\n",
       "        value += \"shift+\";\n",
       "\n",
       "    value += 'k';\n",
       "    value += event.which.toString();\n",
       "\n",
       "    this._key_event_extra(event, name);\n",
       "\n",
       "    this.send_message(name, {key: value,\n",
       "                             guiEvent: simpleKeys(event)});\n",
       "    return false;\n",
       "}\n",
       "\n",
       "mpl.figure.prototype.toolbar_button_onclick = function(name) {\n",
       "    if (name == 'download') {\n",
       "        this.handle_save(this, null);\n",
       "    } else {\n",
       "        this.send_message(\"toolbar_button\", {name: name});\n",
       "    }\n",
       "};\n",
       "\n",
       "mpl.figure.prototype.toolbar_button_onmouseover = function(tooltip) {\n",
       "    this.message.textContent = tooltip;\n",
       "};\n",
       "mpl.toolbar_items = [[\"Home\", \"Reset original view\", \"fa fa-home icon-home\", \"home\"], [\"Back\", \"Back to previous view\", \"fa fa-arrow-left icon-arrow-left\", \"back\"], [\"Forward\", \"Forward to next view\", \"fa fa-arrow-right icon-arrow-right\", \"forward\"], [\"\", \"\", \"\", \"\"], [\"Pan\", \"Pan axes with left mouse, zoom with right\", \"fa fa-arrows icon-move\", \"pan\"], [\"Zoom\", \"Zoom to rectangle\", \"fa fa-square-o icon-check-empty\", \"zoom\"], [\"\", \"\", \"\", \"\"], [\"Download\", \"Download plot\", \"fa fa-floppy-o icon-save\", \"download\"]];\n",
       "\n",
       "mpl.extensions = [\"eps\", \"jpeg\", \"pdf\", \"png\", \"ps\", \"raw\", \"svg\", \"tif\"];\n",
       "\n",
       "mpl.default_extension = \"png\";var comm_websocket_adapter = function(comm) {\n",
       "    // Create a \"websocket\"-like object which calls the given IPython comm\n",
       "    // object with the appropriate methods. Currently this is a non binary\n",
       "    // socket, so there is still some room for performance tuning.\n",
       "    var ws = {};\n",
       "\n",
       "    ws.close = function() {\n",
       "        comm.close()\n",
       "    };\n",
       "    ws.send = function(m) {\n",
       "        //console.log('sending', m);\n",
       "        comm.send(m);\n",
       "    };\n",
       "    // Register the callback with on_msg.\n",
       "    comm.on_msg(function(msg) {\n",
       "        //console.log('receiving', msg['content']['data'], msg);\n",
       "        // Pass the mpl event to the overridden (by mpl) onmessage function.\n",
       "        ws.onmessage(msg['content']['data'])\n",
       "    });\n",
       "    return ws;\n",
       "}\n",
       "\n",
       "mpl.mpl_figure_comm = function(comm, msg) {\n",
       "    // This is the function which gets called when the mpl process\n",
       "    // starts-up an IPython Comm through the \"matplotlib\" channel.\n",
       "\n",
       "    var id = msg.content.data.id;\n",
       "    // Get hold of the div created by the display call when the Comm\n",
       "    // socket was opened in Python.\n",
       "    var element = $(\"#\" + id);\n",
       "    var ws_proxy = comm_websocket_adapter(comm)\n",
       "\n",
       "    function ondownload(figure, format) {\n",
       "        window.open(figure.imageObj.src);\n",
       "    }\n",
       "\n",
       "    var fig = new mpl.figure(id, ws_proxy,\n",
       "                           ondownload,\n",
       "                           element.get(0));\n",
       "\n",
       "    // Call onopen now - mpl needs it, as it is assuming we've passed it a real\n",
       "    // web socket which is closed, not our websocket->open comm proxy.\n",
       "    ws_proxy.onopen();\n",
       "\n",
       "    fig.parent_element = element.get(0);\n",
       "    fig.cell_info = mpl.find_output_cell(\"<div id='\" + id + \"'></div>\");\n",
       "    if (!fig.cell_info) {\n",
       "        console.error(\"Failed to find cell for figure\", id, fig);\n",
       "        return;\n",
       "    }\n",
       "\n",
       "    var output_index = fig.cell_info[2]\n",
       "    var cell = fig.cell_info[0];\n",
       "\n",
       "};\n",
       "\n",
       "mpl.figure.prototype.handle_close = function(fig, msg) {\n",
       "    var width = fig.canvas.width/mpl.ratio\n",
       "    fig.root.unbind('remove')\n",
       "\n",
       "    // Update the output cell to use the data from the current canvas.\n",
       "    fig.push_to_output();\n",
       "    var dataURL = fig.canvas.toDataURL();\n",
       "    // Re-enable the keyboard manager in IPython - without this line, in FF,\n",
       "    // the notebook keyboard shortcuts fail.\n",
       "    IPython.keyboard_manager.enable()\n",
       "    $(fig.parent_element).html('<img src=\"' + dataURL + '\" width=\"' + width + '\">');\n",
       "    fig.close_ws(fig, msg);\n",
       "}\n",
       "\n",
       "mpl.figure.prototype.close_ws = function(fig, msg){\n",
       "    fig.send_message('closing', msg);\n",
       "    // fig.ws.close()\n",
       "}\n",
       "\n",
       "mpl.figure.prototype.push_to_output = function(remove_interactive) {\n",
       "    // Turn the data on the canvas into data in the output cell.\n",
       "    var width = this.canvas.width/mpl.ratio\n",
       "    var dataURL = this.canvas.toDataURL();\n",
       "    this.cell_info[1]['text/html'] = '<img src=\"' + dataURL + '\" width=\"' + width + '\">';\n",
       "}\n",
       "\n",
       "mpl.figure.prototype.updated_canvas_event = function() {\n",
       "    // Tell IPython that the notebook contents must change.\n",
       "    IPython.notebook.set_dirty(true);\n",
       "    this.send_message(\"ack\", {});\n",
       "    var fig = this;\n",
       "    // Wait a second, then push the new image to the DOM so\n",
       "    // that it is saved nicely (might be nice to debounce this).\n",
       "    setTimeout(function () { fig.push_to_output() }, 1000);\n",
       "}\n",
       "\n",
       "mpl.figure.prototype._init_toolbar = function() {\n",
       "    var fig = this;\n",
       "\n",
       "    var nav_element = $('<div/>')\n",
       "    nav_element.attr('style', 'width: 100%');\n",
       "    this.root.append(nav_element);\n",
       "\n",
       "    // Define a callback function for later on.\n",
       "    function toolbar_event(event) {\n",
       "        return fig.toolbar_button_onclick(event['data']);\n",
       "    }\n",
       "    function toolbar_mouse_event(event) {\n",
       "        return fig.toolbar_button_onmouseover(event['data']);\n",
       "    }\n",
       "\n",
       "    for(var toolbar_ind in mpl.toolbar_items){\n",
       "        var name = mpl.toolbar_items[toolbar_ind][0];\n",
       "        var tooltip = mpl.toolbar_items[toolbar_ind][1];\n",
       "        var image = mpl.toolbar_items[toolbar_ind][2];\n",
       "        var method_name = mpl.toolbar_items[toolbar_ind][3];\n",
       "\n",
       "        if (!name) { continue; };\n",
       "\n",
       "        var button = $('<button class=\"btn btn-default\" href=\"#\" title=\"' + name + '\"><i class=\"fa ' + image + ' fa-lg\"></i></button>');\n",
       "        button.click(method_name, toolbar_event);\n",
       "        button.mouseover(tooltip, toolbar_mouse_event);\n",
       "        nav_element.append(button);\n",
       "    }\n",
       "\n",
       "    // Add the status bar.\n",
       "    var status_bar = $('<span class=\"mpl-message\" style=\"text-align:right; float: right;\"/>');\n",
       "    nav_element.append(status_bar);\n",
       "    this.message = status_bar[0];\n",
       "\n",
       "    // Add the close button to the window.\n",
       "    var buttongrp = $('<div class=\"btn-group inline pull-right\"></div>');\n",
       "    var button = $('<button class=\"btn btn-mini btn-primary\" href=\"#\" title=\"Stop Interaction\"><i class=\"fa fa-power-off icon-remove icon-large\"></i></button>');\n",
       "    button.click(function (evt) { fig.handle_close(fig, {}); } );\n",
       "    button.mouseover('Stop Interaction', toolbar_mouse_event);\n",
       "    buttongrp.append(button);\n",
       "    var titlebar = this.root.find($('.ui-dialog-titlebar'));\n",
       "    titlebar.prepend(buttongrp);\n",
       "}\n",
       "\n",
       "mpl.figure.prototype._root_extra_style = function(el){\n",
       "    var fig = this\n",
       "    el.on(\"remove\", function(){\n",
       "\tfig.close_ws(fig, {});\n",
       "    });\n",
       "}\n",
       "\n",
       "mpl.figure.prototype._canvas_extra_style = function(el){\n",
       "    // this is important to make the div 'focusable\n",
       "    el.attr('tabindex', 0)\n",
       "    // reach out to IPython and tell the keyboard manager to turn it's self\n",
       "    // off when our div gets focus\n",
       "\n",
       "    // location in version 3\n",
       "    if (IPython.notebook.keyboard_manager) {\n",
       "        IPython.notebook.keyboard_manager.register_events(el);\n",
       "    }\n",
       "    else {\n",
       "        // location in version 2\n",
       "        IPython.keyboard_manager.register_events(el);\n",
       "    }\n",
       "\n",
       "}\n",
       "\n",
       "mpl.figure.prototype._key_event_extra = function(event, name) {\n",
       "    var manager = IPython.notebook.keyboard_manager;\n",
       "    if (!manager)\n",
       "        manager = IPython.keyboard_manager;\n",
       "\n",
       "    // Check for shift+enter\n",
       "    if (event.shiftKey && event.which == 13) {\n",
       "        this.canvas_div.blur();\n",
       "        event.shiftKey = false;\n",
       "        // Send a \"J\" for go to next cell\n",
       "        event.which = 74;\n",
       "        event.keyCode = 74;\n",
       "        manager.command_mode();\n",
       "        manager.handle_keydown(event);\n",
       "    }\n",
       "}\n",
       "\n",
       "mpl.figure.prototype.handle_save = function(fig, msg) {\n",
       "    fig.ondownload(fig, null);\n",
       "}\n",
       "\n",
       "\n",
       "mpl.find_output_cell = function(html_output) {\n",
       "    // Return the cell and output element which can be found *uniquely* in the notebook.\n",
       "    // Note - this is a bit hacky, but it is done because the \"notebook_saving.Notebook\"\n",
       "    // IPython event is triggered only after the cells have been serialised, which for\n",
       "    // our purposes (turning an active figure into a static one), is too late.\n",
       "    var cells = IPython.notebook.get_cells();\n",
       "    var ncells = cells.length;\n",
       "    for (var i=0; i<ncells; i++) {\n",
       "        var cell = cells[i];\n",
       "        if (cell.cell_type === 'code'){\n",
       "            for (var j=0; j<cell.output_area.outputs.length; j++) {\n",
       "                var data = cell.output_area.outputs[j];\n",
       "                if (data.data) {\n",
       "                    // IPython >= 3 moved mimebundle to data attribute of output\n",
       "                    data = data.data;\n",
       "                }\n",
       "                if (data['text/html'] == html_output) {\n",
       "                    return [cell, data, j];\n",
       "                }\n",
       "            }\n",
       "        }\n",
       "    }\n",
       "}\n",
       "\n",
       "// Register the function which deals with the matplotlib target/channel.\n",
       "// The kernel may be null if the page has been refreshed.\n",
       "if (IPython.notebook.kernel != null) {\n",
       "    IPython.notebook.kernel.comm_manager.register_target('matplotlib', mpl.mpl_figure_comm);\n",
       "}\n"
      ],
      "text/plain": [
       "<IPython.core.display.Javascript object>"
      ]
     },
     "metadata": {},
     "output_type": "display_data"
    },
    {
     "data": {
      "text/html": [
       "<img src=\"data:image/png;base64,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\" width=\"640\">"
      ],
      "text/plain": [
       "<IPython.core.display.HTML object>"
      ]
     },
     "metadata": {},
     "output_type": "display_data"
    },
    {
     "data": {
      "text/plain": [
       "Text(0, 0.5, 'importance')"
      ]
     },
     "execution_count": 310,
     "metadata": {},
     "output_type": "execute_result"
    }
   ],
   "source": [
    "plt.figure()\n",
    "plt.title('Feature Importances')\n",
    "r = RandomForestClassifier(n_estimators=100)\n",
    "r.fit(X, y)\n",
    "plt.bar(features, r.feature_importances_)\n",
    "plt.xticks(rotation=90)\n",
    "plt.ylabel('importance')"
   ]
  },
  {
   "cell_type": "code",
   "execution_count": 126,
   "metadata": {},
   "outputs": [],
   "source": [
    "# clf = Pipeline([\n",
    "#   ('feature_selection', SelectFromModel(svm.SVC(kernel=\"linear\"))),\n",
    "#   ('classification', svm.SVC())\n",
    "# ])"
   ]
  },
  {
   "cell_type": "markdown",
   "metadata": {},
   "source": [
    "#### Feature Selection"
   ]
  },
  {
   "cell_type": "code",
   "execution_count": 311,
   "metadata": {},
   "outputs": [],
   "source": [
    "sfm = SelectFromModel(r, prefit=True)"
   ]
  },
  {
   "cell_type": "code",
   "execution_count": 312,
   "metadata": {},
   "outputs": [],
   "source": [
    "X = sfm.transform(X)"
   ]
  },
  {
   "cell_type": "markdown",
   "metadata": {},
   "source": [
    "#### Prediction"
   ]
  },
  {
   "cell_type": "code",
   "execution_count": null,
   "metadata": {
    "scrolled": true
   },
   "outputs": [],
   "source": [
    "true_correct, true_incorrect, false_correct, false_incorrect = 0, 0, 0, 0\n",
    "total_incorrect = 1\n",
    "for train_index, test_index in KFold(n_splits=5, shuffle=True, random_state=0).split(X):\n",
    "    X_train, X_test = X[train_index], X[test_index]\n",
    "    y_train, y_test = y[train_index], y[test_index]\n",
    "    \n",
    "    clf = svm.SVC(kernel='linear', gamma='scale', C=100000)\n",
    "    clf.fit(X_train, y_train)\n",
    "    prediction = clf.predict(X_test)\n",
    "    true_correct += sum((y_test == 1) & (prediction == 1))\n",
    "    true_incorrect += sum((y_test == 0) & (prediction == 0))\n",
    "    false_correct += sum((y_test == 0) & (prediction == 1))\n",
    "    false_incorrect += sum((y_test == 1) & (prediction == 0))\n",
    "        \n",
    "# print(f'accuracy: {100*total_correct/(total_correct + total_incorrect):.2f}%')\n"
   ]
  },
  {
   "cell_type": "code",
   "execution_count": 336,
   "metadata": {},
   "outputs": [
    {
     "name": "stdout",
     "output_type": "stream",
     "text": [
      "TC: 62.21%, TI: 52.90%\n",
      "FC: 47.10%, FI: 37.79%\n",
      "accuracy: 57.56\n"
     ]
    }
   ],
   "source": [
    "print(f'TC: {100*true_correct/(true_correct + false_incorrect):.2f}%, TI: {100*true_incorrect/(true_incorrect + false_correct):.2f}%\\n\\\n",
    "FC: {100*false_correct/(true_incorrect + false_correct):.2f}%, FI: {100*false_incorrect/(true_correct + false_incorrect):.2f}%')\n",
    "print(f'accuracy: {100*(true_correct + true_incorrect)/(true_correct + true_incorrect + false_incorrect+false_correct):.2f}')"
   ]
  },
  {
   "cell_type": "code",
   "execution_count": null,
   "metadata": {},
   "outputs": [],
   "source": [
    "# Random forest reaches a maximum of 66% accuracy."
   ]
  }
 ],
 "metadata": {
  "kernelspec": {
   "display_name": "Python 3",
   "language": "python",
   "name": "python3"
  },
  "language_info": {
   "codemirror_mode": {
    "name": "ipython",
    "version": 3
   },
   "file_extension": ".py",
   "mimetype": "text/x-python",
   "name": "python",
   "nbconvert_exporter": "python",
   "pygments_lexer": "ipython3",
   "version": "3.7.3"
  }
 },
 "nbformat": 4,
 "nbformat_minor": 2
}
