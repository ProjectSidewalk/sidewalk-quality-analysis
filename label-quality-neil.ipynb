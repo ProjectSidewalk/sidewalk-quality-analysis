{
 "cells": [
  {
   "cell_type": "code",
   "execution_count": 1,
   "metadata": {},
   "outputs": [],
   "source": [
    "import pandas as pd\n",
    "import numpy as np\n",
    "from scipy import stats\n",
    "import matplotlib.pyplot as plt\n",
    "from dateutil.parser import parse\n",
    "import parse as str_parse\n",
    "from intersection_proximity import intersection_proximity\n",
    "from importlib import reload\n",
    "reload(intersection_proximity)\n",
    "import seaborn as sns\n",
    "\n",
    "users = pd.read_csv('ml-users.csv') \n",
    "%matplotlib notebook"
   ]
  },
  {
   "cell_type": "code",
   "execution_count": 2,
   "metadata": {},
   "outputs": [],
   "source": [
    "crop_rows = 10000000"
   ]
  },
  {
   "cell_type": "code",
   "execution_count": 3,
   "metadata": {},
   "outputs": [],
   "source": [
    "df_interactions = pd.read_csv('ml-interactions.tar.gz', compression='gzip')\n",
    "\n",
    "if crop_rows > 0:\n",
    "    df_interactions = df_interactions.head(crop_rows)\n",
    "\n",
    "isna_result = pd.isna(df_interactions['action'])\n",
    "df_interactions= df_interactions[~isna_result]\n",
    "isna_result = pd.isna(df_interactions['action'])\n",
    "assert sum(df_interactions['action'].isna()) == 0\n",
    "\n",
    "df_interactions.rename(columns = {'ml-interactions.csv':'timestamp'}, inplace = True)"
   ]
  },
  {
   "cell_type": "code",
   "execution_count": 4,
   "metadata": {},
   "outputs": [],
   "source": [
    "# fill nan temporary label id's\n",
    "df_interactions['temporary_label_id'] = df_interactions['temporary_label_id'].fillna(method='bfill')\n",
    "\n",
    "# get rid of nan label id's\n",
    "df_interactions = df_interactions[~pd.isna(df_interactions['temporary_label_id'])]"
   ]
  },
  {
   "cell_type": "code",
   "execution_count": 5,
   "metadata": {},
   "outputs": [],
   "source": [
    "df_interactions['timestamp'] = df_interactions['timestamp'].apply(lambda x: parse(x))"
   ]
  },
  {
   "cell_type": "code",
   "execution_count": 6,
   "metadata": {},
   "outputs": [],
   "source": [
    "label_correctness = pd.read_csv('ml-label-correctness.csv')"
   ]
  },
  {
   "cell_type": "code",
   "execution_count": 7,
   "metadata": {},
   "outputs": [],
   "source": [
    "labeling_cols = ['user_id', 'audit_task_id', 'temporary_label_id']"
   ]
  },
  {
   "cell_type": "code",
   "execution_count": 8,
   "metadata": {},
   "outputs": [],
   "source": [
    "label_correctness.set_index(labeling_cols, inplace=True)"
   ]
  },
  {
   "cell_type": "code",
   "execution_count": 9,
   "metadata": {
    "scrolled": true
   },
   "outputs": [],
   "source": [
    "# TODO: figure out why there are duplicates\n",
    "label_correctness = label_correctness[~label_correctness.index.duplicated()]"
   ]
  },
  {
   "cell_type": "code",
   "execution_count": 10,
   "metadata": {
    "scrolled": false
   },
   "outputs": [],
   "source": [
    "interaction_groups = df_interactions.groupby(labeling_cols)"
   ]
  },
  {
   "cell_type": "markdown",
   "metadata": {},
   "source": [
    "## Calculate features"
   ]
  },
  {
   "cell_type": "code",
   "execution_count": 11,
   "metadata": {},
   "outputs": [],
   "source": [
    "label_features = interaction_groups.apply(lambda x: x['zoom'].mean()).to_frame(name='zoom')"
   ]
  },
  {
   "cell_type": "code",
   "execution_count": 12,
   "metadata": {},
   "outputs": [],
   "source": [
    "# filter rows\n",
    "label_features = label_features[interaction_groups \\\n",
    "                                .apply(lambda x: sum(x['action'] == 'LabelingCanvas_FinishLabeling') == 1)]"
   ]
  },
  {
   "cell_type": "code",
   "execution_count": 13,
   "metadata": {},
   "outputs": [],
   "source": [
    "def label_type(x):\n",
    "    try:\n",
    "        note = x['note'][x['action'] == 'LabelingCanvas_FinishLabeling'].iloc[0]\n",
    "        return str_parse.parse('labelType:{},canvasX:{},canvasY:{}', note)[0]\n",
    "    except (IndexError, KeyError) as e:\n",
    "        return ''\n",
    "\n",
    "label_features['label_type'] = interaction_groups.apply(label_type)"
   ]
  },
  {
   "cell_type": "code",
   "execution_count": 14,
   "metadata": {},
   "outputs": [],
   "source": [
    "label_features['mousemoves'] = interaction_groups.apply(lambda x: sum(x['action'] == 'LowLevelEvent_mousemove'))"
   ]
  },
  {
   "cell_type": "code",
   "execution_count": 15,
   "metadata": {},
   "outputs": [],
   "source": [
    "def normalize_headings(heading_list):\n",
    "    start_heading = heading_list.iloc[0]\n",
    "    h = heading_list - start_heading\n",
    "    h[h > 180] = h[h > 180] - 360\n",
    "    return h\n",
    "\n",
    "def range_headings(heading_list):\n",
    "    norm = normalize_headings(heading_list)\n",
    "    return np.max(norm) - np.min(norm)\n",
    "#     return pd.Series({'heading_min': np.min(norm), 'heading_max': np.max(norm), 'heading_range': np.max(norm) - np.min(norm)})"
   ]
  },
  {
   "cell_type": "code",
   "execution_count": 16,
   "metadata": {},
   "outputs": [],
   "source": [
    "label_features['heading_range'] = interaction_groups.apply(lambda x: x.groupby('gsv_panorama_id').apply(lambda y: range_headings(y['heading'])).mean())"
   ]
  },
  {
   "cell_type": "code",
   "execution_count": 17,
   "metadata": {},
   "outputs": [],
   "source": [
    "def total_time(x):\n",
    "    time = x['timestamp'].sort_values()\n",
    "    return (time.iloc[-1] - time.iloc[0]).total_seconds()\n",
    "\n",
    "# Time from start to finish\n",
    "label_features['total_time'] = interaction_groups.apply(lambda x: total_time(x))"
   ]
  },
  {
   "cell_type": "code",
   "execution_count": 18,
   "metadata": {},
   "outputs": [],
   "source": [
    "def time_between_pov_change_and_label(x):\n",
    "    pov_change = x['timestamp'][x['action'] == 'POV_Changed'].max()\n",
    "    last_time = x['timestamp'].max()\n",
    "    return (last_time - pov_change).total_seconds()\n",
    "                                \n",
    "clicks_per_pano = df_interactions.groupby('user_id').apply(lambda x: sum(x['action'] == 'LowLevelEvent_click') / x['gsv_panorama_id'].unique().size)\n"
   ]
  },
  {
   "cell_type": "code",
   "execution_count": 19,
   "metadata": {},
   "outputs": [],
   "source": [
    "label_features['pov_changes_per_pano'] = interaction_groups.apply(lambda x: sum(x['action'] == 'POV_Changed') / x['gsv_panorama_id'].nunique() \\\n",
    "                                                                  if x['gsv_panorama_id'].nunique() > 0 else 0)"
   ]
  },
  {
   "cell_type": "code",
   "execution_count": 157,
   "metadata": {},
   "outputs": [],
   "source": [
    "def time_per_pano(x):\n",
    "    try:\n",
    "        time = x['timestamp'].sort_values()\n",
    "        return ((time.iloc[-1] - time.iloc[0]).total_seconds() / x['gsv_panorama_id'].nunique())\n",
    "    except ZeroDivisionError as e:\n",
    "        return 0\n",
    "\n",
    "label_features['time_per_pano'] = interaction_groups.apply(time_per_pano)"
   ]
  },
  {
   "cell_type": "code",
   "execution_count": 159,
   "metadata": {},
   "outputs": [],
   "source": [
    "def mouseups(x):\n",
    "    try:\n",
    "        return sum(x['action'] == 'LowLevelEvent_mouseup') / x['gsv_panorama_id'].nunique()\n",
    "    except ZeroDivisionError as e:\n",
    "        return 0\n",
    "\n",
    "label_features['mouseups_per_pano'] = interaction_groups.apply(mouseups) "
   ]
  },
  {
   "cell_type": "code",
   "execution_count": 20,
   "metadata": {},
   "outputs": [],
   "source": [
    "def intersection_proximity_percentage(x):\n",
    "    try:\n",
    "        evt = x[x['action'] == 'LabelingCanvas_FinishLabeling'].iloc[0]\n",
    "        try:\n",
    "            distance, percentage = intersection_proximity.compute_proximity(evt.lat, evt.lng)\n",
    "            return percentage\n",
    "        except Exception as e:\n",
    "#             print(evt.lat, evt.lng)\n",
    "            # Throws error when the distance is 0 or street length. TODO: fix.\n",
    "            return 0\n",
    "    except IndexError as e:\n",
    "        # TODO: determine why some events have no finishlabeling event\n",
    "        return -1"
   ]
  },
  {
   "cell_type": "code",
   "execution_count": 21,
   "metadata": {
    "scrolled": true
   },
   "outputs": [],
   "source": [
    "label_features['intersection_proximity'] = interaction_groups.apply(intersection_proximity_percentage)"
   ]
  },
  {
   "cell_type": "code",
   "execution_count": 200,
   "metadata": {},
   "outputs": [],
   "source": [
    "def up_keys_per_pano(x):\n",
    "    try:\n",
    "        return (sum(x['note'] == 'keyCode:38') / x['gsv_panorama_id'].nunique())\n",
    "    except ZeroDivisionError as e:\n",
    "        return 0\n",
    "\n",
    "label_features['up_keys_per_pano'] = interaction_groups.apply(up_keys_per_pano)"
   ]
  },
  {
   "cell_type": "code",
   "execution_count": 212,
   "metadata": {},
   "outputs": [],
   "source": [
    "def canvas_coord(x, index):\n",
    "    try:\n",
    "        note = x['note'][x['action'] == 'LabelingCanvas_FinishLabeling'].iloc[0]\n",
    "        return str_parse.parse('labelType:{},canvasX:{},canvasY:{}', note)[index]\n",
    "    except Exception as e:\n",
    "        return ''\n",
    "\n",
    "label_features['canvas_x'] = interaction_groups.apply(lambda x: canvas_coord(x, 1))\n",
    "label_features['canvas_y'] = interaction_groups.apply(lambda x: canvas_coord(x, 2))"
   ]
  },
  {
   "cell_type": "code",
   "execution_count": 22,
   "metadata": {},
   "outputs": [],
   "source": [
    "label_features['correct'] = label_correctness['correct'].apply(lambda x: True if x == 't' else False if x == 'f' else np.nan)"
   ]
  },
  {
   "cell_type": "code",
   "execution_count": 213,
   "metadata": {},
   "outputs": [],
   "source": [
    "validated_label_features = label_features[~pd.isna(label_features['correct'])]"
   ]
  },
  {
   "cell_type": "markdown",
   "metadata": {},
   "source": [
    "## Make plots"
   ]
  },
  {
   "cell_type": "code",
   "execution_count": 24,
   "metadata": {},
   "outputs": [],
   "source": [
    "def plot_intersection_proximity(df, title):\n",
    "    plt.figure()\n",
    "    plt.title(title)\n",
    "    plt.xlabel('intersection proximity (%)')\n",
    "    plt.ylabel('relative count')\n",
    "    plt.hist(df[df['correct'] == True]['intersection_proximity'], density=True, alpha=0.2, bins=20, label='correct')\n",
    "    plt.hist(df[df['correct'] == False]['intersection_proximity'], density=True, alpha=0.2, bins=20, label='incorrect')\n",
    "    plt.legend()"
   ]
  },
  {
   "cell_type": "code",
   "execution_count": 25,
   "metadata": {
    "scrolled": true
   },
   "outputs": [
    {
     "data": {
      "text/html": [
       "<div>\n",
       "<style scoped>\n",
       "    .dataframe tbody tr th:only-of-type {\n",
       "        vertical-align: middle;\n",
       "    }\n",
       "\n",
       "    .dataframe tbody tr th {\n",
       "        vertical-align: top;\n",
       "    }\n",
       "\n",
       "    .dataframe thead th {\n",
       "        text-align: right;\n",
       "    }\n",
       "</style>\n",
       "<table border=\"1\" class=\"dataframe\">\n",
       "  <thead>\n",
       "    <tr style=\"text-align: right;\">\n",
       "      <th></th>\n",
       "    </tr>\n",
       "  </thead>\n",
       "  <tbody>\n",
       "  </tbody>\n",
       "</table>\n",
       "</div>"
      ],
      "text/plain": [
       "Empty DataFrame\n",
       "Columns: []\n",
       "Index: []"
      ]
     },
     "execution_count": 25,
     "metadata": {},
     "output_type": "execute_result"
    },
    {
     "data": {
      "image/png": "[encoded data removed]",
      "text/plain": [
       "<Figure size 432x288 with 1 Axes>"
      ]
     },
     "metadata": {
      "needs_background": "light"
     },
     "output_type": "display_data"
    },
    {
     "data": {
      "image/png": "[encoded data removed]",
      "text/plain": [
       "<Figure size 432x288 with 1 Axes>"
      ]
     },
     "metadata": {
      "needs_background": "light"
     },
     "output_type": "display_data"
    },
    {
     "data": {
      "image/png": "[encoded data removed]",
      "text/plain": [
       "<Figure size 432x288 with 1 Axes>"
      ]
     },
     "metadata": {
      "needs_background": "light"
     },
     "output_type": "display_data"
    },
    {
     "data": {
      "image/png": "[encoded data removed]",
      "text/plain": [
       "<Figure size 432x288 with 1 Axes>"
      ]
     },
     "metadata": {
      "needs_background": "light"
     },
     "output_type": "display_data"
    }
   ],
   "source": [
    "validated_label_features.groupby('label_type').apply(lambda x: plot_intersection_proximity(x, x.name))\n"
   ]
  },
  {
   "cell_type": "code",
   "execution_count": 26,
   "metadata": {
    "scrolled": true
   },
   "outputs": [
    {
     "data": {
      "image/png": "[encoded data removed]",
      "text/plain": [
       "<Figure size 432x288 with 1 Axes>"
      ]
     },
     "metadata": {
      "needs_background": "light"
     },
     "output_type": "display_data"
    }
   ],
   "source": [
    "plot_intersection_proximity(validated_label_features, 'Aggregate')"
   ]
  },
  {
   "cell_type": "code",
   "execution_count": 27,
   "metadata": {},
   "outputs": [
    {
     "data": {
      "text/plain": [
       "<matplotlib.legend.Legend at 0x1a52d6cd30>"
      ]
     },
     "execution_count": 27,
     "metadata": {},
     "output_type": "execute_result"
    },
    {
     "data": {
      "image/png": "[encoded data removed]",
      "text/plain": [
       "<Figure size 432x288 with 1 Axes>"
      ]
     },
     "metadata": {
      "needs_background": "light"
     },
     "output_type": "display_data"
    }
   ],
   "source": [
    "plt.figure()\n",
    "correct_labels = validated_label_features['label_type'][validated_label_features['correct'] == True].value_counts()\n",
    "incorrect_labels = validated_label_features['label_type'][validated_label_features['correct'] == False].value_counts()\n",
    "df = pd.concat([correct_labels.rename('correct'), incorrect_labels.rename('incorrect')], axis=1, sort=True)\n",
    "plt.bar(df.index, df['correct'], label='correct')\n",
    "plt.bar(df.index, df['incorrect'], bottom=df['correct'], label='incorrect')\n",
    "plt.ylabel('count')\n",
    "plt.title('Correctness of labels by type')\n",
    "plt.legend()"
   ]
  },
  {
   "cell_type": "markdown",
   "metadata": {},
   "source": [
    "## Correlation Matrix"
   ]
  },
  {
   "cell_type": "code",
   "execution_count": 161,
   "metadata": {},
   "outputs": [
    {
     "data": {
      "text/plain": [
       "<matplotlib.axes._subplots.AxesSubplot at 0x1a746382b0>"
      ]
     },
     "execution_count": 161,
     "metadata": {},
     "output_type": "execute_result"
    },
    {
     "data": {
      "image/png": "[encoded data removed]",
      "text/plain": [
       "<Figure size 432x288 with 2 Axes>"
      ]
     },
     "metadata": {
      "needs_background": "light"
     },
     "output_type": "display_data"
    }
   ],
   "source": [
    "plt.figure()\n",
    "plt.title('Correlation Matrix')\n",
    "sns.heatmap(validated_label_features.corr())"
   ]
  },
  {
   "cell_type": "code",
   "execution_count": 162,
   "metadata": {},
   "outputs": [
    {
     "data": {
      "text/plain": [
       "<matplotlib.axes._subplots.AxesSubplot at 0x1a3d75ae10>"
      ]
     },
     "execution_count": 162,
     "metadata": {},
     "output_type": "execute_result"
    },
    {
     "data": {
      "image/png": "[encoded data removed]",
      "text/plain": [
       "<Figure size 720x432 with 2 Axes>"
      ]
     },
     "metadata": {
      "needs_background": "light"
     },
     "output_type": "display_data"
    }
   ],
   "source": [
    "# Compute the correlation matrix\n",
    "corr = validated_label_features.corr()\n",
    "# Generate a mask for the upper triangle\n",
    "mask = np.zeros_like(corr, dtype=np.bool)\n",
    "mask[np.triu_indices_from (mask)] = True\n",
    "# Set up the matplotlib figure\n",
    "f, ax = plt.subplots(figsize=(10, 6))\n",
    "ax.set_title('Pretty Correlation Matrix')\n",
    "# Generate a custom diverging colormap\n",
    "cmap = sns.diverging_palette (220, 10, as_cmap=True)\n",
    "# Draw heatmap w/the mask & correct aspect ratio\n",
    "sns.heatmap(corr, mask=mask, cmap=cmap, vmax=1, center=0, square=True, linewidths=.5,cbar_kws={\"shrink\":.5})"
   ]
  },
  {
   "cell_type": "markdown",
   "metadata": {},
   "source": [
    "# ML Pipeline"
   ]
  },
  {
   "cell_type": "code",
   "execution_count": 168,
   "metadata": {},
   "outputs": [],
   "source": [
    "from sklearn import svm\n",
    "from sklearn import preprocessing\n",
    "from sklearn.model_selection import KFold\n",
    "from sklearn.feature_selection import SelectFromModel\n",
    "from sklearn.pipeline import Pipeline\n",
    "from sklearn.ensemble import RandomForestClassifier, ExtraTreesClassifier\n",
    "from sklearn.model_selection import GridSearchCV"
   ]
  },
  {
   "cell_type": "code",
   "execution_count": 215,
   "metadata": {
    "scrolled": true
   },
   "outputs": [
    {
     "name": "stderr",
     "output_type": "stream",
     "text": [
      "/Users/neil/anaconda3/lib/python3.7/site-packages/ipykernel_launcher.py:3: SettingWithCopyWarning: \n",
      "A value is trying to be set on a copy of a slice from a DataFrame.\n",
      "Try using .loc[row_indexer,col_indexer] = value instead\n",
      "\n",
      "See the caveats in the documentation: http://pandas.pydata.org/pandas-docs/stable/indexing.html#indexing-view-versus-copy\n",
      "  This is separate from the ipykernel package so we can avoid doing imports until\n"
     ]
    }
   ],
   "source": [
    "le = preprocessing.LabelEncoder()\n",
    "# transform label_type into an int\n",
    "validated_label_features['label_id'] = le.fit_transform(validated_label_features['label_type'])"
   ]
  },
  {
   "cell_type": "code",
   "execution_count": 218,
   "metadata": {},
   "outputs": [],
   "source": [
    "features = ['zoom', 'label_id', 'mousemoves', 'heading_range', \n",
    "            'total_time', 'pov_changes_per_pano', 'intersection_proximity',\n",
    "           'time_per_pano', 'mouseups_per_pano', 'up_keys_per_pano', 'canvas_x', 'canvas_y']"
   ]
  },
  {
   "cell_type": "code",
   "execution_count": 219,
   "metadata": {},
   "outputs": [],
   "source": [
    "X = validated_label_features[features].values\n",
    "y = validated_label_features['correct'].values"
   ]
  },
  {
   "cell_type": "code",
   "execution_count": 220,
   "metadata": {},
   "outputs": [],
   "source": [
    "# Undersample the majority class\n",
    "incorrect_indices, = np.where(y == 0)\n",
    "correct_indices, = np.where(y == 1)\n",
    "needed = min(len(incorrect_indices), len(correct_indices))\n",
    "chosen_indices = np.concatenate((np.random.choice(correct_indices, needed, replace=False), np.random.choice(incorrect_indices, needed, replace=False)))\n",
    "\n",
    "X = X[chosen_indices]\n",
    "y = y[chosen_indices]"
   ]
  },
  {
   "cell_type": "code",
   "execution_count": 221,
   "metadata": {},
   "outputs": [],
   "source": [
    "y = y.astype(int)"
   ]
  },
  {
   "cell_type": "code",
   "execution_count": 230,
   "metadata": {
    "scrolled": false
   },
   "outputs": [
    {
     "data": {
      "text/plain": [
       "Text(0, 0.5, 'importance')"
      ]
     },
     "execution_count": 230,
     "metadata": {},
     "output_type": "execute_result"
    },
    {
     "data": {
      "image/png": "[encoded data removed]",
      "text/plain": [
       "<Figure size 432x288 with 1 Axes>"
      ]
     },
     "metadata": {
      "needs_background": "light"
     },
     "output_type": "display_data"
    }
   ],
   "source": [
    "plt.figure()\n",
    "plt.title('Feature Importances')\n",
    "r = RandomForestClassifier(n_estimators=100)\n",
    "r.fit(X, y)\n",
    "plt.bar(features, r.feature_importances_)\n",
    "plt.xticks(rotation=90)\n",
    "plt.ylabel('importance')"
   ]
  },
  {
   "cell_type": "code",
   "execution_count": 126,
   "metadata": {},
   "outputs": [],
   "source": [
    "# clf = Pipeline([\n",
    "#   ('feature_selection', SelectFromModel(svm.SVC(kernel=\"linear\"))),\n",
    "#   ('classification', svm.SVC())\n",
    "# ])"
   ]
  },
  {
   "cell_type": "markdown",
   "metadata": {},
   "source": [
    "#### Feature Selection"
   ]
  },
  {
   "cell_type": "code",
   "execution_count": 231,
   "metadata": {},
   "outputs": [],
   "source": [
    "sfm = SelectFromModel(r, prefit=True)"
   ]
  },
  {
   "cell_type": "code",
   "execution_count": 233,
   "metadata": {},
   "outputs": [],
   "source": [
    "X = sfm.transform(X)"
   ]
  },
  {
   "cell_type": "code",
   "execution_count": 238,
   "metadata": {
    "scrolled": true
   },
   "outputs": [
    {
     "name": "stdout",
     "output_type": "stream",
     "text": [
      "0.680140597539543, 0.6098418277680141, 0.39015817223198596, 0.31985940246045697\n"
     ]
    }
   ],
   "source": [
    "true_correct, true_incorrect, false_correct, false_incorrect = 0, 0, 0, 0\n",
    "total_incorrect = 1\n",
    "for train_index, test_index in KFold(n_splits=5, shuffle=True, random_state=0).split(X):\n",
    "    X_train, X_test = X[train_index], X[test_index]\n",
    "    y_train, y_test = y[train_index], y[test_index]\n",
    "    \n",
    "#     clf = svm.SVC(kernel='linear') # kernel='rbf'\n",
    "    clf = RandomForestClassifier(n_jobs=-1, random_state=0, n_estimators=1000)\n",
    "    clf.fit(X_train, y_train)\n",
    "    prediction = clf.predict(X_test)\n",
    "    true_correct += sum((y_test == 1) & (prediction == 1))\n",
    "    true_incorrect += sum((y_test == 0) & (prediction == 0))\n",
    "    false_correct += sum((y_test == 0) & (prediction == 1))\n",
    "    false_incorrect += sum((y_test == 1) & (prediction == 0))\n",
    "        \n",
    "# print(f'accuracy: {100*total_correct/(total_correct + total_incorrect):.2f}%')\n"
   ]
  },
  {
   "cell_type": "markdown",
   "metadata": {},
   "source": [
    "print(f'TC: {100*true_correct/(true_correct + false_incorrect):.2f}%, TI: {100*true_incorrect/(true_incorrect + false_correct):.2f}%\\n\\\n",
    "FC: {100*false_correct/(true_incorrect + false_correct):.2f}%, FI: {100*false_incorrect/(true_correct + false_incorrect):.2f}%')"
   ]
  }
 ],
 "metadata": {
  "kernelspec": {
   "display_name": "Python 3",
   "language": "python",
   "name": "python3"
  },
  "language_info": {
   "codemirror_mode": {
    "name": "ipython",
    "version": 3
   },
   "file_extension": ".py",
   "mimetype": "text/x-python",
   "name": "python",
   "nbconvert_exporter": "python",
   "pygments_lexer": "ipython3",
   "version": "3.7.3"
  }
 },
 "nbformat": 4,
 "nbformat_minor": 2
}
