{
 "cells": [
  {
   "cell_type": "code",
   "execution_count": 24,
   "metadata": {},
   "outputs": [],
   "source": [
    "import pandas as pd\n",
    "import numpy as np\n",
    "from scipy import stats\n",
    "import matplotlib.pyplot as plt\n",
    "from dateutil.parser import parse\n",
    "import parse as str_parse\n",
    "from intersection_proximity import intersection_proximity\n",
    "from importlib import reload\n",
    "reload(intersection_proximity)\n",
    "import seaborn as sns\n",
    "\n",
    "users = pd.read_csv('ml-users.csv') \n",
    "%matplotlib notebook"
   ]
  },
  {
   "cell_type": "code",
   "execution_count": 28,
   "metadata": {},
   "outputs": [],
   "source": [
    "crop_rows = -1"
   ]
  },
  {
   "cell_type": "code",
   "execution_count": 29,
   "metadata": {},
   "outputs": [],
   "source": [
    "df_interactions = pd.read_csv('ml-interactions.tar.gz', compression='gzip')\n",
    "\n",
    "if crop_rows > 0:\n",
    "    df_interactions = df_interactions.head(crop_rows)\n",
    "\n",
    "isna_result = pd.isna(df_interactions['action'])\n",
    "df_interactions= df_interactions[~isna_result]\n",
    "isna_result = pd.isna(df_interactions['action'])\n",
    "assert sum(df_interactions['action'].isna()) == 0\n",
    "\n",
    "df_interactions.rename(columns = {'ml-interactions.csv':'timestamp'}, inplace = True)"
   ]
  },
  {
   "cell_type": "code",
   "execution_count": 30,
   "metadata": {},
   "outputs": [],
   "source": [
    "# fill nan temporary label id's\n",
    "df_interactions['temporary_label_id'] = df_interactions['temporary_label_id'].fillna(method='bfill')\n",
    "\n",
    "# get rid of nan label id's\n",
    "df_interactions = df_interactions[~pd.isna(df_interactions['temporary_label_id'])]"
   ]
  },
  {
   "cell_type": "code",
   "execution_count": 31,
   "metadata": {},
   "outputs": [],
   "source": [
    "df_interactions['timestamp'] = df_interactions['timestamp'].apply(lambda x: parse(x))"
   ]
  },
  {
   "cell_type": "code",
   "execution_count": 32,
   "metadata": {},
   "outputs": [],
   "source": [
    "label_correctness = pd.read_csv('ml-label-correctness.csv')"
   ]
  },
  {
   "cell_type": "code",
   "execution_count": 33,
   "metadata": {},
   "outputs": [],
   "source": [
    "labeling_cols = ['user_id', 'audit_task_id', 'temporary_label_id']"
   ]
  },
  {
   "cell_type": "code",
   "execution_count": 34,
   "metadata": {},
   "outputs": [],
   "source": [
    "label_correctness.set_index(labeling_cols, inplace=True)"
   ]
  },
  {
   "cell_type": "code",
   "execution_count": 35,
   "metadata": {
    "scrolled": true
   },
   "outputs": [],
   "source": [
    "# TODO: figure out why there are duplicates\n",
    "label_correctness = label_correctness[~label_correctness.index.duplicated()]"
   ]
  },
  {
   "cell_type": "code",
   "execution_count": 36,
   "metadata": {
    "scrolled": false
   },
   "outputs": [],
   "source": [
    "interaction_groups = df_interactions.groupby(labeling_cols)"
   ]
  },
  {
   "cell_type": "markdown",
   "metadata": {},
   "source": [
    "## Calculate features"
   ]
  },
  {
   "cell_type": "code",
   "execution_count": 37,
   "metadata": {},
   "outputs": [],
   "source": [
    "label_features = interaction_groups.apply(lambda x: x['zoom'].mean()).to_frame(name='zoom')"
   ]
  },
  {
   "cell_type": "code",
   "execution_count": 38,
   "metadata": {},
   "outputs": [],
   "source": [
    "# filter rows\n",
    "label_features = label_features[interaction_groups \\\n",
    "                                .apply(lambda x: sum(x['action'] == 'LabelingCanvas_FinishLabeling') == 1)]"
   ]
  },
  {
   "cell_type": "code",
   "execution_count": 39,
   "metadata": {},
   "outputs": [],
   "source": [
    "def label_type(x):\n",
    "    try:\n",
    "        note = x['note'][x['action'] == 'LabelingCanvas_FinishLabeling'].iloc[0]\n",
    "        return str_parse.parse('labelType:{},canvasX:{},canvasY:{}', note)[0]\n",
    "    except (IndexError, KeyError) as e:\n",
    "        return ''\n",
    "\n",
    "label_features['label_type'] = interaction_groups.apply(label_type)"
   ]
  },
  {
   "cell_type": "code",
   "execution_count": 40,
   "metadata": {},
   "outputs": [],
   "source": [
    "label_features['mousemoves'] = interaction_groups.apply(lambda x: sum(x['action'] == 'LowLevelEvent_mousemove'))"
   ]
  },
  {
   "cell_type": "code",
   "execution_count": 41,
   "metadata": {},
   "outputs": [],
   "source": [
    "def normalize_headings(heading_list):\n",
    "    start_heading = heading_list.iloc[0]\n",
    "    h = heading_list - start_heading\n",
    "    h[h > 180] = h[h > 180] - 360\n",
    "    return h\n",
    "\n",
    "def range_headings(heading_list):\n",
    "    norm = normalize_headings(heading_list)\n",
    "    return np.max(norm) - np.min(norm)\n",
    "#     return pd.Series({'heading_min': np.min(norm), 'heading_max': np.max(norm), 'heading_range': np.max(norm) - np.min(norm)})"
   ]
  },
  {
   "cell_type": "code",
   "execution_count": 42,
   "metadata": {},
   "outputs": [],
   "source": [
    "label_features['heading_range'] = interaction_groups.apply(lambda x: x.groupby('gsv_panorama_id').apply(lambda y: range_headings(y['heading'])).mean())"
   ]
  },
  {
   "cell_type": "code",
   "execution_count": 43,
   "metadata": {},
   "outputs": [],
   "source": [
    "def total_time(x):\n",
    "    time = x['timestamp'].sort_values()\n",
    "    return (time.iloc[-1] - time.iloc[0]).total_seconds()\n",
    "\n",
    "# Time from start to finish\n",
    "label_features['total_time'] = interaction_groups.apply(lambda x: total_time(x))"
   ]
  },
  {
   "cell_type": "code",
   "execution_count": 44,
   "metadata": {},
   "outputs": [],
   "source": [
    "def time_between_pov_change_and_label(x):\n",
    "    pov_change = x['timestamp'][x['action'] == 'POV_Changed'].max()\n",
    "    last_time = x['timestamp'].max()\n",
    "    return (last_time - pov_change).total_seconds()\n",
    "                                \n",
    "clicks_per_pano = df_interactions.groupby('user_id').apply(lambda x: sum(x['action'] == 'LowLevelEvent_click') / x['gsv_panorama_id'].unique().size)\n"
   ]
  },
  {
   "cell_type": "code",
   "execution_count": 45,
   "metadata": {},
   "outputs": [],
   "source": [
    "label_features['pov_changes_per_pano'] = interaction_groups.apply(lambda x: sum(x['action'] == 'POV_Changed') / x['gsv_panorama_id'].nunique() \\\n",
    "                                                                  if x['gsv_panorama_id'].nunique() > 0 else 0)"
   ]
  },
  {
   "cell_type": "code",
   "execution_count": 46,
   "metadata": {},
   "outputs": [],
   "source": [
    "def intersection_proximity_percentage(x):\n",
    "    try:\n",
    "        evt = x[x['action'] == 'LabelingCanvas_FinishLabeling'].iloc[0]\n",
    "        try:\n",
    "            distance, percentage = intersection_proximity.compute_proximity(evt.lat, evt.lng)\n",
    "            return percentage\n",
    "        except Exception as e:\n",
    "#             print(evt.lat, evt.lng)\n",
    "            # Throws error when the distance is 0 or street length. TODO: fix.\n",
    "            return 0\n",
    "    except IndexError as e:\n",
    "        # TODO: determine why some events have no finishlabeling event\n",
    "        return -1"
   ]
  },
  {
   "cell_type": "code",
   "execution_count": 47,
   "metadata": {
    "scrolled": true
   },
   "outputs": [],
   "source": [
    "label_features['intersection_proximity'] = interaction_groups.apply(intersection_proximity_percentage)"
   ]
  },
  {
   "cell_type": "code",
   "execution_count": 48,
   "metadata": {},
   "outputs": [],
   "source": [
    "label_features['correct'] = label_correctness['correct'].apply(lambda x: True if x == 't' else False if x == 'f' else np.nan)"
   ]
  },
  {
   "cell_type": "markdown",
   "metadata": {},
   "source": [
    "## Make plots"
   ]
  },
  {
   "cell_type": "code",
   "execution_count": 147,
   "metadata": {},
   "outputs": [],
   "source": [
    "validated_label_features = label_features[~pd.isna(label_features['correct'])]"
   ]
  },
  {
   "cell_type": "code",
   "execution_count": null,
   "metadata": {},
   "outputs": [],
   "source": [
    "def plot_intersection_proximity(df, title):\n",
    "    plt.figure()\n",
    "    plt.title(title)\n",
    "    plt.xlabel('intersection proximity (%)')\n",
    "    plt.ylabel('relative count')\n",
    "    plt.hist(df[df['correct'] == True]['intersection_proximity'], density=True, alpha=0.2, bins=20, label='correct')\n",
    "    plt.hist(df[df['correct'] == False]['intersection_proximity'], density=True, alpha=0.2, bins=20, label='incorrect')\n",
    "    plt.legend()"
   ]
  },
  {
   "cell_type": "code",
   "execution_count": null,
   "metadata": {
    "scrolled": true
   },
   "outputs": [],
   "source": [
    "validated_label_features.groupby('label_type').apply(lambda x: plot_intersection_proximity(x, x.name))\n"
   ]
  },
  {
   "cell_type": "code",
   "execution_count": null,
   "metadata": {
    "scrolled": true
   },
   "outputs": [],
   "source": [
    "plot_intersection_proximity(validated_label_features, 'Aggregate')"
   ]
  },
  {
   "cell_type": "code",
   "execution_count": null,
   "metadata": {},
   "outputs": [],
   "source": [
    "plt.figure()\n",
    "correct_labels = validated_label_features['label_type'][validated_label_features['correct'] == True].value_counts()\n",
    "incorrect_labels = validated_label_features['label_type'][validated_label_features['correct'] == False].value_counts()\n",
    "df = pd.concat([correct_labels.rename('correct'), incorrect_labels.rename('incorrect')], axis=1, sort=True)\n",
    "plt.bar(df.index, df['correct'], label='correct')\n",
    "plt.bar(df.index, df['incorrect'], bottom=df['correct'], label='incorrect')\n",
    "plt.ylabel('count')\n",
    "plt.title('Correctness of labels by type')\n",
    "plt.legend()"
   ]
  },
  {
   "cell_type": "markdown",
   "metadata": {},
   "source": [
    "## Correlation Matrix"
   ]
  },
  {
   "cell_type": "code",
   "execution_count": null,
   "metadata": {},
   "outputs": [],
   "source": [
    "plt.figure()\n",
    "plt.title('Correlation Matrix')\n",
    "sns.heatmap(validated_label_features.corr())"
   ]
  },
  {
   "cell_type": "code",
   "execution_count": null,
   "metadata": {},
   "outputs": [],
   "source": [
    "# Compute the correlation matrix\n",
    "corr = validated_label_features.corr()\n",
    "# Generate a mask for the upper triangle\n",
    "mask = np.zeros_like(corr, dtype=np.bool)\n",
    "mask[np.triu_indices_from (mask)] = True\n",
    "# Set up the matplotlib figure\n",
    "f, ax = plt.subplots(figsize=(10, 6))\n",
    "ax.set_title('Pretty Correlation Matrix')\n",
    "# Generate a custom diverging colormap\n",
    "cmap = sns.diverging_palette (220, 10, as_cmap=True)\n",
    "# Draw heatmap w/the mask & correct aspect ratio\n",
    "sns.heatmap(corr, mask=mask, cmap=cmap, vmax=1, center=0, square=True, linewidths=.5,cbar_kws={\"shrink\":.5})"
   ]
  },
  {
   "cell_type": "code",
   "execution_count": null,
   "metadata": {},
   "outputs": [],
   "source": []
  },
  {
   "cell_type": "markdown",
   "metadata": {},
   "source": [
    "# ML"
   ]
  },
  {
   "cell_type": "code",
   "execution_count": 137,
   "metadata": {},
   "outputs": [],
   "source": [
    "from sklearn import svm\n",
    "from sklearn import preprocessing\n",
    "from sklearn.model_selection import KFold"
   ]
  },
  {
   "cell_type": "code",
   "execution_count": 148,
   "metadata": {
    "scrolled": true
   },
   "outputs": [
    {
     "name": "stderr",
     "output_type": "stream",
     "text": [
      "/Users/neil/anaconda3/lib/python3.7/site-packages/ipykernel_launcher.py:3: SettingWithCopyWarning: \n",
      "A value is trying to be set on a copy of a slice from a DataFrame.\n",
      "Try using .loc[row_indexer,col_indexer] = value instead\n",
      "\n",
      "See the caveats in the documentation: http://pandas.pydata.org/pandas-docs/stable/indexing.html#indexing-view-versus-copy\n",
      "  This is separate from the ipykernel package so we can avoid doing imports until\n"
     ]
    }
   ],
   "source": [
    "le = preprocessing.LabelEncoder()\n",
    "# transform label_type into an int\n",
    "validated_label_features['label_id'] = le.fit_transform(validated_label_features['label_type'])"
   ]
  },
  {
   "cell_type": "code",
   "execution_count": 151,
   "metadata": {},
   "outputs": [],
   "source": [
    "features = ['zoom', 'label_id', 'mousemoves', 'heading_range', 'total_time', 'pov_changes_per_pano', 'intersection_proximity']"
   ]
  },
  {
   "cell_type": "code",
   "execution_count": 152,
   "metadata": {},
   "outputs": [],
   "source": [
    "X = validated_label_features[features].values\n",
    "y = validated_label_features['correct'].values"
   ]
  },
  {
   "cell_type": "code",
   "execution_count": 153,
   "metadata": {},
   "outputs": [],
   "source": [
    "y = y.astype(int)"
   ]
  },
  {
   "cell_type": "code",
   "execution_count": 154,
   "metadata": {},
   "outputs": [
    {
     "name": "stdout",
     "output_type": "stream",
     "text": [
      "accuracy: 73.76%\n"
     ]
    }
   ],
   "source": [
    "total_correct = 0\n",
    "total_incorrect = 1\n",
    "for train_index, test_index in KFold(n_splits=5, shuffle=True, random_state=0).split(X):\n",
    "    X_train, X_test = X[train_index], X[test_index]\n",
    "    y_train, y_test = y[train_index], y[test_index]\n",
    "    \n",
    "    clf = svm.SVC(kernel='rbf', gamma='scale') # kernel='rbf'\n",
    "    clf.fit(X_train, y_train)\n",
    "    prediction = clf.predict(X_test)\n",
    "    correct = sum(prediction == y_test)\n",
    "    incorrect = prediction.size - correct\n",
    "    \n",
    "    total_correct += correct\n",
    "    total_incorrect += incorrect\n",
    "    \n",
    "print(f'accuracy: {100*total_correct/(total_correct + total_incorrect):.2f}%')"
   ]
  },
  {
   "cell_type": "code",
   "execution_count": 170,
   "metadata": {},
   "outputs": [],
   "source": [
    "# from umap import UMAP"
   ]
  },
  {
   "cell_type": "code",
   "execution_count": 167,
   "metadata": {},
   "outputs": [],
   "source": [
    "# u = UMAP(n_components=2)\n",
    "# a = u.fit_transform(X)"
   ]
  },
  {
   "cell_type": "code",
   "execution_count": 168,
   "metadata": {},
   "outputs": [],
   "source": [
    "# plt.figure()\n",
    "# plt.scatter(a[:, 0], a[:, 1], c=y, alpha=0.1)"
   ]
  },
  {
   "cell_type": "code",
   "execution_count": 169,
   "metadata": {},
   "outputs": [],
   "source": [
    "# t = u.transform(X_test)\n",
    "# plt.scatter(t[:, 0], t[:, 1], c=y_test, marker='x')"
   ]
  },
  {
   "cell_type": "code",
   "execution_count": null,
   "metadata": {},
   "outputs": [],
   "source": []
  }
 ],
 "metadata": {
  "kernelspec": {
   "display_name": "Python 3",
   "language": "python",
   "name": "python3"
  },
  "language_info": {
   "codemirror_mode": {
    "name": "ipython",
    "version": 3
   },
   "file_extension": ".py",
   "mimetype": "text/x-python",
   "name": "python",
   "nbconvert_exporter": "python",
   "pygments_lexer": "ipython3",
   "version": "3.7.3"
  }
 },
 "nbformat": 4,
 "nbformat_minor": 2
}
